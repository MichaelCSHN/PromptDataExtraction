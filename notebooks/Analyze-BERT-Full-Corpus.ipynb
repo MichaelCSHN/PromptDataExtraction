{
 "cells": [
  {
   "cell_type": "code",
   "execution_count": 1,
   "metadata": {},
   "outputs": [],
   "source": [
    "import os\n",
    "os.chdir(\"..\")\n",
    "assert 'PromptDataExtract' in os.getcwd()"
   ]
  },
  {
   "cell_type": "code",
   "execution_count": 2,
   "metadata": {},
   "outputs": [
    {
     "name": "stdout",
     "output_type": "stream",
     "text": [
      "Load OK: settings.yaml\n"
     ]
    }
   ],
   "source": [
    "# Load settings\n",
    "from backend import sett, postgres\n",
    "from backend.utils.frame import Frame\n",
    "sett.load_settings()\n",
    "postgres.load_settings()"
   ]
  },
  {
   "cell_type": "code",
   "execution_count": 3,
   "metadata": {},
   "outputs": [
    {
     "name": "stdout",
     "output_type": "stream",
     "text": [
      "\u001b[1;36mNOTE  --\u001b[0m postgres_ Connected to PostGres DB: polylet (took 0.060 s)\n"
     ]
    }
   ],
   "source": [
    "# Connect to database\n",
    "db = postgres.connect('polylet')"
   ]
  },
  {
   "cell_type": "code",
   "execution_count": 4,
   "metadata": {},
   "outputs": [],
   "source": [
    "import json\n",
    "import datetime\n",
    "import numpy as np\n",
    "import pandas as pd\n",
    "import matplotlib.pyplot as plt\n",
    "try:\n",
    "    plt.style.use(\"PromptDataExtraction/notebooks/matplotlib.mplstyle\")\n",
    "except:\n",
    "    try:\n",
    "        plt.style.use(\"~/matplotlib.mplstyle\")\n",
    "    except: pass"
   ]
  },
  {
   "cell_type": "code",
   "execution_count": 5,
   "metadata": {},
   "outputs": [],
   "source": [
    "def execute(sql, **kwargs) -> pd.DataFrame:\n",
    "    \"\"\" Query the database using raw sql.\n",
    "        Return a pandas dataframe containing the results.\n",
    "    \"\"\"\n",
    "    results = postgres.raw_sql(sql, kwargs)\n",
    "    if not results:\n",
    "        return None\n",
    "    return pd.DataFrame.from_records(results, columns=results[0]._fields)"
   ]
  },
  {
   "cell_type": "code",
   "execution_count": 6,
   "metadata": {},
   "outputs": [],
   "source": [
    "propcount = Frame()\n",
    "\n",
    "def execute_count(sql, **kwargs) -> pd.DataFrame:\n",
    "    \"\"\" Query the database using raw sql.\n",
    "        Return a pandas dataframe containing the results.\n",
    "    \"\"\"\n",
    "    results = postgres.raw_sql(sql, kwargs)\n",
    "    if not results:\n",
    "        return None\n",
    "    count = results[0][0]\n",
    "    return count"
   ]
  },
  {
   "cell_type": "code",
   "execution_count": 7,
   "metadata": {},
   "outputs": [],
   "source": [
    "filter_names = [\n",
    "  \"bandgap_ner_full\",\n",
    "  \"co2_perm_ner_full\",\n",
    "  \"cs_ner_full\",\n",
    "  \"ct_ner_full\",\n",
    "  \"dc_ner_full\",\n",
    "  \"density_ner_full\",\n",
    "  \"eab_ner_full\",\n",
    "  \"fs_ner_full\",\n",
    "  \"hardness_ner_full\",\n",
    "  \"h2_perm_ner_full\",\n",
    "  \"iec_ner_full\",\n",
    "  \"ionic_cond_ner_full\",\n",
    "  \"is_ner_full\",\n",
    "  \"lcst_ner_full\",\n",
    "  \"loi_ner_full\",\n",
    "  \"methanol_perm_ner_full\",\n",
    "  \"o2_perm_ner_full\",\n",
    "  \"ri_ner_full\",\n",
    "  \"sd_ner_full\",\n",
    "  \"tc_ner_full\",\n",
    "  \"td_ner_full\",\n",
    "  \"tm_ner_full\",\n",
    "  \"ts_ner_full\",\n",
    "  \"ucst_ner_full\",\n",
    "  \"tg_ner_full\",\n",
    "  \"wca_ner_full\",\n",
    "  \"wu_ner_full\",\n",
    "  \"ym_ner_full\"\n",
    "]\n",
    "\n",
    "property_names = [\n",
    "  'bandgap',\n",
    "  'CO_{2} permeability',\n",
    "  'compressive strength',\n",
    "  'crystallization temperature',\n",
    "  'dielectric constant',\n",
    "  'density',\n",
    "  'elongation at break',\n",
    "  'flexural strength',\n",
    "  'hardness',\n",
    "  'H_{2} permeability',\n",
    "  'ion exchange capacity',\n",
    "  'ionic conductivity',\n",
    "  'impact strength',\n",
    "  'lower critical solution temperature',\n",
    "  'limiting oxygen index',\n",
    "  'methanol permeability',\n",
    "  'O_{2} permeability',\n",
    "  'refractive index',\n",
    "  'swelling degree',\n",
    "  'thermal conductivity',\n",
    "  'thermal decomposition temperature',\n",
    "  'melting temperature',\n",
    "  'tensile strength',\n",
    "  'upper critical solution temperature',\n",
    "  'glass transition temperature',\n",
    "  'water contact angle',\n",
    "  'water uptake',\n",
    "  'youngs modulus'\n",
    "]\n"
   ]
  },
  {
   "cell_type": "code",
   "execution_count": 8,
   "metadata": {},
   "outputs": [
    {
     "data": {
      "text/html": [
       "<div>\n",
       "<style scoped>\n",
       "    .dataframe tbody tr th:only-of-type {\n",
       "        vertical-align: middle;\n",
       "    }\n",
       "\n",
       "    .dataframe tbody tr th {\n",
       "        vertical-align: top;\n",
       "    }\n",
       "\n",
       "    .dataframe thead th {\n",
       "        text-align: right;\n",
       "    }\n",
       "</style>\n",
       "<table border=\"1\" class=\"dataframe\">\n",
       "  <thead>\n",
       "    <tr style=\"text-align: right;\">\n",
       "      <th></th>\n",
       "      <th>para_id</th>\n",
       "      <th>filter_name</th>\n",
       "      <th>entity_name</th>\n",
       "      <th>material_class</th>\n",
       "      <th>polymer_type</th>\n",
       "      <th>property_name</th>\n",
       "      <th>numeric_value</th>\n",
       "      <th>unit</th>\n",
       "    </tr>\n",
       "  </thead>\n",
       "  <tbody>\n",
       "    <tr>\n",
       "      <th>0</th>\n",
       "      <td>12617489</td>\n",
       "      <td>ym_ner_full</td>\n",
       "      <td>poly(p -phenylene sulfide)</td>\n",
       "      <td>POLYMER</td>\n",
       "      <td>homopolymer</td>\n",
       "      <td>tensile modulus</td>\n",
       "      <td>8000.0</td>\n",
       "      <td>MPa</td>\n",
       "    </tr>\n",
       "    <tr>\n",
       "      <th>1</th>\n",
       "      <td>12617959</td>\n",
       "      <td>ym_ner_full</td>\n",
       "      <td>PTFE</td>\n",
       "      <td>POLYMER</td>\n",
       "      <td>homopolymer</td>\n",
       "      <td>E</td>\n",
       "      <td>16000.0</td>\n",
       "      <td>MPa</td>\n",
       "    </tr>\n",
       "    <tr>\n",
       "      <th>2</th>\n",
       "      <td>12617982</td>\n",
       "      <td>ym_ner_full</td>\n",
       "      <td>PTFE</td>\n",
       "      <td>POLYMER</td>\n",
       "      <td>homopolymer</td>\n",
       "      <td>Young's modulus</td>\n",
       "      <td>4800.0</td>\n",
       "      <td>MPa</td>\n",
       "    </tr>\n",
       "    <tr>\n",
       "      <th>3</th>\n",
       "      <td>12618538</td>\n",
       "      <td>ym_ner_full</td>\n",
       "      <td>UHMWPE</td>\n",
       "      <td>POLYMER</td>\n",
       "      <td>homopolymer</td>\n",
       "      <td>tensile modulus</td>\n",
       "      <td>130000.0</td>\n",
       "      <td>MPa</td>\n",
       "    </tr>\n",
       "    <tr>\n",
       "      <th>4</th>\n",
       "      <td>12619669</td>\n",
       "      <td>ym_ner_full</td>\n",
       "      <td>Teflon</td>\n",
       "      <td>POLYMER</td>\n",
       "      <td>homopolymer</td>\n",
       "      <td>tensile modulus</td>\n",
       "      <td>860.0</td>\n",
       "      <td>MPa</td>\n",
       "    </tr>\n",
       "    <tr>\n",
       "      <th>...</th>\n",
       "      <td>...</td>\n",
       "      <td>...</td>\n",
       "      <td>...</td>\n",
       "      <td>...</td>\n",
       "      <td>...</td>\n",
       "      <td>...</td>\n",
       "      <td>...</td>\n",
       "      <td>...</td>\n",
       "    </tr>\n",
       "    <tr>\n",
       "      <th>28828</th>\n",
       "      <td>6096462</td>\n",
       "      <td>ym_ner_full</td>\n",
       "      <td>BN 1-15</td>\n",
       "      <td>POLYMER</td>\n",
       "      <td>copolymer</td>\n",
       "      <td>Young's modulus</td>\n",
       "      <td>57.0</td>\n",
       "      <td>MPa</td>\n",
       "    </tr>\n",
       "    <tr>\n",
       "      <th>28829</th>\n",
       "      <td>6096462</td>\n",
       "      <td>ym_ner_full</td>\n",
       "      <td>BN 1-15-2</td>\n",
       "      <td>POLYMER</td>\n",
       "      <td>copolymer</td>\n",
       "      <td>Young's modulus</td>\n",
       "      <td>70.0</td>\n",
       "      <td>MPa</td>\n",
       "    </tr>\n",
       "    <tr>\n",
       "      <th>28830</th>\n",
       "      <td>6096581</td>\n",
       "      <td>ym_ner_full</td>\n",
       "      <td>poly­(ST)</td>\n",
       "      <td>POLYMER</td>\n",
       "      <td>homopolymer</td>\n",
       "      <td>Young's tensile modulus</td>\n",
       "      <td>168.8</td>\n",
       "      <td>MPa</td>\n",
       "    </tr>\n",
       "    <tr>\n",
       "      <th>28831</th>\n",
       "      <td>6097779</td>\n",
       "      <td>ym_ner_full</td>\n",
       "      <td>iPP1</td>\n",
       "      <td>POLYMER</td>\n",
       "      <td>homopolymer</td>\n",
       "      <td>Young modulus</td>\n",
       "      <td>200.0</td>\n",
       "      <td>MPa</td>\n",
       "    </tr>\n",
       "    <tr>\n",
       "      <th>28832</th>\n",
       "      <td>6097779</td>\n",
       "      <td>ym_ner_full</td>\n",
       "      <td>iPP1</td>\n",
       "      <td>POLYMER</td>\n",
       "      <td>homopolymer</td>\n",
       "      <td>Young modulus</td>\n",
       "      <td>19.0</td>\n",
       "      <td>MPa</td>\n",
       "    </tr>\n",
       "  </tbody>\n",
       "</table>\n",
       "<p>28833 rows × 8 columns</p>\n",
       "</div>"
      ],
      "text/plain": [
       "        para_id  filter_name                 entity_name material_class  \\\n",
       "0      12617489  ym_ner_full  poly(p -phenylene sulfide)        POLYMER   \n",
       "1      12617959  ym_ner_full                        PTFE        POLYMER   \n",
       "2      12617982  ym_ner_full                        PTFE        POLYMER   \n",
       "3      12618538  ym_ner_full                      UHMWPE        POLYMER   \n",
       "4      12619669  ym_ner_full                      Teflon        POLYMER   \n",
       "...         ...          ...                         ...            ...   \n",
       "28828   6096462  ym_ner_full                     BN 1-15        POLYMER   \n",
       "28829   6096462  ym_ner_full                   BN 1-15-2        POLYMER   \n",
       "28830   6096581  ym_ner_full                   poly­(ST)        POLYMER   \n",
       "28831   6097779  ym_ner_full                        iPP1        POLYMER   \n",
       "28832   6097779  ym_ner_full                        iPP1        POLYMER   \n",
       "\n",
       "      polymer_type            property_name  numeric_value unit  \n",
       "0      homopolymer          tensile modulus         8000.0  MPa  \n",
       "1      homopolymer                        E        16000.0  MPa  \n",
       "2      homopolymer          Young's modulus         4800.0  MPa  \n",
       "3      homopolymer          tensile modulus       130000.0  MPa  \n",
       "4      homopolymer          tensile modulus          860.0  MPa  \n",
       "...            ...                      ...            ...  ...  \n",
       "28828    copolymer          Young's modulus           57.0  MPa  \n",
       "28829    copolymer          Young's modulus           70.0  MPa  \n",
       "28830  homopolymer  Young's tensile modulus          168.8  MPa  \n",
       "28831  homopolymer            Young modulus          200.0  MPa  \n",
       "28832  homopolymer            Young modulus           19.0  MPa  \n",
       "\n",
       "[28833 rows x 8 columns]"
      ]
     },
     "execution_count": 8,
     "metadata": {},
     "output_type": "execute_result"
    }
   ],
   "source": [
    "execute(\n",
    "  \"\"\"\n",
    "SELECT fp.para_id, fp.filter_name, em.entity_name, em.material_class, em.polymer_type, ep.entity_name as property_name, ep.numeric_value, ep.unit  \n",
    "FROM filtered_paragraphs fp\n",
    "LEFT JOIN extracted_materials em ON fp.para_id = em.para_id \n",
    "LEFT JOIN extracted_properties ep ON em.id = ep.material_id \n",
    "WHERE fp.filter_name = 'ym_ner_full' and em.method_id = 1 and ep.method_id = 1 and exists (\n",
    "\tselect 1\n",
    "\tfrom property_metadata pm \n",
    "\twhere pm.name = 'youngs modulus'\n",
    "\tand ep.entity_name = any(pm.other_names)\n",
    ");\n",
    "\"\"\"\n",
    ")"
   ]
  },
  {
   "cell_type": "code",
   "execution_count": 9,
   "metadata": {},
   "outputs": [],
   "source": [
    "def plot_histogram(df, name):\n",
    "    # Most common unit\n",
    "    unit = df.groupby('unit').nunique().value.sort_values(ascending=False).index[0]\n",
    "    avg = df.value.mean()\n",
    "    stdev = df.value.std()\n",
    "\n",
    "    fig, ax = plt.subplots()\n",
    "    df.hist('value', bins=20, label=f'Total: {df.shape[0]:,}', ax=ax)\n",
    "    ax.legend()\n",
    "    ax.spines[\"top\"].set_visible(True)\n",
    "    ax.spines[\"right\"].set_visible(True)\n",
    "    ax.spines[\"left\"].set_visible(True)\n",
    "    ax.set(xlabel=f'{name} ({unit})', ylabel='frequency',\n",
    "           title=f'Extracted {name} data\\nMean = {avg:0.2f}, St. dev. = {stdev:0.2f}')\n",
    "    ax.grid(False)\n",
    "    plt.savefig(f'notebooks/hist.{name.replace(\" \", \"_\")}.png', dpi=300)\n",
    "    plt.show()"
   ]
  },
  {
   "cell_type": "code",
   "execution_count": 10,
   "metadata": {},
   "outputs": [
    {
     "name": "stdout",
     "output_type": "stream",
     "text": [
      "bandgap: 0\n",
      "CO_{2} permeability: 4056\n",
      "compressive strength: 8424\n",
      "crystallization temperature: 8656\n",
      "dielectric constant: 12436\n",
      "density: 45785\n",
      "elongation at break: 14892\n",
      "flexural strength: 4233\n",
      "hardness: 4000\n",
      "H_{2} permeability: 404\n",
      "ion exchange capacity: 10137\n",
      "ionic conductivity: 25173\n",
      "impact strength: 5344\n",
      "lower critical solution temperature: 13927\n",
      "limiting oxygen index: 10094\n",
      "methanol permeability: 1465\n",
      "O_{2} permeability: 1316\n",
      "refractive index: 9317\n",
      "swelling degree: 1405\n",
      "thermal conductivity: 13702\n",
      "thermal decomposition temperature: 9667\n",
      "melting temperature: 38908\n",
      "tensile strength: 46429\n",
      "upper critical solution temperature: 696\n",
      "glass transition temperature: 65853\n",
      "water contact angle: 63552\n",
      "water uptake: 6621\n",
      "youngs modulus: 28833\n"
     ]
    }
   ],
   "source": [
    "# Number of properties extracted.\n",
    "\n",
    "\n",
    "count = 0\n",
    "_dict = {}\n",
    "\n",
    "for ner, prop in zip(filter_names, property_names):\n",
    "  result = execute(\"\"\"\n",
    "          SELECT count(*)\n",
    "          FROM filtered_paragraphs fp\n",
    "          LEFT JOIN extracted_materials em ON fp.para_id = em.para_id \n",
    "          LEFT JOIN extracted_properties ep ON em.id = ep.material_id \n",
    "          WHERE fp.filter_name = :filter_name and em.method_id = 1 and ep.method_id = 1 and exists (\n",
    "            select 1\n",
    "            from property_metadata pm \n",
    "            where pm.name = :prop_name\n",
    "            and ep.entity_name = any(pm.other_names)\n",
    "          )\n",
    "          \"\"\", filter_name = ner, prop_name = prop)\n",
    "  \n",
    "  print(f\"{prop}: {result['count'].values[0]}\")\n",
    "  _dict[prop] = result['count'].values[0]\n",
    "  propcount.add(property=prop, count=result['count'].values[0])\n",
    "  count +=result\n"
   ]
  },
  {
   "cell_type": "code",
   "execution_count": 11,
   "metadata": {},
   "outputs": [
    {
     "data": {
      "text/plain": [
       "{'bandgap': 0,\n",
       " 'CO_{2} permeability': 4056,\n",
       " 'compressive strength': 8424,\n",
       " 'crystallization temperature': 8656,\n",
       " 'dielectric constant': 12436,\n",
       " 'density': 45785,\n",
       " 'elongation at break': 14892,\n",
       " 'flexural strength': 4233,\n",
       " 'hardness': 4000,\n",
       " 'H_{2} permeability': 404,\n",
       " 'ion exchange capacity': 10137,\n",
       " 'ionic conductivity': 25173,\n",
       " 'impact strength': 5344,\n",
       " 'lower critical solution temperature': 13927,\n",
       " 'limiting oxygen index': 10094,\n",
       " 'methanol permeability': 1465,\n",
       " 'O_{2} permeability': 1316,\n",
       " 'refractive index': 9317,\n",
       " 'swelling degree': 1405,\n",
       " 'thermal conductivity': 13702,\n",
       " 'thermal decomposition temperature': 9667,\n",
       " 'melting temperature': 38908,\n",
       " 'tensile strength': 46429,\n",
       " 'upper critical solution temperature': 696,\n",
       " 'glass transition temperature': 65853,\n",
       " 'water contact angle': 63552,\n",
       " 'water uptake': 6621,\n",
       " 'youngs modulus': 28833}"
      ]
     },
     "execution_count": 11,
     "metadata": {},
     "output_type": "execute_result"
    }
   ],
   "source": [
    "_dict"
   ]
  },
  {
   "cell_type": "code",
   "execution_count": 10,
   "metadata": {},
   "outputs": [],
   "source": [
    "df = propcount.df.set_index('property')"
   ]
  },
  {
   "cell_type": "code",
   "execution_count": 11,
   "metadata": {},
   "outputs": [],
   "source": [
    "df_filtered = propcount.df[propcount.df['count'] != 0]"
   ]
  },
  {
   "cell_type": "code",
   "execution_count": 32,
   "metadata": {},
   "outputs": [
    {
     "data": {
      "text/plain": [
       "Index(['property', 'count'], dtype='object')"
      ]
     },
     "execution_count": 32,
     "metadata": {},
     "output_type": "execute_result"
    }
   ],
   "source": [
    "df_filtered.columns"
   ]
  },
  {
   "cell_type": "code",
   "execution_count": 15,
   "metadata": {},
   "outputs": [],
   "source": [
    "property = [\"glass transition temperature\", \"melting temperature\",\"thermal conductivity\", \"lower critical solution temperature\",\n",
    "                          \"youngs modulus\", \"tensile strength\", \"elongation at break\", \"compressive strength\",\n",
    "                          \"bandgap\", \"dielectric constant\", \"ionic conductivity\",\n",
    "                          \"CO_{2} permeability\", \"O_{2} permeability\", \"water uptake\", \"swelling degree\", \"water contact angle\"]\n",
    "\n",
    "frequency = [_dict[prop] for prop in property]   \n",
    "\n",
    "df_sample = pd.DataFrame({'property': property, 'frequency': frequency})  "
   ]
  },
  {
   "cell_type": "code",
   "execution_count": 16,
   "metadata": {},
   "outputs": [
    {
     "data": {
      "text/html": [
       "<div>\n",
       "<style scoped>\n",
       "    .dataframe tbody tr th:only-of-type {\n",
       "        vertical-align: middle;\n",
       "    }\n",
       "\n",
       "    .dataframe tbody tr th {\n",
       "        vertical-align: top;\n",
       "    }\n",
       "\n",
       "    .dataframe thead th {\n",
       "        text-align: right;\n",
       "    }\n",
       "</style>\n",
       "<table border=\"1\" class=\"dataframe\">\n",
       "  <thead>\n",
       "    <tr style=\"text-align: right;\">\n",
       "      <th></th>\n",
       "      <th>property</th>\n",
       "      <th>frequency</th>\n",
       "    </tr>\n",
       "  </thead>\n",
       "  <tbody>\n",
       "    <tr>\n",
       "      <th>0</th>\n",
       "      <td>glass transition temperature</td>\n",
       "      <td>65853</td>\n",
       "    </tr>\n",
       "    <tr>\n",
       "      <th>1</th>\n",
       "      <td>melting temperature</td>\n",
       "      <td>38908</td>\n",
       "    </tr>\n",
       "    <tr>\n",
       "      <th>2</th>\n",
       "      <td>thermal conductivity</td>\n",
       "      <td>13702</td>\n",
       "    </tr>\n",
       "    <tr>\n",
       "      <th>3</th>\n",
       "      <td>lower critical solution temperature</td>\n",
       "      <td>13927</td>\n",
       "    </tr>\n",
       "    <tr>\n",
       "      <th>4</th>\n",
       "      <td>youngs modulus</td>\n",
       "      <td>25755</td>\n",
       "    </tr>\n",
       "    <tr>\n",
       "      <th>5</th>\n",
       "      <td>tensile strength</td>\n",
       "      <td>42566</td>\n",
       "    </tr>\n",
       "    <tr>\n",
       "      <th>6</th>\n",
       "      <td>elongation at break</td>\n",
       "      <td>14892</td>\n",
       "    </tr>\n",
       "    <tr>\n",
       "      <th>7</th>\n",
       "      <td>compressive strength</td>\n",
       "      <td>8424</td>\n",
       "    </tr>\n",
       "    <tr>\n",
       "      <th>8</th>\n",
       "      <td>bandgap</td>\n",
       "      <td>28123</td>\n",
       "    </tr>\n",
       "    <tr>\n",
       "      <th>9</th>\n",
       "      <td>dielectric constant</td>\n",
       "      <td>12436</td>\n",
       "    </tr>\n",
       "    <tr>\n",
       "      <th>10</th>\n",
       "      <td>ionic conductivity</td>\n",
       "      <td>25173</td>\n",
       "    </tr>\n",
       "    <tr>\n",
       "      <th>11</th>\n",
       "      <td>CO_{2} permeability</td>\n",
       "      <td>4056</td>\n",
       "    </tr>\n",
       "    <tr>\n",
       "      <th>12</th>\n",
       "      <td>O_{2} permeability</td>\n",
       "      <td>1075</td>\n",
       "    </tr>\n",
       "    <tr>\n",
       "      <th>13</th>\n",
       "      <td>water uptake</td>\n",
       "      <td>6621</td>\n",
       "    </tr>\n",
       "    <tr>\n",
       "      <th>14</th>\n",
       "      <td>swelling degree</td>\n",
       "      <td>1405</td>\n",
       "    </tr>\n",
       "    <tr>\n",
       "      <th>15</th>\n",
       "      <td>water contact angle</td>\n",
       "      <td>63552</td>\n",
       "    </tr>\n",
       "  </tbody>\n",
       "</table>\n",
       "</div>"
      ],
      "text/plain": [
       "                               property  frequency\n",
       "0          glass transition temperature      65853\n",
       "1                   melting temperature      38908\n",
       "2                  thermal conductivity      13702\n",
       "3   lower critical solution temperature      13927\n",
       "4                        youngs modulus      25755\n",
       "5                      tensile strength      42566\n",
       "6                   elongation at break      14892\n",
       "7                  compressive strength       8424\n",
       "8                               bandgap      28123\n",
       "9                   dielectric constant      12436\n",
       "10                   ionic conductivity      25173\n",
       "11                  CO_{2} permeability       4056\n",
       "12                   O_{2} permeability       1075\n",
       "13                         water uptake       6621\n",
       "14                      swelling degree       1405\n",
       "15                  water contact angle      63552"
      ]
     },
     "execution_count": 16,
     "metadata": {},
     "output_type": "execute_result"
    }
   ],
   "source": [
    "df_sample"
   ]
  },
  {
   "cell_type": "code",
   "execution_count": 17,
   "metadata": {},
   "outputs": [
    {
     "data": {
      "text/plain": [
       "<matplotlib.legend.Legend at 0x7f85bf3f83d0>"
      ]
     },
     "execution_count": 17,
     "metadata": {},
     "output_type": "execute_result"
    },
    {
     "data": {
      "image/png": "[encoded data removed]",
      "text/plain": [
       "<Figure size 390x264 with 1 Axes>"
      ]
     },
     "metadata": {},
     "output_type": "display_data"
    }
   ],
   "source": [
    "df_sample.plot.bar('property', 'frequency')\n",
    "plt.legend()"
   ]
  },
  {
   "cell_type": "code",
   "execution_count": 17,
   "metadata": {},
   "outputs": [
    {
     "name": "stderr",
     "output_type": "stream",
     "text": [
      "/tmp/ipykernel_238137/2898936535.py:4: UserWarning: FixedFormatter should only be used together with FixedLocator\n",
      "  ax.set_xticklabels(df_filtered['property'], rotation=90, ha='left')\n"
     ]
    },
    {
     "data": {
      "text/plain": [
       "[Text(0.0, 0, 'bandgap'),\n",
       " Text(0.2, 0, 'CO_{2} permeability'),\n",
       " Text(0.4, 0, 'compressive strength'),\n",
       " Text(0.6000000000000001, 0, 'dielectric constant'),\n",
       " Text(0.8, 0, 'density'),\n",
       " Text(1.0, 0, 'elongation at break')]"
      ]
     },
     "execution_count": 17,
     "metadata": {},
     "output_type": "execute_result"
    },
    {
     "data": {
      "image/png": "[encoded data removed]",
      "text/plain": [
       "<Figure size 390x264 with 1 Axes>"
      ]
     },
     "metadata": {},
     "output_type": "display_data"
    },
    {
     "data": {
      "image/png": "[encoded data removed]",
      "text/plain": [
       "<Figure size 390x264 with 1 Axes>"
      ]
     },
     "metadata": {},
     "output_type": "display_data"
    }
   ],
   "source": [
    "fig, ax = plt.subplots()\n",
    "df_filtered.plot.bar('property', 'count', ax= ax)\n",
    "ax.set_ylabel('Number of property records extracted')\n",
    "ax.set_xticklabels(df_filtered['property'], rotation=90, ha='left')"
   ]
  },
  {
   "cell_type": "code",
   "execution_count": 77,
   "metadata": {},
   "outputs": [],
   "source": [
    "def execute(sql, **kwargs) -> pd.DataFrame:\n",
    "    \"\"\" Query the database using raw sql.\n",
    "        Return a pandas dataframe containing the results.\n",
    "    \"\"\"\n",
    "    results = postgres.raw_sql(sql, kwargs)\n",
    "    if not results:\n",
    "        return None\n",
    "    return pd.DataFrame.from_records(results, columns=results[0]._fields)"
   ]
  },
  {
   "cell_type": "code",
   "execution_count": 7,
   "metadata": {},
   "outputs": [],
   "source": [
    "def plot_histogram(df, name):\n",
    "    # Most common unit\n",
    "    unit = df.groupby('unit').nunique().value.sort_values(ascending=False).index[0]\n",
    "    avg = df.value.mean()\n",
    "    stdev = df.value.std()\n",
    "\n",
    "    fig, ax = plt.subplots()\n",
    "    df.hist('value', bins=20, label=f'Total: {df.shape[0]:,}', ax=ax)\n",
    "    ax.legend()\n",
    "    ax.grid(False)\n",
    "    ax.set(xlabel=f'{name} ({unit})', ylabel='count',\n",
    "           title=f'Extracted {name} data\\nMean = {avg:0.2f}, St. dev. = {stdev:0.2f}')\n",
    "    ax.set_ylabel('frequency')\n",
    "    ax.set_ylim([0,27000])\n",
    "\n",
    "    ax.spines[\"top\"].set_visible(True)\n",
    "    ax.spines[\"right\"].set_visible(True)\n",
    "    ax.spines[\"left\"].set_visible(True)\n",
    "\n",
    "    plt.show()"
   ]
  },
  {
   "cell_type": "code",
   "execution_count": 18,
   "metadata": {},
   "outputs": [],
   "source": [
    "df1 = execute(\n",
    "  \"\"\"\n",
    "SELECT fp.para_id, fp.filter_name, em.entity_name, em.material_class, em.polymer_type, ep.entity_name as property_name, ep.numeric_value as value, ep.unit  \n",
    "FROM filtered_paragraphs fp\n",
    "LEFT JOIN extracted_materials em ON fp.para_id = em.para_id \n",
    "LEFT JOIN extracted_properties ep ON em.id = ep.material_id \n",
    "WHERE fp.filter_name = 'tg_ner_full' and em.method_id = 1 and ep.method_id = 1 and exists (\n",
    "\tselect 1\n",
    "\tfrom property_metadata pm \n",
    "\twhere pm.name = 'glass transition temperature'\n",
    "\tand ep.entity_name = any(pm.other_names)\n",
    ");\n",
    "\"\"\"\n",
    ")"
   ]
  },
  {
   "cell_type": "code",
   "execution_count": 19,
   "metadata": {},
   "outputs": [],
   "source": [
    "df_filtered = df1[(df1['value'] < 700) & (df1['value'] > -250)]"
   ]
  },
  {
   "cell_type": "code",
   "execution_count": 20,
   "metadata": {},
   "outputs": [
    {
     "data": {
      "image/png": "[encoded data removed]",
      "text/plain": [
       "<Figure size 390x264 with 1 Axes>"
      ]
     },
     "metadata": {},
     "output_type": "display_data"
    }
   ],
   "source": [
    "plot_histogram(df_filtered, 'Tg')"
   ]
  },
  {
   "cell_type": "code",
   "execution_count": 9,
   "metadata": {},
   "outputs": [],
   "source": [
    "eg = execute(\n",
    "  \"\"\"\n",
    "  SELECT fp.para_id, fp.filter_name, em.entity_name, em.material_class, em.polymer_type, ep.entity_name as property_name, ep.numeric_value as value, ep.unit  \n",
    "  FROM filtered_paragraphs fp\n",
    "  LEFT JOIN extracted_materials em ON fp.para_id = em.para_id \n",
    "  LEFT JOIN extracted_properties ep ON em.id = ep.material_id \n",
    "  WHERE fp.filter_name = 'bandgap_ner_full' and em.method_id = 1 and ep.method_id = 1 and exists (\n",
    "    select 1\n",
    "    from property_metadata pm \n",
    "    where pm.name = 'bandgap'\n",
    "    and ep.entity_name = any(pm.other_names)\n",
    ");\n",
    "\"\"\"\n",
    ")\n",
    "\n",
    "eg_filtered = eg[(eg['value'] < 7) & (eg['value'] > 0)]"
   ]
  },
  {
   "cell_type": "code",
   "execution_count": 10,
   "metadata": {},
   "outputs": [
    {
     "data": {
      "image/png": "[encoded data removed]",
      "text/plain": [
       "<Figure size 390x264 with 1 Axes>"
      ]
     },
     "metadata": {},
     "output_type": "display_data"
    }
   ],
   "source": [
    "plot_histogram(eg_filtered, 'Bandgap')"
   ]
  },
  {
   "cell_type": "code",
   "execution_count": null,
   "metadata": {},
   "outputs": [],
   "source": []
  }
 ],
 "metadata": {
  "kernelspec": {
   "display_name": "Python 3",
   "language": "python",
   "name": "python3"
  },
  "language_info": {
   "codemirror_mode": {
    "name": "ipython",
    "version": 3
   },
   "file_extension": ".py",
   "mimetype": "text/x-python",
   "name": "python",
   "nbconvert_exporter": "python",
   "pygments_lexer": "ipython3",
   "version": "3.10.12"
  }
 },
 "nbformat": 4,
 "nbformat_minor": 2
}

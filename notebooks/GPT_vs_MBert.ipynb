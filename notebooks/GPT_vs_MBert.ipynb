{
 "cells": [
  {
   "cell_type": "code",
   "execution_count": 1,
   "metadata": {},
   "outputs": [],
   "source": [
    "import os\n",
    "os.chdir(\"..\")\n",
    "assert 'PromptDataExtract' in os.getcwd()"
   ]
  },
  {
   "cell_type": "code",
   "execution_count": 2,
   "metadata": {},
   "outputs": [
    {
     "name": "stdout",
     "output_type": "stream",
     "text": [
      "Load OK: settings.yaml\n"
     ]
    }
   ],
   "source": [
    "# Load settings\n",
    "from backend import sett, postgres\n",
    "sett.load_settings()\n",
    "postgres.load_settings()"
   ]
  },
  {
   "cell_type": "code",
   "execution_count": 3,
   "metadata": {},
   "outputs": [
    {
     "name": "stdout",
     "output_type": "stream",
     "text": [
      "\u001b[1;36mNOTE  --\u001b[0m postgres_ Connected to PostGres DB: polylet (took 0.100 s)\n"
     ]
    }
   ],
   "source": [
    "# Connect to database\n",
    "db = postgres.connect('polylet')"
   ]
  },
  {
   "cell_type": "code",
   "execution_count": 4,
   "metadata": {},
   "outputs": [],
   "source": [
    "import pandas as pd\n",
    "import matplotlib.pyplot as plt\n",
    "from matplotlib_venn import venn2\n",
    "\n",
    "try:\n",
    "    plt.style.use(\"~/matplotlib.mplstyle\")\n",
    "except: raise"
   ]
  },
  {
   "cell_type": "code",
   "execution_count": 5,
   "metadata": {},
   "outputs": [],
   "source": [
    "def execute(sql, **kwargs) -> pd.DataFrame:\n",
    "    \"\"\" Query the database using raw sql.\n",
    "        Return a pandas dataframe containing the results.\n",
    "    \"\"\"\n",
    "    results = postgres.raw_sql(sql, kwargs)\n",
    "    if not results:\n",
    "        return pd.DataFrame()\n",
    "    return pd.DataFrame.from_records(results, columns=results[0]._fields)"
   ]
  },
  {
   "cell_type": "markdown",
   "metadata": {},
   "source": [
    "## Overlayed Histograms"
   ]
  },
  {
   "cell_type": "code",
   "execution_count": 6,
   "metadata": {},
   "outputs": [],
   "source": [
    "gpteg = execute(\"\"\"\n",
    "    SELECT * FROM extracted_data\n",
    "    WHERE property = 'bandgap'\n",
    "    AND method = 'GPT-3.5'\n",
    "\"\"\")\n",
    "\n",
    "gpttg = execute(\"\"\"\n",
    "    SELECT * FROM extracted_data\n",
    "    WHERE property = 'tg'\n",
    "    AND method = 'GPT-3.5'\n",
    "\"\"\")\n",
    "\n",
    "mbteg = execute(\"\"\"\n",
    "    SELECT * FROM extracted_data\n",
    "    WHERE property = 'bandgap'\n",
    "    AND method = 'MaterialsBERT'\n",
    "\"\"\")\n",
    "\n",
    "mbttg = execute(\"\"\"\n",
    "    SELECT * FROM extracted_data\n",
    "    WHERE property = 'tg'\n",
    "    AND method = 'MaterialsBERT'\n",
    "\"\"\")\n"
   ]
  },
  {
   "cell_type": "code",
   "execution_count": 21,
   "metadata": {},
   "outputs": [],
   "source": [
    "absdata = pd.read_csv('notebooks/Abstract-Extracted_Data.csv', index_col=0)\n",
    "abstg = absdata[absdata['prop'] == 'tg']\n",
    "abseg = absdata[absdata['prop'] == 'bandgap']"
   ]
  },
  {
   "cell_type": "code",
   "execution_count": 22,
   "metadata": {},
   "outputs": [],
   "source": [
    "abstg = abstg[(abstg.value >= -200) & (abstg.value <= 500)]\n",
    "abseg = abseg[(abseg.value >= 0) & (abseg.value <= 7)]\n"
   ]
  },
  {
   "cell_type": "code",
   "execution_count": 26,
   "metadata": {},
   "outputs": [
    {
     "data": {
      "image/png": "[encoded data removed]",
      "text/plain": [
       "<Figure size 390x198 with 2 Axes>"
      ]
     },
     "metadata": {},
     "output_type": "display_data"
    }
   ],
   "source": [
    "plt.rcParams['font.family'] = 'cursive'\n",
    "n = 85\n",
    "\n",
    "fig, ax = plt.subplots(1, 2, dpi=120, figsize=(3.25, 1.65))\n",
    "ax[0].hist(gpttg.value, color='#e0809d', bins=n, label = 'GPT-3.5')\n",
    "ax[0].hist(mbttg.value, color='#009d9a', bins=n, label = 'MaterialsBERT')\n",
    "ax[0].hist(abstg.value, color='#ee0000', bins=n, label = 'Abstracts')\n",
    "ax[0].set(xlabel='Tg (°C)', xlim=(-200, 500))\n",
    "\n",
    "ax[1].hist(gpteg.value, color='#e0809d', bins=n, label = 'GPT-3.5')\n",
    "ax[1].hist(mbteg.value, color='#009d9a', bins=n, label = 'MaterialsBERT')\n",
    "ax[1].hist(abseg.value, color='#ee0000', bins=n, label = 'Abstracts')\n",
    "ax[1].set(xlabel='Bandgap (eV)', xlim=(0, 7))\n",
    "\n",
    "lines, labels = ax[0].get_legend_handles_labels()\n",
    "fig.legend(lines, labels, loc='upper center', bbox_to_anchor=(0.5, 1.06), bbox_transform=plt.gcf().transFigure, ncol=3)\n",
    "\n",
    "plt.tight_layout()\n",
    "plt.savefig('notebooks/Extracted-Data-Histograms.png', dpi=600)\n",
    "plt.show()"
   ]
  },
  {
   "cell_type": "markdown",
   "metadata": {},
   "source": [
    "## Valid Data"
   ]
  },
  {
   "cell_type": "code",
   "execution_count": null,
   "metadata": {},
   "outputs": [],
   "source": [
    "df = execute(\"\"\"\n",
    "    SELECT ed.property, pm.\"name\",\n",
    "        sum(CASE WHEN ed.\"method\" = 'GPT-3.5' \t\tTHEN 1 ELSE 0 END) AS GPT,\n",
    "        sum(CASE WHEN ed.\"method\" = 'MaterialsBERT' THEN 1 ELSE 0 END) AS BERT\n",
    "    FROM extracted_data ed \n",
    "    JOIN property_metadata pm ON pm.property = ed.property \n",
    "    GROUP BY ed.property, pm.\"name\";\n",
    "\"\"\")\n",
    "df.to_csv('notebooks/property_data_list.csv', index=False)\n",
    "df"
   ]
  },
  {
   "cell_type": "code",
   "execution_count": null,
   "metadata": {},
   "outputs": [],
   "source": [
    "df.sum()"
   ]
  },
  {
   "cell_type": "code",
   "execution_count": 16,
   "metadata": {},
   "outputs": [
    {
     "data": {
      "text/html": [
       "<div>\n",
       "<style scoped>\n",
       "    .dataframe tbody tr th:only-of-type {\n",
       "        vertical-align: middle;\n",
       "    }\n",
       "\n",
       "    .dataframe tbody tr th {\n",
       "        vertical-align: top;\n",
       "    }\n",
       "\n",
       "    .dataframe thead th {\n",
       "        text-align: right;\n",
       "    }\n",
       "</style>\n",
       "<table border=\"1\" class=\"dataframe\">\n",
       "  <thead>\n",
       "    <tr style=\"text-align: right;\">\n",
       "      <th></th>\n",
       "      <th>gpt</th>\n",
       "      <th>bert</th>\n",
       "      <th>total</th>\n",
       "    </tr>\n",
       "    <tr>\n",
       "      <th>material</th>\n",
       "      <th></th>\n",
       "      <th></th>\n",
       "      <th></th>\n",
       "    </tr>\n",
       "  </thead>\n",
       "  <tbody>\n",
       "    <tr>\n",
       "      <th>PLA</th>\n",
       "      <td>6491</td>\n",
       "      <td>7928</td>\n",
       "      <td>14419</td>\n",
       "    </tr>\n",
       "    <tr>\n",
       "      <th>PMMA</th>\n",
       "      <td>3407</td>\n",
       "      <td>4254</td>\n",
       "      <td>7661</td>\n",
       "    </tr>\n",
       "    <tr>\n",
       "      <th>PCL</th>\n",
       "      <td>3539</td>\n",
       "      <td>3996</td>\n",
       "      <td>7535</td>\n",
       "    </tr>\n",
       "    <tr>\n",
       "      <th>PP</th>\n",
       "      <td>2550</td>\n",
       "      <td>4820</td>\n",
       "      <td>7370</td>\n",
       "    </tr>\n",
       "    <tr>\n",
       "      <th>PVA</th>\n",
       "      <td>2408</td>\n",
       "      <td>4660</td>\n",
       "      <td>7068</td>\n",
       "    </tr>\n",
       "    <tr>\n",
       "      <th>PDMS</th>\n",
       "      <td>2140</td>\n",
       "      <td>4625</td>\n",
       "      <td>6765</td>\n",
       "    </tr>\n",
       "    <tr>\n",
       "      <th>PS</th>\n",
       "      <td>2144</td>\n",
       "      <td>4563</td>\n",
       "      <td>6707</td>\n",
       "    </tr>\n",
       "    <tr>\n",
       "      <th>PVDF</th>\n",
       "      <td>2252</td>\n",
       "      <td>4110</td>\n",
       "      <td>6362</td>\n",
       "    </tr>\n",
       "    <tr>\n",
       "      <th>PLLA</th>\n",
       "      <td>2775</td>\n",
       "      <td>2725</td>\n",
       "      <td>5500</td>\n",
       "    </tr>\n",
       "    <tr>\n",
       "      <th>PET</th>\n",
       "      <td>2187</td>\n",
       "      <td>2860</td>\n",
       "      <td>5047</td>\n",
       "    </tr>\n",
       "  </tbody>\n",
       "</table>\n",
       "</div>"
      ],
      "text/plain": [
       "           gpt  bert  total\n",
       "material                   \n",
       "PLA       6491  7928  14419\n",
       "PMMA      3407  4254   7661\n",
       "PCL       3539  3996   7535\n",
       "PP        2550  4820   7370\n",
       "PVA       2408  4660   7068\n",
       "PDMS      2140  4625   6765\n",
       "PS        2144  4563   6707\n",
       "PVDF      2252  4110   6362\n",
       "PLLA      2775  2725   5500\n",
       "PET       2187  2860   5047"
      ]
     },
     "execution_count": 16,
     "metadata": {},
     "output_type": "execute_result"
    }
   ],
   "source": [
    "top = execute(\"\"\"\n",
    "    SELECT ed.material,\n",
    "        sum(CASE WHEN ed.\"method\" = 'GPT-3.5' \t\tTHEN 1 ELSE 0 END) AS GPT,\n",
    "        sum(CASE WHEN ed.\"method\" = 'MaterialsBERT' THEN 1 ELSE 0 END) AS BERT,\n",
    "        count(*) AS total\n",
    "    FROM extracted_data ed \n",
    "    GROUP BY ed.material\n",
    "    ORDER BY total DESC\n",
    "    LIMIT 10;\n",
    "\"\"\")\n",
    "\n",
    "top.to_csv('notebooks/top_polymer_list.csv', index=False)\n",
    "top = top.set_index('material')\n",
    "top"
   ]
  },
  {
   "cell_type": "code",
   "execution_count": 17,
   "metadata": {},
   "outputs": [
    {
     "name": "stdout",
     "output_type": "stream",
     "text": [
      "(10, 3)\n"
     ]
    }
   ],
   "source": [
    "# top.loc['PS'] += top.loc['polystyrene']\n",
    "# top.loc['PI'] += top.loc['polyimide']\n",
    "# top.drop(['polystyrene', 'polyimide'], inplace=True)\n",
    "print(top.shape)\n",
    "# top"
   ]
  },
  {
   "cell_type": "markdown",
   "metadata": {},
   "source": [
    "## Top polymers bar chart"
   ]
  },
  {
   "cell_type": "code",
   "execution_count": 21,
   "metadata": {},
   "outputs": [
    {
     "data": {
      "image/png": "[encoded data removed]",
      "text/plain": [
       "<Figure size 204x336 with 1 Axes>"
      ]
     },
     "metadata": {},
     "output_type": "display_data"
    }
   ],
   "source": [
    "plt.rcParams['font.family'] = 'cursive'\n",
    "colors = [\"#009d9a\", \"#e0809d\"]\n",
    "\n",
    "voffset = 0.0\n",
    "\n",
    "fig, ax = plt.subplots(1, 1, figsize=(1.7, 2.8), dpi=120, sharex=True)\n",
    "barprops = dict(color=colors, align='center', width=0.8, bottom=voffset)\n",
    "\n",
    "df = top[['bert', 'gpt']]\n",
    "df = df.iloc[::-1]\n",
    "\n",
    "df.plot.barh(ax=ax, **barprops)\n",
    "\n",
    "ax.set(ylabel='', xlabel='Data extracted')\n",
    "ax.tick_params(axis='y', which='minor', left=False)\n",
    "ax.legend(['MaterialsBERT', 'GPT-3.5'], loc=(0.15, 1.01), ncol=1, fontsize=6)\n",
    "# ax.set_xticks(ax.get_xticks(), metrics.index, rotation=90, ha='right')\n",
    "\n",
    "plt.tight_layout()\n",
    "plt.savefig(\"notebooks/top10-polymers-bars.svg\")\n",
    "plt.show()"
   ]
  },
  {
   "cell_type": "markdown",
   "metadata": {},
   "source": [
    "## Venn Diagrams"
   ]
  },
  {
   "cell_type": "code",
   "execution_count": null,
   "metadata": {},
   "outputs": [],
   "source": [
    "def plot_venn_diagram(A, B, label_a, label_b, title=\"\", saveas=None):\n",
    "    A = set(A)\n",
    "    B = set(B)\n",
    "    a_not_b = len(A - B)\n",
    "    b_not_a = len(B - A)\n",
    "    a_and_b = len(A & B)\n",
    "    total = a_not_b + b_not_a + a_and_b\n",
    "\n",
    "    fig, ax = plt.subplots(1, 1, figsize=(3.25, 2.8))\n",
    "    v = venn2(subsets=(a_not_b, b_not_a, a_and_b), ax=ax)\n",
    "    for p in v.patches:\n",
    "        p.set_linewidth(1)\n",
    "        p.set_edgecolor('k')\n",
    "\n",
    "    v.get_label_by_id('10').set_text(f\"{100 * a_not_b / total : 0.2f}%\")\n",
    "    v.get_label_by_id('01').set_text(f\"{100 * b_not_a / total : 0.2f}%\")\n",
    "    v.get_label_by_id('11').set_text(f\"{100 * a_and_b / total : 0.2f}%\")\n",
    "    title += f\"\\nTotal: {total :,}\"\n",
    "    print(title)\n",
    "    # ax.set(title = title)\n",
    "    plt.tight_layout()\n",
    "    if saveas:\n",
    "        plt.savefig(saveas, dpi=300)\n",
    "    plt.show()"
   ]
  },
  {
   "cell_type": "markdown",
   "metadata": {},
   "source": [
    "## Paragraphs"
   ]
  },
  {
   "cell_type": "code",
   "execution_count": null,
   "metadata": {},
   "outputs": [],
   "source": [
    "# Create a set of all paragraphs where GPT extracted data\n",
    "gpt_paras = []\n",
    "\n",
    "# props = postgres.raw_sql(\"SELECT DISTINCT property FROM extracted_data ed;\")\n",
    "# props = [p.property for p in props]\n",
    "props = ['tg', 'bandgap']\n",
    "\n",
    "for prop in props:\n",
    "    print(prop, end=' ')\n",
    "    rows = postgres.raw_sql(\"\"\"\n",
    "    SELECT em.para_id as id\n",
    "    FROM extracted_data ed \n",
    "    JOIN extracted_properties ep ON ep.id = ed.property_id \n",
    "    JOIN extracted_materials em ON em.id = ep.material_id\n",
    "    WHERE ed.\"method\" = 'GPT-3.5' AND ed.property = :prop;\n",
    "    \"\"\", prop=prop)\n",
    "    for r in rows:\n",
    "        gpt_paras.append(r.id)\n",
    "\n",
    "print(\"\\nDone. Total paras =\", len(gpt_paras))"
   ]
  },
  {
   "cell_type": "code",
   "execution_count": null,
   "metadata": {},
   "outputs": [],
   "source": [
    "# Create a set of all paragraphs where MaterialsBERT extracted data\n",
    "mtb_paras = []\n",
    "\n",
    "# props = postgres.raw_sql(\"SELECT DISTINCT property FROM extracted_data ed;\")\n",
    "# props = [p.property for p in props]\n",
    "props = ['tg', 'bandgap']\n",
    "\n",
    "for prop in props:\n",
    "    print(prop, end=' ')\n",
    "    rows = postgres.raw_sql(\"\"\"\n",
    "    SELECT em.para_id as id\n",
    "    FROM extracted_data ed \n",
    "    JOIN extracted_properties ep ON ep.id = ed.property_id \n",
    "    JOIN extracted_materials em ON em.id = ep.material_id\n",
    "    WHERE ed.\"method\" = 'MaterialsBERT' AND ed.property = :prop;\n",
    "    \"\"\", prop=prop)\n",
    "    for r in rows:\n",
    "        mtb_paras.append(r.id)\n",
    "\n",
    "print(\"\\nDone. Total paras =\", len(mtb_paras))"
   ]
  },
  {
   "cell_type": "code",
   "execution_count": null,
   "metadata": {},
   "outputs": [],
   "source": [
    "title=\"Number of Paragraphs\"\n",
    "saveas = \"notebooks/venn_paragraphs.svg\"\n",
    "\n",
    "A = set(mtb_paras)\n",
    "B = set(gpt_paras)\n",
    "\n",
    "a_not_b = len(A - B)\n",
    "b_not_a = len(B - A)\n",
    "a_and_b = len(A & B)\n",
    "total = a_not_b + b_not_a + a_and_b\n",
    "\n",
    "fig, ax = plt.subplots(1, 1, figsize=(3.25, 2.8))\n",
    "v = venn2(subsets=(a_not_b, b_not_a, a_and_b), ax=ax)\n",
    "for p in v.patches:\n",
    "    p.set_linewidth(1)\n",
    "    p.set_edgecolor('k')\n",
    "\n",
    "# v.get_label_by_id('10').set_text(f\"{a_not_b:,}\")\n",
    "# v.get_label_by_id('01').set_text(f\"{b_not_a:,}\")\n",
    "# v.get_label_by_id('11').set_text(f\"{a_and_b:,}\")\n",
    "\n",
    "v.get_label_by_id('10').set_text(f\"{100 * a_not_b / total : 0.2f}%\")\n",
    "v.get_label_by_id('01').set_text(f\"{100 * b_not_a / total : 0.2f}%\")\n",
    "v.get_label_by_id('11').set_text(f\"{100 * a_and_b / total : 0.2f}%\")\n",
    "\n",
    "\n",
    "title += f\"\\nTotal: {total :,}\"\n",
    "print(title)\n",
    "\n",
    "# ax.set(title = title)\n",
    "plt.tight_layout()\n",
    "if saveas:\n",
    "    plt.savefig(saveas, dpi=300)\n",
    "plt.show()"
   ]
  },
  {
   "cell_type": "markdown",
   "metadata": {},
   "source": [
    "## Materials"
   ]
  },
  {
   "cell_type": "code",
   "execution_count": null,
   "metadata": {},
   "outputs": [],
   "source": [
    "# Create a set of all paragraphs where GPT extracted data\n",
    "gpt_mats = []\n",
    "\n",
    "# props = postgres.raw_sql(\"SELECT DISTINCT property FROM extracted_data ed;\")\n",
    "# props = [p.property for p in props]\n",
    "props = ['tg', 'bandgap']\n",
    "\n",
    "for prop in props:\n",
    "    print(prop, end=' ')\n",
    "    rows = postgres.raw_sql(\"\"\"\n",
    "    SELECT ed.material\n",
    "    FROM extracted_data ed \n",
    "    WHERE ed.\"method\" = 'GPT-3.5' AND ed.property = :prop;\n",
    "    \"\"\", prop=prop)\n",
    "    for r in rows:\n",
    "        gpt_mats.append(r.material)\n",
    "\n",
    "print(\"\\nDone. Total materials =\", len(gpt_mats))"
   ]
  },
  {
   "cell_type": "code",
   "execution_count": null,
   "metadata": {},
   "outputs": [],
   "source": [
    "# Create a set of all paragraphs where MaterialsBERT extracted data\n",
    "mtb_mats = []\n",
    "\n",
    "# props = postgres.raw_sql(\"SELECT DISTINCT property FROM extracted_data ed;\")\n",
    "# props = [p.property for p in props]\n",
    "props = ['tg', 'bandgap']\n",
    "\n",
    "for prop in props:\n",
    "    print(prop, end=' ')\n",
    "    rows = postgres.raw_sql(\"\"\"\n",
    "    SELECT ed.material\n",
    "    FROM extracted_data ed \n",
    "    WHERE ed.\"method\" = 'MaterialsBERT' AND ed.property = :prop;\n",
    "    \"\"\", prop=prop)\n",
    "    for r in rows:\n",
    "        mtb_mats.append(r.material)\n",
    "\n",
    "print(\"\\nDone. Total materials =\", len(mtb_mats))"
   ]
  },
  {
   "cell_type": "code",
   "execution_count": null,
   "metadata": {},
   "outputs": [],
   "source": [
    "title=\"Number of Materials\"\n",
    "saveas = \"notebooks/venn_materials.svg\"\n",
    "\n",
    "A = set(mtb_mats)\n",
    "B = set(gpt_mats)\n",
    "\n",
    "a_not_b = len(A - B)\n",
    "b_not_a = len(B - A)\n",
    "a_and_b = len(A & B)\n",
    "total = a_not_b + b_not_a + a_and_b\n",
    "\n",
    "fig, ax = plt.subplots(1, 1, figsize=(3.25, 2.8))\n",
    "v = venn2(subsets=(a_not_b, b_not_a, a_and_b), ax=ax)\n",
    "for p in v.patches:\n",
    "    p.set_linewidth(1)\n",
    "    p.set_edgecolor('k')\n",
    "\n",
    "v.get_label_by_id('10').set_text(f\"{a_not_b:,}\")\n",
    "v.get_label_by_id('01').set_text(f\"{b_not_a:,}\")\n",
    "v.get_label_by_id('11').set_text(f\"{a_and_b:,}\")\n",
    "\n",
    "v.get_label_by_id('10').set_text(f\"{100 * a_not_b / total : 0.2f}%\")\n",
    "v.get_label_by_id('01').set_text(f\"{100 * b_not_a / total : 0.2f}%\")\n",
    "v.get_label_by_id('11').set_text(f\"{100 * a_and_b / total : 0.2f}%\")\n",
    "\n",
    "title += f\"\\nTotal: {total :,}\"\n",
    "print(title)\n",
    "\n",
    "# ax.set(title = title)\n",
    "plt.tight_layout()\n",
    "if saveas:\n",
    "    plt.savefig(saveas, dpi=300)\n",
    "plt.show()"
   ]
  },
  {
   "cell_type": "markdown",
   "metadata": {},
   "source": [
    "## Pairwise Plots"
   ]
  },
  {
   "cell_type": "code",
   "execution_count": null,
   "metadata": {},
   "outputs": [],
   "source": [
    "def plot_jitter_pair(material, prop1, prop2, n = 100):\n",
    "    gpt1 = execute(\"\"\"\n",
    "        SELECT material, property, value FROM extracted_data ed \n",
    "        WHERE ed.material   = :mat\n",
    "        AND ed.\"method\"     = :method\n",
    "        AND ed.property     = :prop;\n",
    "    \"\"\", mat = material, method = 'GPT-3.5', prop = prop1)\n",
    "    \n",
    "    gpt2 = execute(\"\"\"\n",
    "        SELECT material, property, value FROM extracted_data ed \n",
    "        WHERE ed.material   = :mat\n",
    "        AND ed.\"method\"     = :method\n",
    "        AND ed.property     = :prop;\n",
    "    \"\"\", mat = material, method = 'GPT-3.5', prop = prop2)\n",
    "\n",
    "    mbt1 = execute(\"\"\"\n",
    "        SELECT material, property, value FROM extracted_data ed \n",
    "        WHERE ed.material   = :mat\n",
    "        AND ed.\"method\"     = :method\n",
    "        AND ed.property     = :prop;\n",
    "    \"\"\", mat = material, method = 'MaterialsBERT', prop = prop1)\n",
    "    \n",
    "    mbt2 = execute(\"\"\"\n",
    "        SELECT material, property, value FROM extracted_data ed \n",
    "        WHERE ed.material   = :mat\n",
    "        AND ed.\"method\"     = :method\n",
    "        AND ed.property     = :prop;\n",
    "    \"\"\", mat = material, method = 'MaterialsBERT', prop = prop2)\n",
    "\n",
    "    m1 = min(mbt1.shape[0], mbt2.shape[0])\n",
    "    m2 = min(gpt1.shape[0], gpt2.shape[0])\n",
    "\n",
    "    fig, ax = plt.subplots(1, 1, figsize=(4.25, 2.0))\n",
    "\n",
    "    if m1 > 0:\n",
    "        ax.plot(\n",
    "            [mbt1.sample().value.iloc[0] for _ in range(n)],\n",
    "            [mbt2.sample().value.iloc[0] for _ in range(n)],\n",
    "            'x', color=\"#009d9a\", label = 'MaterialsBERT')\n",
    "\n",
    "    if m2 > 0:\n",
    "        ax.plot(\n",
    "            [gpt1.sample().value.iloc[0] for _ in range(n)],\n",
    "            [gpt2.sample().value.iloc[0] for _ in range(n)],\n",
    "            '.', color=\"#e0809d\", label = 'GPT-3.5')\n",
    "\n",
    "    ax.set(xlabel=prop1, ylabel=prop2, title=material)\n",
    "    ax.legend(loc=(1.01, 0.4))\n",
    "    plt.tight_layout()\n",
    "    plt.show()"
   ]
  },
  {
   "cell_type": "code",
   "execution_count": null,
   "metadata": {},
   "outputs": [],
   "source": [
    "props = postgres.raw_sql(\"SELECT DISTINCT property FROM extracted_data ed;\")\n",
    "props = [p.property for p in props]\n",
    "\n",
    "for prop1 in props:\n",
    "    for prop2 in props:\n",
    "        if prop1 == prop2:\n",
    "            continue\n",
    "\n",
    "        print(prop2, 'vs.', prop1)\n",
    "        plot_jitter_pair(material, prop1, prop2, n)\n",
    "\n"
   ]
  }
 ],
 "metadata": {
  "kernelspec": {
   "display_name": "Python 3",
   "language": "python",
   "name": "python3"
  },
  "language_info": {
   "codemirror_mode": {
    "name": "ipython",
    "version": 3
   },
   "file_extension": ".py",
   "mimetype": "text/x-python",
   "name": "python",
   "nbconvert_exporter": "python",
   "pygments_lexer": "ipython3",
   "version": "3.10.12"
  }
 },
 "nbformat": 4,
 "nbformat_minor": 2
}

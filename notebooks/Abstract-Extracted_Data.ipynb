{
 "cells": [
  {
   "cell_type": "code",
   "execution_count": 1,
   "metadata": {},
   "outputs": [],
   "source": [
    "import os\n",
    "os.chdir(\"..\")\n",
    "assert 'PromptDataExtract' in os.getcwd()"
   ]
  },
  {
   "cell_type": "code",
   "execution_count": 39,
   "metadata": {},
   "outputs": [],
   "source": [
    "import json\n",
    "from backend.utils import Frame\n",
    "from pymongo import MongoClient\n",
    "from backend import sett"
   ]
  },
  {
   "cell_type": "code",
   "execution_count": 41,
   "metadata": {},
   "outputs": [],
   "source": [
    "prop_meta = json.load(open('data/property_metadata.json'))"
   ]
  },
  {
   "cell_type": "code",
   "execution_count": 34,
   "metadata": {},
   "outputs": [],
   "source": [
    "def connect():\n",
    "    client = MongoClient(\n",
    "        host='localhost',\n",
    "        port=8161,\n",
    "    )\n",
    "    db = client['corpus']\n",
    "    return db\n",
    "\n",
    "mongo = connect()\n",
    "collection = mongo['modular_run_4_PS']"
   ]
  },
  {
   "cell_type": "code",
   "execution_count": 16,
   "metadata": {},
   "outputs": [],
   "source": [
    "df = Frame()"
   ]
  },
  {
   "cell_type": "code",
   "execution_count": 44,
   "metadata": {},
   "outputs": [],
   "source": [
    "egnames = prop_meta['bandgap']['property_list']\n",
    "tgnames = prop_meta['glass transition temperature']['property_list']"
   ]
  },
  {
   "cell_type": "code",
   "execution_count": 47,
   "metadata": {},
   "outputs": [],
   "source": [
    "records = list(collection.find(\n",
    "    {'$or': [\n",
    "        {\"material_records.property_record.entity_name\": {'$in': egnames }},\n",
    "        {\"material_records.property_record.entity_name\": {'$in': tgnames }},\n",
    "    ]}\n",
    "))\n",
    "\n",
    "for record in records:\n",
    "    for mat in record['material_records']:\n",
    "        prop = mat['property_record']\n",
    "        if prop['entity_name'] in egnames:\n",
    "            # bandgap\n",
    "            df.add(doi=record['DOI'], prop='bandgap', value=prop['property_numeric_value'])\n",
    "        elif prop['entity_name'] in tgnames:\n",
    "            # tg\n",
    "            df.add(doi=record['DOI'], prop='tg', value=prop['property_numeric_value'])\n",
    "\n",
    "\n",
    "df.save('notebooks/Abstract-Extracted_Data.csv')\n"
   ]
  }
 ],
 "metadata": {
  "kernelspec": {
   "display_name": "Python 3",
   "language": "python",
   "name": "python3"
  },
  "language_info": {
   "codemirror_mode": {
    "name": "ipython",
    "version": 3
   },
   "file_extension": ".py",
   "mimetype": "text/x-python",
   "name": "python",
   "nbconvert_exporter": "python",
   "pygments_lexer": "ipython3",
   "version": "3.10.12"
  }
 },
 "nbformat": 4,
 "nbformat_minor": 2
}

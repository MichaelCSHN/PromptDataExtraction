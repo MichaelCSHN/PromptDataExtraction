{
 "cells": [
  {
   "cell_type": "code",
   "execution_count": 2,
   "metadata": {},
   "outputs": [],
   "source": [
    "import os\n",
    "os.chdir(\"..\")\n",
    "assert 'PromptDataExtract' in os.getcwd()"
   ]
  },
  {
   "cell_type": "code",
   "execution_count": 4,
   "metadata": {},
   "outputs": [
    {
     "name": "stdout",
     "output_type": "stream",
     "text": [
      "Load OK: settings.yaml\n"
     ]
    }
   ],
   "source": [
    "# Load settings\n",
    "from backend import sett, postgres\n",
    "sett.load_settings()\n",
    "postgres.load_settings()"
   ]
  },
  {
   "cell_type": "code",
   "execution_count": 5,
   "metadata": {},
   "outputs": [
    {
     "name": "stdout",
     "output_type": "stream",
     "text": [
      "\u001b[1;36m      --\u001b[0m postgres_ SSH tunnel established.\n"
     ]
    }
   ],
   "source": [
    "# Close any open database session.\n",
    "# db.close()\n",
    "\n",
    "# Connect to database\n",
    "db = postgres.connect('polylet')"
   ]
  },
  {
   "cell_type": "code",
   "execution_count": 6,
   "metadata": {},
   "outputs": [],
   "source": [
    "import pandas as pd\n",
    "import matplotlib.pyplot as plt\n",
    "try:\n",
    "    plt.style.use(\"~/matplotlib.mplstyle\")\n",
    "except: pass"
   ]
  },
  {
   "cell_type": "code",
   "execution_count": 7,
   "metadata": {},
   "outputs": [],
   "source": [
    "def execute(sql, **kwargs) -> pd.DataFrame:\n",
    "    \"\"\" Query the database using raw sql.\n",
    "        Return a pandas dataframe containing the results.\n",
    "    \"\"\"\n",
    "    results = postgres.raw_sql(sql, kwargs)\n",
    "    return pd.DataFrame.from_records(results, columns=results[0]._fields)"
   ]
  },
  {
   "cell_type": "code",
   "execution_count": 8,
   "metadata": {},
   "outputs": [
    {
     "data": {
      "text/html": [
       "<div>\n",
       "<style scoped>\n",
       "    .dataframe tbody tr th:only-of-type {\n",
       "        vertical-align: middle;\n",
       "    }\n",
       "\n",
       "    .dataframe tbody tr th {\n",
       "        vertical-align: top;\n",
       "    }\n",
       "\n",
       "    .dataframe thead th {\n",
       "        text-align: right;\n",
       "    }\n",
       "</style>\n",
       "<table border=\"1\" class=\"dataframe\">\n",
       "  <thead>\n",
       "    <tr style=\"text-align: right;\">\n",
       "      <th></th>\n",
       "      <th>count</th>\n",
       "    </tr>\n",
       "  </thead>\n",
       "  <tbody>\n",
       "    <tr>\n",
       "      <th>0</th>\n",
       "      <td>23141</td>\n",
       "    </tr>\n",
       "  </tbody>\n",
       "</table>\n",
       "</div>"
      ],
      "text/plain": [
       "   count\n",
       "0  23141"
      ]
     },
     "execution_count": 8,
     "metadata": {},
     "output_type": "execute_result"
    }
   ],
   "source": [
    "# Materials extracted.\n",
    "execute(\"select count(*) from extracted_materials\")"
   ]
  },
  {
   "cell_type": "code",
   "execution_count": 47,
   "metadata": {},
   "outputs": [
    {
     "data": {
      "text/html": [
       "<div>\n",
       "<style scoped>\n",
       "    .dataframe tbody tr th:only-of-type {\n",
       "        vertical-align: middle;\n",
       "    }\n",
       "\n",
       "    .dataframe tbody tr th {\n",
       "        vertical-align: top;\n",
       "    }\n",
       "\n",
       "    .dataframe thead th {\n",
       "        text-align: right;\n",
       "    }\n",
       "</style>\n",
       "<table border=\"1\" class=\"dataframe\">\n",
       "  <thead>\n",
       "    <tr style=\"text-align: right;\">\n",
       "      <th></th>\n",
       "      <th>count</th>\n",
       "    </tr>\n",
       "  </thead>\n",
       "  <tbody>\n",
       "    <tr>\n",
       "      <th>0</th>\n",
       "      <td>52230</td>\n",
       "    </tr>\n",
       "  </tbody>\n",
       "</table>\n",
       "</div>"
      ],
      "text/plain": [
       "   count\n",
       "0  52230"
      ]
     },
     "execution_count": 47,
     "metadata": {},
     "output_type": "execute_result"
    }
   ],
   "source": [
    "# Properties extracted.\n",
    "execute(\"select count(*) from extracted_properties\")"
   ]
  },
  {
   "cell_type": "code",
   "execution_count": 41,
   "metadata": {},
   "outputs": [],
   "source": [
    "def extract_properties(property : str):\n",
    "    df = execute(\"\"\"\n",
    "        SELECT pt.doi, em.entity_name AS material, ep.numeric_value, ep.unit\n",
    "        FROM extracted_properties ep\n",
    "        -- get material name and class\n",
    "        JOIN extracted_materials em ON em.id = ep.material_id\n",
    "        -- get doi\n",
    "        JOIN paper_texts pt ON pt.id = em.para_id\n",
    "        -- filter with property coreferents\n",
    "        WHERE ep.entity_name IN (\n",
    "            SELECT UNNEST(pm.other_names) FROM property_metadata pm\n",
    "            WHERE pm.name = :prop_name\n",
    "        )\n",
    "        -- value should be within range\n",
    "        AND ep.numeric_value >= (\n",
    "            SELECT lower_limit FROM property_metadata\n",
    "            WHERE name = :prop_name\n",
    "        )\n",
    "        AND ep.numeric_value <= (\n",
    "            SELECT upper_limit FROM property_metadata\n",
    "            WHERE name = :prop_name\n",
    "        )\n",
    "        -- select only polymers\n",
    "        AND em.material_class LIKE 'POLYMER%';\n",
    "    \"\"\", prop_name=property)\n",
    "    return df"
   ]
  },
  {
   "cell_type": "code",
   "execution_count": 44,
   "metadata": {},
   "outputs": [],
   "source": [
    "def plot_histogram(df, name, unit):\n",
    "    df = extract_properties('bandgap')\n",
    "    fig, ax = plt.subplots()\n",
    "    df.hist('numeric_value', label='Total: %d' %df.shape[0], ax=ax)\n",
    "    ax.legend()\n",
    "    ax.set(xlabel=f'{name} ({unit})', ylabel='count',\n",
    "           title=f'Extracted {name} data')\n",
    "    plt.savefig(f'notebooks/hist.{name}.png', dpi=600)\n",
    "    plt.show()"
   ]
  },
  {
   "cell_type": "code",
   "execution_count": 45,
   "metadata": {},
   "outputs": [
    {
     "data": {
      "image/png": "[encoded data removed]",
      "text/plain": [
       "<Figure size 390x264 with 1 Axes>"
      ]
     },
     "metadata": {},
     "output_type": "display_data"
    }
   ],
   "source": [
    "df = extract_properties('bandgap')\n",
    "plot_histogram(df, 'bandgap', 'eV')"
   ]
  },
  {
   "cell_type": "code",
   "execution_count": 46,
   "metadata": {},
   "outputs": [
    {
     "data": {
      "image/png": "[encoded data removed]",
      "text/plain": [
       "<Figure size 390x264 with 1 Axes>"
      ]
     },
     "metadata": {},
     "output_type": "display_data"
    }
   ],
   "source": [
    "df = extract_properties('glass transition temperature')\n",
    "plot_histogram(df, 'Tg', '°C')"
   ]
  },
  {
   "cell_type": "code",
   "execution_count": null,
   "metadata": {},
   "outputs": [],
   "source": []
  }
 ],
 "metadata": {
  "kernelspec": {
   "display_name": "Python 3",
   "language": "python",
   "name": "python3"
  },
  "language_info": {
   "codemirror_mode": {
    "name": "ipython",
    "version": 3
   },
   "file_extension": ".py",
   "mimetype": "text/x-python",
   "name": "python",
   "nbconvert_exporter": "python",
   "pygments_lexer": "ipython3",
   "version": "3.10.12"
  },
  "orig_nbformat": 4
 },
 "nbformat": 4,
 "nbformat_minor": 2
}

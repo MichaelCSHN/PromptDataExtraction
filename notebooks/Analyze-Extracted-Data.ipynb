{
 "cells": [
  {
   "cell_type": "code",
   "execution_count": 1,
   "metadata": {},
   "outputs": [],
   "source": [
    "import os\n",
    "os.chdir(\"..\")\n",
    "assert 'PromptDataExtract' in os.getcwd()"
   ]
  },
  {
   "cell_type": "code",
   "execution_count": 2,
   "metadata": {},
   "outputs": [
    {
     "name": "stdout",
     "output_type": "stream",
     "text": [
      "Load OK: settings.yaml\n"
     ]
    }
   ],
   "source": [
    "# Load settings\n",
    "from backend import sett, postgres\n",
    "sett.load_settings()\n",
    "postgres.load_settings()"
   ]
  },
  {
   "cell_type": "code",
   "execution_count": 3,
   "metadata": {},
   "outputs": [
    {
     "name": "stdout",
     "output_type": "stream",
     "text": [
      "\u001b[1;36mNOTE  --\u001b[0m postgres_ Connected to PostGres DB: polylet (took 0.085 s)\n"
     ]
    }
   ],
   "source": [
    "# Connect to database\n",
    "db = postgres.connect('polylet')"
   ]
  },
  {
   "cell_type": "code",
   "execution_count": 4,
   "metadata": {},
   "outputs": [],
   "source": [
    "import pandas as pd\n",
    "import matplotlib.pyplot as plt\n",
    "try:\n",
    "    plt.style.use(\"~/matplotlib.mplstyle\")\n",
    "except: pass"
   ]
  },
  {
   "cell_type": "code",
   "execution_count": 5,
   "metadata": {},
   "outputs": [],
   "source": [
    "def execute(sql, **kwargs) -> pd.DataFrame:\n",
    "    \"\"\" Query the database using raw sql.\n",
    "        Return a pandas dataframe containing the results.\n",
    "    \"\"\"\n",
    "    results = postgres.raw_sql(sql, kwargs)\n",
    "    return pd.DataFrame.from_records(results, columns=results[0]._fields)"
   ]
  },
  {
   "cell_type": "markdown",
   "metadata": {},
   "source": [
    "### Parsing"
   ]
  },
  {
   "cell_type": "code",
   "execution_count": 7,
   "metadata": {},
   "outputs": [
    {
     "data": {
      "image/png": "[encoded data removed]",
      "text/plain": [
       "<Figure size 390x264 with 1 Axes>"
      ]
     },
     "metadata": {},
     "output_type": "display_data"
    },
    {
     "data": {
      "text/html": [
       "<div>\n",
       "<style scoped>\n",
       "    .dataframe tbody tr th:only-of-type {\n",
       "        vertical-align: middle;\n",
       "    }\n",
       "\n",
       "    .dataframe tbody tr th {\n",
       "        vertical-align: top;\n",
       "    }\n",
       "\n",
       "    .dataframe thead th {\n",
       "        text-align: right;\n",
       "    }\n",
       "</style>\n",
       "<table border=\"1\" class=\"dataframe\">\n",
       "  <thead>\n",
       "    <tr style=\"text-align: right;\">\n",
       "      <th></th>\n",
       "      <th>directory</th>\n",
       "      <th>count</th>\n",
       "    </tr>\n",
       "  </thead>\n",
       "  <tbody>\n",
       "    <tr>\n",
       "      <th>0</th>\n",
       "      <td>ecs</td>\n",
       "      <td>42</td>\n",
       "    </tr>\n",
       "    <tr>\n",
       "      <th>1</th>\n",
       "      <td>rsc</td>\n",
       "      <td>51000</td>\n",
       "    </tr>\n",
       "  </tbody>\n",
       "</table>\n",
       "</div>"
      ],
      "text/plain": [
       "  directory  count\n",
       "0       ecs     42\n",
       "1       rsc  51000"
      ]
     },
     "execution_count": 7,
     "metadata": {},
     "output_type": "execute_result"
    }
   ],
   "source": [
    "df = execute(\"\"\"\n",
    "             SELECT directory, count(*) FROM paper_corpus pc\n",
    "             GROUP BY directory;\n",
    "\"\"\")\n",
    "total = df['count'].sum()\n",
    "fig, ax = plt.subplots()\n",
    "df.set_index('directory').plot.bar(ax=ax)\n",
    "ax.set(ylabel='File count', title=f\"All Files, Total: {total}\")\n",
    "plt.savefig('notebooks/files_per_directory.png', dpi=600)\n",
    "plt.show()\n",
    "df"
   ]
  },
  {
   "cell_type": "code",
   "execution_count": 8,
   "metadata": {},
   "outputs": [
    {
     "data": {
      "image/png": "[encoded data removed]",
      "text/plain": [
       "<Figure size 390x264 with 1 Axes>"
      ]
     },
     "metadata": {},
     "output_type": "display_data"
    },
    {
     "data": {
      "text/html": [
       "<div>\n",
       "<style scoped>\n",
       "    .dataframe tbody tr th:only-of-type {\n",
       "        vertical-align: middle;\n",
       "    }\n",
       "\n",
       "    .dataframe tbody tr th {\n",
       "        vertical-align: top;\n",
       "    }\n",
       "\n",
       "    .dataframe thead th {\n",
       "        text-align: right;\n",
       "    }\n",
       "</style>\n",
       "<table border=\"1\" class=\"dataframe\">\n",
       "  <thead>\n",
       "    <tr style=\"text-align: right;\">\n",
       "      <th></th>\n",
       "      <th>directory</th>\n",
       "      <th>count</th>\n",
       "    </tr>\n",
       "  </thead>\n",
       "  <tbody>\n",
       "    <tr>\n",
       "      <th>0</th>\n",
       "      <td>acs</td>\n",
       "      <td>457510</td>\n",
       "    </tr>\n",
       "    <tr>\n",
       "      <th>1</th>\n",
       "      <td>aip</td>\n",
       "      <td>177932</td>\n",
       "    </tr>\n",
       "    <tr>\n",
       "      <th>2</th>\n",
       "      <td>elsevier</td>\n",
       "      <td>907234</td>\n",
       "    </tr>\n",
       "    <tr>\n",
       "      <th>3</th>\n",
       "      <td>hindawi</td>\n",
       "      <td>6951</td>\n",
       "    </tr>\n",
       "    <tr>\n",
       "      <th>4</th>\n",
       "      <td>informa</td>\n",
       "      <td>27898</td>\n",
       "    </tr>\n",
       "    <tr>\n",
       "      <th>5</th>\n",
       "      <td>rsc</td>\n",
       "      <td>392346</td>\n",
       "    </tr>\n",
       "    <tr>\n",
       "      <th>6</th>\n",
       "      <td>springer</td>\n",
       "      <td>309847</td>\n",
       "    </tr>\n",
       "    <tr>\n",
       "      <th>7</th>\n",
       "      <td>wiley</td>\n",
       "      <td>213329</td>\n",
       "    </tr>\n",
       "  </tbody>\n",
       "</table>\n",
       "</div>"
      ],
      "text/plain": [
       "  directory   count\n",
       "0       acs  457510\n",
       "1       aip  177932\n",
       "2  elsevier  907234\n",
       "3   hindawi    6951\n",
       "4   informa   27898\n",
       "5       rsc  392346\n",
       "6  springer  309847\n",
       "7     wiley  213329"
      ]
     },
     "execution_count": 8,
     "metadata": {},
     "output_type": "execute_result"
    }
   ],
   "source": [
    "df = execute(\"\"\"\n",
    "             SELECT directory, count(*) FROM papers p\n",
    "             GROUP BY directory;\n",
    "\"\"\")\n",
    "total = df['count'].sum()\n",
    "fig, ax = plt.subplots()\n",
    "df.set_index('directory').plot.bar(ax=ax)\n",
    "ax.set(ylabel='Paper count', title=f\"All Papers, Total: {total}\")\n",
    "plt.savefig('notebooks/papers_per_directory.png', dpi=600)\n",
    "plt.show()\n",
    "df"
   ]
  },
  {
   "cell_type": "code",
   "execution_count": 8,
   "metadata": {},
   "outputs": [
    {
     "data": {
      "image/png": "[encoded data removed]",
      "text/plain": [
       "<Figure size 390x264 with 1 Axes>"
      ]
     },
     "metadata": {},
     "output_type": "display_data"
    },
    {
     "data": {
      "text/html": [
       "<div>\n",
       "<style scoped>\n",
       "    .dataframe tbody tr th:only-of-type {\n",
       "        vertical-align: middle;\n",
       "    }\n",
       "\n",
       "    .dataframe tbody tr th {\n",
       "        vertical-align: top;\n",
       "    }\n",
       "\n",
       "    .dataframe thead th {\n",
       "        text-align: right;\n",
       "    }\n",
       "</style>\n",
       "<table border=\"1\" class=\"dataframe\">\n",
       "  <thead>\n",
       "    <tr style=\"text-align: right;\">\n",
       "      <th></th>\n",
       "      <th>directory</th>\n",
       "      <th>count</th>\n",
       "    </tr>\n",
       "  </thead>\n",
       "  <tbody>\n",
       "    <tr>\n",
       "      <th>0</th>\n",
       "      <td>acs</td>\n",
       "      <td>130971</td>\n",
       "    </tr>\n",
       "    <tr>\n",
       "      <th>1</th>\n",
       "      <td>aip</td>\n",
       "      <td>17070</td>\n",
       "    </tr>\n",
       "    <tr>\n",
       "      <th>2</th>\n",
       "      <td>elsevier</td>\n",
       "      <td>250057</td>\n",
       "    </tr>\n",
       "    <tr>\n",
       "      <th>3</th>\n",
       "      <td>hindawi</td>\n",
       "      <td>2605</td>\n",
       "    </tr>\n",
       "    <tr>\n",
       "      <th>4</th>\n",
       "      <td>informa</td>\n",
       "      <td>17396</td>\n",
       "    </tr>\n",
       "    <tr>\n",
       "      <th>5</th>\n",
       "      <td>rsc</td>\n",
       "      <td>87429</td>\n",
       "    </tr>\n",
       "    <tr>\n",
       "      <th>6</th>\n",
       "      <td>springer</td>\n",
       "      <td>66532</td>\n",
       "    </tr>\n",
       "    <tr>\n",
       "      <th>7</th>\n",
       "      <td>wiley</td>\n",
       "      <td>108968</td>\n",
       "    </tr>\n",
       "  </tbody>\n",
       "</table>\n",
       "</div>"
      ],
      "text/plain": [
       "  directory   count\n",
       "0       acs  130971\n",
       "1       aip   17070\n",
       "2  elsevier  250057\n",
       "3   hindawi    2605\n",
       "4   informa   17396\n",
       "5       rsc   87429\n",
       "6  springer   66532\n",
       "7     wiley  108968"
      ]
     },
     "execution_count": 8,
     "metadata": {},
     "output_type": "execute_result"
    }
   ],
   "source": [
    "df = execute(\"\"\"\n",
    "             SELECT directory, count(*) FROM papers p\n",
    "             JOIN filtered_papers fp on fp.doi = p.doi\n",
    "             GROUP BY directory;\n",
    "\"\"\")\n",
    "total = df['count'].sum()\n",
    "fig, ax = plt.subplots()\n",
    "df.set_index('directory').plot.bar(ax=ax)\n",
    "ax.set(ylabel='Paper count', title=f\"Polymer Papers, Total: {total}\")\n",
    "plt.savefig('notebooks/polymer_papers_per_directory.png', dpi=600)\n",
    "plt.show()\n",
    "df"
   ]
  },
  {
   "cell_type": "code",
   "execution_count": 9,
   "metadata": {},
   "outputs": [
    {
     "data": {
      "image/png": "[encoded data removed]",
      "text/plain": [
       "<Figure size 390x264 with 1 Axes>"
      ]
     },
     "metadata": {},
     "output_type": "display_data"
    },
    {
     "data": {
      "text/html": [
       "<div>\n",
       "<style scoped>\n",
       "    .dataframe tbody tr th:only-of-type {\n",
       "        vertical-align: middle;\n",
       "    }\n",
       "\n",
       "    .dataframe tbody tr th {\n",
       "        vertical-align: top;\n",
       "    }\n",
       "\n",
       "    .dataframe thead th {\n",
       "        text-align: right;\n",
       "    }\n",
       "</style>\n",
       "<table border=\"1\" class=\"dataframe\">\n",
       "  <thead>\n",
       "    <tr style=\"text-align: right;\">\n",
       "      <th></th>\n",
       "      <th>directory</th>\n",
       "      <th>count</th>\n",
       "    </tr>\n",
       "  </thead>\n",
       "  <tbody>\n",
       "    <tr>\n",
       "      <th>0</th>\n",
       "      <td>acs</td>\n",
       "      <td>4726853</td>\n",
       "    </tr>\n",
       "    <tr>\n",
       "      <th>1</th>\n",
       "      <td>aip</td>\n",
       "      <td>4</td>\n",
       "    </tr>\n",
       "    <tr>\n",
       "      <th>2</th>\n",
       "      <td>elsevier</td>\n",
       "      <td>591008</td>\n",
       "    </tr>\n",
       "    <tr>\n",
       "      <th>3</th>\n",
       "      <td>hindawi</td>\n",
       "      <td>74</td>\n",
       "    </tr>\n",
       "    <tr>\n",
       "      <th>4</th>\n",
       "      <td>informa</td>\n",
       "      <td>24</td>\n",
       "    </tr>\n",
       "    <tr>\n",
       "      <th>5</th>\n",
       "      <td>rsc</td>\n",
       "      <td>281216</td>\n",
       "    </tr>\n",
       "    <tr>\n",
       "      <th>6</th>\n",
       "      <td>springer</td>\n",
       "      <td>74</td>\n",
       "    </tr>\n",
       "    <tr>\n",
       "      <th>7</th>\n",
       "      <td>wiley</td>\n",
       "      <td>826522</td>\n",
       "    </tr>\n",
       "  </tbody>\n",
       "</table>\n",
       "</div>"
      ],
      "text/plain": [
       "  directory    count\n",
       "0       acs  4726853\n",
       "1       aip        4\n",
       "2  elsevier   591008\n",
       "3   hindawi       74\n",
       "4   informa       24\n",
       "5       rsc   281216\n",
       "6  springer       74\n",
       "7     wiley   826522"
      ]
     },
     "execution_count": 9,
     "metadata": {},
     "output_type": "execute_result"
    }
   ],
   "source": [
    "df = execute(\"\"\"\n",
    "             SELECT directory, count(*) FROM paper_texts pt\n",
    "             -- only the polymer papers\n",
    "             JOIN filtered_papers fp ON fp.doi = pt.doi \n",
    "             GROUP BY directory;\n",
    "\"\"\")\n",
    "fig, ax = plt.subplots()\n",
    "df.set_index('directory').plot.bar(ax=ax)\n",
    "ax.set(ylabel='Paragraph count', title=\"Polymer Papers\")\n",
    "plt.savefig('notebooks/paragraphs_per_directory.png', dpi=600)\n",
    "plt.show()\n",
    "df"
   ]
  },
  {
   "cell_type": "markdown",
   "metadata": {},
   "source": [
    "### Filtering"
   ]
  },
  {
   "cell_type": "code",
   "execution_count": 13,
   "metadata": {},
   "outputs": [],
   "source": [
    "db.rollback()"
   ]
  },
  {
   "cell_type": "code",
   "execution_count": 25,
   "metadata": {},
   "outputs": [
    {
     "data": {
      "image/png": "[encoded data removed]",
      "text/plain": [
       "<Figure size 640x480 with 1 Axes>"
      ]
     },
     "metadata": {},
     "output_type": "display_data"
    },
    {
     "data": {
      "text/html": [
       "<div>\n",
       "<style scoped>\n",
       "    .dataframe tbody tr th:only-of-type {\n",
       "        vertical-align: middle;\n",
       "    }\n",
       "\n",
       "    .dataframe tbody tr th {\n",
       "        vertical-align: top;\n",
       "    }\n",
       "\n",
       "    .dataframe thead th {\n",
       "        text-align: right;\n",
       "    }\n",
       "</style>\n",
       "<table border=\"1\" class=\"dataframe\">\n",
       "  <thead>\n",
       "    <tr style=\"text-align: right;\">\n",
       "      <th></th>\n",
       "      <th>directory</th>\n",
       "      <th>count</th>\n",
       "    </tr>\n",
       "  </thead>\n",
       "  <tbody>\n",
       "    <tr>\n",
       "      <th>0</th>\n",
       "      <td>acs</td>\n",
       "      <td>9152</td>\n",
       "    </tr>\n",
       "    <tr>\n",
       "      <th>1</th>\n",
       "      <td>elsevier</td>\n",
       "      <td>1</td>\n",
       "    </tr>\n",
       "    <tr>\n",
       "      <th>2</th>\n",
       "      <td>hindawi</td>\n",
       "      <td>1</td>\n",
       "    </tr>\n",
       "    <tr>\n",
       "      <th>3</th>\n",
       "      <td>rsc</td>\n",
       "      <td>250</td>\n",
       "    </tr>\n",
       "  </tbody>\n",
       "</table>\n",
       "</div>"
      ],
      "text/plain": [
       "  directory  count\n",
       "0       acs   9152\n",
       "1  elsevier      1\n",
       "2   hindawi      1\n",
       "3       rsc    250"
      ]
     },
     "execution_count": 25,
     "metadata": {},
     "output_type": "execute_result"
    }
   ],
   "source": [
    "df = execute(\"\"\"\n",
    "    -- property specific heuristic filters\n",
    "    SELECT pt.directory, count(*) FROM filtered_paragraphs fp\n",
    "    -- get directory names\n",
    "    JOIN paper_texts pt ON fp.para_id = pt.id\n",
    "    WHERE fp.filter_name = 'property_thermal_conductivity'\n",
    "    GROUP BY pt.directory;\n",
    "\"\"\")\n",
    "\n",
    "fig, ax = plt.subplots()\n",
    "df.set_index('directory').plot.bar(ax=ax)\n",
    "ax.set(ylabel='Filtered Paragraphs', title = 'Thermal Conductivity')\n",
    "plt.savefig('notebooks/property_thermal_cond_hf_para_per_directory.png', dpi=600)\n",
    "plt.show()\n",
    "df"
   ]
  },
  {
   "cell_type": "code",
   "execution_count": 26,
   "metadata": {},
   "outputs": [
    {
     "data": {
      "image/png": "[encoded data removed]",
      "text/plain": [
       "<Figure size 640x480 with 1 Axes>"
      ]
     },
     "metadata": {},
     "output_type": "display_data"
    },
    {
     "name": "stdout",
     "output_type": "stream",
     "text": [
      "Merged Dataframe:\n",
      "  directory  post-heuristic filter count  post ner-filter count\n",
      "0       acs                        50366                   7657\n",
      "1  elsevier                           19                     17\n",
      "2       rsc                         2427                    366\n",
      "3  springer                           10                     10\n",
      "4     wiley                            9                      7\n"
     ]
    }
   ],
   "source": [
    "\n",
    "df_property = execute(\"\"\"\n",
    "    SELECT pt.directory, COUNT(*) AS property_count\n",
    "    FROM filtered_paragraphs fp\n",
    "    JOIN paper_texts pt ON fp.para_id = pt.id\n",
    "    WHERE fp.filter_name = 'property_tm'\n",
    "    GROUP BY pt.directory;\n",
    "\"\"\")\n",
    "\n",
    "df_ner = execute(\"\"\"\n",
    "    SELECT pt.directory, COUNT(*) AS ner_count\n",
    "    FROM filtered_paragraphs fp\n",
    "    JOIN paper_texts pt ON fp.para_id = pt.id\n",
    "    WHERE fp.filter_name = 'ner_tm'\n",
    "    GROUP BY pt.directory;\n",
    "\"\"\")\n",
    "                 \n",
    "# Merging the dataframes on the 'directory' column\n",
    "df_merged = pd.merge(df_property, df_ner, on='directory', how='inner')\n",
    "df_merged.rename(columns={'property_count': 'post-heuristic filter count', 'ner_count': 'post ner-filter count'}, inplace=True)\n",
    "\n",
    "\n",
    "ax = df_merged.set_index('directory').plot.bar()\n",
    "ax.set(ylabel='Filtered Paragraphs', title='Melting Temperature')\n",
    "\n",
    "\n",
    "plt.savefig('notebooks/tm_property_vs_ner_para_per_directory.png', dpi=600)\n",
    "plt.show()\n",
    "\n",
    "print(\"Merged Dataframe:\")\n",
    "print(df_merged)"
   ]
  },
  {
   "cell_type": "code",
   "execution_count": 10,
   "metadata": {},
   "outputs": [
    {
     "data": {
      "image/png": "[encoded data removed]",
      "text/plain": [
       "<Figure size 390x264 with 1 Axes>"
      ]
     },
     "metadata": {},
     "output_type": "display_data"
    },
    {
     "data": {
      "text/html": [
       "<div>\n",
       "<style scoped>\n",
       "    .dataframe tbody tr th:only-of-type {\n",
       "        vertical-align: middle;\n",
       "    }\n",
       "\n",
       "    .dataframe tbody tr th {\n",
       "        vertical-align: top;\n",
       "    }\n",
       "\n",
       "    .dataframe thead th {\n",
       "        text-align: right;\n",
       "    }\n",
       "</style>\n",
       "<table border=\"1\" class=\"dataframe\">\n",
       "  <thead>\n",
       "    <tr style=\"text-align: right;\">\n",
       "      <th></th>\n",
       "      <th>directory</th>\n",
       "      <th>count</th>\n",
       "    </tr>\n",
       "  </thead>\n",
       "  <tbody>\n",
       "    <tr>\n",
       "      <th>0</th>\n",
       "      <td>acs</td>\n",
       "      <td>11793</td>\n",
       "    </tr>\n",
       "    <tr>\n",
       "      <th>1</th>\n",
       "      <td>aip</td>\n",
       "      <td>2</td>\n",
       "    </tr>\n",
       "    <tr>\n",
       "      <th>2</th>\n",
       "      <td>elsevier</td>\n",
       "      <td>167</td>\n",
       "    </tr>\n",
       "    <tr>\n",
       "      <th>3</th>\n",
       "      <td>hindawi</td>\n",
       "      <td>2</td>\n",
       "    </tr>\n",
       "    <tr>\n",
       "      <th>4</th>\n",
       "      <td>informa</td>\n",
       "      <td>19</td>\n",
       "    </tr>\n",
       "    <tr>\n",
       "      <th>5</th>\n",
       "      <td>rsc</td>\n",
       "      <td>1275</td>\n",
       "    </tr>\n",
       "    <tr>\n",
       "      <th>6</th>\n",
       "      <td>springer</td>\n",
       "      <td>88</td>\n",
       "    </tr>\n",
       "    <tr>\n",
       "      <th>7</th>\n",
       "      <td>wiley</td>\n",
       "      <td>189</td>\n",
       "    </tr>\n",
       "  </tbody>\n",
       "</table>\n",
       "</div>"
      ],
      "text/plain": [
       "  directory  count\n",
       "0       acs  11793\n",
       "1       aip      2\n",
       "2  elsevier    167\n",
       "3   hindawi      2\n",
       "4   informa     19\n",
       "5       rsc   1275\n",
       "6  springer     88\n",
       "7     wiley    189"
      ]
     },
     "execution_count": 10,
     "metadata": {},
     "output_type": "execute_result"
    }
   ],
   "source": [
    "df = execute(\"\"\"\n",
    "    -- property specific ner filters\n",
    "    SELECT pt.directory, count(*) FROM filtered_paragraphs fp\n",
    "    -- get directory names\n",
    "    JOIN paper_texts pt ON fp.para_id = pt.id\n",
    "    WHERE fp.filter_name LIKE 'ner_%'\n",
    "    AND fp.filter_name != 'ner_filter'\n",
    "    GROUP BY pt.directory;\n",
    "\"\"\")\n",
    "\n",
    "fig, ax = plt.subplots()\n",
    "df.set_index('directory').plot.bar(ax=ax)\n",
    "ax.set(ylabel='Filtered Paragraphs', title = 'Property NER filter')\n",
    "plt.savefig('notebooks/property_ner_filtered_para_per_directory.png', dpi=600)\n",
    "plt.show()\n",
    "df"
   ]
  },
  {
   "cell_type": "code",
   "execution_count": 11,
   "metadata": {},
   "outputs": [
    {
     "data": {
      "image/png": "[encoded data removed]",
      "text/plain": [
       "<Figure size 390x264 with 1 Axes>"
      ]
     },
     "metadata": {},
     "output_type": "display_data"
    },
    {
     "data": {
      "text/html": [
       "<div>\n",
       "<style scoped>\n",
       "    .dataframe tbody tr th:only-of-type {\n",
       "        vertical-align: middle;\n",
       "    }\n",
       "\n",
       "    .dataframe tbody tr th {\n",
       "        vertical-align: top;\n",
       "    }\n",
       "\n",
       "    .dataframe thead th {\n",
       "        text-align: right;\n",
       "    }\n",
       "</style>\n",
       "<table border=\"1\" class=\"dataframe\">\n",
       "  <thead>\n",
       "    <tr style=\"text-align: right;\">\n",
       "      <th></th>\n",
       "      <th>directory</th>\n",
       "      <th>count</th>\n",
       "    </tr>\n",
       "  </thead>\n",
       "  <tbody>\n",
       "    <tr>\n",
       "      <th>0</th>\n",
       "      <td>acs</td>\n",
       "      <td>89511</td>\n",
       "    </tr>\n",
       "  </tbody>\n",
       "</table>\n",
       "</div>"
      ],
      "text/plain": [
       "  directory  count\n",
       "0       acs  89511"
      ]
     },
     "execution_count": 11,
     "metadata": {},
     "output_type": "execute_result"
    }
   ],
   "source": [
    "df = execute(\"\"\"\n",
    "    -- property specific ner filters\n",
    "    SELECT pt.directory, count(*) FROM filtered_paragraphs fp\n",
    "    -- get directory names\n",
    "    JOIN paper_texts pt ON fp.para_id = pt.id\n",
    "    WHERE fp.filter_name = 'ner_filter'\n",
    "    GROUP BY pt.directory;\n",
    "\"\"\")\n",
    "\n",
    "fig, ax = plt.subplots()\n",
    "df.set_index('directory').plot.bar(ax=ax)\n",
    "ax.set(ylabel='Filtered Paragraphs', title = 'NER Filter')\n",
    "plt.savefig('notebooks/ner_filtered_para_per_directory.png', dpi=600)\n",
    "plt.show()\n",
    "df"
   ]
  },
  {
   "cell_type": "markdown",
   "metadata": {},
   "source": [
    "### Extracted Data"
   ]
  },
  {
   "cell_type": "code",
   "execution_count": 12,
   "metadata": {},
   "outputs": [
    {
     "data": {
      "text/html": [
       "<div>\n",
       "<style scoped>\n",
       "    .dataframe tbody tr th:only-of-type {\n",
       "        vertical-align: middle;\n",
       "    }\n",
       "\n",
       "    .dataframe tbody tr th {\n",
       "        vertical-align: top;\n",
       "    }\n",
       "\n",
       "    .dataframe thead th {\n",
       "        text-align: right;\n",
       "    }\n",
       "</style>\n",
       "<table border=\"1\" class=\"dataframe\">\n",
       "  <thead>\n",
       "    <tr style=\"text-align: right;\">\n",
       "      <th></th>\n",
       "      <th>count</th>\n",
       "    </tr>\n",
       "  </thead>\n",
       "  <tbody>\n",
       "    <tr>\n",
       "      <th>0</th>\n",
       "      <td>64129</td>\n",
       "    </tr>\n",
       "  </tbody>\n",
       "</table>\n",
       "</div>"
      ],
      "text/plain": [
       "   count\n",
       "0  64129"
      ]
     },
     "execution_count": 12,
     "metadata": {},
     "output_type": "execute_result"
    }
   ],
   "source": [
    "# Materials extracted.\n",
    "execute(\"select count(*) from extracted_materials\")"
   ]
  },
  {
   "cell_type": "code",
   "execution_count": 13,
   "metadata": {},
   "outputs": [
    {
     "data": {
      "text/html": [
       "<div>\n",
       "<style scoped>\n",
       "    .dataframe tbody tr th:only-of-type {\n",
       "        vertical-align: middle;\n",
       "    }\n",
       "\n",
       "    .dataframe tbody tr th {\n",
       "        vertical-align: top;\n",
       "    }\n",
       "\n",
       "    .dataframe thead th {\n",
       "        text-align: right;\n",
       "    }\n",
       "</style>\n",
       "<table border=\"1\" class=\"dataframe\">\n",
       "  <thead>\n",
       "    <tr style=\"text-align: right;\">\n",
       "      <th></th>\n",
       "      <th>count</th>\n",
       "    </tr>\n",
       "  </thead>\n",
       "  <tbody>\n",
       "    <tr>\n",
       "      <th>0</th>\n",
       "      <td>138459</td>\n",
       "    </tr>\n",
       "  </tbody>\n",
       "</table>\n",
       "</div>"
      ],
      "text/plain": [
       "    count\n",
       "0  138459"
      ]
     },
     "execution_count": 13,
     "metadata": {},
     "output_type": "execute_result"
    }
   ],
   "source": [
    "# Properties extracted.\n",
    "execute(\"select count(*) from extracted_properties\")"
   ]
  },
  {
   "cell_type": "code",
   "execution_count": 14,
   "metadata": {},
   "outputs": [],
   "source": [
    "def extract_properties(property : str):\n",
    "    df = execute(\"\"\"\n",
    "        SELECT pt.doi, em.entity_name AS material, ep.numeric_value, ep.unit\n",
    "        FROM extracted_properties ep\n",
    "        -- get material name and class\n",
    "        JOIN extracted_materials em ON em.id = ep.material_id\n",
    "        -- get doi\n",
    "        JOIN paper_texts pt ON pt.id = em.para_id\n",
    "        -- filter with property coreferents\n",
    "        WHERE ep.entity_name IN (\n",
    "            SELECT UNNEST(pm.other_names) FROM property_metadata pm\n",
    "            WHERE pm.name = :prop_name\n",
    "        )\n",
    "        -- value should be within range\n",
    "        AND ep.numeric_value >= (\n",
    "            SELECT lower_limit FROM property_metadata\n",
    "            WHERE name = :prop_name\n",
    "        )\n",
    "        AND ep.numeric_value <= (\n",
    "            SELECT upper_limit FROM property_metadata\n",
    "            WHERE name = :prop_name\n",
    "        )\n",
    "        -- select only polymers\n",
    "        AND em.material_class LIKE 'POLYMER%';\n",
    "    \"\"\", prop_name=property)\n",
    "    return df"
   ]
  },
  {
   "cell_type": "code",
   "execution_count": 15,
   "metadata": {},
   "outputs": [],
   "source": [
    "def unit_counts(df):\n",
    "    return df.groupby('unit').nunique().numeric_value.sort_values(ascending=False)"
   ]
  },
  {
   "cell_type": "code",
   "execution_count": 16,
   "metadata": {},
   "outputs": [],
   "source": [
    "def plot_histogram(df, name, unit):\n",
    "    # Most common unit\n",
    "    unit = df.groupby('unit').nunique().numeric_value.sort_values(ascending=False).index[0]\n",
    "    avg = df.numeric_value.mean()\n",
    "    stdev = df.numeric_value.std()\n",
    "\n",
    "    fig, ax = plt.subplots()\n",
    "    df.hist('numeric_value', label='Total: %d' %df.shape[0], ax=ax)\n",
    "    ax.legend()\n",
    "    ax.set(xlabel=f'{name} ({unit})', ylabel='count',\n",
    "           title=f'Extracted {name} data\\nMean = {avg:0.2f}, St. dev. = {stdev:0.2f}')\n",
    "    plt.savefig(f'notebooks/hist.{name}.png', dpi=600)\n",
    "    plt.show()"
   ]
  },
  {
   "cell_type": "code",
   "execution_count": 17,
   "metadata": {},
   "outputs": [
    {
     "data": {
      "image/png": "[encoded data removed]",
      "text/plain": [
       "<Figure size 390x264 with 1 Axes>"
      ]
     },
     "metadata": {},
     "output_type": "display_data"
    },
    {
     "data": {
      "text/html": [
       "<div>\n",
       "<style scoped>\n",
       "    .dataframe tbody tr th:only-of-type {\n",
       "        vertical-align: middle;\n",
       "    }\n",
       "\n",
       "    .dataframe tbody tr th {\n",
       "        vertical-align: top;\n",
       "    }\n",
       "\n",
       "    .dataframe thead th {\n",
       "        text-align: right;\n",
       "    }\n",
       "</style>\n",
       "<table border=\"1\" class=\"dataframe\">\n",
       "  <thead>\n",
       "    <tr style=\"text-align: right;\">\n",
       "      <th></th>\n",
       "      <th>doi</th>\n",
       "      <th>material</th>\n",
       "      <th>numeric_value</th>\n",
       "      <th>unit</th>\n",
       "    </tr>\n",
       "  </thead>\n",
       "  <tbody>\n",
       "    <tr>\n",
       "      <th>0</th>\n",
       "      <td>10.1007/s10854-018-0226-3</td>\n",
       "      <td>polyvinyl alcohol</td>\n",
       "      <td>1.50</td>\n",
       "      <td></td>\n",
       "    </tr>\n",
       "    <tr>\n",
       "      <th>1</th>\n",
       "      <td>10.1007/s10854-018-0226-3</td>\n",
       "      <td>2.5</td>\n",
       "      <td>1.50</td>\n",
       "      <td></td>\n",
       "    </tr>\n",
       "    <tr>\n",
       "      <th>2</th>\n",
       "      <td>10.1007/s10854-018-0226-3</td>\n",
       "      <td>polyvinyl alcohol</td>\n",
       "      <td>2.80</td>\n",
       "      <td>eV</td>\n",
       "    </tr>\n",
       "    <tr>\n",
       "      <th>3</th>\n",
       "      <td>10.1007/s10854-018-0226-3</td>\n",
       "      <td>2.5</td>\n",
       "      <td>2.80</td>\n",
       "      <td>eV</td>\n",
       "    </tr>\n",
       "    <tr>\n",
       "      <th>4</th>\n",
       "      <td>10.1021/ma2020529</td>\n",
       "      <td>poly(thienylene vinylenes)</td>\n",
       "      <td>1.65</td>\n",
       "      <td>eV</td>\n",
       "    </tr>\n",
       "    <tr>\n",
       "      <th>...</th>\n",
       "      <td>...</td>\n",
       "      <td>...</td>\n",
       "      <td>...</td>\n",
       "      <td>...</td>\n",
       "    </tr>\n",
       "    <tr>\n",
       "      <th>1547</th>\n",
       "      <td>10.1021/cm011553r</td>\n",
       "      <td>PM-PPV</td>\n",
       "      <td>1.94</td>\n",
       "      <td>eV</td>\n",
       "    </tr>\n",
       "    <tr>\n",
       "      <th>1548</th>\n",
       "      <td>10.1021/cm011553r</td>\n",
       "      <td>PM-PPV</td>\n",
       "      <td>1.94</td>\n",
       "      <td>eV</td>\n",
       "    </tr>\n",
       "    <tr>\n",
       "      <th>1549</th>\n",
       "      <td>10.1021/cm011553r</td>\n",
       "      <td>PM-PPV</td>\n",
       "      <td>1.96</td>\n",
       "      <td>eV</td>\n",
       "    </tr>\n",
       "    <tr>\n",
       "      <th>1550</th>\n",
       "      <td>10.1021/jacs.8b07560</td>\n",
       "      <td>MAPbBr_{3}</td>\n",
       "      <td>2.20</td>\n",
       "      <td>eV</td>\n",
       "    </tr>\n",
       "    <tr>\n",
       "      <th>1551</th>\n",
       "      <td>10.1021/jacs.8b07560</td>\n",
       "      <td>MAPbCl_{3}</td>\n",
       "      <td>2.90</td>\n",
       "      <td>eV</td>\n",
       "    </tr>\n",
       "  </tbody>\n",
       "</table>\n",
       "<p>1552 rows × 4 columns</p>\n",
       "</div>"
      ],
      "text/plain": [
       "                            doi                    material  numeric_value  \\\n",
       "0     10.1007/s10854-018-0226-3           polyvinyl alcohol           1.50   \n",
       "1     10.1007/s10854-018-0226-3                         2.5           1.50   \n",
       "2     10.1007/s10854-018-0226-3           polyvinyl alcohol           2.80   \n",
       "3     10.1007/s10854-018-0226-3                         2.5           2.80   \n",
       "4             10.1021/ma2020529  poly(thienylene vinylenes)           1.65   \n",
       "...                         ...                         ...            ...   \n",
       "1547          10.1021/cm011553r                      PM-PPV           1.94   \n",
       "1548          10.1021/cm011553r                      PM-PPV           1.94   \n",
       "1549          10.1021/cm011553r                      PM-PPV           1.96   \n",
       "1550       10.1021/jacs.8b07560                  MAPbBr_{3}           2.20   \n",
       "1551       10.1021/jacs.8b07560                  MAPbCl_{3}           2.90   \n",
       "\n",
       "     unit  \n",
       "0          \n",
       "1          \n",
       "2      eV  \n",
       "3      eV  \n",
       "4      eV  \n",
       "...   ...  \n",
       "1547   eV  \n",
       "1548   eV  \n",
       "1549   eV  \n",
       "1550   eV  \n",
       "1551   eV  \n",
       "\n",
       "[1552 rows x 4 columns]"
      ]
     },
     "execution_count": 17,
     "metadata": {},
     "output_type": "execute_result"
    }
   ],
   "source": [
    "df = extract_properties('bandgap')\n",
    "plot_histogram(df, 'bandgap', 'eV')\n",
    "df"
   ]
  },
  {
   "cell_type": "code",
   "execution_count": 18,
   "metadata": {},
   "outputs": [
    {
     "data": {
      "image/png": "[encoded data removed]",
      "text/plain": [
       "<Figure size 390x264 with 1 Axes>"
      ]
     },
     "metadata": {},
     "output_type": "display_data"
    },
    {
     "data": {
      "text/html": [
       "<div>\n",
       "<style scoped>\n",
       "    .dataframe tbody tr th:only-of-type {\n",
       "        vertical-align: middle;\n",
       "    }\n",
       "\n",
       "    .dataframe tbody tr th {\n",
       "        vertical-align: top;\n",
       "    }\n",
       "\n",
       "    .dataframe thead th {\n",
       "        text-align: right;\n",
       "    }\n",
       "</style>\n",
       "<table border=\"1\" class=\"dataframe\">\n",
       "  <thead>\n",
       "    <tr style=\"text-align: right;\">\n",
       "      <th></th>\n",
       "      <th>doi</th>\n",
       "      <th>material</th>\n",
       "      <th>numeric_value</th>\n",
       "      <th>unit</th>\n",
       "    </tr>\n",
       "  </thead>\n",
       "  <tbody>\n",
       "    <tr>\n",
       "      <th>0</th>\n",
       "      <td>10.1039/c6gc03238a</td>\n",
       "      <td>polylactic acid</td>\n",
       "      <td>50.0</td>\n",
       "      <td>° C</td>\n",
       "    </tr>\n",
       "    <tr>\n",
       "      <th>1</th>\n",
       "      <td>10.1039/c6gc03238a</td>\n",
       "      <td>polylactic acid</td>\n",
       "      <td>84.5</td>\n",
       "      <td>° C</td>\n",
       "    </tr>\n",
       "    <tr>\n",
       "      <th>2</th>\n",
       "      <td>10.1039/c6gc03238a</td>\n",
       "      <td>polycaprolactone</td>\n",
       "      <td>-60.0</td>\n",
       "      <td>° C</td>\n",
       "    </tr>\n",
       "    <tr>\n",
       "      <th>3</th>\n",
       "      <td>10.1039/c6gc03238a</td>\n",
       "      <td>polycaprolactone</td>\n",
       "      <td>28.5</td>\n",
       "      <td>° C</td>\n",
       "    </tr>\n",
       "    <tr>\n",
       "      <th>4</th>\n",
       "      <td>10.1039/c6gc03238a</td>\n",
       "      <td>polyethylene terephthalate</td>\n",
       "      <td>67.0</td>\n",
       "      <td>° C</td>\n",
       "    </tr>\n",
       "    <tr>\n",
       "      <th>...</th>\n",
       "      <td>...</td>\n",
       "      <td>...</td>\n",
       "      <td>...</td>\n",
       "      <td>...</td>\n",
       "    </tr>\n",
       "    <tr>\n",
       "      <th>2975</th>\n",
       "      <td>10.1021/acs.iecr.7b02846</td>\n",
       "      <td>polyethylene carbonate</td>\n",
       "      <td>-65.0</td>\n",
       "      <td>° C</td>\n",
       "    </tr>\n",
       "    <tr>\n",
       "      <th>2976</th>\n",
       "      <td>10.1021/acs.iecr.7b02846</td>\n",
       "      <td>LiFSI</td>\n",
       "      <td>17.0</td>\n",
       "      <td>° C</td>\n",
       "    </tr>\n",
       "    <tr>\n",
       "      <th>2977</th>\n",
       "      <td>10.1021/acs.iecr.7b02846</td>\n",
       "      <td>LiFSI</td>\n",
       "      <td>68.5</td>\n",
       "      <td>K( ° C)</td>\n",
       "    </tr>\n",
       "    <tr>\n",
       "      <th>2978</th>\n",
       "      <td>10.1021/acs.iecr.7b02846</td>\n",
       "      <td>LiFSI</td>\n",
       "      <td>74.5</td>\n",
       "      <td>K( ° C)</td>\n",
       "    </tr>\n",
       "    <tr>\n",
       "      <th>2979</th>\n",
       "      <td>10.1021/acs.iecr.7b02846</td>\n",
       "      <td>isotactic polypropylene succinate</td>\n",
       "      <td>-4.0</td>\n",
       "      <td>° C</td>\n",
       "    </tr>\n",
       "  </tbody>\n",
       "</table>\n",
       "<p>2980 rows × 4 columns</p>\n",
       "</div>"
      ],
      "text/plain": [
       "                           doi                           material  \\\n",
       "0           10.1039/c6gc03238a                    polylactic acid   \n",
       "1           10.1039/c6gc03238a                    polylactic acid   \n",
       "2           10.1039/c6gc03238a                   polycaprolactone   \n",
       "3           10.1039/c6gc03238a                   polycaprolactone   \n",
       "4           10.1039/c6gc03238a         polyethylene terephthalate   \n",
       "...                        ...                                ...   \n",
       "2975  10.1021/acs.iecr.7b02846             polyethylene carbonate   \n",
       "2976  10.1021/acs.iecr.7b02846                              LiFSI   \n",
       "2977  10.1021/acs.iecr.7b02846                              LiFSI   \n",
       "2978  10.1021/acs.iecr.7b02846                              LiFSI   \n",
       "2979  10.1021/acs.iecr.7b02846  isotactic polypropylene succinate   \n",
       "\n",
       "      numeric_value     unit  \n",
       "0              50.0      ° C  \n",
       "1              84.5      ° C  \n",
       "2             -60.0      ° C  \n",
       "3              28.5      ° C  \n",
       "4              67.0      ° C  \n",
       "...             ...      ...  \n",
       "2975          -65.0      ° C  \n",
       "2976           17.0      ° C  \n",
       "2977           68.5  K( ° C)  \n",
       "2978           74.5  K( ° C)  \n",
       "2979           -4.0      ° C  \n",
       "\n",
       "[2980 rows x 4 columns]"
      ]
     },
     "execution_count": 18,
     "metadata": {},
     "output_type": "execute_result"
    }
   ],
   "source": [
    "df = extract_properties('glass transition temperature')\n",
    "plot_histogram(df, 'Tg', '°C')\n",
    "df"
   ]
  },
  {
   "cell_type": "code",
   "execution_count": 19,
   "metadata": {},
   "outputs": [
    {
     "data": {
      "text/plain": [
       "unit\n",
       "° C                   711\n",
       "                       44\n",
       "∼ ° C                  34\n",
       "+ / ° C                23\n",
       "° C   ° C               9\n",
       "+ /                     7\n",
       "+ / K                   5\n",
       "° C ° C                 5\n",
       "∼  ° C                  5\n",
       "approximately  ° C      4\n",
       "∼ K                     3\n",
       "∼   ° C                 3\n",
       "/ ° C                   2\n",
       "J g^{-1}                2\n",
       ",,,  ° C                2\n",
       ",                       2\n",
       "+/ ° C                  2\n",
       "≃ K                     2\n",
       "} J^{13}^{}^{}          1\n",
       "° C + /                 1\n",
       "∼  0 ° C                1\n",
       "° C ≤                   1\n",
       "° C(midpoint)           1\n",
       "° C)containin           1\n",
       "s                       1\n",
       "∼  ∼ ° C                1\n",
       "x                       1\n",
       "delineated  ° C         1\n",
       "nm^{3}                  1\n",
       "negative  ° C           1\n",
       ") °                     1\n",
       "+ / J/(g K)             1\n",
       ", ° C                   1\n",
       ",,, ° C                 1\n",
       ",,,,  ° C               1\n",
       "./ ° C                  1\n",
       "3 ° C                   1\n",
       ":                       1\n",
       "C/GPa                   1\n",
       "MPa                     1\n",
       "M̄_{n}^{a}              1\n",
       "[Li                     1\n",
       "( + /) x                1\n",
       "g/mol                   1\n",
       "kJ mol^{-1} K^{-1}      1\n",
       "≤  ° C                  1\n",
       "Name: numeric_value, dtype: int64"
      ]
     },
     "execution_count": 19,
     "metadata": {},
     "output_type": "execute_result"
    }
   ],
   "source": [
    "unit_counts(df)"
   ]
  },
  {
   "cell_type": "code",
   "execution_count": 19,
   "metadata": {},
   "outputs": [
    {
     "data": {
      "text/plain": [
       "0     gravimetric energy density\n",
       "1      gravimetric power density\n",
       "2           specific capacitance\n",
       "3                current density\n",
       "4          areal current density\n",
       "                 ...            \n",
       "77                     luminance\n",
       "78          luminance efficiency\n",
       "79               dielectric loss\n",
       "80         capacitance retention\n",
       "81                  power factor\n",
       "Name: name, Length: 82, dtype: object"
      ]
     },
     "execution_count": 19,
     "metadata": {},
     "output_type": "execute_result"
    }
   ],
   "source": [
    "df = execute(\"select * from property_metadata\")\n",
    "df.name"
   ]
  },
  {
   "cell_type": "code",
   "execution_count": 20,
   "metadata": {},
   "outputs": [],
   "source": [
    "postgres.disconnect()"
   ]
  }
 ],
 "metadata": {
  "kernelspec": {
   "display_name": "Python 3",
   "language": "python",
   "name": "python3"
  },
  "language_info": {
   "codemirror_mode": {
    "name": "ipython",
    "version": 3
   },
   "file_extension": ".py",
   "mimetype": "text/x-python",
   "name": "python",
   "nbconvert_exporter": "python",
   "pygments_lexer": "ipython3",
   "version": "3.10.12"
  },
  "orig_nbformat": 4
 },
 "nbformat": 4,
 "nbformat_minor": 2
}

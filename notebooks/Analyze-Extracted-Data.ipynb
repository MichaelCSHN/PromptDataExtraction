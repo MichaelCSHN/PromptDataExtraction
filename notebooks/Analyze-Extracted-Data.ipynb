{
 "cells": [
  {
   "cell_type": "code",
   "execution_count": 2,
   "metadata": {},
   "outputs": [],
   "source": [
    "import os\n",
    "os.chdir(\"..\")\n",
    "assert 'PromptDataExtract' in os.getcwd()"
   ]
  },
  {
   "cell_type": "code",
   "execution_count": 4,
   "metadata": {},
   "outputs": [
    {
     "name": "stdout",
     "output_type": "stream",
     "text": [
      "Load OK: settings.yaml\n"
     ]
    }
   ],
   "source": [
    "# Load settings\n",
    "from backend import sett, postgres\n",
    "sett.load_settings()\n",
    "postgres.load_settings()"
   ]
  },
  {
   "cell_type": "code",
   "execution_count": 5,
   "metadata": {},
   "outputs": [
    {
     "name": "stdout",
     "output_type": "stream",
     "text": [
      "\u001b[1;36m      --\u001b[0m postgres_ SSH tunnel established.\n"
     ]
    }
   ],
   "source": [
    "# Close any open database session.\n",
    "# db.close()\n",
    "\n",
    "# Connect to database\n",
    "db = postgres.connect('polylet')"
   ]
  },
  {
   "cell_type": "code",
   "execution_count": 6,
   "metadata": {},
   "outputs": [],
   "source": [
    "import pandas as pd\n",
    "import matplotlib.pyplot as plt\n",
    "try:\n",
    "    plt.style.use(\"~/matplotlib.mplstyle\")\n",
    "except: pass"
   ]
  },
  {
   "cell_type": "code",
   "execution_count": 7,
   "metadata": {},
   "outputs": [],
   "source": [
    "def execute(sql, **kwargs) -> pd.DataFrame:\n",
    "    \"\"\" Query the database using raw sql.\n",
    "        Return a pandas dataframe containing the results.\n",
    "    \"\"\"\n",
    "    results = postgres.raw_sql(sql, kwargs)\n",
    "    return pd.DataFrame.from_records(results, columns=results[0]._fields)"
   ]
  },
  {
   "cell_type": "markdown",
   "metadata": {},
   "source": [
    "### Parsing"
   ]
  },
  {
   "cell_type": "code",
   "execution_count": 86,
   "metadata": {},
   "outputs": [
    {
     "data": {
      "text/html": [
       "<div>\n",
       "<style scoped>\n",
       "    .dataframe tbody tr th:only-of-type {\n",
       "        vertical-align: middle;\n",
       "    }\n",
       "\n",
       "    .dataframe tbody tr th {\n",
       "        vertical-align: top;\n",
       "    }\n",
       "\n",
       "    .dataframe thead th {\n",
       "        text-align: right;\n",
       "    }\n",
       "</style>\n",
       "<table border=\"1\" class=\"dataframe\">\n",
       "  <thead>\n",
       "    <tr style=\"text-align: right;\">\n",
       "      <th></th>\n",
       "      <th>directory</th>\n",
       "      <th>count</th>\n",
       "    </tr>\n",
       "  </thead>\n",
       "  <tbody>\n",
       "    <tr>\n",
       "      <th>0</th>\n",
       "      <td>acs</td>\n",
       "      <td>4726853</td>\n",
       "    </tr>\n",
       "    <tr>\n",
       "      <th>1</th>\n",
       "      <td>aip</td>\n",
       "      <td>4</td>\n",
       "    </tr>\n",
       "    <tr>\n",
       "      <th>2</th>\n",
       "      <td>elsevier</td>\n",
       "      <td>7044</td>\n",
       "    </tr>\n",
       "    <tr>\n",
       "      <th>3</th>\n",
       "      <td>hindawi</td>\n",
       "      <td>74</td>\n",
       "    </tr>\n",
       "    <tr>\n",
       "      <th>4</th>\n",
       "      <td>informa</td>\n",
       "      <td>24</td>\n",
       "    </tr>\n",
       "    <tr>\n",
       "      <th>5</th>\n",
       "      <td>rsc</td>\n",
       "      <td>281216</td>\n",
       "    </tr>\n",
       "    <tr>\n",
       "      <th>6</th>\n",
       "      <td>springer</td>\n",
       "      <td>74</td>\n",
       "    </tr>\n",
       "    <tr>\n",
       "      <th>7</th>\n",
       "      <td>wiley</td>\n",
       "      <td>239</td>\n",
       "    </tr>\n",
       "  </tbody>\n",
       "</table>\n",
       "</div>"
      ],
      "text/plain": [
       "  directory    count\n",
       "0       acs  4726853\n",
       "1       aip        4\n",
       "2  elsevier     7044\n",
       "3   hindawi       74\n",
       "4   informa       24\n",
       "5       rsc   281216\n",
       "6  springer       74\n",
       "7     wiley      239"
      ]
     },
     "execution_count": 86,
     "metadata": {},
     "output_type": "execute_result"
    }
   ],
   "source": [
    "df = execute(\"\"\"\n",
    "             SELECT directory, count(*) FROM paper_texts pt\n",
    "             -- only the polymer papers\n",
    "             JOIN filtered_papers fp ON fp.doi = pt.doi \n",
    "             GROUP BY directory;\n",
    "\"\"\")\n",
    "df"
   ]
  },
  {
   "cell_type": "code",
   "execution_count": 89,
   "metadata": {},
   "outputs": [
    {
     "data": {
      "image/png": "[encoded data removed]",
      "text/plain": [
       "<Figure size 390x264 with 1 Axes>"
      ]
     },
     "metadata": {},
     "output_type": "display_data"
    }
   ],
   "source": [
    "fig, ax = plt.subplots()\n",
    "df.set_index('directory').plot.bar(ax=ax)\n",
    "ax.set(ylabel='Polymer Paragraphs')\n",
    "plt.savefig('notebooks/paragraphs_per_directory.png', dpi=600)\n",
    "plt.show()"
   ]
  },
  {
   "cell_type": "markdown",
   "metadata": {},
   "source": [
    "### Extracted Data"
   ]
  },
  {
   "cell_type": "code",
   "execution_count": 8,
   "metadata": {},
   "outputs": [
    {
     "data": {
      "text/html": [
       "<div>\n",
       "<style scoped>\n",
       "    .dataframe tbody tr th:only-of-type {\n",
       "        vertical-align: middle;\n",
       "    }\n",
       "\n",
       "    .dataframe tbody tr th {\n",
       "        vertical-align: top;\n",
       "    }\n",
       "\n",
       "    .dataframe thead th {\n",
       "        text-align: right;\n",
       "    }\n",
       "</style>\n",
       "<table border=\"1\" class=\"dataframe\">\n",
       "  <thead>\n",
       "    <tr style=\"text-align: right;\">\n",
       "      <th></th>\n",
       "      <th>count</th>\n",
       "    </tr>\n",
       "  </thead>\n",
       "  <tbody>\n",
       "    <tr>\n",
       "      <th>0</th>\n",
       "      <td>23141</td>\n",
       "    </tr>\n",
       "  </tbody>\n",
       "</table>\n",
       "</div>"
      ],
      "text/plain": [
       "   count\n",
       "0  23141"
      ]
     },
     "execution_count": 8,
     "metadata": {},
     "output_type": "execute_result"
    }
   ],
   "source": [
    "# Materials extracted.\n",
    "execute(\"select count(*) from extracted_materials\")"
   ]
  },
  {
   "cell_type": "code",
   "execution_count": 84,
   "metadata": {},
   "outputs": [
    {
     "data": {
      "text/html": [
       "<div>\n",
       "<style scoped>\n",
       "    .dataframe tbody tr th:only-of-type {\n",
       "        vertical-align: middle;\n",
       "    }\n",
       "\n",
       "    .dataframe tbody tr th {\n",
       "        vertical-align: top;\n",
       "    }\n",
       "\n",
       "    .dataframe thead th {\n",
       "        text-align: right;\n",
       "    }\n",
       "</style>\n",
       "<table border=\"1\" class=\"dataframe\">\n",
       "  <thead>\n",
       "    <tr style=\"text-align: right;\">\n",
       "      <th></th>\n",
       "      <th>count</th>\n",
       "    </tr>\n",
       "  </thead>\n",
       "  <tbody>\n",
       "    <tr>\n",
       "      <th>0</th>\n",
       "      <td>74346</td>\n",
       "    </tr>\n",
       "  </tbody>\n",
       "</table>\n",
       "</div>"
      ],
      "text/plain": [
       "   count\n",
       "0  74346"
      ]
     },
     "execution_count": 84,
     "metadata": {},
     "output_type": "execute_result"
    }
   ],
   "source": [
    "# Properties extracted.\n",
    "execute(\"select count(*) from extracted_properties\")"
   ]
  },
  {
   "cell_type": "code",
   "execution_count": 41,
   "metadata": {},
   "outputs": [],
   "source": [
    "def extract_properties(property : str):\n",
    "    df = execute(\"\"\"\n",
    "        SELECT pt.doi, em.entity_name AS material, ep.numeric_value, ep.unit\n",
    "        FROM extracted_properties ep\n",
    "        -- get material name and class\n",
    "        JOIN extracted_materials em ON em.id = ep.material_id\n",
    "        -- get doi\n",
    "        JOIN paper_texts pt ON pt.id = em.para_id\n",
    "        -- filter with property coreferents\n",
    "        WHERE ep.entity_name IN (\n",
    "            SELECT UNNEST(pm.other_names) FROM property_metadata pm\n",
    "            WHERE pm.name = :prop_name\n",
    "        )\n",
    "        -- value should be within range\n",
    "        AND ep.numeric_value >= (\n",
    "            SELECT lower_limit FROM property_metadata\n",
    "            WHERE name = :prop_name\n",
    "        )\n",
    "        AND ep.numeric_value <= (\n",
    "            SELECT upper_limit FROM property_metadata\n",
    "            WHERE name = :prop_name\n",
    "        )\n",
    "        -- select only polymers\n",
    "        AND em.material_class LIKE 'POLYMER%';\n",
    "    \"\"\", prop_name=property)\n",
    "    return df"
   ]
  },
  {
   "cell_type": "code",
   "execution_count": 81,
   "metadata": {},
   "outputs": [],
   "source": [
    "def unit_counts(df):\n",
    "    return df.groupby('unit').nunique().numeric_value.sort_values(ascending=False)"
   ]
  },
  {
   "cell_type": "code",
   "execution_count": 78,
   "metadata": {},
   "outputs": [],
   "source": [
    "def plot_histogram(df, name, unit):\n",
    "    # Most common unit\n",
    "    unit = df.groupby('unit').nunique().numeric_value.sort_values(ascending=False).index[0]\n",
    "    avg = df.numeric_value.mean()\n",
    "    stdev = df.numeric_value.std()\n",
    "\n",
    "    fig, ax = plt.subplots()\n",
    "    df.hist('numeric_value', label='Total: %d' %df.shape[0], ax=ax)\n",
    "    ax.legend()\n",
    "    ax.set(xlabel=f'{name} ({unit})', ylabel='count',\n",
    "           title=f'Extracted {name} data\\nMean = {avg:0.2f}, St. dev. = {stdev:0.2f}')\n",
    "    plt.savefig(f'notebooks/hist.{name}.png', dpi=600)\n",
    "    plt.show()"
   ]
  },
  {
   "cell_type": "code",
   "execution_count": 79,
   "metadata": {},
   "outputs": [
    {
     "data": {
      "image/png": "[encoded data removed]",
      "text/plain": [
       "<Figure size 390x264 with 1 Axes>"
      ]
     },
     "metadata": {},
     "output_type": "display_data"
    }
   ],
   "source": [
    "df = extract_properties('bandgap')\n",
    "plot_histogram(df, 'bandgap', 'eV')"
   ]
  },
  {
   "cell_type": "code",
   "execution_count": 80,
   "metadata": {},
   "outputs": [
    {
     "data": {
      "image/png": "[encoded data removed]",
      "text/plain": [
       "<Figure size 390x264 with 1 Axes>"
      ]
     },
     "metadata": {},
     "output_type": "display_data"
    }
   ],
   "source": [
    "df = extract_properties('glass transition temperature')\n",
    "plot_histogram(df, 'Tg', '°C')"
   ]
  },
  {
   "cell_type": "code",
   "execution_count": 83,
   "metadata": {},
   "outputs": [
    {
     "data": {
      "text/plain": [
       "unit\n",
       "° C                   669\n",
       "                       37\n",
       "∼ ° C                  31\n",
       "+ / ° C                19\n",
       "° C   ° C               8\n",
       "+ /                     6\n",
       "° C ° C                 5\n",
       "∼  ° C                  4\n",
       "+ / K                   3\n",
       "∼   ° C                 3\n",
       "∼ K                     2\n",
       "approximately  ° C      2\n",
       "+/ ° C                  2\n",
       ",                       2\n",
       ",,,,  ° C               1\n",
       "./ ° C                  1\n",
       "∼  ∼ ° C                1\n",
       ", ° C                   1\n",
       "° C)containin           1\n",
       ",,,  ° C                1\n",
       ",,, ° C                 1\n",
       ") °                     1\n",
       "} J^{13}^{}^{}          1\n",
       "x                       1\n",
       "s                       1\n",
       "nm^{3}                  1\n",
       "negative  ° C           1\n",
       "kJ mol^{-1} K^{-1}      1\n",
       "g/mol                   1\n",
       "delineated  ° C         1\n",
       "+ / J/(g K)             1\n",
       "( + /) x                1\n",
       "M̄_{n}^{a}              1\n",
       "MPa                     1\n",
       ":                       1\n",
       "3 ° C                   1\n",
       "/ ° C                   1\n",
       "[Li                     1\n",
       "Name: numeric_value, dtype: int64"
      ]
     },
     "execution_count": 83,
     "metadata": {},
     "output_type": "execute_result"
    }
   ],
   "source": [
    "unit_counts(df)"
   ]
  },
  {
   "cell_type": "code",
   "execution_count": 49,
   "metadata": {},
   "outputs": [
    {
     "data": {
      "text/html": [
       "<div>\n",
       "<style scoped>\n",
       "    .dataframe tbody tr th:only-of-type {\n",
       "        vertical-align: middle;\n",
       "    }\n",
       "\n",
       "    .dataframe tbody tr th {\n",
       "        vertical-align: top;\n",
       "    }\n",
       "\n",
       "    .dataframe thead th {\n",
       "        text-align: right;\n",
       "    }\n",
       "</style>\n",
       "<table border=\"1\" class=\"dataframe\">\n",
       "  <thead>\n",
       "    <tr style=\"text-align: right;\">\n",
       "      <th></th>\n",
       "      <th>name</th>\n",
       "      <th>other_names</th>\n",
       "      <th>units</th>\n",
       "      <th>scale</th>\n",
       "      <th>short_name</th>\n",
       "      <th>lower_limit</th>\n",
       "      <th>upper_limit</th>\n",
       "      <th>id</th>\n",
       "      <th>date_added</th>\n",
       "    </tr>\n",
       "  </thead>\n",
       "  <tbody>\n",
       "    <tr>\n",
       "      <th>0</th>\n",
       "      <td>gravimetric energy density</td>\n",
       "      <td>[energy density]</td>\n",
       "      <td>[Wh kg^{-1}, W h kg^{-1}, Wh/kg, Wh*kg^{-1}, W...</td>\n",
       "      <td>normal</td>\n",
       "      <td>None</td>\n",
       "      <td>0.0</td>\n",
       "      <td>1000.0</td>\n",
       "      <td>1</td>\n",
       "      <td>2023-09-13 16:59:45.748486-04:00</td>\n",
       "    </tr>\n",
       "    <tr>\n",
       "      <th>1</th>\n",
       "      <td>gravimetric power density</td>\n",
       "      <td>[power density]</td>\n",
       "      <td>[W kg^{-1}, kW kg^{-1}, W/kg, kW/kg, W Kg^{-1}...</td>\n",
       "      <td>normal</td>\n",
       "      <td>None</td>\n",
       "      <td>0.0</td>\n",
       "      <td>120000.0</td>\n",
       "      <td>2</td>\n",
       "      <td>2023-09-13 16:59:45.757140-04:00</td>\n",
       "    </tr>\n",
       "    <tr>\n",
       "      <th>2</th>\n",
       "      <td>specific capacitance</td>\n",
       "      <td>[capacitance, specific capacitance]</td>\n",
       "      <td>[F g^{-1}, F/g, Fg^{-1}, F*g^{-1}, F.g^{-1}, F...</td>\n",
       "      <td>normal</td>\n",
       "      <td>None</td>\n",
       "      <td>0.0</td>\n",
       "      <td>4500.0</td>\n",
       "      <td>3</td>\n",
       "      <td>2023-09-13 16:59:45.759624-04:00</td>\n",
       "    </tr>\n",
       "    <tr>\n",
       "      <th>3</th>\n",
       "      <td>current density</td>\n",
       "      <td>[current density]</td>\n",
       "      <td>[A g^{-1}, A/g, mA g^{-1}, mA/g, Ag^{-1}, A*g^...</td>\n",
       "      <td>normal</td>\n",
       "      <td>None</td>\n",
       "      <td>0.0</td>\n",
       "      <td>100.0</td>\n",
       "      <td>4</td>\n",
       "      <td>2023-09-13 16:59:45.762217-04:00</td>\n",
       "    </tr>\n",
       "    <tr>\n",
       "      <th>4</th>\n",
       "      <td>areal current density</td>\n",
       "      <td>[current density, areal current density]</td>\n",
       "      <td>[mA cm^{-2}, mA/cm^{2}, μA cm^{-2}, μA/cm^{2},...</td>\n",
       "      <td>normal</td>\n",
       "      <td>None</td>\n",
       "      <td>0.0</td>\n",
       "      <td>4000.0</td>\n",
       "      <td>5</td>\n",
       "      <td>2023-09-13 16:59:45.764765-04:00</td>\n",
       "    </tr>\n",
       "    <tr>\n",
       "      <th>...</th>\n",
       "      <td>...</td>\n",
       "      <td>...</td>\n",
       "      <td>...</td>\n",
       "      <td>...</td>\n",
       "      <td>...</td>\n",
       "      <td>...</td>\n",
       "      <td>...</td>\n",
       "      <td>...</td>\n",
       "      <td>...</td>\n",
       "    </tr>\n",
       "    <tr>\n",
       "      <th>77</th>\n",
       "      <td>luminance</td>\n",
       "      <td>[brightness, luminance]</td>\n",
       "      <td>[cd/m^{2}, cd m^{-2}, cd * m^{-2}, cd*m^{-2}, ...</td>\n",
       "      <td>normal</td>\n",
       "      <td>None</td>\n",
       "      <td>0.0</td>\n",
       "      <td>800000.0</td>\n",
       "      <td>78</td>\n",
       "      <td>2023-09-13 16:59:45.979741-04:00</td>\n",
       "    </tr>\n",
       "    <tr>\n",
       "      <th>78</th>\n",
       "      <td>luminance efficiency</td>\n",
       "      <td>[luminance efficiency, current efficiency]</td>\n",
       "      <td>[cd/A, cd A^{-1}, cd * A^{-1}]</td>\n",
       "      <td>normal</td>\n",
       "      <td>None</td>\n",
       "      <td>0.0</td>\n",
       "      <td>100.0</td>\n",
       "      <td>79</td>\n",
       "      <td>2023-09-13 16:59:45.982623-04:00</td>\n",
       "    </tr>\n",
       "    <tr>\n",
       "      <th>79</th>\n",
       "      <td>dielectric loss</td>\n",
       "      <td>[dielectric loss]</td>\n",
       "      <td>[]</td>\n",
       "      <td>normal</td>\n",
       "      <td>None</td>\n",
       "      <td>0.0</td>\n",
       "      <td>4.0</td>\n",
       "      <td>80</td>\n",
       "      <td>2023-09-13 16:59:45.985554-04:00</td>\n",
       "    </tr>\n",
       "    <tr>\n",
       "      <th>80</th>\n",
       "      <td>capacitance retention</td>\n",
       "      <td>[capacitance retention, capacitance retention ...</td>\n",
       "      <td>[%]</td>\n",
       "      <td>normal</td>\n",
       "      <td>None</td>\n",
       "      <td>0.0</td>\n",
       "      <td>100.0</td>\n",
       "      <td>81</td>\n",
       "      <td>2023-09-13 16:59:45.988403-04:00</td>\n",
       "    </tr>\n",
       "    <tr>\n",
       "      <th>81</th>\n",
       "      <td>power factor</td>\n",
       "      <td>[power factor, power factors]</td>\n",
       "      <td>[μW m^{-1} K^{-2}, μW/mK^{2}, uW m^{-1} K^{-2}...</td>\n",
       "      <td>normal</td>\n",
       "      <td>None</td>\n",
       "      <td>0.0</td>\n",
       "      <td>100.0</td>\n",
       "      <td>82</td>\n",
       "      <td>2023-09-13 16:59:45.991228-04:00</td>\n",
       "    </tr>\n",
       "  </tbody>\n",
       "</table>\n",
       "<p>82 rows × 9 columns</p>\n",
       "</div>"
      ],
      "text/plain": [
       "                          name  \\\n",
       "0   gravimetric energy density   \n",
       "1    gravimetric power density   \n",
       "2         specific capacitance   \n",
       "3              current density   \n",
       "4        areal current density   \n",
       "..                         ...   \n",
       "77                   luminance   \n",
       "78        luminance efficiency   \n",
       "79             dielectric loss   \n",
       "80       capacitance retention   \n",
       "81                power factor   \n",
       "\n",
       "                                          other_names  \\\n",
       "0                                    [energy density]   \n",
       "1                                     [power density]   \n",
       "2                 [capacitance, specific capacitance]   \n",
       "3                                   [current density]   \n",
       "4            [current density, areal current density]   \n",
       "..                                                ...   \n",
       "77                            [brightness, luminance]   \n",
       "78         [luminance efficiency, current efficiency]   \n",
       "79                                  [dielectric loss]   \n",
       "80  [capacitance retention, capacitance retention ...   \n",
       "81                      [power factor, power factors]   \n",
       "\n",
       "                                                units   scale short_name  \\\n",
       "0   [Wh kg^{-1}, W h kg^{-1}, Wh/kg, Wh*kg^{-1}, W...  normal       None   \n",
       "1   [W kg^{-1}, kW kg^{-1}, W/kg, kW/kg, W Kg^{-1}...  normal       None   \n",
       "2   [F g^{-1}, F/g, Fg^{-1}, F*g^{-1}, F.g^{-1}, F...  normal       None   \n",
       "3   [A g^{-1}, A/g, mA g^{-1}, mA/g, Ag^{-1}, A*g^...  normal       None   \n",
       "4   [mA cm^{-2}, mA/cm^{2}, μA cm^{-2}, μA/cm^{2},...  normal       None   \n",
       "..                                                ...     ...        ...   \n",
       "77  [cd/m^{2}, cd m^{-2}, cd * m^{-2}, cd*m^{-2}, ...  normal       None   \n",
       "78                     [cd/A, cd A^{-1}, cd * A^{-1}]  normal       None   \n",
       "79                                                 []  normal       None   \n",
       "80                                                [%]  normal       None   \n",
       "81  [μW m^{-1} K^{-2}, μW/mK^{2}, uW m^{-1} K^{-2}...  normal       None   \n",
       "\n",
       "    lower_limit  upper_limit  id                       date_added  \n",
       "0           0.0       1000.0   1 2023-09-13 16:59:45.748486-04:00  \n",
       "1           0.0     120000.0   2 2023-09-13 16:59:45.757140-04:00  \n",
       "2           0.0       4500.0   3 2023-09-13 16:59:45.759624-04:00  \n",
       "3           0.0        100.0   4 2023-09-13 16:59:45.762217-04:00  \n",
       "4           0.0       4000.0   5 2023-09-13 16:59:45.764765-04:00  \n",
       "..          ...          ...  ..                              ...  \n",
       "77          0.0     800000.0  78 2023-09-13 16:59:45.979741-04:00  \n",
       "78          0.0        100.0  79 2023-09-13 16:59:45.982623-04:00  \n",
       "79          0.0          4.0  80 2023-09-13 16:59:45.985554-04:00  \n",
       "80          0.0        100.0  81 2023-09-13 16:59:45.988403-04:00  \n",
       "81          0.0        100.0  82 2023-09-13 16:59:45.991228-04:00  \n",
       "\n",
       "[82 rows x 9 columns]"
      ]
     },
     "execution_count": 49,
     "metadata": {},
     "output_type": "execute_result"
    }
   ],
   "source": [
    "df = execute(\"select * from property_metadata\")\n",
    "df"
   ]
  },
  {
   "cell_type": "code",
   "execution_count": 57,
   "metadata": {},
   "outputs": [],
   "source": [
    "df = extract_properties('bandgap')"
   ]
  }
 ],
 "metadata": {
  "kernelspec": {
   "display_name": "Python 3",
   "language": "python",
   "name": "python3"
  },
  "language_info": {
   "codemirror_mode": {
    "name": "ipython",
    "version": 3
   },
   "file_extension": ".py",
   "mimetype": "text/x-python",
   "name": "python",
   "nbconvert_exporter": "python",
   "pygments_lexer": "ipython3",
   "version": "3.10.12"
  },
  "orig_nbformat": 4
 },
 "nbformat": 4,
 "nbformat_minor": 2
}

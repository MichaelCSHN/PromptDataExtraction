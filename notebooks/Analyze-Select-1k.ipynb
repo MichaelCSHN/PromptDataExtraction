{
 "cells": [
  {
   "cell_type": "code",
   "execution_count": 1,
   "metadata": {},
   "outputs": [],
   "source": [
    "import os\n",
    "os.chdir(\"..\")\n",
    "assert 'PromptDataExtract' in os.getcwd()"
   ]
  },
  {
   "cell_type": "code",
   "execution_count": 2,
   "metadata": {},
   "outputs": [
    {
     "name": "stdout",
     "output_type": "stream",
     "text": [
      "Load OK: settings.yaml\n"
     ]
    }
   ],
   "source": [
    "# Load settings\n",
    "from backend import sett, postgres\n",
    "from backend.utils.frame import Frame\n",
    "sett.load_settings()\n",
    "postgres.load_settings()"
   ]
  },
  {
   "cell_type": "code",
   "execution_count": 3,
   "metadata": {},
   "outputs": [
    {
     "name": "stdout",
     "output_type": "stream",
     "text": [
      "\u001b[1;36mNOTE  --\u001b[0m postgres_ Connected to PostGres DB: polylet (took 0.046 s)\n"
     ]
    }
   ],
   "source": [
    "# Connect to database\n",
    "db = postgres.connect('polylet')"
   ]
  },
  {
   "cell_type": "code",
   "execution_count": 4,
   "metadata": {},
   "outputs": [],
   "source": [
    "import json\n",
    "import datetime\n",
    "import pandas as pd\n",
    "import matplotlib.pyplot as plt\n",
    "try:\n",
    "    plt.style.use(\"~/matplotlib.mplstyle\")\n",
    "except: pass"
   ]
  },
  {
   "cell_type": "code",
   "execution_count": 5,
   "metadata": {},
   "outputs": [],
   "source": [
    "def execute(sql, **kwargs) -> pd.DataFrame:\n",
    "    \"\"\" Query the database using raw sql.\n",
    "        Return a pandas dataframe containing the results.\n",
    "    \"\"\"\n",
    "    results = postgres.raw_sql(sql, kwargs)\n",
    "    if not results:\n",
    "        return None\n",
    "    return pd.DataFrame.from_records(results, columns=results[0]._fields)"
   ]
  },
  {
   "cell_type": "code",
   "execution_count": 6,
   "metadata": {},
   "outputs": [],
   "source": [
    "def timings(seconds : int):\n",
    "    # Total time on the pipeline.\n",
    "    print(str(datetime.timedelta(seconds = seconds)))\n",
    "    print(f\"{seconds / 3600 :.2f} hours\")"
   ]
  },
  {
   "cell_type": "code",
   "execution_count": 7,
   "metadata": {},
   "outputs": [
    {
     "data": {
      "text/html": [
       "<div>\n",
       "<style scoped>\n",
       "    .dataframe tbody tr th:only-of-type {\n",
       "        vertical-align: middle;\n",
       "    }\n",
       "\n",
       "    .dataframe tbody tr th {\n",
       "        vertical-align: top;\n",
       "    }\n",
       "\n",
       "    .dataframe thead th {\n",
       "        text-align: right;\n",
       "    }\n",
       "</style>\n",
       "<table border=\"1\" class=\"dataframe\">\n",
       "  <thead>\n",
       "    <tr style=\"text-align: right;\">\n",
       "      <th></th>\n",
       "      <th>name</th>\n",
       "      <th>dataset</th>\n",
       "      <th>model</th>\n",
       "      <th>api</th>\n",
       "      <th>para_subset</th>\n",
       "      <th>extraction_info</th>\n",
       "      <th>id</th>\n",
       "      <th>date_added</th>\n",
       "    </tr>\n",
       "  </thead>\n",
       "  <tbody>\n",
       "    <tr>\n",
       "      <th>0</th>\n",
       "      <td>cs-ner-bert-sel1k</td>\n",
       "      <td>data3</td>\n",
       "      <td>materials-bert</td>\n",
       "      <td>None</td>\n",
       "      <td>cs-ner-sel1k</td>\n",
       "      <td>{'user': 'sonakshi'}</td>\n",
       "      <td>13</td>\n",
       "      <td>2023-10-04 13:26:38.553749-04:00</td>\n",
       "    </tr>\n",
       "    <tr>\n",
       "      <th>1</th>\n",
       "      <td>eab-ner-bert-sel1k</td>\n",
       "      <td>data3</td>\n",
       "      <td>materials-bert</td>\n",
       "      <td>None</td>\n",
       "      <td>eab-ner-sel1k</td>\n",
       "      <td>{'user': 'sonakshi'}</td>\n",
       "      <td>14</td>\n",
       "      <td>2023-10-04 13:26:55.675414-04:00</td>\n",
       "    </tr>\n",
       "    <tr>\n",
       "      <th>2</th>\n",
       "      <td>bandgap-ner-bert-sel1k</td>\n",
       "      <td>data3</td>\n",
       "      <td>materials-bert</td>\n",
       "      <td>None</td>\n",
       "      <td>bandgap-ner-sel1k</td>\n",
       "      <td>{'user': 'sonakshi'}</td>\n",
       "      <td>9</td>\n",
       "      <td>2023-09-28 15:47:13.043706-04:00</td>\n",
       "    </tr>\n",
       "    <tr>\n",
       "      <th>3</th>\n",
       "      <td>tm-ner-bert-sel1k</td>\n",
       "      <td>data3</td>\n",
       "      <td>materials-bert</td>\n",
       "      <td>None</td>\n",
       "      <td>tm-ner-sel1k</td>\n",
       "      <td>{'user': 'sonakshi'}</td>\n",
       "      <td>11</td>\n",
       "      <td>2023-10-03 18:55:23.496411-04:00</td>\n",
       "    </tr>\n",
       "    <tr>\n",
       "      <th>4</th>\n",
       "      <td>ct-ner-bert-sel1k</td>\n",
       "      <td>data3</td>\n",
       "      <td>materials-bert</td>\n",
       "      <td>None</td>\n",
       "      <td>ct-ner-sel1k</td>\n",
       "      <td>{'user': 'sonakshi'}</td>\n",
       "      <td>24</td>\n",
       "      <td>2023-10-04 17:29:57.361218-04:00</td>\n",
       "    </tr>\n",
       "    <tr>\n",
       "      <th>5</th>\n",
       "      <td>dc-ner-bert-sel1k</td>\n",
       "      <td>data3</td>\n",
       "      <td>materials-bert</td>\n",
       "      <td>None</td>\n",
       "      <td>dc-ner-sel1k</td>\n",
       "      <td>{'user': 'sonakshi'}</td>\n",
       "      <td>25</td>\n",
       "      <td>2023-10-04 17:30:20.906013-04:00</td>\n",
       "    </tr>\n",
       "    <tr>\n",
       "      <th>6</th>\n",
       "      <td>h2_perm-ner-bert-sel1k</td>\n",
       "      <td>data3</td>\n",
       "      <td>materials-bert</td>\n",
       "      <td>None</td>\n",
       "      <td>h2_perm-ner-sel1k</td>\n",
       "      <td>{'user': 'sonakshi'}</td>\n",
       "      <td>26</td>\n",
       "      <td>2023-10-04 17:30:47.902848-04:00</td>\n",
       "    </tr>\n",
       "    <tr>\n",
       "      <th>7</th>\n",
       "      <td>co2_perm-ner-bert-sel1k</td>\n",
       "      <td>data3</td>\n",
       "      <td>materials-bert</td>\n",
       "      <td>None</td>\n",
       "      <td>co2_perm-ner-sel1k</td>\n",
       "      <td>{'user': 'sonakshi'}</td>\n",
       "      <td>23</td>\n",
       "      <td>2023-10-04 17:29:00.216132-04:00</td>\n",
       "    </tr>\n",
       "    <tr>\n",
       "      <th>8</th>\n",
       "      <td>tg-ner-bert-sel1k</td>\n",
       "      <td>data3</td>\n",
       "      <td>materials-bert</td>\n",
       "      <td>None</td>\n",
       "      <td>tg-ner-sel1k</td>\n",
       "      <td>{'user': 'sonakshi'}</td>\n",
       "      <td>8</td>\n",
       "      <td>2023-09-28 15:38:51.455998-04:00</td>\n",
       "    </tr>\n",
       "    <tr>\n",
       "      <th>9</th>\n",
       "      <td>fs-ner-bert-sel1k</td>\n",
       "      <td>data3</td>\n",
       "      <td>materials-bert</td>\n",
       "      <td>None</td>\n",
       "      <td>fs-ner-sel1k</td>\n",
       "      <td>{'user': 'sonakshi'}</td>\n",
       "      <td>15</td>\n",
       "      <td>2023-10-04 13:27:11.091813-04:00</td>\n",
       "    </tr>\n",
       "  </tbody>\n",
       "</table>\n",
       "</div>"
      ],
      "text/plain": [
       "                      name dataset           model   api         para_subset  \\\n",
       "0        cs-ner-bert-sel1k   data3  materials-bert  None        cs-ner-sel1k   \n",
       "1       eab-ner-bert-sel1k   data3  materials-bert  None       eab-ner-sel1k   \n",
       "2   bandgap-ner-bert-sel1k   data3  materials-bert  None   bandgap-ner-sel1k   \n",
       "3        tm-ner-bert-sel1k   data3  materials-bert  None        tm-ner-sel1k   \n",
       "4        ct-ner-bert-sel1k   data3  materials-bert  None        ct-ner-sel1k   \n",
       "5        dc-ner-bert-sel1k   data3  materials-bert  None        dc-ner-sel1k   \n",
       "6   h2_perm-ner-bert-sel1k   data3  materials-bert  None   h2_perm-ner-sel1k   \n",
       "7  co2_perm-ner-bert-sel1k   data3  materials-bert  None  co2_perm-ner-sel1k   \n",
       "8        tg-ner-bert-sel1k   data3  materials-bert  None        tg-ner-sel1k   \n",
       "9        fs-ner-bert-sel1k   data3  materials-bert  None        fs-ner-sel1k   \n",
       "\n",
       "        extraction_info  id                       date_added  \n",
       "0  {'user': 'sonakshi'}  13 2023-10-04 13:26:38.553749-04:00  \n",
       "1  {'user': 'sonakshi'}  14 2023-10-04 13:26:55.675414-04:00  \n",
       "2  {'user': 'sonakshi'}   9 2023-09-28 15:47:13.043706-04:00  \n",
       "3  {'user': 'sonakshi'}  11 2023-10-03 18:55:23.496411-04:00  \n",
       "4  {'user': 'sonakshi'}  24 2023-10-04 17:29:57.361218-04:00  \n",
       "5  {'user': 'sonakshi'}  25 2023-10-04 17:30:20.906013-04:00  \n",
       "6  {'user': 'sonakshi'}  26 2023-10-04 17:30:47.902848-04:00  \n",
       "7  {'user': 'sonakshi'}  23 2023-10-04 17:29:00.216132-04:00  \n",
       "8  {'user': 'sonakshi'}   8 2023-09-28 15:38:51.455998-04:00  \n",
       "9  {'user': 'sonakshi'}  15 2023-10-04 13:27:11.091813-04:00  "
      ]
     },
     "execution_count": 7,
     "metadata": {},
     "output_type": "execute_result"
    }
   ],
   "source": [
    "# List of extraction methods.\n",
    "execute(\"\"\"select * from extraction_methods order by dataset Limit 10\"\"\")"
   ]
  },
  {
   "cell_type": "code",
   "execution_count": 8,
   "metadata": {},
   "outputs": [
    {
     "data": {
      "text/html": [
       "<div>\n",
       "<style scoped>\n",
       "    .dataframe tbody tr th:only-of-type {\n",
       "        vertical-align: middle;\n",
       "    }\n",
       "\n",
       "    .dataframe tbody tr th {\n",
       "        vertical-align: top;\n",
       "    }\n",
       "\n",
       "    .dataframe thead th {\n",
       "        text-align: right;\n",
       "    }\n",
       "</style>\n",
       "<table border=\"1\" class=\"dataframe\">\n",
       "  <thead>\n",
       "    <tr style=\"text-align: right;\">\n",
       "      <th></th>\n",
       "      <th>count</th>\n",
       "    </tr>\n",
       "  </thead>\n",
       "  <tbody>\n",
       "    <tr>\n",
       "      <th>0</th>\n",
       "      <td>1000</td>\n",
       "    </tr>\n",
       "  </tbody>\n",
       "</table>\n",
       "</div>"
      ],
      "text/plain": [
       "   count\n",
       "0   1000"
      ]
     },
     "execution_count": 8,
     "metadata": {},
     "output_type": "execute_result"
    }
   ],
   "source": [
    "# Number of selected papers.\n",
    "execute(\"\"\"\n",
    "    SELECT count(*) FROM filtered_papers fp \n",
    "    WHERE fp.filter_name = 'select-1k';\n",
    "\"\"\")"
   ]
  },
  {
   "cell_type": "code",
   "execution_count": 9,
   "metadata": {},
   "outputs": [
    {
     "data": {
      "text/html": [
       "<div>\n",
       "<style scoped>\n",
       "    .dataframe tbody tr th:only-of-type {\n",
       "        vertical-align: middle;\n",
       "    }\n",
       "\n",
       "    .dataframe tbody tr th {\n",
       "        vertical-align: top;\n",
       "    }\n",
       "\n",
       "    .dataframe thead th {\n",
       "        text-align: right;\n",
       "    }\n",
       "</style>\n",
       "<table border=\"1\" class=\"dataframe\">\n",
       "  <thead>\n",
       "    <tr style=\"text-align: right;\">\n",
       "      <th></th>\n",
       "      <th>count</th>\n",
       "    </tr>\n",
       "  </thead>\n",
       "  <tbody>\n",
       "    <tr>\n",
       "      <th>0</th>\n",
       "      <td>630</td>\n",
       "    </tr>\n",
       "  </tbody>\n",
       "</table>\n",
       "</div>"
      ],
      "text/plain": [
       "   count\n",
       "0    630"
      ]
     },
     "execution_count": 9,
     "metadata": {},
     "output_type": "execute_result"
    }
   ],
   "source": [
    "# Number of the selected papers from the curated dataset.\n",
    "execute(\"\"\"\n",
    "SELECT count(*) FROM filtered_papers fp \n",
    "WHERE fp.filter_name = 'select-1k'\n",
    "AND EXISTS (\n",
    "\tSELECT 1 FROM curated_data cd \n",
    "\tWHERE cd.doi = fp.doi\n",
    ");\"\"\")"
   ]
  },
  {
   "cell_type": "code",
   "execution_count": 10,
   "metadata": {},
   "outputs": [
    {
     "data": {
      "text/html": [
       "<div>\n",
       "<style scoped>\n",
       "    .dataframe tbody tr th:only-of-type {\n",
       "        vertical-align: middle;\n",
       "    }\n",
       "\n",
       "    .dataframe tbody tr th {\n",
       "        vertical-align: top;\n",
       "    }\n",
       "\n",
       "    .dataframe thead th {\n",
       "        text-align: right;\n",
       "    }\n",
       "</style>\n",
       "<table border=\"1\" class=\"dataframe\">\n",
       "  <thead>\n",
       "    <tr style=\"text-align: right;\">\n",
       "      <th></th>\n",
       "      <th>count</th>\n",
       "    </tr>\n",
       "  </thead>\n",
       "  <tbody>\n",
       "    <tr>\n",
       "      <th>0</th>\n",
       "      <td>37434</td>\n",
       "    </tr>\n",
       "  </tbody>\n",
       "</table>\n",
       "</div>"
      ],
      "text/plain": [
       "   count\n",
       "0  37434"
      ]
     },
     "execution_count": 10,
     "metadata": {},
     "output_type": "execute_result"
    }
   ],
   "source": [
    "# Number of paragraphs from the select 1k.\n",
    "execute(\"\"\"\n",
    "    SELECT count(*) FROM paper_texts pt \n",
    "    JOIN filtered_papers fp ON fp.doi = pt.doi \n",
    "    WHERE fp.filter_name = 'select-1k';\n",
    "\"\"\")"
   ]
  },
  {
   "cell_type": "markdown",
   "metadata": {},
   "source": [
    "## Data6 - General NER - NER Pipeline."
   ]
  },
  {
   "cell_type": "code",
   "execution_count": 10,
   "metadata": {},
   "outputs": [
    {
     "data": {
      "text/plain": [
       "Row(name='g-ner-bert-sel1k', dataset='data6', model='materials-bert', api=None, para_subset='select-1k_ner-filter', extraction_info={'user': 'akhlak'}, id=5, date_added=datetime.datetime(2023, 9, 26, 8, 56, tzinfo=datetime.timezone(datetime.timedelta(days=-1, seconds=72000))))"
      ]
     },
     "execution_count": 10,
     "metadata": {},
     "output_type": "execute_result"
    }
   ],
   "source": [
    "method = postgres.raw_sql(\"\"\"\n",
    "    Select * From extraction_methods Where dataset = 'data6';\n",
    "\"\"\")[0]\n",
    "method"
   ]
  },
  {
   "cell_type": "code",
   "execution_count": 13,
   "metadata": {},
   "outputs": [
    {
     "data": {
      "text/html": [
       "<div>\n",
       "<style scoped>\n",
       "    .dataframe tbody tr th:only-of-type {\n",
       "        vertical-align: middle;\n",
       "    }\n",
       "\n",
       "    .dataframe tbody tr th {\n",
       "        vertical-align: top;\n",
       "    }\n",
       "\n",
       "    .dataframe thead th {\n",
       "        text-align: right;\n",
       "    }\n",
       "</style>\n",
       "<table border=\"1\" class=\"dataframe\">\n",
       "  <thead>\n",
       "    <tr style=\"text-align: right;\">\n",
       "      <th></th>\n",
       "      <th>count</th>\n",
       "    </tr>\n",
       "  </thead>\n",
       "  <tbody>\n",
       "    <tr>\n",
       "      <th>0</th>\n",
       "      <td>6215</td>\n",
       "    </tr>\n",
       "  </tbody>\n",
       "</table>\n",
       "</div>"
      ],
      "text/plain": [
       "   count\n",
       "0   6215"
      ]
     },
     "execution_count": 13,
     "metadata": {},
     "output_type": "execute_result"
    }
   ],
   "source": [
    "# Number of paragraphs that passed the General NER filter.\n",
    "execute(\"\"\"\n",
    "        SELECT count(*) FROM filtered_paragraphs fp \n",
    "        WHERE fp.filter_name = :method_para;\n",
    "        \n",
    "        \"\"\", method_para = method.para_subset)"
   ]
  },
  {
   "cell_type": "code",
   "execution_count": 14,
   "metadata": {},
   "outputs": [
    {
     "data": {
      "text/html": [
       "<div>\n",
       "<style scoped>\n",
       "    .dataframe tbody tr th:only-of-type {\n",
       "        vertical-align: middle;\n",
       "    }\n",
       "\n",
       "    .dataframe tbody tr th {\n",
       "        vertical-align: top;\n",
       "    }\n",
       "\n",
       "    .dataframe thead th {\n",
       "        text-align: right;\n",
       "    }\n",
       "</style>\n",
       "<table border=\"1\" class=\"dataframe\">\n",
       "  <thead>\n",
       "    <tr style=\"text-align: right;\">\n",
       "      <th></th>\n",
       "      <th>count</th>\n",
       "    </tr>\n",
       "  </thead>\n",
       "  <tbody>\n",
       "    <tr>\n",
       "      <th>0</th>\n",
       "      <td>9106</td>\n",
       "    </tr>\n",
       "  </tbody>\n",
       "</table>\n",
       "</div>"
      ],
      "text/plain": [
       "   count\n",
       "0   9106"
      ]
     },
     "execution_count": 14,
     "metadata": {},
     "output_type": "execute_result"
    }
   ],
   "source": [
    "# Number of materials extracted.\n",
    "execute(\"\"\"\n",
    "        SELECT count(*) FROM extracted_materials em\n",
    "        WHERE em.method_id = :mid;\n",
    "        \n",
    "        \"\"\", mid=method.id)"
   ]
  },
  {
   "cell_type": "code",
   "execution_count": 15,
   "metadata": {},
   "outputs": [
    {
     "data": {
      "text/html": [
       "<div>\n",
       "<style scoped>\n",
       "    .dataframe tbody tr th:only-of-type {\n",
       "        vertical-align: middle;\n",
       "    }\n",
       "\n",
       "    .dataframe tbody tr th {\n",
       "        vertical-align: top;\n",
       "    }\n",
       "\n",
       "    .dataframe thead th {\n",
       "        text-align: right;\n",
       "    }\n",
       "</style>\n",
       "<table border=\"1\" class=\"dataframe\">\n",
       "  <thead>\n",
       "    <tr style=\"text-align: right;\">\n",
       "      <th></th>\n",
       "      <th>count</th>\n",
       "    </tr>\n",
       "  </thead>\n",
       "  <tbody>\n",
       "    <tr>\n",
       "      <th>0</th>\n",
       "      <td>16368</td>\n",
       "    </tr>\n",
       "  </tbody>\n",
       "</table>\n",
       "</div>"
      ],
      "text/plain": [
       "   count\n",
       "0  16368"
      ]
     },
     "execution_count": 15,
     "metadata": {},
     "output_type": "execute_result"
    }
   ],
   "source": [
    "# Number of properties extracted.\n",
    "execute(\"\"\"\n",
    "        SELECT count(*) FROM extracted_properties ep\n",
    "        WHERE ep.method_id = :mid;\n",
    "        \n",
    "        \"\"\", mid=method.id)"
   ]
  },
  {
   "cell_type": "code",
   "execution_count": 16,
   "metadata": {},
   "outputs": [
    {
     "name": "stdout",
     "output_type": "stream",
     "text": [
      "{'method': 'g-ner-bert-sel1k', 'material': {'true_positives': 701, 'false_positives': 77, 'false_negatives': 146, 'precision': 0.9010282776349614, 'recall': 0.8276269185360094, 'F1': 0.8627692307692308}, 'value': {'true_positives': 544, 'false_positives': 234, 'false_negatives': 46, 'precision': 0.699228791773779, 'recall': 0.9220338983050848, 'F1': 0.7953216374269008}, 'property': {'true_positives': 432, 'false_positives': 346, 'false_negatives': 161, 'precision': 0.5552699228791774, 'recall': 0.7284991568296796, 'F1': 0.6301969365426696}}\n"
     ]
    }
   ],
   "source": [
    "# F1-score for Tg.\n",
    "with open(\"runs/select-1k/bert/tg_metrics.json\") as fp:\n",
    "    print(json.load(fp))"
   ]
  },
  {
   "cell_type": "code",
   "execution_count": 17,
   "metadata": {},
   "outputs": [
    {
     "name": "stdout",
     "output_type": "stream",
     "text": [
      "{'method': 'g-ner-bert-sel1k', 'material': {'true_positives': 332, 'false_positives': 21, 'false_negatives': 118, 'precision': 0.9405099150141643, 'recall': 0.7377777777777778, 'F1': 0.8268991282689913}, 'value': {'true_positives': 317, 'false_positives': 36, 'false_negatives': 23, 'precision': 0.8980169971671388, 'recall': 0.9323529411764706, 'F1': 0.9148629148629148}, 'property': {'true_positives': 233, 'false_positives': 120, 'false_negatives': 121, 'precision': 0.660056657223796, 'recall': 0.6581920903954802, 'F1': 0.659123055162659}}\n"
     ]
    }
   ],
   "source": [
    "# F1-score for Bandgap.\n",
    "with open(\"runs/select-1k/bert/eg_metrics.json\") as fp:\n",
    "    print(json.load(fp))"
   ]
  },
  {
   "cell_type": "code",
   "execution_count": 18,
   "metadata": {},
   "outputs": [
    {
     "name": "stdout",
     "output_type": "stream",
     "text": [
      "[23-09-26 EDT 08:57:06 AM] NOTE  -- All done. (took 2516.329 s)\n"
     ]
    }
   ],
   "source": [
    "# Time for filtering.\n",
    "!grep \"All done.\" runs/select-1k/filter/*.log"
   ]
  },
  {
   "cell_type": "code",
   "execution_count": 19,
   "metadata": {},
   "outputs": [
    {
     "name": "stdout",
     "output_type": "stream",
     "text": [
      "runs/select-1k/bert/ner-filtered.01.log:[23-09-27 EDT 02:59:47 PM] NOTE  -- All done. (took 42.097 s)\n",
      "runs/select-1k/bert/ner-filtered.log:[23-09-27 EDT 03:43:35 PM] NOTE  -- All done. (took 2254.671 s)\n"
     ]
    }
   ],
   "source": [
    "# Time for extraction.\n",
    "!grep \"All done.\" runs/select-1k/bert/ner-filtered*.log"
   ]
  },
  {
   "cell_type": "code",
   "execution_count": 15,
   "metadata": {},
   "outputs": [
    {
     "name": "stdout",
     "output_type": "stream",
     "text": [
      "[23-09-30 EDT 08:21:22 AM] NOTE  -- All done. (took 21.939 s)\n"
     ]
    }
   ],
   "source": [
    "# Time for scoring.\n",
    "!grep \"All done.\" runs/select-1k/bert/metrics.log"
   ]
  },
  {
   "cell_type": "code",
   "execution_count": 16,
   "metadata": {},
   "outputs": [
    {
     "name": "stdout",
     "output_type": "stream",
     "text": [
      "1:20:33\n",
      "1.34 hours\n"
     ]
    }
   ],
   "source": [
    "timings(2516 + 42 + 2254 + 21)"
   ]
  },
  {
   "cell_type": "code",
   "execution_count": 11,
   "metadata": {},
   "outputs": [
    {
     "name": "stdout",
     "output_type": "stream",
     "text": [
      "glass transition temperature 2193\n",
      "bandgap 1175\n",
      "melting temperature 263\n",
      "compressive strength 11\n",
      "elongation at break 67\n",
      "flexural strength 19\n",
      "hardness 9\n",
      "impact strength 4\n",
      "thermal conductivity 17\n",
      "thermal decomposition temperature 116\n",
      "tensile strength 137\n",
      "youngs modulus 16\n",
      "ionic conductivity 49\n",
      "CO_{2} permeability 11\n",
      "crystallization temperature 16\n",
      "dielectric constant 56\n",
      "H_{2} permeability 0\n",
      "lower critical solution temperature 8\n",
      "limiting oxygen index 11\n",
      "O_{2} permeability 3\n",
      "refractive index 25\n",
      "upper critical solution temperature 0\n",
      "water contact angle 55\n",
      "water uptake 8\n",
      "swelling degree 0\n",
      "density 95\n",
      "ion exchange capacity 28\n",
      "methanol permeability 2\n"
     ]
    },
    {
     "data": {
      "text/plain": [
       "4394"
      ]
     },
     "execution_count": 11,
     "metadata": {},
     "output_type": "execute_result"
    }
   ],
   "source": [
    "count = 0\n",
    "\n",
    "for _id, _name in id_name.items():\n",
    "    result = execute_count(\"\"\"\n",
    "    SELECT count(ep.*)\n",
    "    FROM extracted_properties ep\n",
    "    WHERE ep.method_id = :id\n",
    "    AND exists (\n",
    "        SELECT 1\n",
    "        FROM property_metadata pm\n",
    "        WHERE pm.name = :name\n",
    "        AND ep.entity_name = ANY(ARRAY[pm.other_names])\n",
    "        );\n",
    "    \"\"\", id = method.id, name = _name )\n",
    "    print(_name, result)\n",
    "    count +=result\n",
    "\n",
    "count"
   ]
  },
  {
   "cell_type": "markdown",
   "metadata": {},
   "source": [
    "## Data5 - General NER - LlaMa 2 Pipeline."
   ]
  },
  {
   "cell_type": "code",
   "execution_count": 12,
   "metadata": {},
   "outputs": [
    {
     "data": {
      "text/plain": [
       "Row(name='g-ner-llama2-rand-sel1k', dataset='data5', model='llama2-70B-chat', api='polyai', para_subset='select-1k_ner-filter', extraction_info={'user': 'akhlak', 'shot_selector': 'random', 'n_shots': 1, 'api_retry_delay': 60, 'delay_multiplier': 0.5, 'max_api_retries': 1, 'api_request_delay': 0.01, 'temperature': 0.001, 'prompt_id': 0, 'prompt': \"Extract all numbers in JSONL format with 'material', 'property', 'value', 'condition' columns.\", 'property': None, 'shot_nrecords': 2, 'shot_keywords': False}, id=10, date_added=datetime.datetime(2023, 9, 26, 8, 54, tzinfo=datetime.timezone(datetime.timedelta(days=-1, seconds=72000))))"
      ]
     },
     "execution_count": 12,
     "metadata": {},
     "output_type": "execute_result"
    }
   ],
   "source": [
    "method = postgres.raw_sql(\"\"\"\n",
    "    Select * From extraction_methods Where name = 'g-ner-llama2-rand-sel1k';\n",
    "\"\"\")[0]\n",
    "method"
   ]
  },
  {
   "cell_type": "code",
   "execution_count": 12,
   "metadata": {},
   "outputs": [
    {
     "data": {
      "text/html": [
       "<div>\n",
       "<style scoped>\n",
       "    .dataframe tbody tr th:only-of-type {\n",
       "        vertical-align: middle;\n",
       "    }\n",
       "\n",
       "    .dataframe tbody tr th {\n",
       "        vertical-align: top;\n",
       "    }\n",
       "\n",
       "    .dataframe thead th {\n",
       "        text-align: right;\n",
       "    }\n",
       "</style>\n",
       "<table border=\"1\" class=\"dataframe\">\n",
       "  <thead>\n",
       "    <tr style=\"text-align: right;\">\n",
       "      <th></th>\n",
       "      <th>count</th>\n",
       "    </tr>\n",
       "  </thead>\n",
       "  <tbody>\n",
       "    <tr>\n",
       "      <th>0</th>\n",
       "      <td>12641</td>\n",
       "    </tr>\n",
       "  </tbody>\n",
       "</table>\n",
       "</div>"
      ],
      "text/plain": [
       "   count\n",
       "0  12641"
      ]
     },
     "execution_count": 12,
     "metadata": {},
     "output_type": "execute_result"
    }
   ],
   "source": [
    "# Number of materials extracted.\n",
    "execute(\"\"\"\n",
    "        SELECT count(*) FROM extracted_materials em\n",
    "        WHERE em.method_id = :mid;\n",
    "        \n",
    "        \"\"\", mid=method.id)"
   ]
  },
  {
   "cell_type": "code",
   "execution_count": 13,
   "metadata": {},
   "outputs": [
    {
     "data": {
      "text/html": [
       "<div>\n",
       "<style scoped>\n",
       "    .dataframe tbody tr th:only-of-type {\n",
       "        vertical-align: middle;\n",
       "    }\n",
       "\n",
       "    .dataframe tbody tr th {\n",
       "        vertical-align: top;\n",
       "    }\n",
       "\n",
       "    .dataframe thead th {\n",
       "        text-align: right;\n",
       "    }\n",
       "</style>\n",
       "<table border=\"1\" class=\"dataframe\">\n",
       "  <thead>\n",
       "    <tr style=\"text-align: right;\">\n",
       "      <th></th>\n",
       "      <th>count</th>\n",
       "    </tr>\n",
       "  </thead>\n",
       "  <tbody>\n",
       "    <tr>\n",
       "      <th>0</th>\n",
       "      <td>20825</td>\n",
       "    </tr>\n",
       "  </tbody>\n",
       "</table>\n",
       "</div>"
      ],
      "text/plain": [
       "   count\n",
       "0  20825"
      ]
     },
     "execution_count": 13,
     "metadata": {},
     "output_type": "execute_result"
    }
   ],
   "source": [
    "# Number of properties extracted.\n",
    "execute(\"\"\"\n",
    "        SELECT count(*) FROM extracted_properties ep\n",
    "        WHERE ep.method_id = :mid;\n",
    "        \n",
    "        \"\"\", mid=method.id)"
   ]
  },
  {
   "cell_type": "code",
   "execution_count": 14,
   "metadata": {},
   "outputs": [
    {
     "name": "stdout",
     "output_type": "stream",
     "text": [
      "Total tokens: 7,084,245.0\n",
      "Total cost: $ 0.00\n",
      "Number of requests: 6,215\n"
     ]
    },
    {
     "data": {
      "text/html": [
       "<div>\n",
       "<style scoped>\n",
       "    .dataframe tbody tr th:only-of-type {\n",
       "        vertical-align: middle;\n",
       "    }\n",
       "\n",
       "    .dataframe tbody tr th {\n",
       "        vertical-align: top;\n",
       "    }\n",
       "\n",
       "    .dataframe thead th {\n",
       "        text-align: right;\n",
       "    }\n",
       "</style>\n",
       "<table border=\"1\" class=\"dataframe\">\n",
       "  <thead>\n",
       "    <tr style=\"text-align: right;\">\n",
       "      <th></th>\n",
       "      <th>para_id</th>\n",
       "      <th>request_tokens</th>\n",
       "      <th>response_tokens</th>\n",
       "      <th>total_tokens</th>\n",
       "      <th>api_cost</th>\n",
       "    </tr>\n",
       "  </thead>\n",
       "  <tbody>\n",
       "    <tr>\n",
       "      <th>0</th>\n",
       "      <td>7861428</td>\n",
       "      <td>1198.0</td>\n",
       "      <td>98.0</td>\n",
       "      <td>1296.0</td>\n",
       "      <td>0</td>\n",
       "    </tr>\n",
       "    <tr>\n",
       "      <th>1</th>\n",
       "      <td>17590351</td>\n",
       "      <td>1156.0</td>\n",
       "      <td>164.0</td>\n",
       "      <td>1320.0</td>\n",
       "      <td>0</td>\n",
       "    </tr>\n",
       "    <tr>\n",
       "      <th>2</th>\n",
       "      <td>7865501</td>\n",
       "      <td>1171.0</td>\n",
       "      <td>178.0</td>\n",
       "      <td>1349.0</td>\n",
       "      <td>0</td>\n",
       "    </tr>\n",
       "    <tr>\n",
       "      <th>3</th>\n",
       "      <td>26610330</td>\n",
       "      <td>1024.0</td>\n",
       "      <td>113.0</td>\n",
       "      <td>1137.0</td>\n",
       "      <td>0</td>\n",
       "    </tr>\n",
       "    <tr>\n",
       "      <th>4</th>\n",
       "      <td>11278120</td>\n",
       "      <td>1212.0</td>\n",
       "      <td>234.0</td>\n",
       "      <td>1446.0</td>\n",
       "      <td>0</td>\n",
       "    </tr>\n",
       "    <tr>\n",
       "      <th>...</th>\n",
       "      <td>...</td>\n",
       "      <td>...</td>\n",
       "      <td>...</td>\n",
       "      <td>...</td>\n",
       "      <td>...</td>\n",
       "    </tr>\n",
       "    <tr>\n",
       "      <th>6210</th>\n",
       "      <td>26754210</td>\n",
       "      <td>711.0</td>\n",
       "      <td>46.0</td>\n",
       "      <td>757.0</td>\n",
       "      <td>0</td>\n",
       "    </tr>\n",
       "    <tr>\n",
       "      <th>6211</th>\n",
       "      <td>26754211</td>\n",
       "      <td>789.0</td>\n",
       "      <td>178.0</td>\n",
       "      <td>967.0</td>\n",
       "      <td>0</td>\n",
       "    </tr>\n",
       "    <tr>\n",
       "      <th>6212</th>\n",
       "      <td>26784396</td>\n",
       "      <td>1131.0</td>\n",
       "      <td>198.0</td>\n",
       "      <td>1329.0</td>\n",
       "      <td>0</td>\n",
       "    </tr>\n",
       "    <tr>\n",
       "      <th>6213</th>\n",
       "      <td>26784403</td>\n",
       "      <td>840.0</td>\n",
       "      <td>149.0</td>\n",
       "      <td>989.0</td>\n",
       "      <td>0</td>\n",
       "    </tr>\n",
       "    <tr>\n",
       "      <th>6214</th>\n",
       "      <td>26784421</td>\n",
       "      <td>914.0</td>\n",
       "      <td>89.0</td>\n",
       "      <td>1003.0</td>\n",
       "      <td>0</td>\n",
       "    </tr>\n",
       "  </tbody>\n",
       "</table>\n",
       "<p>6215 rows × 5 columns</p>\n",
       "</div>"
      ],
      "text/plain": [
       "       para_id  request_tokens  response_tokens  total_tokens  api_cost\n",
       "0      7861428          1198.0             98.0        1296.0         0\n",
       "1     17590351          1156.0            164.0        1320.0         0\n",
       "2      7865501          1171.0            178.0        1349.0         0\n",
       "3     26610330          1024.0            113.0        1137.0         0\n",
       "4     11278120          1212.0            234.0        1446.0         0\n",
       "...        ...             ...              ...           ...       ...\n",
       "6210  26754210           711.0             46.0         757.0         0\n",
       "6211  26754211           789.0            178.0         967.0         0\n",
       "6212  26784396          1131.0            198.0        1329.0         0\n",
       "6213  26784403           840.0            149.0         989.0         0\n",
       "6214  26784421           914.0             89.0        1003.0         0\n",
       "\n",
       "[6215 rows x 5 columns]"
      ]
     },
     "execution_count": 14,
     "metadata": {},
     "output_type": "execute_result"
    }
   ],
   "source": [
    "# Number of tokens.\n",
    "df = execute(\"\"\"\n",
    "             SELECT para_id, request_tokens, response_tokens, request_tokens + response_tokens AS total_tokens\n",
    "             FROM  api_requests ar WHERE ar.method_id = :mid;\n",
    "             \n",
    "             \"\"\", mid=method.id)\n",
    "\n",
    "df['api_cost'] = 0\n",
    "\n",
    "print(f\"Total tokens: {df['total_tokens'].sum():,}\")\n",
    "print(f\"Total cost: $ {df['api_cost'].sum():.2f}\")\n",
    "print(f\"Number of requests: {df.shape[0]:,}\")\n",
    "df"
   ]
  },
  {
   "cell_type": "code",
   "execution_count": 16,
   "metadata": {},
   "outputs": [
    {
     "data": {
      "text/html": [
       "<div>\n",
       "<style scoped>\n",
       "    .dataframe tbody tr th:only-of-type {\n",
       "        vertical-align: middle;\n",
       "    }\n",
       "\n",
       "    .dataframe tbody tr th {\n",
       "        vertical-align: top;\n",
       "    }\n",
       "\n",
       "    .dataframe thead th {\n",
       "        text-align: right;\n",
       "    }\n",
       "</style>\n",
       "<table border=\"1\" class=\"dataframe\">\n",
       "  <thead>\n",
       "    <tr style=\"text-align: right;\">\n",
       "      <th></th>\n",
       "      <th>count</th>\n",
       "    </tr>\n",
       "  </thead>\n",
       "  <tbody>\n",
       "    <tr>\n",
       "      <th>0</th>\n",
       "      <td>4</td>\n",
       "    </tr>\n",
       "  </tbody>\n",
       "</table>\n",
       "</div>"
      ],
      "text/plain": [
       "   count\n",
       "0      4"
      ]
     },
     "execution_count": 16,
     "metadata": {},
     "output_type": "execute_result"
    }
   ],
   "source": [
    "# Number of failed requests\n",
    "execute(\"\"\"\n",
    "        SELECT count(*) FROM api_requests ar\n",
    "        WHERE ar.method_id = :mid AND status != 'ok';\n",
    "\n",
    "        \"\"\", mid=method.id)"
   ]
  },
  {
   "cell_type": "code",
   "execution_count": 17,
   "metadata": {},
   "outputs": [
    {
     "name": "stdout",
     "output_type": "stream",
     "text": [
      "runs/select-1k/llama2-rand/llm-pipeline.01.log:[23-10-01 EDT 02:27:00 PM] NOTE  -- All done. (took 4893.190 s)\n",
      "runs/select-1k/llama2-rand/llm-pipeline.02.log:[23-10-02 EDT 02:22:31 PM] NOTE  -- All done. (took 57520.373 s)\n",
      "runs/select-1k/llama2-rand/llm-pipeline.03.log:[23-10-02 EDT 04:07:04 PM] NOTE  -- All done. (took 5321.607 s)\n",
      "runs/select-1k/llama2-rand/llm-pipeline.04.log:[23-10-03 EDT 06:32:10 AM] NOTE  -- All done. (took 50573.198 s)\n",
      "runs/select-1k/llama2-rand/llm-pipeline.log:[23-10-05 EDT 02:39:31 PM] NOTE  -- All done. (took 188452.338 s)\n"
     ]
    }
   ],
   "source": [
    "# Time for extraction.\n",
    "!grep \"All done.\" runs/select-1k/llama2-rand/llm-pipeline*.log"
   ]
  },
  {
   "cell_type": "code",
   "execution_count": 19,
   "metadata": {},
   "outputs": [
    {
     "name": "stdout",
     "output_type": "stream",
     "text": [
      "[23-10-05 EDT 03:31:27 PM] NOTE  -- All done. (took 20.079 s)\n"
     ]
    }
   ],
   "source": [
    "# Time for scoring.\n",
    "!grep \"All done.\" runs/select-1k/llama2-rand/metrics.log"
   ]
  },
  {
   "cell_type": "code",
   "execution_count": 20,
   "metadata": {},
   "outputs": [
    {
     "name": "stdout",
     "output_type": "stream",
     "text": [
      "3 days, 13:12:59\n",
      "85.22 hours\n"
     ]
    }
   ],
   "source": [
    "timings(4893+57520+5321+50573+188452+20)"
   ]
  },
  {
   "cell_type": "code",
   "execution_count": 21,
   "metadata": {},
   "outputs": [
    {
     "name": "stdout",
     "output_type": "stream",
     "text": [
      "{'method': 'g-ner-llama2-rand-sel1k', 'material': {'true_positives': 508, 'false_positives': 225, 'false_negatives': 170, 'precision': 0.6930422919508867, 'recall': 0.7492625368731564, 'F1': 0.7200566973777461}, 'value': {'true_positives': 491, 'false_positives': 242, 'false_negatives': 118, 'precision': 0.669849931787176, 'recall': 0.80623973727422, 'F1': 0.7317436661698957}, 'property': {'true_positives': 385, 'false_positives': 348, 'false_negatives': 213, 'precision': 0.5252387448840382, 'recall': 0.6438127090301003, 'F1': 0.578512396694215}}\n"
     ]
    }
   ],
   "source": [
    "# F1-score for Tg.\n",
    "with open(\"runs/select-1k/llama2-rand/tg_metrics.json\") as fp:\n",
    "    print(json.load(fp))"
   ]
  },
  {
   "cell_type": "code",
   "execution_count": 22,
   "metadata": {},
   "outputs": [
    {
     "name": "stdout",
     "output_type": "stream",
     "text": [
      "{'method': 'g-ner-llama2-rand-sel1k', 'material': {'true_positives': 300, 'false_positives': 70, 'false_negatives': 67, 'precision': 0.8108108108108109, 'recall': 0.8174386920980926, 'F1': 0.814111261872456}, 'value': {'true_positives': 317, 'false_positives': 53, 'false_negatives': 49, 'precision': 0.8567567567567568, 'recall': 0.8661202185792349, 'F1': 0.8614130434782608}, 'property': {'true_positives': 283, 'false_positives': 87, 'false_negatives': 75, 'precision': 0.7648648648648648, 'recall': 0.7905027932960894, 'F1': 0.7774725274725276}}\n"
     ]
    }
   ],
   "source": [
    "# F1-score for Eg.\n",
    "with open(\"runs/select-1k/llama2-rand/eg_metrics.json\") as fp:\n",
    "    print(json.load(fp))"
   ]
  },
  {
   "cell_type": "code",
   "execution_count": 13,
   "metadata": {},
   "outputs": [
    {
     "name": "stdout",
     "output_type": "stream",
     "text": [
      "glass transition temperature 3242\n",
      "bandgap 1554\n",
      "melting temperature 378\n",
      "compressive strength 7\n",
      "elongation at break 74\n",
      "flexural strength 30\n",
      "hardness 3\n",
      "impact strength 5\n",
      "thermal conductivity 28\n",
      "thermal decomposition temperature 254\n",
      "tensile strength 180\n",
      "youngs modulus 16\n",
      "ionic conductivity 96\n",
      "CO_{2} permeability 5\n",
      "crystallization temperature 52\n",
      "dielectric constant 58\n",
      "H_{2} permeability 0\n",
      "lower critical solution temperature 7\n",
      "limiting oxygen index 8\n",
      "O_{2} permeability 1\n",
      "refractive index 26\n",
      "upper critical solution temperature 0\n",
      "water contact angle 76\n",
      "water uptake 11\n",
      "swelling degree 0\n",
      "density 86\n",
      "ion exchange capacity 8\n",
      "methanol permeability 4\n"
     ]
    },
    {
     "data": {
      "text/plain": [
       "6209"
      ]
     },
     "execution_count": 13,
     "metadata": {},
     "output_type": "execute_result"
    }
   ],
   "source": [
    "count = 0\n",
    "\n",
    "for _id, _name in id_name.items():\n",
    "    result = execute_count(\"\"\"\n",
    "    SELECT count(ep.*)\n",
    "    FROM extracted_properties ep\n",
    "    WHERE ep.method_id = :id\n",
    "    AND exists (\n",
    "        SELECT 1\n",
    "        FROM property_metadata pm\n",
    "        WHERE pm.name = :name\n",
    "        AND ep.entity_name = ANY(ARRAY[pm.other_names])\n",
    "        );\n",
    "    \"\"\", id = method.id, name = _name )\n",
    "    print(_name, result)\n",
    "    count +=result\n",
    "\n",
    "count"
   ]
  },
  {
   "cell_type": "markdown",
   "metadata": {},
   "source": [
    "## Data4 - General NER - GPT 3.5 Pipeline."
   ]
  },
  {
   "cell_type": "code",
   "execution_count": 16,
   "metadata": {},
   "outputs": [
    {
     "data": {
      "text/plain": [
       "Row(name='g-ner-gpt35-rand-sel1k', dataset='data4', model='gpt-3.5-turbo', api='openai', para_subset='select-1k_ner-filter', extraction_info={'user': 'akhlak', 'shot_selector': 'random', 'n_shots': 1, 'api_retry_delay': 5, 'delay_multiplier': 2.0, 'max_api_retries': 1, 'api_request_delay': 0.2, 'temperature': 0.001, 'prompt_id': 0, 'prompt': \"Extract all numbers in JSONL format with 'material', 'property', 'value', 'condition' columns.\", 'property': None, 'shot_nrecords': 2}, id=3, date_added=datetime.datetime(2023, 9, 26, 8, 53, tzinfo=datetime.timezone(datetime.timedelta(days=-1, seconds=72000))))"
      ]
     },
     "execution_count": 16,
     "metadata": {},
     "output_type": "execute_result"
    }
   ],
   "source": [
    "method = postgres.raw_sql(\"\"\"\n",
    "    Select * From extraction_methods Where name = 'g-ner-gpt35-rand-sel1k';\n",
    "\"\"\")[0]\n",
    "method"
   ]
  },
  {
   "cell_type": "code",
   "execution_count": 17,
   "metadata": {},
   "outputs": [
    {
     "name": "stdout",
     "output_type": "stream",
     "text": [
      "glass transition temperature 2843\n",
      "bandgap 1275\n",
      "melting temperature 388\n",
      "compressive strength 11\n",
      "elongation at break 93\n",
      "flexural strength 34\n",
      "hardness 11\n",
      "impact strength 11\n",
      "thermal conductivity 30\n",
      "thermal decomposition temperature 241\n",
      "tensile strength 214\n",
      "youngs modulus 23\n",
      "ionic conductivity 87\n",
      "CO_{2} permeability 17\n",
      "crystallization temperature 49\n",
      "dielectric constant 64\n",
      "H_{2} permeability 0\n",
      "lower critical solution temperature 11\n",
      "limiting oxygen index 0\n",
      "O_{2} permeability 6\n",
      "refractive index 24\n",
      "upper critical solution temperature 0\n",
      "water contact angle 75\n",
      "water uptake 23\n",
      "swelling degree 0\n",
      "density 123\n",
      "ion exchange capacity 15\n",
      "methanol permeability 4\n"
     ]
    },
    {
     "data": {
      "text/plain": [
       "5672"
      ]
     },
     "execution_count": 17,
     "metadata": {},
     "output_type": "execute_result"
    }
   ],
   "source": [
    "count = 0\n",
    "\n",
    "for _id, _name in id_name.items():\n",
    "    result = execute_count(\"\"\"\n",
    "    SELECT count(ep.*)\n",
    "    FROM extracted_properties ep\n",
    "    WHERE ep.method_id = :id\n",
    "    AND exists (\n",
    "        SELECT 1\n",
    "        FROM property_metadata pm\n",
    "        WHERE pm.name = :name\n",
    "        AND ep.entity_name = ANY(ARRAY[pm.other_names])\n",
    "        );\n",
    "    \"\"\", id = method.id, name = _name )\n",
    "    print(_name, result)\n",
    "    count +=result\n",
    "\n",
    "count"
   ]
  },
  {
   "cell_type": "code",
   "execution_count": 12,
   "metadata": {},
   "outputs": [
    {
     "data": {
      "text/html": [
       "<div>\n",
       "<style scoped>\n",
       "    .dataframe tbody tr th:only-of-type {\n",
       "        vertical-align: middle;\n",
       "    }\n",
       "\n",
       "    .dataframe tbody tr th {\n",
       "        vertical-align: top;\n",
       "    }\n",
       "\n",
       "    .dataframe thead th {\n",
       "        text-align: right;\n",
       "    }\n",
       "</style>\n",
       "<table border=\"1\" class=\"dataframe\">\n",
       "  <thead>\n",
       "    <tr style=\"text-align: right;\">\n",
       "      <th></th>\n",
       "      <th>count</th>\n",
       "    </tr>\n",
       "  </thead>\n",
       "  <tbody>\n",
       "    <tr>\n",
       "      <th>0</th>\n",
       "      <td>16191</td>\n",
       "    </tr>\n",
       "  </tbody>\n",
       "</table>\n",
       "</div>"
      ],
      "text/plain": [
       "   count\n",
       "0  16191"
      ]
     },
     "execution_count": 12,
     "metadata": {},
     "output_type": "execute_result"
    }
   ],
   "source": [
    "# Number of materials extracted.\n",
    "execute(\"\"\"\n",
    "        SELECT count(*) FROM extracted_materials em\n",
    "        WHERE em.method_id = :mid;\n",
    "        \n",
    "        \"\"\", mid=method.id)"
   ]
  },
  {
   "cell_type": "code",
   "execution_count": 13,
   "metadata": {},
   "outputs": [
    {
     "data": {
      "text/html": [
       "<div>\n",
       "<style scoped>\n",
       "    .dataframe tbody tr th:only-of-type {\n",
       "        vertical-align: middle;\n",
       "    }\n",
       "\n",
       "    .dataframe tbody tr th {\n",
       "        vertical-align: top;\n",
       "    }\n",
       "\n",
       "    .dataframe thead th {\n",
       "        text-align: right;\n",
       "    }\n",
       "</style>\n",
       "<table border=\"1\" class=\"dataframe\">\n",
       "  <thead>\n",
       "    <tr style=\"text-align: right;\">\n",
       "      <th></th>\n",
       "      <th>count</th>\n",
       "    </tr>\n",
       "  </thead>\n",
       "  <tbody>\n",
       "    <tr>\n",
       "      <th>0</th>\n",
       "      <td>29516</td>\n",
       "    </tr>\n",
       "  </tbody>\n",
       "</table>\n",
       "</div>"
      ],
      "text/plain": [
       "   count\n",
       "0  29516"
      ]
     },
     "execution_count": 13,
     "metadata": {},
     "output_type": "execute_result"
    }
   ],
   "source": [
    "# Number of properties extracted.\n",
    "execute(\"\"\"\n",
    "        SELECT count(*) FROM extracted_properties ep\n",
    "        WHERE ep.method_id = :mid;\n",
    "        \n",
    "        \"\"\", mid=method.id)"
   ]
  },
  {
   "cell_type": "code",
   "execution_count": 14,
   "metadata": {},
   "outputs": [
    {
     "name": "stdout",
     "output_type": "stream",
     "text": [
      "Total tokens: 7,151,891\n",
      "Total cost: $ 11.42\n",
      "Number of requests: 6,215\n"
     ]
    },
    {
     "data": {
      "text/html": [
       "<div>\n",
       "<style scoped>\n",
       "    .dataframe tbody tr th:only-of-type {\n",
       "        vertical-align: middle;\n",
       "    }\n",
       "\n",
       "    .dataframe tbody tr th {\n",
       "        vertical-align: top;\n",
       "    }\n",
       "\n",
       "    .dataframe thead th {\n",
       "        text-align: right;\n",
       "    }\n",
       "</style>\n",
       "<table border=\"1\" class=\"dataframe\">\n",
       "  <thead>\n",
       "    <tr style=\"text-align: right;\">\n",
       "      <th></th>\n",
       "      <th>para_id</th>\n",
       "      <th>request_tokens</th>\n",
       "      <th>response_tokens</th>\n",
       "      <th>total_tokens</th>\n",
       "      <th>api_cost</th>\n",
       "    </tr>\n",
       "  </thead>\n",
       "  <tbody>\n",
       "    <tr>\n",
       "      <th>0</th>\n",
       "      <td>13513075</td>\n",
       "      <td>923</td>\n",
       "      <td>80</td>\n",
       "      <td>1003</td>\n",
       "      <td>0.001545</td>\n",
       "    </tr>\n",
       "    <tr>\n",
       "      <th>1</th>\n",
       "      <td>5852577</td>\n",
       "      <td>1292</td>\n",
       "      <td>189</td>\n",
       "      <td>1481</td>\n",
       "      <td>0.002316</td>\n",
       "    </tr>\n",
       "    <tr>\n",
       "      <th>2</th>\n",
       "      <td>7865819</td>\n",
       "      <td>978</td>\n",
       "      <td>92</td>\n",
       "      <td>1070</td>\n",
       "      <td>0.001651</td>\n",
       "    </tr>\n",
       "    <tr>\n",
       "      <th>3</th>\n",
       "      <td>16932019</td>\n",
       "      <td>879</td>\n",
       "      <td>26</td>\n",
       "      <td>905</td>\n",
       "      <td>0.001370</td>\n",
       "    </tr>\n",
       "    <tr>\n",
       "      <th>4</th>\n",
       "      <td>13719192</td>\n",
       "      <td>779</td>\n",
       "      <td>41</td>\n",
       "      <td>820</td>\n",
       "      <td>0.001251</td>\n",
       "    </tr>\n",
       "    <tr>\n",
       "      <th>...</th>\n",
       "      <td>...</td>\n",
       "      <td>...</td>\n",
       "      <td>...</td>\n",
       "      <td>...</td>\n",
       "      <td>...</td>\n",
       "    </tr>\n",
       "    <tr>\n",
       "      <th>6210</th>\n",
       "      <td>26754210</td>\n",
       "      <td>623</td>\n",
       "      <td>97</td>\n",
       "      <td>720</td>\n",
       "      <td>0.001129</td>\n",
       "    </tr>\n",
       "    <tr>\n",
       "      <th>6211</th>\n",
       "      <td>26754211</td>\n",
       "      <td>1036</td>\n",
       "      <td>101</td>\n",
       "      <td>1137</td>\n",
       "      <td>0.001756</td>\n",
       "    </tr>\n",
       "    <tr>\n",
       "      <th>6212</th>\n",
       "      <td>26784396</td>\n",
       "      <td>802</td>\n",
       "      <td>295</td>\n",
       "      <td>1097</td>\n",
       "      <td>0.001793</td>\n",
       "    </tr>\n",
       "    <tr>\n",
       "      <th>6213</th>\n",
       "      <td>26784403</td>\n",
       "      <td>868</td>\n",
       "      <td>205</td>\n",
       "      <td>1073</td>\n",
       "      <td>0.001712</td>\n",
       "    </tr>\n",
       "    <tr>\n",
       "      <th>6214</th>\n",
       "      <td>26784421</td>\n",
       "      <td>964</td>\n",
       "      <td>73</td>\n",
       "      <td>1037</td>\n",
       "      <td>0.001592</td>\n",
       "    </tr>\n",
       "  </tbody>\n",
       "</table>\n",
       "<p>6215 rows × 5 columns</p>\n",
       "</div>"
      ],
      "text/plain": [
       "       para_id  request_tokens  response_tokens  total_tokens  api_cost\n",
       "0     13513075             923               80          1003  0.001545\n",
       "1      5852577            1292              189          1481  0.002316\n",
       "2      7865819             978               92          1070  0.001651\n",
       "3     16932019             879               26           905  0.001370\n",
       "4     13719192             779               41           820  0.001251\n",
       "...        ...             ...              ...           ...       ...\n",
       "6210  26754210             623               97           720  0.001129\n",
       "6211  26754211            1036              101          1137  0.001756\n",
       "6212  26784396             802              295          1097  0.001793\n",
       "6213  26784403             868              205          1073  0.001712\n",
       "6214  26784421             964               73          1037  0.001592\n",
       "\n",
       "[6215 rows x 5 columns]"
      ]
     },
     "execution_count": 14,
     "metadata": {},
     "output_type": "execute_result"
    }
   ],
   "source": [
    "# Number of tokens.\n",
    "df = execute(\"\"\"\n",
    "             SELECT para_id, request_tokens, response_tokens, request_tokens + response_tokens AS total_tokens\n",
    "             FROM  api_requests ar WHERE ar.method_id = :mid;\n",
    "             \n",
    "             \"\"\", mid=method.id)\n",
    "\n",
    "df['api_cost'] = (0.0015 * df['request_tokens'] + 0.002 * df['response_tokens']) / 1000\n",
    "\n",
    "print(f\"Total tokens: {df['total_tokens'].sum():,}\")\n",
    "print(f\"Total cost: $ {df['api_cost'].sum():.2f}\")\n",
    "print(f\"Number of requests: {df.shape[0]:,}\")\n",
    "df"
   ]
  },
  {
   "cell_type": "code",
   "execution_count": 15,
   "metadata": {},
   "outputs": [
    {
     "data": {
      "text/html": [
       "<div>\n",
       "<style scoped>\n",
       "    .dataframe tbody tr th:only-of-type {\n",
       "        vertical-align: middle;\n",
       "    }\n",
       "\n",
       "    .dataframe tbody tr th {\n",
       "        vertical-align: top;\n",
       "    }\n",
       "\n",
       "    .dataframe thead th {\n",
       "        text-align: right;\n",
       "    }\n",
       "</style>\n",
       "<table border=\"1\" class=\"dataframe\">\n",
       "  <thead>\n",
       "    <tr style=\"text-align: right;\">\n",
       "      <th></th>\n",
       "      <th>count</th>\n",
       "    </tr>\n",
       "  </thead>\n",
       "  <tbody>\n",
       "    <tr>\n",
       "      <th>0</th>\n",
       "      <td>0</td>\n",
       "    </tr>\n",
       "  </tbody>\n",
       "</table>\n",
       "</div>"
      ],
      "text/plain": [
       "   count\n",
       "0      0"
      ]
     },
     "execution_count": 15,
     "metadata": {},
     "output_type": "execute_result"
    }
   ],
   "source": [
    "# Number of failed requests\n",
    "execute(\"\"\"\n",
    "        SELECT count(*) FROM api_requests ar\n",
    "        WHERE ar.method_id = :mid AND status != 'ok';\n",
    "\n",
    "        \"\"\", mid=method.id)"
   ]
  },
  {
   "cell_type": "code",
   "execution_count": 16,
   "metadata": {},
   "outputs": [
    {
     "name": "stdout",
     "output_type": "stream",
     "text": [
      "{'method': 'g-ner-gpt35-rand-sel1k', 'material': {'true_positives': 546, 'false_positives': 211, 'false_negatives': 137, 'precision': 0.7212681638044914, 'recall': 0.7994143484626647, 'F1': 0.7583333333333334}, 'value': {'true_positives': 543, 'false_positives': 214, 'false_negatives': 69, 'precision': 0.7173051519154557, 'recall': 0.8872549019607843, 'F1': 0.7932797662527391}, 'property': {'true_positives': 441, 'false_positives': 316, 'false_negatives': 157, 'precision': 0.582562747688243, 'recall': 0.7374581939799331, 'F1': 0.6509225092250922}}\n"
     ]
    }
   ],
   "source": [
    "# F1-score for Tg.\n",
    "with open(\"runs/select-1k/gpt35-rand/tg_metrics.json\") as fp:\n",
    "    print(json.load(fp))"
   ]
  },
  {
   "cell_type": "code",
   "execution_count": 17,
   "metadata": {},
   "outputs": [
    {
     "name": "stdout",
     "output_type": "stream",
     "text": [
      "{'method': 'g-ner-gpt35-rand-sel1k', 'material': {'true_positives': 302, 'false_positives': 45, 'false_negatives': 64, 'precision': 0.8703170028818443, 'recall': 0.825136612021858, 'F1': 0.847124824684432}, 'value': {'true_positives': 311, 'false_positives': 36, 'false_negatives': 47, 'precision': 0.8962536023054755, 'recall': 0.8687150837988827, 'F1': 0.8822695035460992}, 'property': {'true_positives': 285, 'false_positives': 62, 'false_negatives': 71, 'precision': 0.8213256484149856, 'recall': 0.800561797752809, 'F1': 0.8108108108108109}}\n"
     ]
    }
   ],
   "source": [
    "# F1-score for Bandgap.\n",
    "with open(\"runs/select-1k/gpt35-rand/eg_metrics.json\") as fp:\n",
    "    print(json.load(fp))"
   ]
  },
  {
   "cell_type": "code",
   "execution_count": 18,
   "metadata": {},
   "outputs": [
    {
     "name": "stdout",
     "output_type": "stream",
     "text": [
      "runs/select-1k/gpt35-rand/llm-pipeline.01.log:[23-09-29 EDT 02:19:54 AM] NOTE  -- All done. (took 15204.971 s)\n",
      "runs/select-1k/gpt35-rand/llm-pipeline.log:[23-09-30 EDT 01:44:11 AM] NOTE  -- All done. (took 59576.347 s)\n"
     ]
    }
   ],
   "source": [
    "# Time for extraction.\n",
    "!grep \"All done.\" runs/select-1k/gpt35-rand/llm-pipeline*.log"
   ]
  },
  {
   "cell_type": "code",
   "execution_count": 19,
   "metadata": {},
   "outputs": [
    {
     "name": "stdout",
     "output_type": "stream",
     "text": [
      "[23-09-30 EDT 08:22:04 AM] NOTE  -- All done. (took 21.206 s)\n"
     ]
    }
   ],
   "source": [
    "# Time for scoring.\n",
    "!grep \"All done.\" runs/select-1k/gpt35-rand/metrics.log"
   ]
  },
  {
   "cell_type": "code",
   "execution_count": 20,
   "metadata": {},
   "outputs": [
    {
     "name": "stdout",
     "output_type": "stream",
     "text": [
      "20:46:41\n",
      "20.78 hours\n"
     ]
    }
   ],
   "source": [
    "timings(15204+59576+21)"
   ]
  },
  {
   "cell_type": "code",
   "execution_count": 34,
   "metadata": {},
   "outputs": [],
   "source": [
    "postgres.disconnect()"
   ]
  },
  {
   "cell_type": "markdown",
   "metadata": {},
   "source": [
    "## Data4 - General NER - GPT 3.5 - Similar Pipeline."
   ]
  },
  {
   "cell_type": "code",
   "execution_count": 27,
   "metadata": {},
   "outputs": [
    {
     "data": {
      "text/plain": [
       "Row(name='g-ner-gpt35-similar-sel1k', dataset='data4', model='gpt-3.5-turbo', api='openai', para_subset='select-1k_ner-filter', extraction_info={'user': 'akhlak', 'shot_selector': 'similar', 'n_shots': 1, 'api_retry_delay': 5, 'delay_multiplier': 2.0, 'max_api_retries': 1, 'api_request_delay': 0.2, 'temperature': 0.001, 'prompt_id': 0, 'prompt': \"Extract all numbers in JSONL format with 'material', 'property', 'value', 'condition' columns.\", 'property': None, 'shot_nrecords': 2, 'shot_keywords': False}, id=12, date_added=datetime.datetime(2023, 10, 4, 9, 48, tzinfo=datetime.timezone(datetime.timedelta(days=-1, seconds=72000))))"
      ]
     },
     "execution_count": 27,
     "metadata": {},
     "output_type": "execute_result"
    }
   ],
   "source": [
    "method = postgres.raw_sql(\"\"\"\n",
    "    Select * From extraction_methods Where name = 'g-ner-gpt35-similar-sel1k';\n",
    "\"\"\")[0]\n",
    "method"
   ]
  },
  {
   "cell_type": "code",
   "execution_count": 28,
   "metadata": {},
   "outputs": [
    {
     "data": {
      "text/html": [
       "<div>\n",
       "<style scoped>\n",
       "    .dataframe tbody tr th:only-of-type {\n",
       "        vertical-align: middle;\n",
       "    }\n",
       "\n",
       "    .dataframe tbody tr th {\n",
       "        vertical-align: top;\n",
       "    }\n",
       "\n",
       "    .dataframe thead th {\n",
       "        text-align: right;\n",
       "    }\n",
       "</style>\n",
       "<table border=\"1\" class=\"dataframe\">\n",
       "  <thead>\n",
       "    <tr style=\"text-align: right;\">\n",
       "      <th></th>\n",
       "      <th>count</th>\n",
       "    </tr>\n",
       "  </thead>\n",
       "  <tbody>\n",
       "    <tr>\n",
       "      <th>0</th>\n",
       "      <td>15800</td>\n",
       "    </tr>\n",
       "  </tbody>\n",
       "</table>\n",
       "</div>"
      ],
      "text/plain": [
       "   count\n",
       "0  15800"
      ]
     },
     "execution_count": 28,
     "metadata": {},
     "output_type": "execute_result"
    }
   ],
   "source": [
    "# Number of materials extracted.\n",
    "execute(\"\"\"\n",
    "        SELECT count(*) FROM extracted_materials em\n",
    "        WHERE em.method_id = :mid;\n",
    "        \n",
    "        \"\"\", mid=method.id)"
   ]
  },
  {
   "cell_type": "code",
   "execution_count": 29,
   "metadata": {},
   "outputs": [
    {
     "data": {
      "text/html": [
       "<div>\n",
       "<style scoped>\n",
       "    .dataframe tbody tr th:only-of-type {\n",
       "        vertical-align: middle;\n",
       "    }\n",
       "\n",
       "    .dataframe tbody tr th {\n",
       "        vertical-align: top;\n",
       "    }\n",
       "\n",
       "    .dataframe thead th {\n",
       "        text-align: right;\n",
       "    }\n",
       "</style>\n",
       "<table border=\"1\" class=\"dataframe\">\n",
       "  <thead>\n",
       "    <tr style=\"text-align: right;\">\n",
       "      <th></th>\n",
       "      <th>count</th>\n",
       "    </tr>\n",
       "  </thead>\n",
       "  <tbody>\n",
       "    <tr>\n",
       "      <th>0</th>\n",
       "      <td>29282</td>\n",
       "    </tr>\n",
       "  </tbody>\n",
       "</table>\n",
       "</div>"
      ],
      "text/plain": [
       "   count\n",
       "0  29282"
      ]
     },
     "execution_count": 29,
     "metadata": {},
     "output_type": "execute_result"
    }
   ],
   "source": [
    "# Number of properties extracted.\n",
    "execute(\"\"\"\n",
    "        SELECT count(*) FROM extracted_properties ep\n",
    "        WHERE ep.method_id = :mid;\n",
    "        \n",
    "        \"\"\", mid=method.id)"
   ]
  },
  {
   "cell_type": "code",
   "execution_count": 30,
   "metadata": {},
   "outputs": [
    {
     "name": "stdout",
     "output_type": "stream",
     "text": [
      "Total tokens: 6,381,634\n",
      "Total cost: $ 10.24\n",
      "Number of requests: 6,215\n"
     ]
    },
    {
     "data": {
      "text/html": [
       "<div>\n",
       "<style scoped>\n",
       "    .dataframe tbody tr th:only-of-type {\n",
       "        vertical-align: middle;\n",
       "    }\n",
       "\n",
       "    .dataframe tbody tr th {\n",
       "        vertical-align: top;\n",
       "    }\n",
       "\n",
       "    .dataframe thead th {\n",
       "        text-align: right;\n",
       "    }\n",
       "</style>\n",
       "<table border=\"1\" class=\"dataframe\">\n",
       "  <thead>\n",
       "    <tr style=\"text-align: right;\">\n",
       "      <th></th>\n",
       "      <th>para_id</th>\n",
       "      <th>request_tokens</th>\n",
       "      <th>response_tokens</th>\n",
       "      <th>total_tokens</th>\n",
       "      <th>api_cost</th>\n",
       "    </tr>\n",
       "  </thead>\n",
       "  <tbody>\n",
       "    <tr>\n",
       "      <th>0</th>\n",
       "      <td>11163019</td>\n",
       "      <td>750</td>\n",
       "      <td>100</td>\n",
       "      <td>850</td>\n",
       "      <td>0.001325</td>\n",
       "    </tr>\n",
       "    <tr>\n",
       "      <th>1</th>\n",
       "      <td>13068056</td>\n",
       "      <td>899</td>\n",
       "      <td>98</td>\n",
       "      <td>997</td>\n",
       "      <td>0.001545</td>\n",
       "    </tr>\n",
       "    <tr>\n",
       "      <th>2</th>\n",
       "      <td>15711490</td>\n",
       "      <td>801</td>\n",
       "      <td>79</td>\n",
       "      <td>880</td>\n",
       "      <td>0.001360</td>\n",
       "    </tr>\n",
       "    <tr>\n",
       "      <th>3</th>\n",
       "      <td>7864862</td>\n",
       "      <td>1238</td>\n",
       "      <td>246</td>\n",
       "      <td>1484</td>\n",
       "      <td>0.002349</td>\n",
       "    </tr>\n",
       "    <tr>\n",
       "      <th>4</th>\n",
       "      <td>7865824</td>\n",
       "      <td>906</td>\n",
       "      <td>138</td>\n",
       "      <td>1044</td>\n",
       "      <td>0.001635</td>\n",
       "    </tr>\n",
       "    <tr>\n",
       "      <th>...</th>\n",
       "      <td>...</td>\n",
       "      <td>...</td>\n",
       "      <td>...</td>\n",
       "      <td>...</td>\n",
       "      <td>...</td>\n",
       "    </tr>\n",
       "    <tr>\n",
       "      <th>6210</th>\n",
       "      <td>26754210</td>\n",
       "      <td>590</td>\n",
       "      <td>97</td>\n",
       "      <td>687</td>\n",
       "      <td>0.001079</td>\n",
       "    </tr>\n",
       "    <tr>\n",
       "      <th>6211</th>\n",
       "      <td>26754211</td>\n",
       "      <td>780</td>\n",
       "      <td>107</td>\n",
       "      <td>887</td>\n",
       "      <td>0.001384</td>\n",
       "    </tr>\n",
       "    <tr>\n",
       "      <th>6212</th>\n",
       "      <td>26784396</td>\n",
       "      <td>795</td>\n",
       "      <td>328</td>\n",
       "      <td>1123</td>\n",
       "      <td>0.001849</td>\n",
       "    </tr>\n",
       "    <tr>\n",
       "      <th>6213</th>\n",
       "      <td>26784403</td>\n",
       "      <td>638</td>\n",
       "      <td>196</td>\n",
       "      <td>834</td>\n",
       "      <td>0.001349</td>\n",
       "    </tr>\n",
       "    <tr>\n",
       "      <th>6214</th>\n",
       "      <td>26784421</td>\n",
       "      <td>652</td>\n",
       "      <td>73</td>\n",
       "      <td>725</td>\n",
       "      <td>0.001124</td>\n",
       "    </tr>\n",
       "  </tbody>\n",
       "</table>\n",
       "<p>6215 rows × 5 columns</p>\n",
       "</div>"
      ],
      "text/plain": [
       "       para_id  request_tokens  response_tokens  total_tokens  api_cost\n",
       "0     11163019             750              100           850  0.001325\n",
       "1     13068056             899               98           997  0.001545\n",
       "2     15711490             801               79           880  0.001360\n",
       "3      7864862            1238              246          1484  0.002349\n",
       "4      7865824             906              138          1044  0.001635\n",
       "...        ...             ...              ...           ...       ...\n",
       "6210  26754210             590               97           687  0.001079\n",
       "6211  26754211             780              107           887  0.001384\n",
       "6212  26784396             795              328          1123  0.001849\n",
       "6213  26784403             638              196           834  0.001349\n",
       "6214  26784421             652               73           725  0.001124\n",
       "\n",
       "[6215 rows x 5 columns]"
      ]
     },
     "execution_count": 30,
     "metadata": {},
     "output_type": "execute_result"
    }
   ],
   "source": [
    "# Number of tokens.\n",
    "df = execute(\"\"\"\n",
    "             SELECT para_id, request_tokens, response_tokens, request_tokens + response_tokens AS total_tokens\n",
    "             FROM  api_requests ar WHERE ar.method_id = :mid;\n",
    "             \n",
    "             \"\"\", mid=method.id)\n",
    "\n",
    "df['api_cost'] = (0.0015 * df['request_tokens'] + 0.002 * df['response_tokens']) / 1000\n",
    "\n",
    "print(f\"Total tokens: {df['total_tokens'].sum():,}\")\n",
    "print(f\"Total cost: $ {df['api_cost'].sum():.2f}\")\n",
    "print(f\"Number of requests: {df.shape[0]:,}\")\n",
    "df"
   ]
  },
  {
   "cell_type": "code",
   "execution_count": 31,
   "metadata": {},
   "outputs": [
    {
     "data": {
      "text/html": [
       "<div>\n",
       "<style scoped>\n",
       "    .dataframe tbody tr th:only-of-type {\n",
       "        vertical-align: middle;\n",
       "    }\n",
       "\n",
       "    .dataframe tbody tr th {\n",
       "        vertical-align: top;\n",
       "    }\n",
       "\n",
       "    .dataframe thead th {\n",
       "        text-align: right;\n",
       "    }\n",
       "</style>\n",
       "<table border=\"1\" class=\"dataframe\">\n",
       "  <thead>\n",
       "    <tr style=\"text-align: right;\">\n",
       "      <th></th>\n",
       "      <th>count</th>\n",
       "    </tr>\n",
       "  </thead>\n",
       "  <tbody>\n",
       "    <tr>\n",
       "      <th>0</th>\n",
       "      <td>0</td>\n",
       "    </tr>\n",
       "  </tbody>\n",
       "</table>\n",
       "</div>"
      ],
      "text/plain": [
       "   count\n",
       "0      0"
      ]
     },
     "execution_count": 31,
     "metadata": {},
     "output_type": "execute_result"
    }
   ],
   "source": [
    "# Number of failed requests\n",
    "execute(\"\"\"\n",
    "        SELECT count(*) FROM api_requests ar\n",
    "        WHERE ar.method_id = :mid AND status != 'ok';\n",
    "\n",
    "        \"\"\", mid=method.id)"
   ]
  },
  {
   "cell_type": "code",
   "execution_count": 33,
   "metadata": {},
   "outputs": [
    {
     "name": "stdout",
     "output_type": "stream",
     "text": [
      "{'method': 'g-ner-gpt35-similar-sel1k', 'material': {'true_positives': 547, 'false_positives': 189, 'false_negatives': 134, 'precision': 0.7432065217391305, 'recall': 0.8032305433186491, 'F1': 0.7720536344389556}, 'value': {'true_positives': 530, 'false_positives': 206, 'false_negatives': 76, 'precision': 0.720108695652174, 'recall': 0.8745874587458746, 'F1': 0.789865871833085}, 'property': {'true_positives': 446, 'false_positives': 290, 'false_negatives': 150, 'precision': 0.6059782608695652, 'recall': 0.7483221476510067, 'F1': 0.6696696696696697}}\n"
     ]
    }
   ],
   "source": [
    "# F1-score for Tg.\n",
    "with open(\"runs/select-1k/gpt35-similar/tg_metrics.json\") as fp:\n",
    "    print(json.load(fp))"
   ]
  },
  {
   "cell_type": "code",
   "execution_count": 34,
   "metadata": {},
   "outputs": [
    {
     "name": "stdout",
     "output_type": "stream",
     "text": [
      "{'method': 'g-ner-gpt35-similar-sel1k', 'material': {'true_positives': 315, 'false_positives': 46, 'false_negatives': 53, 'precision': 0.8725761772853186, 'recall': 0.8559782608695652, 'F1': 0.8641975308641975}, 'value': {'true_positives': 323, 'false_positives': 38, 'false_negatives': 35, 'precision': 0.8947368421052632, 'recall': 0.9022346368715084, 'F1': 0.8984700973574409}, 'property': {'true_positives': 301, 'false_positives': 60, 'false_negatives': 55, 'precision': 0.8337950138504155, 'recall': 0.8455056179775281, 'F1': 0.8396094839609484}}\n"
     ]
    }
   ],
   "source": [
    "# F1-score for Eg.\n",
    "with open(\"runs/select-1k/gpt35-similar/eg_metrics.json\") as fp:\n",
    "    print(json.load(fp))"
   ]
  },
  {
   "cell_type": "code",
   "execution_count": 35,
   "metadata": {},
   "outputs": [
    {
     "name": "stdout",
     "output_type": "stream",
     "text": [
      "runs/select-1k/gpt35-similar/llm-pipeline.01.log:[23-10-04 EDT 10:31:33 AM] NOTE  -- All done. (took 2440.726 s)\n",
      "runs/select-1k/gpt35-similar/llm-pipeline.log:[23-10-05 EDT 07:15:52 PM] NOTE  -- All done. (took 112354.174 s)\n"
     ]
    }
   ],
   "source": [
    "# Time for extraction.\n",
    "!grep \"All done.\" runs/select-1k/gpt35-similar/llm-pipeline*.log"
   ]
  },
  {
   "cell_type": "code",
   "execution_count": 36,
   "metadata": {},
   "outputs": [
    {
     "name": "stdout",
     "output_type": "stream",
     "text": [
      "[23-09-30 EDT 08:22:04 AM] NOTE  -- All done. (took 21.206 s)\n"
     ]
    }
   ],
   "source": [
    "# Time for scoring.\n",
    "!grep \"All done.\" runs/select-1k/gpt35-rand/metrics.log"
   ]
  },
  {
   "cell_type": "code",
   "execution_count": 37,
   "metadata": {},
   "outputs": [
    {
     "name": "stdout",
     "output_type": "stream",
     "text": [
      "1 day, 7:53:35\n",
      "31.89 hours\n"
     ]
    }
   ],
   "source": [
    "timings(2440+112354+21)"
   ]
  },
  {
   "cell_type": "markdown",
   "metadata": {},
   "source": [
    "## Data3 - Property-specific NER - BERT Pipeline."
   ]
  },
  {
   "cell_type": "code",
   "execution_count": 21,
   "metadata": {},
   "outputs": [
    {
     "data": {
      "text/plain": [
       "[Row(name='tg-ner-bert-sel1k-no-unit', dataset='data3', model='materials-bert', api=None, para_subset='tg-ner-sel1k-no-unit', extraction_info={'user': 'sonakshi'}, id=38, date_added=datetime.datetime(2023, 10, 7, 19, 26, 38, 753477, tzinfo=datetime.timezone(datetime.timedelta(days=-1, seconds=72000)))),\n",
       " Row(name='tm-ner-bert-sel1k-no-unit', dataset='data3', model='materials-bert', api=None, para_subset='tm-ner-sel1k-no-unit', extraction_info={'user': 'sonakshi'}, id=39, date_added=datetime.datetime(2023, 10, 7, 19, 29, 31, 289129, tzinfo=datetime.timezone(datetime.timedelta(days=-1, seconds=72000)))),\n",
       " Row(name='td-ner-bert-sel1k-no-unit', dataset='data3', model='materials-bert', api=None, para_subset='td-ner-sel1k-no-unit', extraction_info={'user': 'sonakshi'}, id=40, date_added=datetime.datetime(2023, 10, 7, 19, 30, 38, 860791, tzinfo=datetime.timezone(datetime.timedelta(days=-1, seconds=72000)))),\n",
       " Row(name='tc-ner-bert-sel1k-no-unit', dataset='data3', model='materials-bert', api=None, para_subset='tc-ner-sel1k-no-unit', extraction_info={'user': 'sonakshi'}, id=41, date_added=datetime.datetime(2023, 10, 7, 19, 31, 7, 969727, tzinfo=datetime.timezone(datetime.timedelta(days=-1, seconds=72000)))),\n",
       " Row(name='ts-ner-bert-sel1k-no-unit', dataset='data3', model='materials-bert', api=None, para_subset='ts-ner-sel1k-no-unit', extraction_info={'user': 'sonakshi'}, id=42, date_added=datetime.datetime(2023, 10, 7, 19, 31, 34, 15085, tzinfo=datetime.timezone(datetime.timedelta(days=-1, seconds=72000)))),\n",
       " Row(name='ym-ner-bert-sel1k-no-unit', dataset='data3', model='materials-bert', api=None, para_subset='ym-ner-sel1k-no-unit', extraction_info={'user': 'sonakshi'}, id=43, date_added=datetime.datetime(2023, 10, 7, 19, 31, 53, 854954, tzinfo=datetime.timezone(datetime.timedelta(days=-1, seconds=72000)))),\n",
       " Row(name='cs-ner-bert-sel1k-no-unit', dataset='data3', model='materials-bert', api=None, para_subset='cs-ner-sel1k-no-unit', extraction_info={'user': 'sonakshi'}, id=44, date_added=datetime.datetime(2023, 10, 7, 19, 32, 16, 24433, tzinfo=datetime.timezone(datetime.timedelta(days=-1, seconds=72000)))),\n",
       " Row(name='eab-ner-bert-sel1k-no-unit', dataset='data3', model='materials-bert', api=None, para_subset='eab-ner-sel1k-no-unit', extraction_info={'user': 'sonakshi'}, id=45, date_added=datetime.datetime(2023, 10, 7, 19, 32, 39, 996076, tzinfo=datetime.timezone(datetime.timedelta(days=-1, seconds=72000)))),\n",
       " Row(name='fs-ner-bert-sel1k-no-unit', dataset='data3', model='materials-bert', api=None, para_subset='fs-ner-sel1k-no-unit', extraction_info={'user': 'sonakshi'}, id=46, date_added=datetime.datetime(2023, 10, 7, 19, 33, 1, 460662, tzinfo=datetime.timezone(datetime.timedelta(days=-1, seconds=72000)))),\n",
       " Row(name='is-ner-bert-sel1k-no-unit', dataset='data3', model='materials-bert', api=None, para_subset='is-ner-sel1k-no-unit', extraction_info={'user': 'sonakshi'}, id=47, date_added=datetime.datetime(2023, 10, 7, 19, 33, 17, 980145, tzinfo=datetime.timezone(datetime.timedelta(days=-1, seconds=72000)))),\n",
       " Row(name='iec-ner-bert-sel1k-no-unit', dataset='data3', model='materials-bert', api=None, para_subset='iec-ner-sel1k-no-unit', extraction_info={'user': 'sonakshi'}, id=48, date_added=datetime.datetime(2023, 10, 7, 19, 33, 51, 480081, tzinfo=datetime.timezone(datetime.timedelta(days=-1, seconds=72000)))),\n",
       " Row(name='ionic_cond-ner-bert-sel1k-no-unit', dataset='data3', model='materials-bert', api=None, para_subset='ionic_cond-ner-sel1k-no-unit', extraction_info={'user': 'sonakshi'}, id=49, date_added=datetime.datetime(2023, 10, 7, 19, 34, 31, 119389, tzinfo=datetime.timezone(datetime.timedelta(days=-1, seconds=72000)))),\n",
       " Row(name='wca-ner-bert-sel1k-no-unit', dataset='data3', model='materials-bert', api=None, para_subset='wca-ner-sel1k-no-unit', extraction_info={'user': 'sonakshi'}, id=50, date_added=datetime.datetime(2023, 10, 7, 19, 34, 59, 399706, tzinfo=datetime.timezone(datetime.timedelta(days=-1, seconds=72000)))),\n",
       " Row(name='dc-ner-bert-sel1k-no-unit', dataset='data3', model='materials-bert', api=None, para_subset='dc-ner-sel1k-no-unit', extraction_info={'user': 'sonakshi'}, id=51, date_added=datetime.datetime(2023, 10, 7, 19, 35, 23, 619653, tzinfo=datetime.timezone(datetime.timedelta(days=-1, seconds=72000)))),\n",
       " Row(name='density-ner-bert-sel1k-no-unit', dataset='data3', model='materials-bert', api=None, para_subset='density-ner-sel1k-no-unit', extraction_info={'user': 'sonakshi'}, id=52, date_added=datetime.datetime(2023, 10, 7, 19, 35, 44, 960080, tzinfo=datetime.timezone(datetime.timedelta(days=-1, seconds=72000)))),\n",
       " Row(name='ucst-ner-bert-sel1k-no-unit', dataset='data3', model='materials-bert', api=None, para_subset='ucst-ner-sel1k-no-unit', extraction_info={'user': 'sonakshi'}, id=57, date_added=datetime.datetime(2023, 10, 7, 19, 37, 50, 279265, tzinfo=datetime.timezone(datetime.timedelta(days=-1, seconds=72000)))),\n",
       " Row(name='loi-ner-bert-sel1k-no-unit', dataset='data3', model='materials-bert', api=None, para_subset='loi-ner-sel1k-no-unit', extraction_info={'user': 'sonakshi'}, id=54, date_added=datetime.datetime(2023, 10, 7, 19, 36, 29, 878054, tzinfo=datetime.timezone(datetime.timedelta(days=-1, seconds=72000)))),\n",
       " Row(name='bandgap-ner-bert-sel1k-no-unit', dataset='data3', model='materials-bert', api=None, para_subset='bandgap-ner-sel1k-no-unit', extraction_info={'user': 'sonakshi'}, id=53, date_added=datetime.datetime(2023, 10, 7, 19, 36, 6, 838037, tzinfo=datetime.timezone(datetime.timedelta(days=-1, seconds=72000)))),\n",
       " Row(name='hardness-ner-bert-sel1k-no-unit', dataset='data3', model='materials-bert', api=None, para_subset='hardness-ner-sel1k-no-unit', extraction_info={'user': 'sonakshi'}, id=55, date_added=datetime.datetime(2023, 10, 7, 19, 37, 17, 424843, tzinfo=datetime.timezone(datetime.timedelta(days=-1, seconds=72000)))),\n",
       " Row(name='lcst-ner-bert-sel1k-no-unit', dataset='data3', model='materials-bert', api=None, para_subset='lcst-ner-sel1k-no-unit', extraction_info={'user': 'sonakshi'}, id=56, date_added=datetime.datetime(2023, 10, 7, 19, 37, 35, 297515, tzinfo=datetime.timezone(datetime.timedelta(days=-1, seconds=72000)))),\n",
       " Row(name='co2_perm-ner-bert-sel1k-no-unit', dataset='data3', model='materials-bert', api=None, para_subset='co2_perm-ner-sel1k-no-unit', extraction_info={'user': 'sonakshi'}, id=58, date_added=datetime.datetime(2023, 10, 7, 19, 39, 38, 537031, tzinfo=datetime.timezone(datetime.timedelta(days=-1, seconds=72000)))),\n",
       " Row(name='o2_perm-ner-bert-sel1k-no-unit', dataset='data3', model='materials-bert', api=None, para_subset='o2_perm-ner-sel1k-no-unit', extraction_info={'user': 'sonakshi'}, id=59, date_added=datetime.datetime(2023, 10, 7, 19, 39, 53, 861268, tzinfo=datetime.timezone(datetime.timedelta(days=-1, seconds=72000)))),\n",
       " Row(name='h2_perm-ner-bert-sel1k-no-unit', dataset='data3', model='materials-bert', api=None, para_subset='h2_perm-ner-sel1k-no-unit', extraction_info={'user': 'sonakshi'}, id=60, date_added=datetime.datetime(2023, 10, 7, 19, 40, 30, 978196, tzinfo=datetime.timezone(datetime.timedelta(days=-1, seconds=72000)))),\n",
       " Row(name='ct-ner-bert-sel1k-no-unit', dataset='data3', model='materials-bert', api=None, para_subset='ct-ner-sel1k-no-unit', extraction_info={'user': 'sonakshi'}, id=61, date_added=datetime.datetime(2023, 10, 7, 19, 40, 59, 105346, tzinfo=datetime.timezone(datetime.timedelta(days=-1, seconds=72000)))),\n",
       " Row(name='ri-ner-bert-sel1k-no-unit', dataset='data3', model='materials-bert', api=None, para_subset='ri-ner-sel1k-no-unit', extraction_info={'user': 'sonakshi'}, id=62, date_added=datetime.datetime(2023, 10, 7, 19, 41, 14, 955713, tzinfo=datetime.timezone(datetime.timedelta(days=-1, seconds=72000)))),\n",
       " Row(name='wu-ner-bert-sel1k-no-unit', dataset='data3', model='materials-bert', api=None, para_subset='wu-ner-sel1k-no-unit', extraction_info={'user': 'sonakshi'}, id=63, date_added=datetime.datetime(2023, 10, 7, 19, 41, 30, 161918, tzinfo=datetime.timezone(datetime.timedelta(days=-1, seconds=72000)))),\n",
       " Row(name='sd-ner-bert-sel1k-no-unit', dataset='data3', model='materials-bert', api=None, para_subset='sd-ner-sel1k-no-unit', extraction_info={'user': 'sonakshi'}, id=64, date_added=datetime.datetime(2023, 10, 7, 19, 42, 28, 87980, tzinfo=datetime.timezone(datetime.timedelta(days=-1, seconds=72000)))),\n",
       " Row(name='methanol_perm-ner-bert-sel1k-no-unit', dataset='data3', model='materials-bert', api=None, para_subset='methanol_perm-ner-sel1k-no-unit', extraction_info={'user': 'sonakshi'}, id=65, date_added=datetime.datetime(2023, 10, 7, 19, 42, 57, 381432, tzinfo=datetime.timezone(datetime.timedelta(days=-1, seconds=72000))))]"
      ]
     },
     "execution_count": 21,
     "metadata": {},
     "output_type": "execute_result"
    }
   ],
   "source": [
    "method = postgres.raw_sql(\"\"\"\n",
    "    Select * From extraction_methods \n",
    "    Where dataset = 'data3' and name like '%-ner-bert-sel1k-no-unit';\n",
    "\"\"\")\n",
    "method"
   ]
  },
  {
   "cell_type": "code",
   "execution_count": null,
   "metadata": {},
   "outputs": [],
   "source": [
    "# Number of paragraphs that passed the property specific NER filter.\n",
    "execute(\"\"\"\n",
    "        SELECT count(*) FROM filtered_paragraphs fp \n",
    "        WHERE fp.filter_name = :method_para;\n",
    "        \n",
    "        \"\"\", method_para = method.para_subset)"
   ]
  },
  {
   "cell_type": "code",
   "execution_count": 19,
   "metadata": {},
   "outputs": [],
   "source": [
    "# db.rollback()"
   ]
  },
  {
   "cell_type": "code",
   "execution_count": 22,
   "metadata": {},
   "outputs": [
    {
     "data": {
      "text/html": [
       "<div>\n",
       "<style scoped>\n",
       "    .dataframe tbody tr th:only-of-type {\n",
       "        vertical-align: middle;\n",
       "    }\n",
       "\n",
       "    .dataframe tbody tr th {\n",
       "        vertical-align: top;\n",
       "    }\n",
       "\n",
       "    .dataframe thead th {\n",
       "        text-align: right;\n",
       "    }\n",
       "</style>\n",
       "<table border=\"1\" class=\"dataframe\">\n",
       "  <thead>\n",
       "    <tr style=\"text-align: right;\">\n",
       "      <th></th>\n",
       "      <th>count</th>\n",
       "    </tr>\n",
       "  </thead>\n",
       "  <tbody>\n",
       "    <tr>\n",
       "      <th>0</th>\n",
       "      <td>10383</td>\n",
       "    </tr>\n",
       "  </tbody>\n",
       "</table>\n",
       "</div>"
      ],
      "text/plain": [
       "   count\n",
       "0  10383"
      ]
     },
     "execution_count": 22,
     "metadata": {},
     "output_type": "execute_result"
    }
   ],
   "source": [
    "# Number of materials extracted.\n",
    "execute(\"\"\"\n",
    "        SELECT count(*) FROM extracted_materials em\n",
    "        WHERE em.method_id >= 38 and em.method_id <= 65 \n",
    "        -- and em.method_id != 10;\n",
    "        \"\"\")"
   ]
  },
  {
   "cell_type": "code",
   "execution_count": 24,
   "metadata": {},
   "outputs": [
    {
     "data": {
      "text/html": [
       "<div>\n",
       "<style scoped>\n",
       "    .dataframe tbody tr th:only-of-type {\n",
       "        vertical-align: middle;\n",
       "    }\n",
       "\n",
       "    .dataframe tbody tr th {\n",
       "        vertical-align: top;\n",
       "    }\n",
       "\n",
       "    .dataframe thead th {\n",
       "        text-align: right;\n",
       "    }\n",
       "</style>\n",
       "<table border=\"1\" class=\"dataframe\">\n",
       "  <thead>\n",
       "    <tr style=\"text-align: right;\">\n",
       "      <th></th>\n",
       "      <th>count</th>\n",
       "    </tr>\n",
       "  </thead>\n",
       "  <tbody>\n",
       "    <tr>\n",
       "      <th>0</th>\n",
       "      <td>19857</td>\n",
       "    </tr>\n",
       "  </tbody>\n",
       "</table>\n",
       "</div>"
      ],
      "text/plain": [
       "   count\n",
       "0  19857"
      ]
     },
     "execution_count": 24,
     "metadata": {},
     "output_type": "execute_result"
    }
   ],
   "source": [
    "# Number of properties extracted.\n",
    "execute(\"\"\"\n",
    "        SELECT count(*) FROM extracted_properties ep\n",
    "        WHERE ep.method_id >= 38 and ep.method_id <= 65;\n",
    "        \"\"\")"
   ]
  },
  {
   "cell_type": "code",
   "execution_count": 25,
   "metadata": {},
   "outputs": [],
   "source": [
    "def execute_count(sql, **kwargs) -> pd.DataFrame:\n",
    "    \"\"\" Query the database using raw sql.\n",
    "        Return a pandas dataframe containing the results.\n",
    "    \"\"\"\n",
    "    results = postgres.raw_sql(sql, kwargs)\n",
    "    if not results:\n",
    "        return None\n",
    "    count = results[0][0]\n",
    "    return count"
   ]
  },
  {
   "cell_type": "code",
   "execution_count": 30,
   "metadata": {},
   "outputs": [],
   "source": [
    "id_name = {38: 'glass transition temperature',\n",
    "    39: 'melting temperature',\n",
    "    40: 'thermal decomposition temperature',\n",
    "    41: 'thermal conductivity',\n",
    "    42: 'tensile strength',\n",
    "    43: 'youngs modulus',\n",
    "    44: 'compressive strength', \n",
    "    45: 'elongation at break',\n",
    "    46: 'flexural strength',\n",
    "    47: 'impact strength',\n",
    "    48: 'ion exchange capacity',\n",
    "    49: 'ionic conductivity',\n",
    "    50: 'water contact angle',\n",
    "    51: 'dielectric constant',\n",
    "    52: 'density',\n",
    "    53:  'bandgap',\n",
    "    54: 'limiting oxygen index',\n",
    "    55: 'hardness',\n",
    "    56: 'lower critical solution temperature',\n",
    "    57: 'upper critical solution temperature',\n",
    "    58: 'CO_{2} permeability',\n",
    "    59: 'O_{2} permeability',\n",
    "    60: 'H_{2} permeability',\n",
    "    61: 'crystallization temperature', \n",
    "    62: 'refractive index', \n",
    "    63: 'water uptake', \n",
    "    64: 'swelling degree', \n",
    "    65: 'methanol permeability'}\n"
   ]
  },
  {
   "cell_type": "code",
   "execution_count": 31,
   "metadata": {},
   "outputs": [
    {
     "name": "stdout",
     "output_type": "stream",
     "text": [
      "glass transition temperature 2359\n",
      "melting temperature 252\n",
      "thermal decomposition temperature 131\n",
      "thermal conductivity 17\n",
      "tensile strength 141\n",
      "youngs modulus 18\n",
      "compressive strength 11\n",
      "elongation at break 72\n",
      "flexural strength 19\n",
      "impact strength 4\n",
      "ion exchange capacity 30\n",
      "ionic conductivity 53\n",
      "water contact angle 55\n",
      "dielectric constant 64\n",
      "density 101\n",
      "bandgap 1260\n",
      "limiting oxygen index 13\n",
      "hardness 9\n",
      "lower critical solution temperature 10\n",
      "upper critical solution temperature 0\n",
      "CO_{2} permeability 11\n",
      "O_{2} permeability 3\n",
      "H_{2} permeability 0\n",
      "crystallization temperature 18\n",
      "refractive index 27\n",
      "water uptake 8\n",
      "swelling degree 0\n",
      "methanol permeability 2\n"
     ]
    },
    {
     "data": {
      "text/plain": [
       "4688"
      ]
     },
     "execution_count": 31,
     "metadata": {},
     "output_type": "execute_result"
    }
   ],
   "source": [
    "count = 0\n",
    "\n",
    "for _id, _name in id_name.items():\n",
    "    result = execute_count(\"\"\"\n",
    "    SELECT count(ep.*)\n",
    "    FROM extracted_properties ep\n",
    "    WHERE ep.method_id = :id\n",
    "    AND exists (\n",
    "        SELECT 1\n",
    "        FROM property_metadata pm\n",
    "        WHERE pm.name = :name\n",
    "        AND ep.entity_name = ANY(ARRAY[pm.other_names])\n",
    "        );\n",
    "    \"\"\", id = _id, name = _name )\n",
    "    print(_name, result)\n",
    "    count +=result\n",
    "\n",
    "count"
   ]
  },
  {
   "cell_type": "code",
   "execution_count": null,
   "metadata": {},
   "outputs": [],
   "source": [
    "# F1-score for Tg.\n",
    "with open(\"runs/select-1k/bert/tg_metrics.json\") as fp:\n",
    "    print(json.load(fp))"
   ]
  },
  {
   "cell_type": "markdown",
   "metadata": {},
   "source": [
    "## Data1 - Property-specific NER - GPT Pipeline."
   ]
  },
  {
   "cell_type": "code",
   "execution_count": 7,
   "metadata": {},
   "outputs": [
    {
     "data": {
      "text/plain": [
       "[Row(name='h2_perm-gpt35-sel1k', dataset='data1', model='gpt-3.5-turbo', api='openai', para_subset='h2_perm-ner-sel1k-no-unit', extraction_info={'user': 'sonakshi', 'shot_selector': 'random', 'n_shots': 1, 'api_retry_delay': 60, 'delay_multiplier': 2.0, 'max_api_retries': 1, 'api_request_delay': 0.2, 'temperature': 0.001, 'prompt': \"Extract all hydrogen or H2 permeability values in JSONL format with 'material', 'property', 'value', 'condition' columns.\", 'shot_nrecords': 2, 'shot_keywords': 'false', 'property': None, 'prompt_id': 0}, id=110, date_added=datetime.datetime(2023, 10, 9, 14, 27, 59, 399824, tzinfo=datetime.timezone(datetime.timedelta(days=-1, seconds=72000)))),\n",
       " Row(name='lcst-gpt35-sel1k', dataset='data1', model='gpt-3.5-turbo', api='openai', para_subset='lcst-ner-sel1k-no-unit', extraction_info={'user': 'sonakshi', 'shot_selector': 'random', 'n_shots': 1, 'api_retry_delay': 60, 'delay_multiplier': 2.0, 'max_api_retries': 1, 'api_request_delay': 0.2, 'temperature': 0.001, 'prompt': \"Extract all lower critical solution temperature values in JSONL format with 'material', 'property', 'value', 'condition' columns.\", 'shot_nrecords': 2, 'shot_keywords': 'false', 'property': None, 'prompt_id': 0}, id=108, date_added=datetime.datetime(2023, 10, 9, 14, 27, 59, 338182, tzinfo=datetime.timezone(datetime.timedelta(days=-1, seconds=72000)))),\n",
       " Row(name='ri-gpt35-sel1k', dataset='data1', model='gpt-3.5-turbo', api='openai', para_subset='ri-ner-sel1k-no-unit', extraction_info={'user': 'sonakshi', 'shot_selector': 'random', 'n_shots': 1, 'api_retry_delay': 60, 'delay_multiplier': 2.0, 'max_api_retries': 1, 'api_request_delay': 0.2, 'temperature': 0.001, 'prompt': \"Extract all refractive index values in JSONL format with 'material', 'property', 'value', 'condition' columns.\", 'shot_nrecords': 2, 'shot_keywords': 'false', 'property': None, 'prompt_id': 0}, id=116, date_added=datetime.datetime(2023, 10, 9, 14, 29, 12, 812407, tzinfo=datetime.timezone(datetime.timedelta(days=-1, seconds=72000)))),\n",
       " Row(name='td-gpt35-sel1k', dataset='data1', model='gpt-3.5-turbo', api='openai', para_subset='td-ner-sel1k-no-unit', extraction_info={'user': 'sonakshi', 'shot_selector': 'random', 'n_shots': 1, 'api_retry_delay': 60, 'delay_multiplier': 2.0, 'max_api_retries': 1, 'api_request_delay': 0.2, 'temperature': 0.001, 'prompt': \"Extract all thermal decomposition temperature or thermal stability or Td values in JSONL format with 'material', 'property', 'value', 'condition' columns.\", 'shot_nrecords': 2, 'shot_keywords': 'false', 'property': None, 'prompt_id': 0}, id=115, date_added=datetime.datetime(2023, 10, 9, 14, 29, 12, 746045, tzinfo=datetime.timezone(datetime.timedelta(days=-1, seconds=72000)))),\n",
       " Row(name='ct-gpt35-sel1k', dataset='data1', model='gpt-3.5-turbo', api='openai', para_subset='ct-ner-sel1k-no-unit', extraction_info={'user': 'sonakshi', 'shot_selector': 'random', 'n_shots': 1, 'api_retry_delay': 60, 'delay_multiplier': 2.0, 'max_api_retries': 1, 'api_request_delay': 0.2, 'temperature': 0.001, 'prompt': \"Extract all crystallization temperature or Tc values in JSONL format with 'material', 'property', 'value', 'condition' columns.\", 'shot_nrecords': 2, 'shot_keywords': 'false', 'property': None, 'prompt_id': 0}, id=103, date_added=datetime.datetime(2023, 10, 9, 14, 26, 23, 738124, tzinfo=datetime.timezone(datetime.timedelta(days=-1, seconds=72000)))),\n",
       " Row(name='sd-gpt35-sel1k', dataset='data1', model='gpt-3.5-turbo', api='openai', para_subset='sd-ner-sel1k-no-unit', extraction_info={'user': 'sonakshi', 'shot_selector': 'random', 'n_shots': 1, 'api_retry_delay': 60, 'delay_multiplier': 2.0, 'max_api_retries': 1, 'api_request_delay': 0.2, 'temperature': 0.001, 'prompt': \"Extract all swelling degree values in JSONL format with 'material', 'property', 'value', 'condition' columns.\", 'shot_nrecords': 2, 'shot_keywords': 'false'}, id=126, date_added=datetime.datetime(2023, 10, 9, 14, 29, 13, 341392, tzinfo=datetime.timezone(datetime.timedelta(days=-1, seconds=72000)))),\n",
       " Row(name='ionic_cond-gpt35-sel1k', dataset='data1', model='gpt-3.5-turbo', api='openai', para_subset='ionic_cond-ner-sel1k-no-unit', extraction_info={'user': 'sonakshi', 'shot_selector': 'random', 'n_shots': 1, 'api_retry_delay': 60, 'delay_multiplier': 2.0, 'max_api_retries': 1, 'api_request_delay': 0.2, 'temperature': 0.001, 'prompt': \"Extract all proton conductivity or ionic conductivity or hydroxide conductivity or OH^{-} conductivity values in JSONL format with 'material', 'property', 'value', 'condition' columns.\", 'shot_nrecords': 2, 'shot_keywords': 'false', 'property': None, 'prompt_id': 0}, id=112, date_added=datetime.datetime(2023, 10, 9, 14, 27, 59, 417456, tzinfo=datetime.timezone(datetime.timedelta(days=-1, seconds=72000)))),\n",
       " Row(name='loi-gpt35-sel1k', dataset='data1', model='gpt-3.5-turbo', api='openai', para_subset='loi-ner-sel1k-no-unit', extraction_info={'user': 'sonakshi', 'shot_selector': 'random', 'n_shots': 1, 'api_retry_delay': 60, 'delay_multiplier': 2.0, 'max_api_retries': 1, 'api_request_delay': 0.2, 'temperature': 0.001, 'prompt': \"Extract all limiting oxygen index values in JSONL format with 'material', 'property', 'value', 'condition' columns.\", 'shot_nrecords': 2, 'shot_keywords': 'false', 'property': None, 'prompt_id': 0}, id=120, date_added=datetime.datetime(2023, 10, 9, 14, 29, 13, 8154, tzinfo=datetime.timezone(datetime.timedelta(days=-1, seconds=72000)))),\n",
       " Row(name='tg-gpt35-sel1k', dataset='data1', model='gpt-3.5-turbo', api='openai', para_subset='tg-ner-sel1k-no-unit', extraction_info={'user': 'sonakshi', 'shot_selector': 'random', 'n_shots': 1, 'api_retry_delay': 60, 'delay_multiplier': 2.0, 'max_api_retries': 1, 'api_request_delay': 0.2, 'temperature': 0.001, 'prompt': \"Extract all glass transition temperature or Tg values in JSONL format with 'material', 'property', 'value', 'condition' columns.\", 'shot_nrecords': 2, 'shot_keywords': 'false', 'property': None, 'prompt_id': 0}, id=121, date_added=datetime.datetime(2023, 10, 9, 14, 29, 13, 16268, tzinfo=datetime.timezone(datetime.timedelta(days=-1, seconds=72000)))),\n",
       " Row(name='tm-gpt35-sel1k', dataset='data1', model='gpt-3.5-turbo', api='openai', para_subset='tm-ner-sel1k-no-unit', extraction_info={'user': 'sonakshi', 'shot_selector': 'random', 'n_shots': 1, 'api_retry_delay': 60, 'delay_multiplier': 2.0, 'max_api_retries': 1, 'api_request_delay': 0.2, 'temperature': 0.001, 'prompt': \"Extract all melting temperature values in JSONL format with 'material', 'property', 'value', 'condition' columns.\", 'shot_nrecords': 2, 'shot_keywords': 'false', 'property': None, 'prompt_id': 0}, id=118, date_added=datetime.datetime(2023, 10, 9, 14, 29, 12, 889908, tzinfo=datetime.timezone(datetime.timedelta(days=-1, seconds=72000)))),\n",
       " Row(name='wca-gpt35-sel1k', dataset='data1', model='gpt-3.5-turbo', api='openai', para_subset='wca-ner-sel1k-no-unit', extraction_info={'user': 'sonakshi', 'shot_selector': 'random', 'n_shots': 1, 'api_retry_delay': 60, 'delay_multiplier': 2.0, 'max_api_retries': 1, 'api_request_delay': 0.2, 'temperature': 0.001, 'prompt': \"Extract all water contact angle values in JSONL format with 'material', 'property', 'value', 'condition' columns.\", 'shot_nrecords': 2, 'shot_keywords': 'false', 'property': None, 'prompt_id': 0}, id=119, date_added=datetime.datetime(2023, 10, 9, 14, 29, 12, 919646, tzinfo=datetime.timezone(datetime.timedelta(days=-1, seconds=72000)))),\n",
       " Row(name='iec-gpt35-sel1k', dataset='data1', model='gpt-3.5-turbo', api='openai', para_subset='iec-ner-sel1k-no-unit', extraction_info={'user': 'sonakshi', 'shot_selector': 'random', 'n_shots': 1, 'api_retry_delay': 60, 'delay_multiplier': 2.0, 'max_api_retries': 1, 'api_request_delay': 0.2, 'temperature': 0.001, 'prompt': \"Extract all ion exchange capacity or iec values in JSONL format with 'material', 'property', 'value', 'condition' columns.\", 'shot_nrecords': 2, 'shot_keywords': 'false', 'property': None, 'prompt_id': 0}, id=105, date_added=datetime.datetime(2023, 10, 9, 14, 27, 59, 95940, tzinfo=datetime.timezone(datetime.timedelta(days=-1, seconds=72000)))),\n",
       " Row(name='is-gpt35-sel1k', dataset='data1', model='gpt-3.5-turbo', api='openai', para_subset='is-ner-sel1k-no-unit', extraction_info={'user': 'sonakshi', 'shot_selector': 'random', 'n_shots': 1, 'api_retry_delay': 60, 'delay_multiplier': 2.0, 'max_api_retries': 1, 'api_request_delay': 0.2, 'temperature': 0.001, 'prompt': \"Extract all impact strength values in JSONL format with 'material', 'property', 'value', 'condition' columns.\", 'shot_nrecords': 2, 'shot_keywords': 'false', 'property': None, 'prompt_id': 0}, id=106, date_added=datetime.datetime(2023, 10, 9, 14, 27, 59, 190556, tzinfo=datetime.timezone(datetime.timedelta(days=-1, seconds=72000)))),\n",
       " Row(name='density-gpt35-sel1k', dataset='data1', model='gpt-3.5-turbo', api='openai', para_subset='density-ner-sel1k-no-unit', extraction_info={'user': 'sonakshi', 'shot_selector': 'random', 'n_shots': 1, 'api_retry_delay': 60, 'delay_multiplier': 0.5, 'max_api_retries': 1, 'api_request_delay': 0.01, 'temperature': 0.001, 'prompt': \"Extract all density values in JSONL format with 'material', 'property', 'value', 'condition' columns.\", 'shot_nrecords': 2, 'shot_keywords': 'false', 'property': None, 'prompt_id': 0}, id=107, date_added=datetime.datetime(2023, 10, 9, 14, 27, 59, 326631, tzinfo=datetime.timezone(datetime.timedelta(days=-1, seconds=72000)))),\n",
       " Row(name='fs-gpt35-sel1k', dataset='data1', model='gpt-3.5-turbo', api='openai', para_subset='fs-ner-sel1k-no-unit', extraction_info={'user': 'sonakshi', 'shot_selector': 'random', 'n_shots': 1, 'api_retry_delay': 60, 'delay_multiplier': 2.0, 'max_api_retries': 1, 'api_request_delay': 0.2, 'temperature': 0.001, 'prompt': \"Extract all flexural strength or bend strength or modulus of rupture or transverse rupture strength values in JSONL format with 'material', 'property', 'value', 'condition' columns.\", 'shot_nrecords': 2, 'shot_keywords': 'false', 'property': None, 'prompt_id': 0}, id=111, date_added=datetime.datetime(2023, 10, 9, 14, 27, 59, 407692, tzinfo=datetime.timezone(datetime.timedelta(days=-1, seconds=72000)))),\n",
       " Row(name='eab-gpt35-sel1k', dataset='data1', model='gpt-3.5-turbo', api='openai', para_subset='eab-ner-sel1k-no-unit', extraction_info={'user': 'sonakshi', 'shot_selector': 'random', 'n_shots': 1, 'api_retry_delay': 60, 'delay_multiplier': 0.5, 'max_api_retries': 1, 'api_request_delay': 0.01, 'temperature': 0.001, 'prompt': \"Extract all elongation at break values in JSONL format with 'material', 'property', 'value', 'condition' columns.\", 'shot_nrecords': 2, 'shot_keywords': 'false', 'property': None, 'prompt_id': 0}, id=104, date_added=datetime.datetime(2023, 10, 9, 14, 27, 58, 995279, tzinfo=datetime.timezone(datetime.timedelta(days=-1, seconds=72000)))),\n",
       " Row(name='hardness-gpt35-sel1k', dataset='data1', model='gpt-3.5-turbo', api='openai', para_subset='hardness-ner-sel1k-no-unit', extraction_info={'user': 'sonakshi', 'shot_selector': 'random', 'n_shots': 1, 'api_retry_delay': 60, 'delay_multiplier': 0.5, 'max_api_retries': 1, 'api_request_delay': 0.01, 'temperature': 0.001, 'prompt': \"Extract all hardness values in JSONL format with 'material', 'property', 'value', 'condition' columns.\", 'shot_nrecords': 2, 'shot_keywords': 'false', 'property': None, 'prompt_id': 0}, id=109, date_added=datetime.datetime(2023, 10, 9, 14, 27, 59, 378904, tzinfo=datetime.timezone(datetime.timedelta(days=-1, seconds=72000)))),\n",
       " Row(name='co2_perm-gpt35-sel1k', dataset='data1', model='gpt-3.5-turbo', api='openai', para_subset='co2_perm-ner-sel1k-no-unit', extraction_info={'user': 'sonakshi', 'shot_selector': 'random', 'n_shots': 1, 'api_retry_delay': 60, 'delay_multiplier': 2.0, 'max_api_retries': 1, 'api_request_delay': 0.2, 'temperature': 0.001, 'prompt': \"Extract all CO2 permeability values in JSONL format with 'material', 'property', 'value', 'condition' columns.\", 'shot_nrecords': 2, 'shot_keywords': 'false', 'property': None, 'prompt_id': 0}, id=100, date_added=datetime.datetime(2023, 10, 9, 14, 26, 23, 560802, tzinfo=datetime.timezone(datetime.timedelta(days=-1, seconds=72000)))),\n",
       " Row(name='cs-gpt35-sel1k', dataset='data1', model='gpt-3.5-turbo', api='openai', para_subset='cs-ner-sel1k-no-unit', extraction_info={'user': 'sonakshi', 'shot_selector': 'random', 'n_shots': 1, 'api_retry_delay': 60, 'delay_multiplier': 2.0, 'max_api_retries': 1, 'api_request_delay': 0.2, 'temperature': 0.001, 'prompt': \"Extract all compressive strength or compressive modulus values in JSONL format with 'material', 'property', 'value', 'condition' columns.\", 'shot_nrecords': 2, 'shot_keywords': 'false', 'property': None, 'prompt_id': 0}, id=101, date_added=datetime.datetime(2023, 10, 9, 14, 26, 23, 564522, tzinfo=datetime.timezone(datetime.timedelta(days=-1, seconds=72000)))),\n",
       " Row(name='bandgap-gpt35-sel1k', dataset='data1', model='gpt-3.5-turbo', api='openai', para_subset='bandgap-ner-sel1k-no-unit', extraction_info={'user': 'sonakshi', 'shot_selector': 'random', 'n_shots': 1, 'api_retry_delay': 60, 'delay_multiplier': 2.0, 'max_api_retries': 1, 'api_request_delay': 0.2, 'temperature': 0.001, 'prompt': \"Extract all bandgap  values in JSONL format with 'material', 'property', 'value', 'condition' columns.\", 'shot_nrecords': 2, 'shot_keywords': 'false', 'property': None, 'prompt_id': 0}, id=99, date_added=datetime.datetime(2023, 10, 9, 14, 23, 45, 105854, tzinfo=datetime.timezone(datetime.timedelta(days=-1, seconds=72000)))),\n",
       " Row(name='dc-gpt35-sel1k', dataset='data1', model='gpt-3.5-turbo', api='openai', para_subset='dc-ner-sel1k-no-unit', extraction_info={'user': 'sonakshi', 'shot_selector': 'random', 'n_shots': 1, 'api_retry_delay': 60, 'delay_multiplier': 2.0, 'max_api_retries': 1, 'api_request_delay': 0.2, 'temperature': 0.001, 'prompt': \"Extract all dielectric constant or relative permittivity values in JSONL format with 'material', 'property', 'value', 'condition' columns.\", 'shot_nrecords': 2, 'shot_keywords': 'false', 'property': None, 'prompt_id': 0}, id=102, date_added=datetime.datetime(2023, 10, 9, 14, 26, 23, 573849, tzinfo=datetime.timezone(datetime.timedelta(days=-1, seconds=72000)))),\n",
       " Row(name='ucst-gpt35-sel1k', dataset='data1', model='gpt-3.5-turbo', api='openai', para_subset='ucst-ner-sel1k-no-unit', extraction_info={'user': 'sonakshi', 'shot_selector': 'random', 'n_shots': 1, 'api_retry_delay': 60, 'delay_multiplier': 2.0, 'max_api_retries': 1, 'api_request_delay': 0.2, 'temperature': 0.001, 'prompt': \"Extract all upper critical solution temperature values in JSONL format with 'material', 'property', 'value', 'condition' columns.\", 'shot_nrecords': 2, 'shot_keywords': 'false', 'property': None, 'prompt_id': 0}, id=125, date_added=datetime.datetime(2023, 10, 9, 14, 29, 13, 232740, tzinfo=datetime.timezone(datetime.timedelta(days=-1, seconds=72000)))),\n",
       " Row(name='wu-gpt35-sel1k', dataset='data1', model='gpt-3.5-turbo', api='openai', para_subset='wu-ner-sel1k-no-unit', extraction_info={'user': 'sonakshi', 'shot_selector': 'random', 'n_shots': 1, 'api_retry_delay': 60, 'delay_multiplier': 2.0, 'max_api_retries': 1, 'api_request_delay': 0.2, 'temperature': 0.001, 'prompt': \"Extract all water uptake values in JSONL format with 'material', 'property', 'value', 'condition' columns.\", 'shot_nrecords': 2, 'shot_keywords': 'false', 'property': None, 'prompt_id': 0}, id=122, date_added=datetime.datetime(2023, 10, 9, 14, 29, 13, 34789, tzinfo=datetime.timezone(datetime.timedelta(days=-1, seconds=72000)))),\n",
       " Row(name='ym-gpt35-sel1k', dataset='data1', model='gpt-3.5-turbo', api='openai', para_subset='ym-ner-sel1k-no-unit', extraction_info={'user': 'sonakshi', 'shot_selector': 'random', 'n_shots': 1, 'api_retry_delay': 60, 'delay_multiplier': 2.0, 'max_api_retries': 1, 'api_request_delay': 0.2, 'temperature': 0.001, 'prompt': \"Extract all youngs modulus values in JSONL format with 'material', 'property', 'value', 'condition' columns.\", 'shot_nrecords': 2, 'shot_keywords': 'false', 'property': None, 'prompt_id': 0}, id=114, date_added=datetime.datetime(2023, 10, 9, 14, 29, 12, 732946, tzinfo=datetime.timezone(datetime.timedelta(days=-1, seconds=72000)))),\n",
       " Row(name='methanol_perm-gpt35-sel1k', dataset='data1', model='gpt-3.5-turbo', api='openai', para_subset='methanol_perm-ner-sel1k-no-unit', extraction_info={'user': 'sonakshi', 'shot_selector': 'random', 'n_shots': 1, 'api_retry_delay': 60, 'delay_multiplier': 2.0, 'max_api_retries': 1, 'api_request_delay': 0.2, 'temperature': 0.001, 'prompt': \"Extract all methanol permeability values in JSONL format with 'material', 'property', 'value', 'condition' columns.\", 'shot_nrecords': 2, 'shot_keywords': 'false', 'property': None, 'prompt_id': 0}, id=113, date_added=datetime.datetime(2023, 10, 9, 14, 29, 12, 707117, tzinfo=datetime.timezone(datetime.timedelta(days=-1, seconds=72000)))),\n",
       " Row(name='tc-gpt35-sel1k', dataset='data1', model='gpt-3.5-turbo', api='openai', para_subset='tc-ner-sel1k-no-unit', extraction_info={'user': 'sonakshi', 'shot_selector': 'random', 'n_shots': 1, 'api_retry_delay': 60, 'delay_multiplier': 2.0, 'max_api_retries': 1, 'api_request_delay': 0.2, 'temperature': 0.001, 'prompt': \"Extract all thermal conductivity values in JSONL format with 'material', 'property', 'value', 'condition' columns.\", 'shot_nrecords': 2, 'shot_keywords': 'false', 'property': None, 'prompt_id': 0}, id=124, date_added=datetime.datetime(2023, 10, 9, 14, 29, 13, 118366, tzinfo=datetime.timezone(datetime.timedelta(days=-1, seconds=72000)))),\n",
       " Row(name='o2_perm-gpt35-sel1k', dataset='data1', model='gpt-3.5-turbo', api='openai', para_subset='o2_perm-ner-sel1k-no-unit', extraction_info={'user': 'sonakshi', 'shot_selector': 'random', 'n_shots': 1, 'api_retry_delay': 60, 'delay_multiplier': 2.0, 'max_api_retries': 1, 'api_request_delay': 0.2, 'temperature': 0.001, 'prompt': \"Extract all oxygen or O2 permeability values in JSONL format with 'material', 'property', 'value', 'condition' columns.\", 'shot_nrecords': 2, 'shot_keywords': 'false', 'property': None, 'prompt_id': 0}, id=123, date_added=datetime.datetime(2023, 10, 9, 14, 29, 13, 50106, tzinfo=datetime.timezone(datetime.timedelta(days=-1, seconds=72000)))),\n",
       " Row(name='ts-gpt35-sel1k', dataset='data1', model='gpt-3.5-turbo', api='openai', para_subset='ts-ner-sel1k-no-unit', extraction_info={'user': 'sonakshi', 'shot_selector': 'random', 'n_shots': 1, 'api_retry_delay': 60, 'delay_multiplier': 2.0, 'max_api_retries': 1, 'api_request_delay': 0.2, 'temperature': 0.001, 'prompt': \"Extract all tensile strength or ultimate strength values in JSONL format with 'material', 'property', 'value', 'condition' columns.\", 'shot_nrecords': 2, 'shot_keywords': 'false', 'property': None, 'prompt_id': 0}, id=117, date_added=datetime.datetime(2023, 10, 9, 14, 29, 12, 866645, tzinfo=datetime.timezone(datetime.timedelta(days=-1, seconds=72000))))]"
      ]
     },
     "execution_count": 7,
     "metadata": {},
     "output_type": "execute_result"
    }
   ],
   "source": [
    "method = postgres.raw_sql(\"\"\"\n",
    "    Select * From extraction_methods \n",
    "    Where dataset = 'data1' and name like '%-gpt35-sel1k';\n",
    "\"\"\")\n",
    "method"
   ]
  },
  {
   "cell_type": "code",
   "execution_count": 8,
   "metadata": {},
   "outputs": [
    {
     "data": {
      "text/html": [
       "<div>\n",
       "<style scoped>\n",
       "    .dataframe tbody tr th:only-of-type {\n",
       "        vertical-align: middle;\n",
       "    }\n",
       "\n",
       "    .dataframe tbody tr th {\n",
       "        vertical-align: top;\n",
       "    }\n",
       "\n",
       "    .dataframe thead th {\n",
       "        text-align: right;\n",
       "    }\n",
       "</style>\n",
       "<table border=\"1\" class=\"dataframe\">\n",
       "  <thead>\n",
       "    <tr style=\"text-align: right;\">\n",
       "      <th></th>\n",
       "      <th>count</th>\n",
       "    </tr>\n",
       "  </thead>\n",
       "  <tbody>\n",
       "    <tr>\n",
       "      <th>0</th>\n",
       "      <td>7188</td>\n",
       "    </tr>\n",
       "  </tbody>\n",
       "</table>\n",
       "</div>"
      ],
      "text/plain": [
       "   count\n",
       "0   7188"
      ]
     },
     "execution_count": 8,
     "metadata": {},
     "output_type": "execute_result"
    }
   ],
   "source": [
    "# Number of materials extracted.\n",
    "execute(\"\"\"\n",
    "      SELECT count(*) FROM extracted_materials em\n",
    "      WHERE em.method_id >= 99 and em.method_id <= 126\n",
    "      \"\"\")"
   ]
  },
  {
   "cell_type": "code",
   "execution_count": 11,
   "metadata": {},
   "outputs": [
    {
     "data": {
      "text/html": [
       "<div>\n",
       "<style scoped>\n",
       "    .dataframe tbody tr th:only-of-type {\n",
       "        vertical-align: middle;\n",
       "    }\n",
       "\n",
       "    .dataframe tbody tr th {\n",
       "        vertical-align: top;\n",
       "    }\n",
       "\n",
       "    .dataframe thead th {\n",
       "        text-align: right;\n",
       "    }\n",
       "</style>\n",
       "<table border=\"1\" class=\"dataframe\">\n",
       "  <thead>\n",
       "    <tr style=\"text-align: right;\">\n",
       "      <th></th>\n",
       "      <th>count</th>\n",
       "    </tr>\n",
       "  </thead>\n",
       "  <tbody>\n",
       "    <tr>\n",
       "      <th>0</th>\n",
       "      <td>9746</td>\n",
       "    </tr>\n",
       "  </tbody>\n",
       "</table>\n",
       "</div>"
      ],
      "text/plain": [
       "   count\n",
       "0   9746"
      ]
     },
     "execution_count": 11,
     "metadata": {},
     "output_type": "execute_result"
    }
   ],
   "source": [
    "# Number of properties extracted.\n",
    "execute(\"\"\"\n",
    "        SELECT count(*) FROM extracted_properties ep\n",
    "        WHERE ep.method_id >= 99 and ep.method_id <= 126\n",
    "        --group by ep.method_id;\n",
    "        \"\"\")"
   ]
  },
  {
   "cell_type": "code",
   "execution_count": 9,
   "metadata": {},
   "outputs": [
    {
     "name": "stdout",
     "output_type": "stream",
     "text": [
      "5875.01\n"
     ]
    }
   ],
   "source": [
    "# Time for heuristic filtering.\n",
    "!grep \"All done.\" filtered_paras/sel1k/hf/*.log | awk -F '(took | s)' '{sum += $2} END {print sum}'"
   ]
  },
  {
   "cell_type": "code",
   "execution_count": 20,
   "metadata": {},
   "outputs": [
    {
     "name": "stdout",
     "output_type": "stream",
     "text": [
      "517.561\n"
     ]
    }
   ],
   "source": [
    "# Time for ner filtering.\n",
    "!grep \"All Done.\" filtered_paras/sel1k/ner-no-unit/*.log | awk -F '(took | s)' '{sum += $2} END {print sum}'"
   ]
  },
  {
   "cell_type": "code",
   "execution_count": 16,
   "metadata": {},
   "outputs": [
    {
     "name": "stdout",
     "output_type": "stream",
     "text": [
      "105150\n"
     ]
    }
   ],
   "source": [
    "# Time for extraction.\n",
    "!grep \"All done.\" filtered_paras/sel1k/gpt/*.log | awk -F '(took | s)' '{sum += $2} END {print sum}'"
   ]
  },
  {
   "cell_type": "code",
   "execution_count": 21,
   "metadata": {},
   "outputs": [
    {
     "name": "stdout",
     "output_type": "stream",
     "text": [
      "1 day, 6:59:02.571000\n",
      "30.98 hours\n"
     ]
    }
   ],
   "source": [
    "timings(5875.01+517.561+105150)"
   ]
  },
  {
   "cell_type": "code",
   "execution_count": null,
   "metadata": {},
   "outputs": [],
   "source": []
  },
  {
   "cell_type": "markdown",
   "metadata": {},
   "source": [
    "## Summary Plots"
   ]
  },
  {
   "cell_type": "code",
   "execution_count": 22,
   "metadata": {},
   "outputs": [
    {
     "data": {
      "text/html": [
       "<div>\n",
       "<style scoped>\n",
       "    .dataframe tbody tr th:only-of-type {\n",
       "        vertical-align: middle;\n",
       "    }\n",
       "\n",
       "    .dataframe tbody tr th {\n",
       "        vertical-align: top;\n",
       "    }\n",
       "\n",
       "    .dataframe thead th {\n",
       "        text-align: right;\n",
       "    }\n",
       "</style>\n",
       "<table border=\"1\" class=\"dataframe\">\n",
       "  <thead>\n",
       "    <tr style=\"text-align: right;\">\n",
       "      <th></th>\n",
       "      <th>materials</th>\n",
       "      <th>properties</th>\n",
       "      <th>hours</th>\n",
       "      <th>cost</th>\n",
       "      <th>Tg</th>\n",
       "      <th>Eg</th>\n",
       "    </tr>\n",
       "    <tr>\n",
       "      <th>name</th>\n",
       "      <th></th>\n",
       "      <th></th>\n",
       "      <th></th>\n",
       "      <th></th>\n",
       "      <th></th>\n",
       "      <th></th>\n",
       "    </tr>\n",
       "  </thead>\n",
       "  <tbody>\n",
       "    <tr>\n",
       "      <th>P-NER-GPT / Random</th>\n",
       "      <td>7188</td>\n",
       "      <td>9746</td>\n",
       "      <td>30.98</td>\n",
       "      <td>8.52</td>\n",
       "      <td>0.67</td>\n",
       "      <td>0.87</td>\n",
       "    </tr>\n",
       "    <tr>\n",
       "      <th>G-NER-BERT</th>\n",
       "      <td>9106</td>\n",
       "      <td>16368</td>\n",
       "      <td>1.34</td>\n",
       "      <td>0.00</td>\n",
       "      <td>0.65</td>\n",
       "      <td>0.65</td>\n",
       "    </tr>\n",
       "    <tr>\n",
       "      <th>G-NER-LlaMa</th>\n",
       "      <td>12641</td>\n",
       "      <td>20825</td>\n",
       "      <td>85.22</td>\n",
       "      <td>0.00</td>\n",
       "      <td>0.58</td>\n",
       "      <td>0.77</td>\n",
       "    </tr>\n",
       "    <tr>\n",
       "      <th>G-NER-GPT / Random</th>\n",
       "      <td>16191</td>\n",
       "      <td>29516</td>\n",
       "      <td>20.78</td>\n",
       "      <td>11.42</td>\n",
       "      <td>0.65</td>\n",
       "      <td>0.81</td>\n",
       "    </tr>\n",
       "    <tr>\n",
       "      <th>G-NER-GPT / Similar</th>\n",
       "      <td>15800</td>\n",
       "      <td>29282</td>\n",
       "      <td>31.89</td>\n",
       "      <td>10.24</td>\n",
       "      <td>0.67</td>\n",
       "      <td>0.84</td>\n",
       "    </tr>\n",
       "  </tbody>\n",
       "</table>\n",
       "</div>"
      ],
      "text/plain": [
       "                     materials  properties  hours   cost    Tg    Eg\n",
       "name                                                                \n",
       "P-NER-GPT / Random        7188        9746  30.98   8.52  0.67  0.87\n",
       "G-NER-BERT                9106       16368   1.34   0.00  0.65  0.65\n",
       "G-NER-LlaMa              12641       20825  85.22   0.00  0.58  0.77\n",
       "G-NER-GPT / Random       16191       29516  20.78  11.42  0.65  0.81\n",
       "G-NER-GPT / Similar      15800       29282  31.89  10.24  0.67  0.84"
      ]
     },
     "execution_count": 22,
     "metadata": {},
     "output_type": "execute_result"
    }
   ],
   "source": [
    "data = Frame()\n",
    "data.add(name='P-NER-GPT / Random', materials=7188, properties=9746, hours=30.98, cost=8.52, Tg=0.67, Eg=0.87)\n",
    "data.add(name='G-NER-BERT', materials=9106, properties=16368, hours=1.34, cost=0.0, Tg=0.65, Eg=0.65)\n",
    "data.add(name='G-NER-LlaMa', materials=12641, properties=20825, hours=85.22, cost=0.0, Tg=0.58, Eg=0.77)\n",
    "data.add(name='G-NER-GPT / Random', materials=16191, properties=29516, hours=20.78, cost=11.42, Tg=0.65, Eg=0.81)\n",
    "data.add(name='G-NER-GPT / Similar', materials=15800, properties=29282, hours=31.89, cost=10.24, Tg=0.67, Eg=0.84)\n",
    "\n",
    "metrics = data.df.set_index('name')\n",
    "metrics"
   ]
  },
  {
   "cell_type": "code",
   "execution_count": 23,
   "metadata": {},
   "outputs": [
    {
     "data": {
      "image/png": "[encoded data removed]",
      "text/plain": [
       "<Figure size 325x400 with 6 Axes>"
      ]
     },
     "metadata": {},
     "output_type": "display_data"
    }
   ],
   "source": [
    "plt.rcParams['font.family'] = 'cursive'\n",
    "colors = [\"#333\", \"#2060cc\", \"#e93030\", \"#20aa20\", \"#8a5aca\", \"#00ddee\", \"m\", \"#e4a635\"][:metrics.shape[0]]\n",
    "\n",
    "fig, axes = plt.subplots(3, 2, figsize=(3.25, 4), sharex=True)\n",
    "axes = axes.flatten()\n",
    "\n",
    "barprops = dict(color=colors, align='center', width=0.8)\n",
    "\n",
    "ax = axes[0]\n",
    "metrics['materials'].plot.bar(ax=ax, **barprops)\n",
    "ax.set(ylabel='Materials Extracted')\n",
    "\n",
    "ax = axes[1]\n",
    "metrics['properties'].plot.bar(ax=ax, **barprops)\n",
    "ax.set(ylabel='Data Extracted')\n",
    "\n",
    "ax = axes[2]\n",
    "metrics['Tg'].plot.bar(ax=ax, **barprops)\n",
    "ax.set(ylabel='$T_g$ F1 score', ylim=(0.5, 0.9))\n",
    "\n",
    "ax = axes[3]\n",
    "metrics['Eg'].plot.bar(ax=ax, **barprops)\n",
    "ax.set(ylabel='$E_g$ F1 score', ylim=(0.5, 0.9))\n",
    "\n",
    "ax = axes[4]\n",
    "metrics['hours'].plot.bar(ax=ax, **barprops)\n",
    "ax.set(ylabel='Time (hours)')\n",
    "\n",
    "ax = axes[5]\n",
    "metrics['cost'].plot.bar(ax=ax, **barprops)\n",
    "ax.set(ylabel='Cost (\\$)')\n",
    "\n",
    "for ax in axes.flatten():\n",
    "    ax.set(xlabel='')\n",
    "    ax.tick_params(axis='x', which='minor', bottom=False)\n",
    "\n",
    "plt.tight_layout()\n",
    "plt.savefig(\"notebooks/Selec1k-Bars.eps\")\n",
    "plt.show()"
   ]
  },
  {
   "cell_type": "code",
   "execution_count": null,
   "metadata": {},
   "outputs": [],
   "source": []
  }
 ],
 "metadata": {
  "kernelspec": {
   "display_name": "Python 3",
   "language": "python",
   "name": "python3"
  },
  "language_info": {
   "codemirror_mode": {
    "name": "ipython",
    "version": 3
   },
   "file_extension": ".py",
   "mimetype": "text/x-python",
   "name": "python",
   "nbconvert_exporter": "python",
   "pygments_lexer": "ipython3",
   "version": "3.10.12"
  },
  "orig_nbformat": 4
 },
 "nbformat": 4,
 "nbformat_minor": 2
}

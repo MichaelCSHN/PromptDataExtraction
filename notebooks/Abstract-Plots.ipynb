{
 "cells": [
  {
   "cell_type": "code",
   "execution_count": 1,
   "metadata": {},
   "outputs": [],
   "source": [
    "import os\n",
    "import numpy as np\n",
    "import pandas as pd\n",
    "import matplotlib.pyplot as plt"
   ]
  },
  {
   "cell_type": "code",
   "execution_count": 2,
   "metadata": {},
   "outputs": [],
   "source": [
    "plt.style.use(\"~/matplotlib.mplstyle\")\n",
    "plt.rcParams['font.family'] = 'cursive'"
   ]
  },
  {
   "cell_type": "code",
   "execution_count": 3,
   "metadata": {},
   "outputs": [],
   "source": [
    "tg = pd.read_csv('../runs/abstract/tg_metrics.csv')\n",
    "eg = pd.read_csv('../runs/abstract/eg_metrics.csv')"
   ]
  },
  {
   "cell_type": "code",
   "execution_count": 6,
   "metadata": {},
   "outputs": [
    {
     "name": "stdout",
     "output_type": "stream",
     "text": [
      "Save OK: abstract-f1-scores.svg\n"
     ]
    },
    {
     "data": {
      "image/png": "[encoded data removed]",
      "text/plain": [
       "<Figure size 315.6x120 with 2 Axes>"
      ]
     },
     "metadata": {},
     "output_type": "display_data"
    }
   ],
   "source": [
    "runs = tg.run.unique()\n",
    "\n",
    "# Plot f-1 \n",
    "outfile = \"abstract-f1-scores.svg\"\n",
    "\n",
    "fig, axes = plt.subplots(1,2, sharey=True, figsize=(2.63, 1.0))\n",
    "\n",
    "ax = axes[0]\n",
    "for r in runs:\n",
    "    mask = (tg.run == r) & (tg.api == 'llm')\n",
    "    y_llm = tg[mask]['F1']\n",
    "    x = tg[mask]['shots']\n",
    "    ax.plot(x, y_llm, '.-', label=\"Run %d\" %r)\n",
    "ax.set(ylabel='F1 score', xlabel='No. of shots', xticks=range(0, 6))\n",
    "ax.tick_params(axis='x', which='minor', bottom=False)\n",
    "ax.legend(loc=(-0.2, 1.01), ncol=3)\n",
    "\n",
    "ax = axes[1]\n",
    "for r in runs:\n",
    "    mask = (eg.run == r) & (eg.api == 'llm')\n",
    "    y_llm = eg[mask]['F1']\n",
    "    x = eg[mask]['shots']\n",
    "    ax.plot(x, y_llm, '.-', label=\"Run %d\" %r)\n",
    "\n",
    "ax.set(xlabel='No. of shots', ylim=(0.6, 1.0), xticks=range(0, 6))\n",
    "ax.tick_params(axis='x', which='minor', bottom=False)\n",
    "plt.subplots_adjust(wspace=0.25)\n",
    "# plt.tight_layout()\n",
    "plt.savefig(outfile, dpi=600)\n",
    "print(\"Save OK:\", outfile)\n",
    "plt.show()"
   ]
  },
  {
   "cell_type": "code",
   "execution_count": null,
   "metadata": {},
   "outputs": [],
   "source": []
  }
 ],
 "metadata": {
  "kernelspec": {
   "display_name": "Python 3",
   "language": "python",
   "name": "python3"
  },
  "language_info": {
   "codemirror_mode": {
    "name": "ipython",
    "version": 3
   },
   "file_extension": ".py",
   "mimetype": "text/x-python",
   "name": "python",
   "nbconvert_exporter": "python",
   "pygments_lexer": "ipython3",
   "version": "3.10.12"
  }
 },
 "nbformat": 4,
 "nbformat_minor": 2
}

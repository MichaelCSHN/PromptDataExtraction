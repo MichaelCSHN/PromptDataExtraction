{
 "cells": [
  {
   "cell_type": "code",
   "execution_count": 1,
   "metadata": {},
   "outputs": [],
   "source": [
    "# Para ID 615 from polylet\n",
    "text = \"\"\"\n",
    "Polyrotaxane dethreading kinetics were more accurately determined by monitoring\n",
    "the change in turbidity of aqueous polyrotaxane 1 and 2 dispersions at various\n",
    "pHs as a function of time (Figure). Since the poorly soluble polyrotaxanes should\n",
    "undergo rapid \\alpha-CD dethreading in bulk aqueous solution once the endcaps\n",
    "have been hydrolyzed to produce a homogeneous solution of \\alpha-CD and PEG1500,\n",
    "we employed this method to make a lower limit estimate of the endcap cleavage\n",
    "kinetics. (Note: This is a lower limit estimate because vinyl ether hydrolysis\n",
    "is a necessary first step before the subsequent unthreading process, estimated\n",
    "to be on the tens-of-minutes time scale based on \\alpha-CD-PEG threading rates\n",
    "determined by turbidimetry, can proceed.) Turbidity analysis of polyrotaxane 1\n",
    "dispersions at pH 4 produced homogeneous solutions with a half-life of 18 min\n",
    "and complete degradation within 1 h (Figure A), in reasonable agreement with the\n",
    "GPC kinetics analysis. Similar results were obtained for polyrotaxane 2\n",
    "(Figure B). Ester hydrolysis was too rapid to be reliably detected using 1% NaOH\n",
    "(solubilization occurred within a few minutes); however, a half-life of\n",
    "approximately 40 min for 2 was found at pH 12.1, with complete solubilization of\n",
    "2 occurring within approximately 150 min. Rate analyses yielded initial observed\n",
    "pseudo-first-order rate constants of 0.0211 min^{-1} for 1 at pH 4 and 0.0122\n",
    "min^{-1} for 2 at pH 12.1. Polyrotaxane 3 does not undergo appreciable\n",
    "fluoride-mediated deprotection under the aqueous conditions employed in these\n",
    "experiments. 6 Dethreading rates of pH-triggerable polyrotaxanes via turbidity\n",
    "analysis of 1 at pH 4 (A) and 2 at pH 12.1 (B). The insets in both figures show\n",
    "the first-order rate analysis of the initial phase of the dethreading reaction.\n",
    "\"\"\""
   ]
  },
  {
   "cell_type": "code",
   "execution_count": 2,
   "metadata": {},
   "outputs": [],
   "source": [
    "import os\n",
    "os.chdir(\"..\")\n",
    "assert 'PromptDataExtract' in os.getcwd()"
   ]
  },
  {
   "cell_type": "code",
   "execution_count": 4,
   "metadata": {},
   "outputs": [],
   "source": [
    "from backend import postgres, sett\n",
    "from backend.record_extraction import bert_model, record_extractor\n",
    "from backend.record_extraction.utils import LoadNormalizationDataset, load_property_metadata"
   ]
  },
  {
   "cell_type": "code",
   "execution_count": 5,
   "metadata": {},
   "outputs": [
    {
     "name": "stdout",
     "output_type": "stream",
     "text": [
      "Load OK: settings.yaml\n"
     ]
    }
   ],
   "source": [
    "sett.load_settings()\n",
    "postgres.load_settings()"
   ]
  },
  {
   "cell_type": "code",
   "execution_count": 6,
   "metadata": {},
   "outputs": [],
   "source": [
    "bert = bert_model.MaterialsBERT()\n",
    "bert.init_local_model(model=sett.NERPipeline.model, device=sett.NERPipeline.pytorch_device)"
   ]
  },
  {
   "cell_type": "code",
   "execution_count": 7,
   "metadata": {},
   "outputs": [],
   "source": [
    "normdata = LoadNormalizationDataset(sett.DataFiles.polymer_nen_json)\n",
    "norm_dataset = normdata.process_normalization_files()\n",
    "prop_metadata = load_property_metadata(sett.DataFiles.properties_json)"
   ]
  },
  {
   "cell_type": "code",
   "execution_count": 8,
   "metadata": {},
   "outputs": [],
   "source": [
    "ner_tags = bert.get_tags(text)\n",
    "relation_extractor = record_extractor.RelationExtraction(text, ner_tags, norm_dataset, prop_metadata)\n",
    "output_para, timings = relation_extractor.process_document()"
   ]
  },
  {
   "cell_type": "code",
   "execution_count": 9,
   "metadata": {},
   "outputs": [
    {
     "name": "stdout",
     "output_type": "stream",
     "text": [
      "Material: [{'entity_name': 'polyrotaxanes', 'material_class': 'POLYMER_FAMILY', 'role': '', 'polymer_type': '', 'normalized_material_name': '', 'coreferents': ['polyrotaxanes'], 'components': []}, {'entity_name': '- CD', 'material_class': 'POLYMER', 'role': '', 'polymer_type': 'copolymer', 'normalized_material_name': '', 'coreferents': ['- CD', 'PEG'], 'components': []}, {'entity_name': 'PEG1500', 'material_class': 'POLYMER', 'role': '', 'polymer_type': 'homopolymer', 'normalized_material_name': '', 'coreferents': ['PEG1500'], 'components': []}, {'entity_name': 'polyrotaxane', 'material_class': 'POLYMER', 'role': '', 'polymer_type': 'homopolymer', 'normalized_material_name': 'polyrotaxane', 'coreferents': ['polyrotaxane', 'Polyrotaxane', 'polyrotaxane 1'], 'components': []}]\n",
      "Properties: {'entity_name': '- order rate constants', 'property_value': '0.0211 min^{-1}', 'coreferents': ['- order rate constants'], 'property_numeric_value': 0.0211, 'property_numeric_error': 0.0, 'property_value_avg': False, 'property_value_descriptor': '', 'property_unit': 'min^{-1}', 'temperature_condition': '', 'frequency_condition': ''}\n",
      "-------------------------------------------------- \n",
      "\n",
      "Material: [{'entity_name': 'polyrotaxanes', 'material_class': 'POLYMER_FAMILY', 'role': '', 'polymer_type': '', 'normalized_material_name': '', 'coreferents': ['polyrotaxanes'], 'components': []}, {'entity_name': '- CD', 'material_class': 'POLYMER', 'role': '', 'polymer_type': 'copolymer', 'normalized_material_name': '', 'coreferents': ['- CD', 'PEG'], 'components': []}, {'entity_name': 'PEG1500', 'material_class': 'POLYMER', 'role': '', 'polymer_type': 'homopolymer', 'normalized_material_name': '', 'coreferents': ['PEG1500'], 'components': []}, {'entity_name': 'polyrotaxane', 'material_class': 'POLYMER', 'role': '', 'polymer_type': 'homopolymer', 'normalized_material_name': 'polyrotaxane', 'coreferents': ['polyrotaxane', 'Polyrotaxane', 'polyrotaxane 1'], 'components': []}]\n",
      "Properties: {'entity_name': '- order rate constants', 'property_value': '0.0122 \\n min^{-1}', 'coreferents': ['- order rate constants'], 'property_numeric_value': 0.0122, 'property_numeric_error': 0.0, 'property_value_avg': False, 'property_value_descriptor': '', 'property_unit': 'min^{-1}', 'temperature_condition': '', 'frequency_condition': ''}\n",
      "-------------------------------------------------- \n",
      "\n"
     ]
    }
   ],
   "source": [
    "records = output_para['material_records']\n",
    "for r in records:\n",
    "    print(\"Material:\", r['material_name'])\n",
    "    print(\"Properties:\", r['property_record'])\n",
    "    print(\"-\" * 50, \"\\n\")"
   ]
  },
  {
   "cell_type": "code",
   "execution_count": 11,
   "metadata": {},
   "outputs": [
    {
     "name": "stdout",
     "output_type": "stream",
     "text": [
      "polyrotaxanes \t--> - order rate constants = 0.0211 min^{-1}\n",
      "- CD \t--> - order rate constants = 0.0211 min^{-1}\n",
      "PEG1500 \t--> - order rate constants = 0.0211 min^{-1}\n",
      "polyrotaxane \t--> - order rate constants = 0.0211 min^{-1}\n",
      "--------------------------------------------------\n",
      "polyrotaxanes \t--> - order rate constants = 0.0122 \n",
      " min^{-1}\n",
      "- CD \t--> - order rate constants = 0.0122 \n",
      " min^{-1}\n",
      "PEG1500 \t--> - order rate constants = 0.0122 \n",
      " min^{-1}\n",
      "polyrotaxane \t--> - order rate constants = 0.0122 \n",
      " min^{-1}\n",
      "--------------------------------------------------\n"
     ]
    }
   ],
   "source": [
    "records = output_para['material_records']\n",
    "for r in records:\n",
    "    for material in r['material_name']:\n",
    "        prop = r['property_record']\n",
    "        print(f\"{material['entity_name']} \\t--> {prop['entity_name']} = {prop['property_value']}\")\n",
    "    print(\"-\" * 50)"
   ]
  },
  {
   "cell_type": "code",
   "execution_count": null,
   "metadata": {},
   "outputs": [],
   "source": []
  }
 ],
 "metadata": {
  "kernelspec": {
   "display_name": "Python 3",
   "language": "python",
   "name": "python3"
  },
  "language_info": {
   "codemirror_mode": {
    "name": "ipython",
    "version": 3
   },
   "file_extension": ".py",
   "mimetype": "text/x-python",
   "name": "python",
   "nbconvert_exporter": "python",
   "pygments_lexer": "ipython3",
   "version": "3.10.12"
  },
  "orig_nbformat": 4
 },
 "nbformat": 4,
 "nbformat_minor": 2
}

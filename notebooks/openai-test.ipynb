{
 "cells": [
  {
   "cell_type": "code",
   "execution_count": 1,
   "metadata": {},
   "outputs": [],
   "source": [
    "import os\n",
    "os.chdir(\"..\")\n",
    "assert 'PromptDataExtract' in os.getcwd()"
   ]
  },
  {
   "cell_type": "code",
   "execution_count": 2,
   "metadata": {},
   "outputs": [],
   "source": [
    "import openai\n",
    "from backend import sett \n"
   ]
  },
  {
   "cell_type": "code",
   "execution_count": 3,
   "metadata": {},
   "outputs": [
    {
     "name": "stdout",
     "output_type": "stream",
     "text": [
      "Load OK: settings.yaml\n"
     ]
    }
   ],
   "source": [
    "sett.load_settings()\n",
    "openai.api_key = sett.LLMPipeline.openai_key"
   ]
  },
  {
   "cell_type": "code",
   "execution_count": 4,
   "metadata": {},
   "outputs": [],
   "source": [
    "model=\"gpt-3.5-turbo\"\n",
    "temperature = 0.001"
   ]
  },
  {
   "cell_type": "markdown",
   "metadata": {},
   "source": [
    "## Prompt 1\n",
    "### Extract all thermal decomposition temperature or thermal stability or Td values in JSONL format with 'material', 'property', 'value', 'condition' columns. "
   ]
  },
  {
   "cell_type": "code",
   "execution_count": 5,
   "metadata": {},
   "outputs": [],
   "source": [
    "#Example 1 (with 40 Tg outputs)\n",
    "\n",
    "request_obj = [{\"role\": \"user\", \"content\": \"We report a comparative study of two organic soluble, vinylene-based, alternating donor-acceptor copolymers with 1,4-(2,5-dihexadecyloxyphenylene) as the donor; the acceptor is either a 2,5-linked pyridine or a 5,8-linked 2,3-diphenylpyrido[3,4-b]pyrazine. The polymers are synthesized via a Heck coupling methodology from a dihalo monomer and a divinyl monomer to yield number-average molecular weights of 16000 g/mol for the pyridine polymer (PPyrPV) and 6500 g/mol for the pyridopyrazine polymer (PPyrPyrPV), with high solubility in common chlorinated solvents and lower solubility in less polar solvents (eg, tetrahydrofuran). Thin-film measurements show band gaps of 2.2 and 1.8 eV for PPyrPV and PPyrPyrPV, respectively. Both polymers exhibit photoluminescence in solution and in the solid state and exhibit electroluminescence when incorporated into light-emitting diodes. In this case, a broad red emission centered at 690 nm for PPyrPV and a near-infrared emission centered at 800 nm for PPyrPyrPV have been observed.\\n\\nExtract all thermal decomposition temperature or thermal stability or Td values in JSONL format with 'material', 'property', 'value', 'condition' columns.\"}, {\"role\": \"assistant\", \"content\": \"[{\\\"material\\\": \\\"PPyrPV\\\", \\\"property\\\": \\\"bandgap\\\", \\\"value\\\": \\\"2.2\\\", \\\"conditions\\\": \\\"None\\\"}, {\\\"material\\\": \\\"PPyrPyrPV\\\", \\\"property\\\": \\\"bandgap\\\", \\\"value\\\": \\\"1.8 eV\\\", \\\"conditions\\\": \\\"None\\\"}]\\n\"}, \n",
    "               {\"role\": \"user\", \"content\": \"The thermal stability of the polymers was characterized by TGA. The temperatures at 5 and 10 % weight loss (T_{5} and T_{10}) in nitrogen and air atmospheres were determined from the original thermograms and also tabulated in this Table 6 T_{10} of polyamides (VII_{a-f}) stays in the range of 490-509- \\u00b0C in nitrogen and 462-487- \\u00b0C in air, respectively. The T_{10} of the PAIs (VIII_{a-b}and IX_{a-l}) stays in the range of 495-532- \\u00b0C in nitrogen and 475-521- \\u00b0C in air, respectively. The imide-containing PAIs VIII_{a-b}and IX_{a-l}have higher T_{10} than VII_{a-hf}in nitrogen and air, due to the incorporation of the thermally stable imide group in the main chain. For example, the imide-containing IX_{a}and VIII_{b}have higher T_{10} than VII_{b}in nitrogen and air. Their T_{10} values are in order of IX_{a}->-VIII_{b}->-VII_{b}. Moreover, the char yield of all these polymers at 800- \\u00b0C are above 48 %.\\n\\nExtract all thermal decomposition temperature or thermal stability or Td values in JSONL format with 'material', 'property', 'value', 'condition' columns.\"}]"
   ]
  },
  {
   "cell_type": "code",
   "execution_count": 18,
   "metadata": {},
   "outputs": [],
   "source": [
    "response = openai.ChatCompletion.create(\n",
    "  model = model,\n",
    "  temperature= temperature,\n",
    "  messages = request_obj\n",
    ")"
   ]
  },
  {
   "cell_type": "code",
   "execution_count": 27,
   "metadata": {},
   "outputs": [
    {
     "data": {
      "text/plain": [
       "[{'material': 'VII_{a-f}',\n",
       "  'property': 'T_{10} in nitrogen',\n",
       "  'value': '490-509 °C',\n",
       "  'conditions': 'None'},\n",
       " {'material': 'VII_{a-f}',\n",
       "  'property': 'T_{10} in air',\n",
       "  'value': '462-487 °C',\n",
       "  'conditions': 'None'},\n",
       " {'material': 'VIII_{a-b}and IX_{a-l}',\n",
       "  'property': 'T_{10} in nitrogen',\n",
       "  'value': '495-532 °C',\n",
       "  'conditions': 'None'},\n",
       " {'material': 'VIII_{a-b}and IX_{a-l}',\n",
       "  'property': 'T_{10} in air',\n",
       "  'value': '475-521 °C',\n",
       "  'conditions': 'None'},\n",
       " {'material': 'IX_{a}',\n",
       "  'property': 'T_{10} in nitrogen',\n",
       "  'value': 'Higher than VII_{b}',\n",
       "  'conditions': 'None'},\n",
       " {'material': 'IX_{a}',\n",
       "  'property': 'T_{10} in air',\n",
       "  'value': 'Higher than VII_{b}',\n",
       "  'conditions': 'None'},\n",
       " {'material': 'VIII_{b}',\n",
       "  'property': 'T_{10} in nitrogen',\n",
       "  'value': 'Higher than VII_{b}',\n",
       "  'conditions': 'None'},\n",
       " {'material': 'VIII_{b}',\n",
       "  'property': 'T_{10} in air',\n",
       "  'value': 'Higher than VII_{b}',\n",
       "  'conditions': 'None'},\n",
       " {'material': 'VII_{b}',\n",
       "  'property': 'T_{10} in nitrogen',\n",
       "  'value': 'None',\n",
       "  'conditions': 'None'},\n",
       " {'material': 'VII_{b}',\n",
       "  'property': 'T_{10} in air',\n",
       "  'value': 'None',\n",
       "  'conditions': 'None'}]"
      ]
     },
     "execution_count": 27,
     "metadata": {},
     "output_type": "execute_result"
    }
   ],
   "source": [
    "eval(response.choices[0].message.content)"
   ]
  },
  {
   "cell_type": "code",
   "execution_count": 11,
   "metadata": {},
   "outputs": [
    {
     "data": {
      "text/plain": [
       "[{'material': 'CLIN-AN-DVB thermosets',\n",
       "  'property': 'Tg',\n",
       "  'value': '60-101 °C',\n",
       "  'conditions': 'room temperature'},\n",
       " {'material': 'CLIN-AN-DVB thermosets',\n",
       "  'property': 'storage moduli',\n",
       "  'value': '160 MPa - 1.6 GPa',\n",
       "  'conditions': 'room temperature'}]"
      ]
     },
     "execution_count": 11,
     "metadata": {},
     "output_type": "execute_result"
    }
   ],
   "source": [
    "#Example 2:\n",
    "\n",
    "request_obj = [{\"role\": \"user\", \"content\": \"Polyacrylamide (PAAm) was chemically modified with hydroquinone (HQ) via a homolytic route. A degree of modification of approximately 58 % was obtained under optimal reaction conditions: time of 6 h, and [modifier]/[acrylamide] molar ratio of 5. PAAm and its modified form HQ-PAAm were characterized by UV-visible spectroscopy, FT-IR spectroscopy,^{13}C NMR spectroscopy, DSC, TGA, XRD, and SEM. A relatively lower molecular weight of the corresponding hydroquinone-functionalized form was measured. The glass transition temperature of the modified polymeric material was lower than that of the pristine one: 78.82 \\u00b0C for HQ-PAAm versus 161.19 \\u00b0C for PAAm. A study of Cu (II) adsorption by the cross-linked PAAm and HQ-PAAm resins was conducted by varying the following parameters: pH, time, temperature, ionic strength, sorbent mass, and initial Cu (II) concentration. The adsorption capacity of Pb (II) and Cd (II) by the different resins and their corresponding extents of desorption were estimated. The optimal conditions for metal ion uptake by polyacrylamide and its modified resin were: pH = 5.4, time = 120 min, temperature = 45 \\u00b0C. The sorption extent by the modified resin was in the order Pb (II) > Cu (II) > Cd (II). The desorption of the experimented metallic ions from the resins exceeded 97 %. A new way of cross-linking PAAm and its modified form is described herein.\\n\\nExtract all glass transition temperature or Tg values in JSONL format with 'material', 'property', 'value', 'condition' columns.\"}, {\"role\": \"assistant\", \"content\": \"[{\\\"material\\\": \\\"HQ-PAAm\\\", \\\"property\\\": \\\"Tg\\\", \\\"value\\\": \\\"78.82 \\\\u00b0 C\\\", \\\"conditions\\\": \\\"None\\\"}, {\\\"material\\\": \\\"PAAm\\\", \\\"property\\\": \\\"Tg\\\", \\\"value\\\": \\\"161.19 \\\\u00b0 C\\\", \\\"conditions\\\": \\\"None\\\"}]\\n\"}, {\"role\": \"user\", \"content\": \"Conjugated carbon-carbon double bonds in vegetable oils are relatively easily attacked by free radicals. 9The conjugated linseed oil (CLIN) and conjugated low-saturation soybean oil (CLS), obtained by Larock and co-workers using a rhodium catalyst, 40have been found to undergo free radical polymerization initiated by either benzoyl peroxide or tert -butyl hydroperoxide (TBHP) or combinations of these reagents. The resulting polymerized conjugated oils are more viscous than the original oils. 9A variety of co-monomers, such as divinylbenzene, acrylonitrile (AN), and dicyclopentadiene (DCPD), have been copolymerized with CLIN and CLS. Free radical polymerization of CLIN or CLS with acrylonitrile and divinylbenzene initiated by azobisisobutyronitrile (AIBN) gives thermosets that are transparent and yellow and range from hard and brittle plastics to soft and rubbery materials. For the CLIN-AN-DVB thermosets, approximately 61-96 wt % of the CLIN is incorporated into the final products. The T_{g} values determined from the tan \\u03b4 peaks range from 60 to 101 \\u00b0C and the room-temperature storage moduli vary from 160 M Pa to 1.6 GPa, depending on the oil content in the formulation. These thermosets are thermally stable up to 300 \\u00b0C. The wide range of properties attained with these materials makes them suitable for potential applications in which petroleum-based polymers are currently used. 41\\n\\nExtract all glass transition temperature or Tg values in JSONL format with 'material', 'property', 'value', 'condition' columns.\"}]\n",
    "\n",
    "response = openai.ChatCompletion.create(\n",
    "  model = model,\n",
    "  temperature= temperature,\n",
    "  messages = request_obj\n",
    ")\n",
    "\n",
    "eval(response.choices[0].message.content)"
   ]
  },
  {
   "cell_type": "code",
   "execution_count": 14,
   "metadata": {},
   "outputs": [
    {
     "data": {
      "text/plain": [
       "[{'material': 'G2-CH2 N (CH2 CH2 OH)2',\n",
       "  'property': 'Tg',\n",
       "  'value': '780',\n",
       "  'condition': 'None'},\n",
       " {'material': 'G3-CH2 N (CH2 CH2 OH)2',\n",
       "  'property': 'Tg',\n",
       "  'value': '1900',\n",
       "  'condition': 'None'},\n",
       " {'material': 'G4-CH2 N (CH2 CH2 OH)2',\n",
       "  'property': 'Tg',\n",
       "  'value': '3300',\n",
       "  'condition': 'None'},\n",
       " {'material': 'G2-HDI-DCM',\n",
       "  'property': 'Tg',\n",
       "  'value': '23000',\n",
       "  'condition': 'None'},\n",
       " {'material': 'G2-DID-DCM',\n",
       "  'property': 'Tg',\n",
       "  'value': '44000',\n",
       "  'condition': 'None'},\n",
       " {'material': 'G2-TDI-DCM',\n",
       "  'property': 'Tg',\n",
       "  'value': '5600',\n",
       "  'condition': 'None'},\n",
       " {'material': 'G2-Bis-THF',\n",
       "  'property': 'Tg',\n",
       "  'value': '15000',\n",
       "  'condition': 'None'},\n",
       " {'material': 'G2-HDI-B',\n",
       "  'property': 'Tg',\n",
       "  'value': '51000',\n",
       "  'condition': 'None'},\n",
       " {'material': 'G2-DID-B',\n",
       "  'property': 'Tg',\n",
       "  'value': '63000',\n",
       "  'condition': 'None'},\n",
       " {'material': 'G2-TDI-B',\n",
       "  'property': 'Tg',\n",
       "  'value': '20000',\n",
       "  'condition': 'None'},\n",
       " {'material': 'G2-Bis-B',\n",
       "  'property': 'Tg',\n",
       "  'value': '126000',\n",
       "  'condition': 'None'},\n",
       " {'material': 'G3-HDI-DCM',\n",
       "  'property': 'Tg',\n",
       "  'value': '20000',\n",
       "  'condition': 'None'},\n",
       " {'material': 'G3-DID-DCM',\n",
       "  'property': 'Tg',\n",
       "  'value': '37000',\n",
       "  'condition': 'None'},\n",
       " {'material': 'G3-TDI-DCM',\n",
       "  'property': 'Tg',\n",
       "  'value': '25000',\n",
       "  'condition': 'None'},\n",
       " {'material': 'G3-Bis-THF',\n",
       "  'property': 'Tg',\n",
       "  'value': '8700',\n",
       "  'condition': 'None'},\n",
       " {'material': 'G3-HDI-B',\n",
       "  'property': 'Tg',\n",
       "  'value': '91000',\n",
       "  'condition': 'None'},\n",
       " {'material': 'G3-DID-B',\n",
       "  'property': 'Tg',\n",
       "  'value': '112000',\n",
       "  'condition': 'None'},\n",
       " {'material': 'G3-TDI-B',\n",
       "  'property': 'Tg',\n",
       "  'value': '29000',\n",
       "  'condition': 'None'},\n",
       " {'material': 'G3-Bis-B',\n",
       "  'property': 'Tg',\n",
       "  'value': '83000',\n",
       "  'condition': 'None'},\n",
       " {'material': 'G4-HDI-DCM',\n",
       "  'property': 'Tg',\n",
       "  'value': '19000',\n",
       "  'condition': 'None'},\n",
       " {'material': 'G4-DID-DCM',\n",
       "  'property': 'Tg',\n",
       "  'value': '32000',\n",
       "  'condition': 'None'},\n",
       " {'material': 'G4-TDI-DCM',\n",
       "  'property': 'Tg',\n",
       "  'value': '14000',\n",
       "  'condition': 'None'},\n",
       " {'material': 'G4-Bis-THF',\n",
       "  'property': 'Tg',\n",
       "  'value': '30000',\n",
       "  'condition': 'None'},\n",
       " {'material': 'G4-Bis-ACN',\n",
       "  'property': 'Tg',\n",
       "  'value': '26000',\n",
       "  'condition': 'None'},\n",
       " {'material': 'G4-Bis-Chlo',\n",
       "  'property': 'Tg',\n",
       "  'value': '4200',\n",
       "  'condition': 'None'},\n",
       " {'material': 'G4-Bis-Diox',\n",
       "  'property': 'Tg',\n",
       "  'value': '5400',\n",
       "  'condition': 'None'},\n",
       " {'material': 'G4-HDI-B',\n",
       "  'property': 'Tg',\n",
       "  'value': '71000',\n",
       "  'condition': 'None'},\n",
       " {'material': 'G4-DID-B',\n",
       "  'property': 'Tg',\n",
       "  'value': '90000',\n",
       "  'condition': 'None'},\n",
       " {'material': 'G4-TDI-B',\n",
       "  'property': 'Tg',\n",
       "  'value': '43000',\n",
       "  'condition': 'None'},\n",
       " {'material': 'G4-Bis-B',\n",
       "  'property': 'Tg',\n",
       "  'value': '41000',\n",
       "  'condition': 'None'}]"
      ]
     },
     "execution_count": 14,
     "metadata": {},
     "output_type": "execute_result"
    }
   ],
   "source": [
    "#Example 3: (30 outputs)\n",
    "\n",
    "request_obj = [{\"role\": \"user\", \"content\": \"Two electroactive monomers 1-benzyl-4,7-di (thiophen-2-yl))-2H-benzo[d][1,2,3]triazole (BBTA) and 2-benzyl-4,7-di (thiophen-2-yl))-2H-benzo[d][1,2,3]triazole (BBTS) were synthesized with satisfactory yields. The effect of substitution site on electrochemical and optical properties was investigated with cyclic voltammetry and spectroelectrochemical studies. Results showed that position of pendant group alters the electronic structure of the resulting polymer causing different optical and electrochemical behaviors. Symmetrically positioned benzyl unit on benzotriazole moiety resulted in a neutral state red polymer, PBBTS, having multi-colored property in its different oxidized and reduced states. Its analogue PBBTA exhibited maximum absorption at 390 nm in its neutral state and also revealed multicolored electrochromic property upon stepwise oxidation. Very different optical band gap values were calculated: 1.55 eV and 2.25 eV for PBBTS and PBBTA, respectively.\\n\\nExtract all glass transition temperature or Tg values in JSONL format with 'material', 'property', 'value', 'condition' columns.\"}, {\"role\": \"assistant\", \"content\": \"[{\\\"material\\\": \\\"PBBTS\\\", \\\"property\\\": \\\"bandgap\\\", \\\"value\\\": \\\"1.55 eV\\\", \\\"conditions\\\": \\\"None\\\"}, {\\\"material\\\": \\\"PBBTA\\\", \\\"property\\\": \\\"bandgap\\\", \\\"value\\\": \\\"2.25 eV\\\", \\\"conditions\\\": \\\"None\\\"}]\\n\"}, {\"role\": \"user\", \"content\": \"Two sets of SEC columns were applied, viz, two Polymer Laboratories (PL) columns, mixed PL-E, and a set of five columns (Styragel HR 1-5, Waters). The eluent (THF, HPLC grade, Biosolve) was degassed using an Erma ERC-3522 degasser. The solvent flow rate was 1 mL min^{-1} . Measurements were done at room temperature. The molecular weight values were determined on the basis of the principle of universal calibration using polystyrene (PS) standards (PL) having known molecular masses ranging from 0.58 to 2800 kg mol^{-1} . To check the applicability of the universal calibration method for investigated polymers, we compared the results for a few SCDPs with the absolute molecular weight values determined using a light scattering detector (Wyatt Technology DAWN-F DSP) coupled to the SEC equipment. The agreement was quite reasonable. For the SEC measurements, the macromolecules were dissolved in THF at room temperature in a nitrogen atmosphere. The dendrimer solutions were filtered using Millex filters (pore size 0.5 \\u03bcm). All data were processed using a Compaq (Deskpro XL 450) computer equipped with TRISEC 2.70 software (Viscotek). From the measured intrinsic viscosity [\\u03b7], as a function of elution volume, the molar mass distribution (MMD) and average molar masses were calculated using the universal calibration. Further Mark-Houwink (M-H) plots (log [\\u03b7] versus log molar mass) were generated for each of the samples. 1 2 Molecular Weight Values of All the Mono-and Polydendrons Determined with the Aid of SEC Using the Universal Calibration^{e} code M_{n}^{a} M_{w}^{a} M_{w} / M_{n} DP^{b} T_{g} (\\u00b0C) conversion^{c} ( %) G2-CH_{2} N (CH_{2} CH_{2} OH)_{2} 770^{d} 780 G3-CH_{2} N (CH_{2} CH_{2} OH)_{2} 1800^{d} 1900 G4-CH_{2} N (CH_{2} CH_{2} OH)_{2} 3300^{d} 3300 G2-HDI-DCM 5600 23000 7 G2-DID-DCM 9600 44000 12 G2-TDI-DCM 3600 5600 4 G2-Bis-THF 7000 15000 8 G2-HDI-B 17200 51000 21 G2-DID-B 15700 63000 19 G2-TDI-B 8100 20000 10 G2-Bis-B 15700 126000 19 G3-HDI-DCM 7500 20000 5 G3-DID-DCM 12000 37000 7 G3-TDI-DCM 13000 25000 8 G3-Bis-THF 6700 8700 4 G3-HDI-B 21000 91000 13 G3-DID-B 20000 112000 12 G3-TDI-B 13500 29000 8 G3-Bis-B 27000 83000 16 G4-HDI-DCM 13000 19000 4 G4-DID-DCM 15000 32000 5 G4-TDI-DCM 11000 14000 3 G4-Bis-THF 12500 30000 4 G4-Bis-ACN 16500 26000 5 G4-Bis-Chlo 4200 4200 1 G4-Bis-Diox 5000 5400 2 G4-HDI-B 24000 71000 7 G4-DID-B 31000 90000 9 G4-TDI-B 22000 43000 7 G4-Bis-B 21000 41000 6^{a} Molecular weights are given in g*mol^{-1}^{b} The number average degree of polymerization (DP) is calculated by dividing the M_{n} values by the theoretical molecular weight values of the monodendrons.^{c} These values represent the amount of reacted monodendrons.^{d} These are the experimental data. The theoretical values of M_{n} for G2, G3, and G4 monodendrons are 828, 1680, and 3375, respectively.^{e} In the calculations, the concentration of the unreacted monomers is not taken into consideration.\\n\\nExtract all glass transition temperature or Tg values in JSONL format with 'material', 'property', 'value', 'condition' columns.\"}]\n",
    "\n",
    "response = openai.ChatCompletion.create(\n",
    "  model = model,\n",
    "  temperature= temperature,\n",
    "  messages = request_obj\n",
    ")\n",
    "\n",
    "eval(response.choices[0].message.content)"
   ]
  },
  {
   "cell_type": "code",
   "execution_count": 36,
   "metadata": {},
   "outputs": [
    {
     "data": {
      "text/plain": [
       "[{'material': 'it -PMMA',\n",
       "  'property': 'Tg',\n",
       "  'value': '85-86 ° C',\n",
       "  'conditions': 'None'},\n",
       " {'material': 'it -PMMA',\n",
       "  'property': 'Tg',\n",
       "  'value': '60 ° C',\n",
       "  'conditions': 'None'},\n",
       " {'material': 'st -PMMA',\n",
       "  'property': 'Tg',\n",
       "  'value': '48.3 ° C',\n",
       "  'conditions': 'Equation (2)'},\n",
       " {'material': 'st -PMMA',\n",
       "  'property': 'Tg',\n",
       "  'value': '128 ° C',\n",
       "  'conditions': 'Equation (3)'},\n",
       " {'material': 'nonuniform it -PMMA',\n",
       "  'property': 'Tg',\n",
       "  'value': '>= 5 x 10^{4}',\n",
       "  'conditions': 'Linear relationship defined by Equation 2 and 3'},\n",
       " {'material': 'nonuniform st -PMMA',\n",
       "  'property': 'Tg',\n",
       "  'value': '>= 5 x 10^{4}',\n",
       "  'conditions': 'Linear relationship defined by Equation 2 and 3'},\n",
       " {'material': 'nonuniform it -PMMA',\n",
       "  'property': 'Tg',\n",
       "  'value': '>= 1 x 10^{3}',\n",
       "  'conditions': 'Equation (1)'},\n",
       " {'material': 'nonuniform st -PMMA',\n",
       "  'property': 'Tg',\n",
       "  'value': '>= 1 x 10^{3}',\n",
       "  'conditions': 'Equation (1)'}]"
      ]
     },
     "execution_count": 36,
     "metadata": {},
     "output_type": "execute_result"
    }
   ],
   "source": [
    "#Example 4: \n",
    "\n",
    "request_obj = [{\"role\": \"user\", \"content\": \"The general and efficient copolymerization of lactones with hydroxy-acid bioaromatics was accomplished via a concurrent ring-opening polymerization (ROP) and polycondensation methodology. Suitable lactones were L-lactide or \\u03b5-caprolactone and four hydroxy-acid comonomers were prepared as hydroxyethyl variants of the bioaromatics syringic acid, vanillic acid, ferulic acid, and p-coumaric acid. Copolymerization conditions were optimized on a paradigm system with a 20:80 feed ratio of caprolactone:hydroxyethylsyringic acid. Among six investigated catalysts, polymer yield was optimized with 1 mol % of Sb_{2}O_{3}, affording eight copolymer series in good yields (32-95 % for lactide; 80-95 % for caprolactone). Half of the polymers were soluble in the GPC solvent hexafluoroisopropanol and analyzed to high molecular weight, with M_{n} = 10500-60700 Da. Mass spectrometry and^{1}H NMR analysis revealed an initial ring-opening formation of oligolactones, followed by polycondensation of these with the hydroxy-acid bioaromatic, followed by transesterification, yielding a random copolymer. By copolymerizing bioaromatics with L-lactide, the glass transition temperature (T_{g}) of polylactic acid (PLA, 50 \\u00b0C) could be improved and tuned in the range of 62-107 \\u00b0C; the thermal stability (T_{95 %}) of PLA (207 \\u00b0C) could be substantially increased up to 323 \\u00b0C. Similarly, bioaromatic incorporation into polycaprolactone (PCL, T_{g} = -60 \\u00b0C) accessed an improved T_{g} range from -48 to 105 \\u00b0C, while exchanging petroleum-based content with biobased content. Thus, this ROP/polycondensation methodology yields substantially or fully biobased polymers with thermal properties competitive with incumbent packaging thermoplastics such as polyethylene terephthalate (T_{g} = 67 \\u00b0C) or polystyrene (T_{g} = 95 \\u00b0C).\\n\\nExtract all glass transition temperature or Tg values in JSONL format with 'material', 'property', 'value', 'condition' columns.\"}, {\"role\": \"assistant\", \"content\": \"[{\\\"material\\\": \\\"polylactic acid\\\", \\\"property\\\": \\\"Tg\\\", \\\"value\\\": \\\"50 \\\\u00b0 C\\\", \\\"conditions\\\": \\\"None\\\"}, {\\\"material\\\": \\\"polycaprolactone\\\", \\\"property\\\": \\\"Tg\\\", \\\"value\\\": \\\"-60 \\\\u00b0 C\\\", \\\"conditions\\\": \\\"None\\\"}, {\\\"material\\\": \\\"polyethylene terephthalate\\\", \\\"property\\\": \\\"Tg\\\", \\\"value\\\": \\\"67 \\\\u00b0 C\\\", \\\"conditions\\\": \\\"ROP/polycondensation methodology\\\"}, {\\\"material\\\": \\\"polystyrene\\\", \\\"property\\\": \\\"Tg\\\", \\\"value\\\": \\\"95 \\\\u00b0 C\\\", \\\"conditions\\\": \\\"ROP/polycondensation methodology\\\"}]\\n\"}, {\"role\": \"user\", \"content\": \"Although several different T_{g\\u221e} s have been reported for it 85 86and 60 \\u00b0C 87), the present result (Equation (2)) supports the value of 48.3 found by Thompson. 85The T_{g\\u221e} in Equation (3) agrees approximately with that determined for an st -PMMA of similar tacticity (128 \\u00b0C). 88Moreover, the T_{g} data of the nonuniform it -and st -PMMAs having an larger than 5 x 10^{4} fit the linear relationship defined by Equation 2 and 3 (see Figure 10). These results indicate that a molecular weight distribution up to = 1.24 hardly affects T_{g} in a high-molecular-weight region (>= 5 x 10^{4}) and that the simple expression given by Fox and Flory (Equation (1)) holds for an extensive range for the molecular weight (M >= 1 x 10^{3}).\\n\\nExtract all glass transition temperature or Tg values in JSONL format with 'material', 'property', 'value', 'condition' columns.\"}]\n",
    "response = openai.ChatCompletion.create(\n",
    "  model = model,\n",
    "  temperature= temperature,\n",
    "  messages = request_obj\n",
    ")\n",
    "\n",
    "eval(response.choices[0].message.content)"
   ]
  },
  {
   "cell_type": "code",
   "execution_count": 37,
   "metadata": {},
   "outputs": [
    {
     "data": {
      "text/plain": [
       "8"
      ]
     },
     "execution_count": 37,
     "metadata": {},
     "output_type": "execute_result"
    }
   ],
   "source": [
    "len(eval(response.choices[0].message.content))"
   ]
  },
  {
   "cell_type": "markdown",
   "metadata": {},
   "source": [
    "## Prompt 2\n",
    "### Extract all thermal decomposition temperature or thermal stability or Td values in JSONL format with 'material', 'property', 'value', 'condition' columns. Answer only if confident."
   ]
  },
  {
   "cell_type": "code",
   "execution_count": 7,
   "metadata": {},
   "outputs": [],
   "source": [
    "request_obj = [{\"role\": \"user\", \"content\": \"We report a comparative study of two organic soluble, vinylene-based, alternating donor-acceptor copolymers with 1,4-(2,5-dihexadecyloxyphenylene) as the donor; the acceptor is either a 2,5-linked pyridine or a 5,8-linked 2,3-diphenylpyrido[3,4-b]pyrazine. The polymers are synthesized via a Heck coupling methodology from a dihalo monomer and a divinyl monomer to yield number-average molecular weights of 16000 g/mol for the pyridine polymer (PPyrPV) and 6500 g/mol for the pyridopyrazine polymer (PPyrPyrPV), with high solubility in common chlorinated solvents and lower solubility in less polar solvents (eg, tetrahydrofuran). Thin-film measurements show band gaps of 2.2 and 1.8 eV for PPyrPV and PPyrPyrPV, respectively. Both polymers exhibit photoluminescence in solution and in the solid state and exhibit electroluminescence when incorporated into light-emitting diodes. In this case, a broad red emission centered at 690 nm for PPyrPV and a near-infrared emission centered at 800 nm for PPyrPyrPV have been observed.\\n\\nExtract all thermal decomposition temperature or thermal stability or Td values in JSONL format with 'material', 'property', 'value', 'condition' columns.\"}, {\"role\": \"assistant\", \"content\": \"[{\\\"material\\\": \\\"PPyrPV\\\", \\\"property\\\": \\\"bandgap\\\", \\\"value\\\": \\\"2.2\\\", \\\"conditions\\\": \\\"None\\\"}, {\\\"material\\\": \\\"PPyrPyrPV\\\", \\\"property\\\": \\\"bandgap\\\", \\\"value\\\": \\\"1.8 eV\\\", \\\"conditions\\\": \\\"None\\\"}]\\n\"}, \n",
    "               {\"role\": \"user\", \"content\": \"The thermal stability of the polymers was characterized by TGA. The temperatures at 5 and 10 % weight loss (T_{5} and T_{10}) in nitrogen and air atmospheres were determined from the original thermograms and also tabulated in this Table 6 T_{10} of polyamides (VII_{a-f}) stays in the range of 490-509- \\u00b0C in nitrogen and 462-487- \\u00b0C in air, respectively. The T_{10} of the PAIs (VIII_{a-b}and IX_{a-l}) stays in the range of 495-532- \\u00b0C in nitrogen and 475-521- \\u00b0C in air, respectively. The imide-containing PAIs VIII_{a-b}and IX_{a-l}have higher T_{10} than VII_{a-hf}in nitrogen and air, due to the incorporation of the thermally stable imide group in the main chain. For example, the imide-containing IX_{a}and VIII_{b}have higher T_{10} than VII_{b}in nitrogen and air. Their T_{10} values are in order of IX_{a}->-VIII_{b}->-VII_{b}. Moreover, the char yield of all these polymers at 800- \\u00b0C are above 48 %.\\n\\nExtract all thermal decomposition temperature or thermal stability or Td values in JSONL format with 'material', 'property', 'value', 'condition' columns. Answer only if confident.\"}]\n",
    "\n",
    "response = openai.ChatCompletion.create(\n",
    "  model = model,\n",
    "  temperature= temperature,\n",
    "  messages = request_obj\n",
    ")"
   ]
  },
  {
   "cell_type": "code",
   "execution_count": 30,
   "metadata": {},
   "outputs": [],
   "source": [
    "response = openai.ChatCompletion.create(\n",
    "  model = model,\n",
    "  temperature= temperature,\n",
    "  messages = request_obj\n",
    ")"
   ]
  },
  {
   "cell_type": "code",
   "execution_count": 32,
   "metadata": {},
   "outputs": [
    {
     "data": {
      "text/plain": [
       "\"I'm sorry, but I cannot provide the requested information as it is not present in the given text.\""
      ]
     },
     "execution_count": 32,
     "metadata": {},
     "output_type": "execute_result"
    }
   ],
   "source": [
    "response.choices[0].message.content"
   ]
  },
  {
   "cell_type": "code",
   "execution_count": 12,
   "metadata": {},
   "outputs": [
    {
     "data": {
      "text/plain": [
       "{'material': 'CLIN-AN-DVB thermosets',\n",
       " 'property': 'Tg',\n",
       " 'value': '60 to 101 °C',\n",
       " 'condition': 'room temperature'}"
      ]
     },
     "execution_count": 12,
     "metadata": {},
     "output_type": "execute_result"
    }
   ],
   "source": [
    "#Example 2:\n",
    "\n",
    "request_obj = [{\"role\": \"user\", \"content\": \"Polyacrylamide (PAAm) was chemically modified with hydroquinone (HQ) via a homolytic route. A degree of modification of approximately 58 % was obtained under optimal reaction conditions: time of 6 h, and [modifier]/[acrylamide] molar ratio of 5. PAAm and its modified form HQ-PAAm were characterized by UV-visible spectroscopy, FT-IR spectroscopy,^{13}C NMR spectroscopy, DSC, TGA, XRD, and SEM. A relatively lower molecular weight of the corresponding hydroquinone-functionalized form was measured. The glass transition temperature of the modified polymeric material was lower than that of the pristine one: 78.82 \\u00b0C for HQ-PAAm versus 161.19 \\u00b0C for PAAm. A study of Cu (II) adsorption by the cross-linked PAAm and HQ-PAAm resins was conducted by varying the following parameters: pH, time, temperature, ionic strength, sorbent mass, and initial Cu (II) concentration. The adsorption capacity of Pb (II) and Cd (II) by the different resins and their corresponding extents of desorption were estimated. The optimal conditions for metal ion uptake by polyacrylamide and its modified resin were: pH = 5.4, time = 120 min, temperature = 45 \\u00b0C. The sorption extent by the modified resin was in the order Pb (II) > Cu (II) > Cd (II). The desorption of the experimented metallic ions from the resins exceeded 97 %. A new way of cross-linking PAAm and its modified form is described herein.\\n\\nExtract all glass transition temperature or Tg values in JSONL format with 'material', 'property', 'value', 'condition' columns.\"}, {\"role\": \"assistant\", \"content\": \"[{\\\"material\\\": \\\"HQ-PAAm\\\", \\\"property\\\": \\\"Tg\\\", \\\"value\\\": \\\"78.82 \\\\u00b0 C\\\", \\\"conditions\\\": \\\"None\\\"}, {\\\"material\\\": \\\"PAAm\\\", \\\"property\\\": \\\"Tg\\\", \\\"value\\\": \\\"161.19 \\\\u00b0 C\\\", \\\"conditions\\\": \\\"None\\\"}]\\n\"}, \n",
    "               {\"role\": \"user\", \"content\": \"Conjugated carbon-carbon double bonds in vegetable oils are relatively easily attacked by free radicals. 9The conjugated linseed oil (CLIN) and conjugated low-saturation soybean oil (CLS), obtained by Larock and co-workers using a rhodium catalyst, 40have been found to undergo free radical polymerization initiated by either benzoyl peroxide or tert -butyl hydroperoxide (TBHP) or combinations of these reagents. The resulting polymerized conjugated oils are more viscous than the original oils. 9A variety of co-monomers, such as divinylbenzene, acrylonitrile (AN), and dicyclopentadiene (DCPD), have been copolymerized with CLIN and CLS. Free radical polymerization of CLIN or CLS with acrylonitrile and divinylbenzene initiated by azobisisobutyronitrile (AIBN) gives thermosets that are transparent and yellow and range from hard and brittle plastics to soft and rubbery materials. For the CLIN-AN-DVB thermosets, approximately 61-96 wt % of the CLIN is incorporated into the final products. The T_{g} values determined from the tan \\u03b4 peaks range from 60 to 101 \\u00b0C and the room-temperature storage moduli vary from 160 M Pa to 1.6 GPa, depending on the oil content in the formulation. These thermosets are thermally stable up to 300 \\u00b0C. The wide range of properties attained with these materials makes them suitable for potential applications in which petroleum-based polymers are currently used. 41\\n\\nExtract all glass transition temperature or Tg values in JSONL format with 'material', 'property', 'value', 'condition' columns. Answer only if confident.\"}]\n",
    "\n",
    "response = openai.ChatCompletion.create(\n",
    "  model = model,\n",
    "  temperature= temperature,\n",
    "  messages = request_obj\n",
    ")\n",
    "\n",
    "eval(response.choices[0].message.content)"
   ]
  },
  {
   "cell_type": "code",
   "execution_count": 17,
   "metadata": {},
   "outputs": [
    {
     "data": {
      "text/plain": [
       "\"I'm sorry, but I cannot provide the requested information as there are no glass transition temperature (Tg) values mentioned in the given text.\""
      ]
     },
     "execution_count": 17,
     "metadata": {},
     "output_type": "execute_result"
    }
   ],
   "source": [
    "#Example 3: \n",
    "\n",
    "request_obj = [{\"role\": \"user\", \"content\": \"Two electroactive monomers 1-benzyl-4,7-di (thiophen-2-yl))-2H-benzo[d][1,2,3]triazole (BBTA) and 2-benzyl-4,7-di (thiophen-2-yl))-2H-benzo[d][1,2,3]triazole (BBTS) were synthesized with satisfactory yields. The effect of substitution site on electrochemical and optical properties was investigated with cyclic voltammetry and spectroelectrochemical studies. Results showed that position of pendant group alters the electronic structure of the resulting polymer causing different optical and electrochemical behaviors. Symmetrically positioned benzyl unit on benzotriazole moiety resulted in a neutral state red polymer, PBBTS, having multi-colored property in its different oxidized and reduced states. Its analogue PBBTA exhibited maximum absorption at 390 nm in its neutral state and also revealed multicolored electrochromic property upon stepwise oxidation. Very different optical band gap values were calculated: 1.55 eV and 2.25 eV for PBBTS and PBBTA, respectively.\\n\\nExtract all glass transition temperature or Tg values in JSONL format with 'material', 'property', 'value', 'condition' columns.\"}, {\"role\": \"assistant\", \"content\": \"[{\\\"material\\\": \\\"PBBTS\\\", \\\"property\\\": \\\"bandgap\\\", \\\"value\\\": \\\"1.55 eV\\\", \\\"conditions\\\": \\\"None\\\"}, {\\\"material\\\": \\\"PBBTA\\\", \\\"property\\\": \\\"bandgap\\\", \\\"value\\\": \\\"2.25 eV\\\", \\\"conditions\\\": \\\"None\\\"}]\\n\"}, {\"role\": \"user\", \"content\": \"Two sets of SEC columns were applied, viz, two Polymer Laboratories (PL) columns, mixed PL-E, and a set of five columns (Styragel HR 1-5, Waters). The eluent (THF, HPLC grade, Biosolve) was degassed using an Erma ERC-3522 degasser. The solvent flow rate was 1 mL min^{-1} . Measurements were done at room temperature. The molecular weight values were determined on the basis of the principle of universal calibration using polystyrene (PS) standards (PL) having known molecular masses ranging from 0.58 to 2800 kg mol^{-1} . To check the applicability of the universal calibration method for investigated polymers, we compared the results for a few SCDPs with the absolute molecular weight values determined using a light scattering detector (Wyatt Technology DAWN-F DSP) coupled to the SEC equipment. The agreement was quite reasonable. For the SEC measurements, the macromolecules were dissolved in THF at room temperature in a nitrogen atmosphere. The dendrimer solutions were filtered using Millex filters (pore size 0.5 \\u03bcm). All data were processed using a Compaq (Deskpro XL 450) computer equipped with TRISEC 2.70 software (Viscotek). From the measured intrinsic viscosity [\\u03b7], as a function of elution volume, the molar mass distribution (MMD) and average molar masses were calculated using the universal calibration. Further Mark-Houwink (M-H) plots (log [\\u03b7] versus log molar mass) were generated for each of the samples. 1 2 Molecular Weight Values of All the Mono-and Polydendrons Determined with the Aid of SEC Using the Universal Calibration^{e} code M_{n}^{a} M_{w}^{a} M_{w} / M_{n} DP^{b} T_{g} (\\u00b0C) conversion^{c} ( %) G2-CH_{2} N (CH_{2} CH_{2} OH)_{2} 770^{d} 780 G3-CH_{2} N (CH_{2} CH_{2} OH)_{2} 1800^{d} 1900 G4-CH_{2} N (CH_{2} CH_{2} OH)_{2} 3300^{d} 3300 G2-HDI-DCM 5600 23000 7 G2-DID-DCM 9600 44000 12 G2-TDI-DCM 3600 5600 4 G2-Bis-THF 7000 15000 8 G2-HDI-B 17200 51000 21 G2-DID-B 15700 63000 19 G2-TDI-B 8100 20000 10 G2-Bis-B 15700 126000 19 G3-HDI-DCM 7500 20000 5 G3-DID-DCM 12000 37000 7 G3-TDI-DCM 13000 25000 8 G3-Bis-THF 6700 8700 4 G3-HDI-B 21000 91000 13 G3-DID-B 20000 112000 12 G3-TDI-B 13500 29000 8 G3-Bis-B 27000 83000 16 G4-HDI-DCM 13000 19000 4 G4-DID-DCM 15000 32000 5 G4-TDI-DCM 11000 14000 3 G4-Bis-THF 12500 30000 4 G4-Bis-ACN 16500 26000 5 G4-Bis-Chlo 4200 4200 1 G4-Bis-Diox 5000 5400 2 G4-HDI-B 24000 71000 7 G4-DID-B 31000 90000 9 G4-TDI-B 22000 43000 7 G4-Bis-B 21000 41000 6^{a} Molecular weights are given in g*mol^{-1}^{b} The number average degree of polymerization (DP) is calculated by dividing the M_{n} values by the theoretical molecular weight values of the monodendrons.^{c} These values represent the amount of reacted monodendrons.^{d} These are the experimental data. The theoretical values of M_{n} for G2, G3, and G4 monodendrons are 828, 1680, and 3375, respectively.^{e} In the calculations, the concentration of the unreacted monomers is not taken into consideration.\\n\\nExtract all glass transition temperature or Tg values in JSONL format with 'material', 'property', 'value', 'condition' columns. Answer only if confident\"}]\n",
    "\n",
    "response = openai.ChatCompletion.create(\n",
    "  model = model,\n",
    "  temperature= temperature,\n",
    "  messages = request_obj\n",
    ")\n",
    "\n",
    "response.choices[0].message.content"
   ]
  },
  {
   "cell_type": "code",
   "execution_count": 39,
   "metadata": {},
   "outputs": [
    {
     "name": "stdout",
     "output_type": "stream",
     "text": [
      "I'm sorry, but I cannot extract the Tg values from the given text as it contains equations and references that are not clear.\n"
     ]
    }
   ],
   "source": [
    "#Example 4: \n",
    "\n",
    "request_obj = [{\"role\": \"user\", \"content\": \"The general and efficient copolymerization of lactones with hydroxy-acid bioaromatics was accomplished via a concurrent ring-opening polymerization (ROP) and polycondensation methodology. Suitable lactones were L-lactide or \\u03b5-caprolactone and four hydroxy-acid comonomers were prepared as hydroxyethyl variants of the bioaromatics syringic acid, vanillic acid, ferulic acid, and p-coumaric acid. Copolymerization conditions were optimized on a paradigm system with a 20:80 feed ratio of caprolactone:hydroxyethylsyringic acid. Among six investigated catalysts, polymer yield was optimized with 1 mol % of Sb_{2}O_{3}, affording eight copolymer series in good yields (32-95 % for lactide; 80-95 % for caprolactone). Half of the polymers were soluble in the GPC solvent hexafluoroisopropanol and analyzed to high molecular weight, with M_{n} = 10500-60700 Da. Mass spectrometry and^{1}H NMR analysis revealed an initial ring-opening formation of oligolactones, followed by polycondensation of these with the hydroxy-acid bioaromatic, followed by transesterification, yielding a random copolymer. By copolymerizing bioaromatics with L-lactide, the glass transition temperature (T_{g}) of polylactic acid (PLA, 50 \\u00b0C) could be improved and tuned in the range of 62-107 \\u00b0C; the thermal stability (T_{95 %}) of PLA (207 \\u00b0C) could be substantially increased up to 323 \\u00b0C. Similarly, bioaromatic incorporation into polycaprolactone (PCL, T_{g} = -60 \\u00b0C) accessed an improved T_{g} range from -48 to 105 \\u00b0C, while exchanging petroleum-based content with biobased content. Thus, this ROP/polycondensation methodology yields substantially or fully biobased polymers with thermal properties competitive with incumbent packaging thermoplastics such as polyethylene terephthalate (T_{g} = 67 \\u00b0C) or polystyrene (T_{g} = 95 \\u00b0C).\\n\\nExtract all glass transition temperature or Tg values in JSONL format with 'material', 'property', 'value', 'condition' columns.\"}, {\"role\": \"assistant\", \"content\": \"[{\\\"material\\\": \\\"polylactic acid\\\", \\\"property\\\": \\\"Tg\\\", \\\"value\\\": \\\"50 \\\\u00b0 C\\\", \\\"conditions\\\": \\\"None\\\"}, {\\\"material\\\": \\\"polycaprolactone\\\", \\\"property\\\": \\\"Tg\\\", \\\"value\\\": \\\"-60 \\\\u00b0 C\\\", \\\"conditions\\\": \\\"None\\\"}, {\\\"material\\\": \\\"polyethylene terephthalate\\\", \\\"property\\\": \\\"Tg\\\", \\\"value\\\": \\\"67 \\\\u00b0 C\\\", \\\"conditions\\\": \\\"ROP/polycondensation methodology\\\"}, {\\\"material\\\": \\\"polystyrene\\\", \\\"property\\\": \\\"Tg\\\", \\\"value\\\": \\\"95 \\\\u00b0 C\\\", \\\"conditions\\\": \\\"ROP/polycondensation methodology\\\"}]\\n\"}, {\"role\": \"user\", \"content\": \"Although several different T_{g\\u221e} s have been reported for it 85 86and 60 \\u00b0C 87), the present result (Equation (2)) supports the value of 48.3 found by Thompson. 85The T_{g\\u221e} in Equation (3) agrees approximately with that determined for an st -PMMA of similar tacticity (128 \\u00b0C). 88Moreover, the T_{g} data of the nonuniform it -and st -PMMAs having an larger than 5 x 10^{4} fit the linear relationship defined by Equation 2 and 3 (see Figure 10). These results indicate that a molecular weight distribution up to = 1.24 hardly affects T_{g} in a high-molecular-weight region (>= 5 x 10^{4}) and that the simple expression given by Fox and Flory (Equation (1)) holds for an extensive range for the molecular weight (M >= 1 x 10^{3}).\\n\\nExtract all glass transition temperature or Tg values in JSONL format with 'material', 'property', 'value', 'condition' columns. Answer only if confident.\"}]\n",
    "response = openai.ChatCompletion.create(\n",
    "  model = model,\n",
    "  temperature= temperature,\n",
    "  messages = request_obj\n",
    ")\n",
    "\n",
    "print(response.choices[0].message.content)"
   ]
  },
  {
   "cell_type": "markdown",
   "metadata": {},
   "source": [
    "## Prompt 3\n",
    "### Extract all thermal decomposition temperature or thermal stability or Td values/ ranges in JSONL format with 'material', 'property', 'value', 'condition' columns. Answer only if confident."
   ]
  },
  {
   "cell_type": "code",
   "execution_count": 33,
   "metadata": {},
   "outputs": [],
   "source": [
    "request_obj = [{\"role\": \"user\", \"content\": \"We report a comparative study of two organic soluble, vinylene-based, alternating donor-acceptor copolymers with 1,4-(2,5-dihexadecyloxyphenylene) as the donor; the acceptor is either a 2,5-linked pyridine or a 5,8-linked 2,3-diphenylpyrido[3,4-b]pyrazine. The polymers are synthesized via a Heck coupling methodology from a dihalo monomer and a divinyl monomer to yield number-average molecular weights of 16000 g/mol for the pyridine polymer (PPyrPV) and 6500 g/mol for the pyridopyrazine polymer (PPyrPyrPV), with high solubility in common chlorinated solvents and lower solubility in less polar solvents (eg, tetrahydrofuran). Thin-film measurements show band gaps of 2.2 and 1.8 eV for PPyrPV and PPyrPyrPV, respectively. Both polymers exhibit photoluminescence in solution and in the solid state and exhibit electroluminescence when incorporated into light-emitting diodes. In this case, a broad red emission centered at 690 nm for PPyrPV and a near-infrared emission centered at 800 nm for PPyrPyrPV have been observed.\\n\\nExtract all thermal decomposition temperature or thermal stability or Td values in JSONL format with 'material', 'property', 'value', 'condition' columns.\"}, {\"role\": \"assistant\", \"content\": \"[{\\\"material\\\": \\\"PPyrPV\\\", \\\"property\\\": \\\"bandgap\\\", \\\"value\\\": \\\"2.2\\\", \\\"conditions\\\": \\\"None\\\"}, {\\\"material\\\": \\\"PPyrPyrPV\\\", \\\"property\\\": \\\"bandgap\\\", \\\"value\\\": \\\"1.8 eV\\\", \\\"conditions\\\": \\\"None\\\"}]\\n\"}, \n",
    "               {\"role\": \"user\", \"content\": \"The thermal stability of the polymers was characterized by TGA. The temperatures at 5 and 10 % weight loss (T_{5} and T_{10}) in nitrogen and air atmospheres were determined from the original thermograms and also tabulated in this Table 6 T_{10} of polyamides (VII_{a-f}) stays in the range of 490-509- \\u00b0C in nitrogen and 462-487- \\u00b0C in air, respectively. The T_{10} of the PAIs (VIII_{a-b}and IX_{a-l}) stays in the range of 495-532- \\u00b0C in nitrogen and 475-521- \\u00b0C in air, respectively. The imide-containing PAIs VIII_{a-b}and IX_{a-l}have higher T_{10} than VII_{a-hf}in nitrogen and air, due to the incorporation of the thermally stable imide group in the main chain. For example, the imide-containing IX_{a}and VIII_{b}have higher T_{10} than VII_{b}in nitrogen and air. Their T_{10} values are in order of IX_{a}->-VIII_{b}->-VII_{b}. Moreover, the char yield of all these polymers at 800- \\u00b0C are above 48 %.\\n\\nExtract all thermal decomposition temperature or thermal stability or Td values/ranges in JSONL format with 'material', 'property', 'value', 'condition' columns. Answer only if confident.\"}]"
   ]
  },
  {
   "cell_type": "code",
   "execution_count": 34,
   "metadata": {},
   "outputs": [],
   "source": [
    "response = openai.ChatCompletion.create(\n",
    "  model = model,\n",
    "  temperature= temperature,\n",
    "  messages = request_obj\n",
    ")"
   ]
  },
  {
   "cell_type": "code",
   "execution_count": 36,
   "metadata": {},
   "outputs": [
    {
     "data": {
      "text/plain": [
       "[{'material': 'polyamides (VII_{a-f})',\n",
       "  'property': 'T_{10}',\n",
       "  'value': '490-509 °C',\n",
       "  'condition': 'nitrogen'},\n",
       " {'material': 'polyamides (VII_{a-f})',\n",
       "  'property': 'T_{10}',\n",
       "  'value': '462-487 °C',\n",
       "  'condition': 'air'},\n",
       " {'material': 'PAIs (VIII_{a-b}and IX_{a-l})',\n",
       "  'property': 'T_{10}',\n",
       "  'value': '495-532 °C',\n",
       "  'condition': 'nitrogen'},\n",
       " {'material': 'PAIs (VIII_{a-b}and IX_{a-l})',\n",
       "  'property': 'T_{10}',\n",
       "  'value': '475-521 °C',\n",
       "  'condition': 'air'}]"
      ]
     },
     "execution_count": 36,
     "metadata": {},
     "output_type": "execute_result"
    }
   ],
   "source": [
    "eval(response.choices[0].message.content)"
   ]
  },
  {
   "cell_type": "code",
   "execution_count": 13,
   "metadata": {},
   "outputs": [
    {
     "data": {
      "text/plain": [
       "[{'material': 'CLIN-AN-DVB thermosets',\n",
       "  'property': 'Tg',\n",
       "  'value': '60-101 °C',\n",
       "  'conditions': 'room temperature'},\n",
       " {'material': 'CLIN-AN-DVB thermosets',\n",
       "  'property': 'storage moduli',\n",
       "  'value': '160 MPa - 1.6 GPa',\n",
       "  'conditions': 'room temperature'}]"
      ]
     },
     "execution_count": 13,
     "metadata": {},
     "output_type": "execute_result"
    }
   ],
   "source": [
    "#Example 2:\n",
    "\n",
    "request_obj = [{\"role\": \"user\", \"content\": \"Polyacrylamide (PAAm) was chemically modified with hydroquinone (HQ) via a homolytic route. A degree of modification of approximately 58 % was obtained under optimal reaction conditions: time of 6 h, and [modifier]/[acrylamide] molar ratio of 5. PAAm and its modified form HQ-PAAm were characterized by UV-visible spectroscopy, FT-IR spectroscopy,^{13}C NMR spectroscopy, DSC, TGA, XRD, and SEM. A relatively lower molecular weight of the corresponding hydroquinone-functionalized form was measured. The glass transition temperature of the modified polymeric material was lower than that of the pristine one: 78.82 \\u00b0C for HQ-PAAm versus 161.19 \\u00b0C for PAAm. A study of Cu (II) adsorption by the cross-linked PAAm and HQ-PAAm resins was conducted by varying the following parameters: pH, time, temperature, ionic strength, sorbent mass, and initial Cu (II) concentration. The adsorption capacity of Pb (II) and Cd (II) by the different resins and their corresponding extents of desorption were estimated. The optimal conditions for metal ion uptake by polyacrylamide and its modified resin were: pH = 5.4, time = 120 min, temperature = 45 \\u00b0C. The sorption extent by the modified resin was in the order Pb (II) > Cu (II) > Cd (II). The desorption of the experimented metallic ions from the resins exceeded 97 %. A new way of cross-linking PAAm and its modified form is described herein.\\n\\nExtract all glass transition temperature or Tg values in JSONL format with 'material', 'property', 'value', 'condition' columns.\"}, {\"role\": \"assistant\", \"content\": \"[{\\\"material\\\": \\\"HQ-PAAm\\\", \\\"property\\\": \\\"Tg\\\", \\\"value\\\": \\\"78.82 \\\\u00b0 C\\\", \\\"conditions\\\": \\\"None\\\"}, {\\\"material\\\": \\\"PAAm\\\", \\\"property\\\": \\\"Tg\\\", \\\"value\\\": \\\"161.19 \\\\u00b0 C\\\", \\\"conditions\\\": \\\"None\\\"}]\\n\"}, \n",
    "               {\"role\": \"user\", \"content\": \"Conjugated carbon-carbon double bonds in vegetable oils are relatively easily attacked by free radicals. 9The conjugated linseed oil (CLIN) and conjugated low-saturation soybean oil (CLS), obtained by Larock and co-workers using a rhodium catalyst, 40have been found to undergo free radical polymerization initiated by either benzoyl peroxide or tert -butyl hydroperoxide (TBHP) or combinations of these reagents. The resulting polymerized conjugated oils are more viscous than the original oils. 9A variety of co-monomers, such as divinylbenzene, acrylonitrile (AN), and dicyclopentadiene (DCPD), have been copolymerized with CLIN and CLS. Free radical polymerization of CLIN or CLS with acrylonitrile and divinylbenzene initiated by azobisisobutyronitrile (AIBN) gives thermosets that are transparent and yellow and range from hard and brittle plastics to soft and rubbery materials. For the CLIN-AN-DVB thermosets, approximately 61-96 wt % of the CLIN is incorporated into the final products. The T_{g} values determined from the tan \\u03b4 peaks range from 60 to 101 \\u00b0C and the room-temperature storage moduli vary from 160 M Pa to 1.6 GPa, depending on the oil content in the formulation. These thermosets are thermally stable up to 300 \\u00b0C. The wide range of properties attained with these materials makes them suitable for potential applications in which petroleum-based polymers are currently used. 41\\n\\nExtract all glass transition temperature or Tg values/ranges in JSONL format with 'material', 'property', 'value', 'condition' columns. Answer only if confident.\"}]\n",
    "\n",
    "response = openai.ChatCompletion.create(\n",
    "  model = model,\n",
    "  temperature= temperature,\n",
    "  messages = request_obj\n",
    ")\n",
    "\n",
    "eval(response.choices[0].message.content)"
   ]
  },
  {
   "cell_type": "code",
   "execution_count": 18,
   "metadata": {},
   "outputs": [
    {
     "data": {
      "text/plain": [
       "'{\"material\": \"G2-CH2N(CH2CH2OH)2\", \"property\": \"Tg\", \"value\": \"N/A\", \"condition\": \"N/A\"}\\n{\"material\": \"G3-CH2N(CH2CH2OH)2\", \"property\": \"Tg\", \"value\": \"N/A\", \"condition\": \"N/A\"}\\n{\"material\": \"G4-CH2N(CH2CH2OH)2\", \"property\": \"Tg\", \"value\": \"N/A\", \"condition\": \"N/A\"}\\n{\"material\": \"G2-HDI-DCM\", \"property\": \"Tg\", \"value\": \"N/A\", \"condition\": \"N/A\"}\\n{\"material\": \"G2-DID-DCM\", \"property\": \"Tg\", \"value\": \"N/A\", \"condition\": \"N/A\"}\\n{\"material\": \"G2-TDI-DCM\", \"property\": \"Tg\", \"value\": \"N/A\", \"condition\": \"N/A\"}\\n{\"material\": \"G2-Bis-THF\", \"property\": \"Tg\", \"value\": \"N/A\", \"condition\": \"N/A\"}\\n{\"material\": \"G2-HDI-B\", \"property\": \"Tg\", \"value\": \"N/A\", \"condition\": \"N/A\"}\\n{\"material\": \"G2-DID-B\", \"property\": \"Tg\", \"value\": \"N/A\", \"condition\": \"N/A\"}\\n{\"material\": \"G2-TDI-B\", \"property\": \"Tg\", \"value\": \"N/A\", \"condition\": \"N/A\"}\\n{\"material\": \"G2-Bis-B\", \"property\": \"Tg\", \"value\": \"N/A\", \"condition\": \"N/A\"}\\n{\"material\": \"G3-HDI-DCM\", \"property\": \"Tg\", \"value\": \"N/A\", \"condition\": \"N/A\"}\\n{\"material\": \"G3-DID-DCM\", \"property\": \"Tg\", \"value\": \"N/A\", \"condition\": \"N/A\"}\\n{\"material\": \"G3-TDI-DCM\", \"property\": \"Tg\", \"value\": \"N/A\", \"condition\": \"N/A\"}\\n{\"material\": \"G3-Bis-THF\", \"property\": \"Tg\", \"value\": \"N/A\", \"condition\": \"N/A\"}\\n{\"material\": \"G3-HDI-B\", \"property\": \"Tg\", \"value\": \"N/A\", \"condition\": \"N/A\"}\\n{\"material\": \"G3-DID-B\", \"property\": \"Tg\", \"value\": \"N/A\", \"condition\": \"N/A\"}\\n{\"material\": \"G3-TDI-B\", \"property\": \"Tg\", \"value\": \"N/A\", \"condition\": \"N/A\"}\\n{\"material\": \"G3-Bis-B\", \"property\": \"Tg\", \"value\": \"N/A\", \"condition\": \"N/A\"}\\n{\"material\": \"G4-HDI-DCM\", \"property\": \"Tg\", \"value\": \"N/A\", \"condition\": \"N/A\"}\\n{\"material\": \"G4-DID-DCM\", \"property\": \"Tg\", \"value\": \"N/A\", \"condition\": \"N/A\"}\\n{\"material\": \"G4-TDI-DCM\", \"property\": \"Tg\", \"value\": \"N/A\", \"condition\": \"N/A\"}\\n{\"material\": \"G4-Bis-THF\", \"property\": \"Tg\", \"value\": \"N/A\", \"condition\": \"N/A\"}\\n{\"material\": \"G4-Bis-ACN\", \"property\": \"Tg\", \"value\": \"N/A\", \"condition\": \"N/A\"}\\n{\"material\": \"G4-Bis-Chlo\", \"property\": \"Tg\", \"value\": \"N/A\", \"condition\": \"N/A\"}\\n{\"material\": \"G4-Bis-Diox\", \"property\": \"Tg\", \"value\": \"N/A\", \"condition\": \"N/A\"}\\n{\"material\": \"G4-HDI-B\", \"property\": \"Tg\", \"value\": \"N/A\", \"condition\": \"N/A\"}\\n{\"material\": \"G4-DID-B\", \"property\": \"Tg\", \"value\": \"N/A\", \"condition\": \"N/A\"}\\n{\"material\": \"G4-TDI-B\", \"property\": \"Tg\", \"value\": \"N/A\", \"condition\": \"N/A\"}\\n{\"material\": \"G4-Bis-B\", \"property\": \"Tg\", \"value\": \"N/A\", \"condition\": \"N/A\"}'"
      ]
     },
     "execution_count": 18,
     "metadata": {},
     "output_type": "execute_result"
    }
   ],
   "source": [
    "#Example 3: \n",
    "\n",
    "request_obj = [{\"role\": \"user\", \"content\": \"Two electroactive monomers 1-benzyl-4,7-di (thiophen-2-yl))-2H-benzo[d][1,2,3]triazole (BBTA) and 2-benzyl-4,7-di (thiophen-2-yl))-2H-benzo[d][1,2,3]triazole (BBTS) were synthesized with satisfactory yields. The effect of substitution site on electrochemical and optical properties was investigated with cyclic voltammetry and spectroelectrochemical studies. Results showed that position of pendant group alters the electronic structure of the resulting polymer causing different optical and electrochemical behaviors. Symmetrically positioned benzyl unit on benzotriazole moiety resulted in a neutral state red polymer, PBBTS, having multi-colored property in its different oxidized and reduced states. Its analogue PBBTA exhibited maximum absorption at 390 nm in its neutral state and also revealed multicolored electrochromic property upon stepwise oxidation. Very different optical band gap values were calculated: 1.55 eV and 2.25 eV for PBBTS and PBBTA, respectively.\\n\\nExtract all glass transition temperature or Tg values in JSONL format with 'material', 'property', 'value', 'condition' columns.\"}, {\"role\": \"assistant\", \"content\": \"[{\\\"material\\\": \\\"PBBTS\\\", \\\"property\\\": \\\"bandgap\\\", \\\"value\\\": \\\"1.55 eV\\\", \\\"conditions\\\": \\\"None\\\"}, {\\\"material\\\": \\\"PBBTA\\\", \\\"property\\\": \\\"bandgap\\\", \\\"value\\\": \\\"2.25 eV\\\", \\\"conditions\\\": \\\"None\\\"}]\\n\"}, {\"role\": \"user\", \"content\": \"Two sets of SEC columns were applied, viz, two Polymer Laboratories (PL) columns, mixed PL-E, and a set of five columns (Styragel HR 1-5, Waters). The eluent (THF, HPLC grade, Biosolve) was degassed using an Erma ERC-3522 degasser. The solvent flow rate was 1 mL min^{-1} . Measurements were done at room temperature. The molecular weight values were determined on the basis of the principle of universal calibration using polystyrene (PS) standards (PL) having known molecular masses ranging from 0.58 to 2800 kg mol^{-1} . To check the applicability of the universal calibration method for investigated polymers, we compared the results for a few SCDPs with the absolute molecular weight values determined using a light scattering detector (Wyatt Technology DAWN-F DSP) coupled to the SEC equipment. The agreement was quite reasonable. For the SEC measurements, the macromolecules were dissolved in THF at room temperature in a nitrogen atmosphere. The dendrimer solutions were filtered using Millex filters (pore size 0.5 \\u03bcm). All data were processed using a Compaq (Deskpro XL 450) computer equipped with TRISEC 2.70 software (Viscotek). From the measured intrinsic viscosity [\\u03b7], as a function of elution volume, the molar mass distribution (MMD) and average molar masses were calculated using the universal calibration. Further Mark-Houwink (M-H) plots (log [\\u03b7] versus log molar mass) were generated for each of the samples. 1 2 Molecular Weight Values of All the Mono-and Polydendrons Determined with the Aid of SEC Using the Universal Calibration^{e} code M_{n}^{a} M_{w}^{a} M_{w} / M_{n} DP^{b} T_{g} (\\u00b0C) conversion^{c} ( %) G2-CH_{2} N (CH_{2} CH_{2} OH)_{2} 770^{d} 780 G3-CH_{2} N (CH_{2} CH_{2} OH)_{2} 1800^{d} 1900 G4-CH_{2} N (CH_{2} CH_{2} OH)_{2} 3300^{d} 3300 G2-HDI-DCM 5600 23000 7 G2-DID-DCM 9600 44000 12 G2-TDI-DCM 3600 5600 4 G2-Bis-THF 7000 15000 8 G2-HDI-B 17200 51000 21 G2-DID-B 15700 63000 19 G2-TDI-B 8100 20000 10 G2-Bis-B 15700 126000 19 G3-HDI-DCM 7500 20000 5 G3-DID-DCM 12000 37000 7 G3-TDI-DCM 13000 25000 8 G3-Bis-THF 6700 8700 4 G3-HDI-B 21000 91000 13 G3-DID-B 20000 112000 12 G3-TDI-B 13500 29000 8 G3-Bis-B 27000 83000 16 G4-HDI-DCM 13000 19000 4 G4-DID-DCM 15000 32000 5 G4-TDI-DCM 11000 14000 3 G4-Bis-THF 12500 30000 4 G4-Bis-ACN 16500 26000 5 G4-Bis-Chlo 4200 4200 1 G4-Bis-Diox 5000 5400 2 G4-HDI-B 24000 71000 7 G4-DID-B 31000 90000 9 G4-TDI-B 22000 43000 7 G4-Bis-B 21000 41000 6^{a} Molecular weights are given in g*mol^{-1}^{b} The number average degree of polymerization (DP) is calculated by dividing the M_{n} values by the theoretical molecular weight values of the monodendrons.^{c} These values represent the amount of reacted monodendrons.^{d} These are the experimental data. The theoretical values of M_{n} for G2, G3, and G4 monodendrons are 828, 1680, and 3375, respectively.^{e} In the calculations, the concentration of the unreacted monomers is not taken into consideration.\\n\\nExtract all glass transition temperature or Tg values/ranges in JSONL format with 'material', 'property', 'value', 'condition' columns. Answer only if confident\"}]\n",
    "\n",
    "response = openai.ChatCompletion.create(\n",
    "  model = model,\n",
    "  temperature= temperature,\n",
    "  messages = request_obj\n",
    ")"
   ]
  },
  {
   "cell_type": "code",
   "execution_count": 32,
   "metadata": {},
   "outputs": [
    {
     "name": "stdout",
     "output_type": "stream",
     "text": [
      "{\"material\": \"G2-CH2N(CH2CH2OH)2\", \"property\": \"Tg\", \"value\": \"N/A\", \"condition\": \"N/A\"}\n",
      "{\"material\": \"G3-CH2N(CH2CH2OH)2\", \"property\": \"Tg\", \"value\": \"N/A\", \"condition\": \"N/A\"}\n",
      "{\"material\": \"G4-CH2N(CH2CH2OH)2\", \"property\": \"Tg\", \"value\": \"N/A\", \"condition\": \"N/A\"}\n",
      "{\"material\": \"G2-HDI-DCM\", \"property\": \"Tg\", \"value\": \"N/A\", \"condition\": \"N/A\"}\n",
      "{\"material\": \"G2-DID-DCM\", \"property\": \"Tg\", \"value\": \"N/A\", \"condition\": \"N/A\"}\n",
      "{\"material\": \"G2-TDI-DCM\", \"property\": \"Tg\", \"value\": \"N/A\", \"condition\": \"N/A\"}\n",
      "{\"material\": \"G2-Bis-THF\", \"property\": \"Tg\", \"value\": \"N/A\", \"condition\": \"N/A\"}\n",
      "{\"material\": \"G2-HDI-B\", \"property\": \"Tg\", \"value\": \"N/A\", \"condition\": \"N/A\"}\n",
      "{\"material\": \"G2-DID-B\", \"property\": \"Tg\", \"value\": \"N/A\", \"condition\": \"N/A\"}\n",
      "{\"material\": \"G2-TDI-B\", \"property\": \"Tg\", \"value\": \"N/A\", \"condition\": \"N/A\"}\n",
      "{\"material\": \"G2-Bis-B\", \"property\": \"Tg\", \"value\": \"N/A\", \"condition\": \"N/A\"}\n",
      "{\"material\": \"G3-HDI-DCM\", \"property\": \"Tg\", \"value\": \"N/A\", \"condition\": \"N/A\"}\n",
      "{\"material\": \"G3-DID-DCM\", \"property\": \"Tg\", \"value\": \"N/A\", \"condition\": \"N/A\"}\n",
      "{\"material\": \"G3-TDI-DCM\", \"property\": \"Tg\", \"value\": \"N/A\", \"condition\": \"N/A\"}\n",
      "{\"material\": \"G3-Bis-THF\", \"property\": \"Tg\", \"value\": \"N/A\", \"condition\": \"N/A\"}\n",
      "{\"material\": \"G3-HDI-B\", \"property\": \"Tg\", \"value\": \"N/A\", \"condition\": \"N/A\"}\n",
      "{\"material\": \"G3-DID-B\", \"property\": \"Tg\", \"value\": \"N/A\", \"condition\": \"N/A\"}\n",
      "{\"material\": \"G3-TDI-B\", \"property\": \"Tg\", \"value\": \"N/A\", \"condition\": \"N/A\"}\n",
      "{\"material\": \"G3-Bis-B\", \"property\": \"Tg\", \"value\": \"N/A\", \"condition\": \"N/A\"}\n",
      "{\"material\": \"G4-HDI-DCM\", \"property\": \"Tg\", \"value\": \"N/A\", \"condition\": \"N/A\"}\n",
      "{\"material\": \"G4-DID-DCM\", \"property\": \"Tg\", \"value\": \"N/A\", \"condition\": \"N/A\"}\n",
      "{\"material\": \"G4-TDI-DCM\", \"property\": \"Tg\", \"value\": \"N/A\", \"condition\": \"N/A\"}\n",
      "{\"material\": \"G4-Bis-THF\", \"property\": \"Tg\", \"value\": \"N/A\", \"condition\": \"N/A\"}\n",
      "{\"material\": \"G4-Bis-ACN\", \"property\": \"Tg\", \"value\": \"N/A\", \"condition\": \"N/A\"}\n",
      "{\"material\": \"G4-Bis-Chlo\", \"property\": \"Tg\", \"value\": \"N/A\", \"condition\": \"N/A\"}\n",
      "{\"material\": \"G4-Bis-Diox\", \"property\": \"Tg\", \"value\": \"N/A\", \"condition\": \"N/A\"}\n",
      "{\"material\": \"G4-HDI-B\", \"property\": \"Tg\", \"value\": \"N/A\", \"condition\": \"N/A\"}\n",
      "{\"material\": \"G4-DID-B\", \"property\": \"Tg\", \"value\": \"N/A\", \"condition\": \"N/A\"}\n",
      "{\"material\": \"G4-TDI-B\", \"property\": \"Tg\", \"value\": \"N/A\", \"condition\": \"N/A\"}\n",
      "{\"material\": \"G4-Bis-B\", \"property\": \"Tg\", \"value\": \"N/A\", \"condition\": \"N/A\"}\n"
     ]
    }
   ],
   "source": [
    "print(response.choices[0].message.content)"
   ]
  },
  {
   "cell_type": "code",
   "execution_count": 35,
   "metadata": {},
   "outputs": [
    {
     "data": {
      "text/plain": [
       "'{\"material\": \"G2-CH2N(CH2CH2OH)2\", \"property\": \"Tg\", \"value\": \"N/A\", \"condition\": \"N/A\"}\\n{\"material\": \"G3-CH2N(CH2CH2OH)2\", \"property\": \"Tg\", \"value\": \"N/A\", \"condition\": \"N/A\"}\\n{\"material\": \"G4-CH2N(CH2CH2OH)2\", \"property\": \"Tg\", \"value\": \"N/A\", \"condition\": \"N/A\"}\\n{\"material\": \"G2-HDI-DCM\", \"property\": \"Tg\", \"value\": \"N/A\", \"condition\": \"N/A\"}\\n{\"material\": \"G2-DID-DCM\", \"property\": \"Tg\", \"value\": \"N/A\", \"condition\": \"N/A\"}\\n{\"material\": \"G2-TDI-DCM\", \"property\": \"Tg\", \"value\": \"N/A\", \"condition\": \"N/A\"}\\n{\"material\": \"G2-Bis-THF\", \"property\": \"Tg\", \"value\": \"N/A\", \"condition\": \"N/A\"}\\n{\"material\": \"G2-HDI-B\", \"property\": \"Tg\", \"value\": \"N/A\", \"condition\": \"N/A\"}\\n{\"material\": \"G2-DID-B\", \"property\": \"Tg\", \"value\": \"N/A\", \"condition\": \"N/A\"}\\n{\"material\": \"G2-TDI-B\", \"property\": \"Tg\", \"value\": \"N/A\", \"condition\": \"N/A\"}\\n{\"material\": \"G2-Bis-B\", \"property\": \"Tg\", \"value\": \"N/A\", \"condition\": \"N/A\"}\\n{\"material\": \"G3-HDI-DCM\", \"property\": \"Tg\", \"value\": \"N/A\", \"condition\": \"N/A\"}\\n{\"material\": \"G3-DID-DCM\", \"property\": \"Tg\", \"value\": \"N/A\", \"condition\": \"N/A\"}\\n{\"material\": \"G3-TDI-DCM\", \"property\": \"Tg\", \"value\": \"N/A\", \"condition\": \"N/A\"}\\n{\"material\": \"G3-Bis-THF\", \"property\": \"Tg\", \"value\": \"N/A\", \"condition\": \"N/A\"}\\n{\"material\": \"G3-HDI-B\", \"property\": \"Tg\", \"value\": \"N/A\", \"condition\": \"N/A\"}\\n{\"material\": \"G3-DID-B\", \"property\": \"Tg\", \"value\": \"N/A\", \"condition\": \"N/A\"}\\n{\"material\": \"G3-TDI-B\", \"property\": \"Tg\", \"value\": \"N/A\", \"condition\": \"N/A\"}\\n{\"material\": \"G3-Bis-B\", \"property\": \"Tg\", \"value\": \"N/A\", \"condition\": \"N/A\"}\\n{\"material\": \"G4-HDI-DCM\", \"property\": \"Tg\", \"value\": \"N/A\", \"condition\": \"N/A\"}\\n{\"material\": \"G4-DID-DCM\", \"property\": \"Tg\", \"value\": \"N/A\", \"condition\": \"N/A\"}\\n{\"material\": \"G4-TDI-DCM\", \"property\": \"Tg\", \"value\": \"N/A\", \"condition\": \"N/A\"}\\n{\"material\": \"G4-Bis-THF\", \"property\": \"Tg\", \"value\": \"N/A\", \"condition\": \"N/A\"}\\n{\"material\": \"G4-Bis-ACN\", \"property\": \"Tg\", \"value\": \"N/A\", \"condition\": \"N/A\"}\\n{\"material\": \"G4-Bis-Chlo\", \"property\": \"Tg\", \"value\": \"N/A\", \"condition\": \"N/A\"}\\n{\"material\": \"G4-Bis-Diox\", \"property\": \"Tg\", \"value\": \"N/A\", \"condition\": \"N/A\"}\\n{\"material\": \"G4-HDI-B\", \"property\": \"Tg\", \"value\": \"N/A\", \"condition\": \"N/A\"}\\n{\"material\": \"G4-DID-B\", \"property\": \"Tg\", \"value\": \"N/A\", \"condition\": \"N/A\"}\\n{\"material\": \"G4-TDI-B\", \"property\": \"Tg\", \"value\": \"N/A\", \"condition\": \"N/A\"}\\n{\"material\": \"G4-Bis-B\", \"property\": \"Tg\", \"value\": \"N/A\", \"condition\": \"N/A\"}'"
      ]
     },
     "execution_count": 35,
     "metadata": {},
     "output_type": "execute_result"
    }
   ],
   "source": [
    "response.choices[0].message.content"
   ]
  },
  {
   "cell_type": "code",
   "execution_count": 41,
   "metadata": {},
   "outputs": [
    {
     "name": "stdout",
     "output_type": "stream",
     "text": [
      "I'm sorry, but I cannot extract the Tg values or ranges from the given text. The information provided is not in a format that can be easily parsed for Tg values.\n"
     ]
    }
   ],
   "source": [
    "#Example 4: \n",
    "\n",
    "request_obj = [{\"role\": \"user\", \"content\": \"The general and efficient copolymerization of lactones with hydroxy-acid bioaromatics was accomplished via a concurrent ring-opening polymerization (ROP) and polycondensation methodology. Suitable lactones were L-lactide or \\u03b5-caprolactone and four hydroxy-acid comonomers were prepared as hydroxyethyl variants of the bioaromatics syringic acid, vanillic acid, ferulic acid, and p-coumaric acid. Copolymerization conditions were optimized on a paradigm system with a 20:80 feed ratio of caprolactone:hydroxyethylsyringic acid. Among six investigated catalysts, polymer yield was optimized with 1 mol % of Sb_{2}O_{3}, affording eight copolymer series in good yields (32-95 % for lactide; 80-95 % for caprolactone). Half of the polymers were soluble in the GPC solvent hexafluoroisopropanol and analyzed to high molecular weight, with M_{n} = 10500-60700 Da. Mass spectrometry and^{1}H NMR analysis revealed an initial ring-opening formation of oligolactones, followed by polycondensation of these with the hydroxy-acid bioaromatic, followed by transesterification, yielding a random copolymer. By copolymerizing bioaromatics with L-lactide, the glass transition temperature (T_{g}) of polylactic acid (PLA, 50 \\u00b0C) could be improved and tuned in the range of 62-107 \\u00b0C; the thermal stability (T_{95 %}) of PLA (207 \\u00b0C) could be substantially increased up to 323 \\u00b0C. Similarly, bioaromatic incorporation into polycaprolactone (PCL, T_{g} = -60 \\u00b0C) accessed an improved T_{g} range from -48 to 105 \\u00b0C, while exchanging petroleum-based content with biobased content. Thus, this ROP/polycondensation methodology yields substantially or fully biobased polymers with thermal properties competitive with incumbent packaging thermoplastics such as polyethylene terephthalate (T_{g} = 67 \\u00b0C) or polystyrene (T_{g} = 95 \\u00b0C).\\n\\nExtract all glass transition temperature or Tg values in JSONL format with 'material', 'property', 'value', 'condition' columns.\"}, {\"role\": \"assistant\", \"content\": \"[{\\\"material\\\": \\\"polylactic acid\\\", \\\"property\\\": \\\"Tg\\\", \\\"value\\\": \\\"50 \\\\u00b0 C\\\", \\\"conditions\\\": \\\"None\\\"}, {\\\"material\\\": \\\"polycaprolactone\\\", \\\"property\\\": \\\"Tg\\\", \\\"value\\\": \\\"-60 \\\\u00b0 C\\\", \\\"conditions\\\": \\\"None\\\"}, {\\\"material\\\": \\\"polyethylene terephthalate\\\", \\\"property\\\": \\\"Tg\\\", \\\"value\\\": \\\"67 \\\\u00b0 C\\\", \\\"conditions\\\": \\\"ROP/polycondensation methodology\\\"}, {\\\"material\\\": \\\"polystyrene\\\", \\\"property\\\": \\\"Tg\\\", \\\"value\\\": \\\"95 \\\\u00b0 C\\\", \\\"conditions\\\": \\\"ROP/polycondensation methodology\\\"}]\\n\"}, {\"role\": \"user\", \"content\": \"Although several different T_{g\\u221e} s have been reported for it 85 86and 60 \\u00b0C 87), the present result (Equation (2)) supports the value of 48.3 found by Thompson. 85The T_{g\\u221e} in Equation (3) agrees approximately with that determined for an st -PMMA of similar tacticity (128 \\u00b0C). 88Moreover, the T_{g} data of the nonuniform it -and st -PMMAs having an larger than 5 x 10^{4} fit the linear relationship defined by Equation 2 and 3 (see Figure 10). These results indicate that a molecular weight distribution up to = 1.24 hardly affects T_{g} in a high-molecular-weight region (>= 5 x 10^{4}) and that the simple expression given by Fox and Flory (Equation (1)) holds for an extensive range for the molecular weight (M >= 1 x 10^{3}).\\n\\nExtract all glass transition temperature or Tg values/ ranges in JSONL format with 'material', 'property', 'value', 'condition' columns. Answer only if confident.\"}]\n",
    "response = openai.ChatCompletion.create(\n",
    "  model = model,\n",
    "  temperature= temperature,\n",
    "  messages = request_obj\n",
    ")\n",
    "\n",
    "print(response.choices[0].message.content)"
   ]
  },
  {
   "cell_type": "code",
   "execution_count": null,
   "metadata": {},
   "outputs": [],
   "source": []
  }
 ],
 "metadata": {
  "kernelspec": {
   "display_name": "Python 3",
   "language": "python",
   "name": "python3"
  },
  "language_info": {
   "codemirror_mode": {
    "name": "ipython",
    "version": 3
   },
   "file_extension": ".py",
   "mimetype": "text/x-python",
   "name": "python",
   "nbconvert_exporter": "python",
   "pygments_lexer": "ipython3",
   "version": "3.10.12"
  }
 },
 "nbformat": 4,
 "nbformat_minor": 2
}

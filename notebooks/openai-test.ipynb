{
 "cells": [
  {
   "cell_type": "code",
   "execution_count": 8,
   "metadata": {},
   "outputs": [],
   "source": [
    "import os\n",
    "os.chdir(\"..\")\n",
    "assert 'PromptDataExtract' in os.getcwd()"
   ]
  },
  {
   "cell_type": "code",
   "execution_count": 15,
   "metadata": {},
   "outputs": [],
   "source": [
    "import openai\n",
    "from backend import sett \n"
   ]
  },
  {
   "cell_type": "code",
   "execution_count": 16,
   "metadata": {},
   "outputs": [
    {
     "name": "stdout",
     "output_type": "stream",
     "text": [
      "Load OK: settings.yaml\n"
     ]
    }
   ],
   "source": [
    "sett.load_settings()\n",
    "openai.api_key = sett.LLMPipeline.openai_key"
   ]
  },
  {
   "cell_type": "code",
   "execution_count": 4,
   "metadata": {},
   "outputs": [],
   "source": [
    "model=\"gpt-3.5-turbo\"\n",
    "temperature = 0.001"
   ]
  },
  {
   "cell_type": "markdown",
   "metadata": {},
   "source": [
    "## Prompt 1\n",
    "### Extract all thermal decomposition temperature or thermal stability or Td values in JSONL format with 'material', 'property', 'value', 'condition' columns. "
   ]
  },
  {
   "cell_type": "code",
   "execution_count": 5,
   "metadata": {},
   "outputs": [],
   "source": [
    "request_obj = [{\"role\": \"user\", \"content\": \"We report a comparative study of two organic soluble, vinylene-based, alternating donor-acceptor copolymers with 1,4-(2,5-dihexadecyloxyphenylene) as the donor; the acceptor is either a 2,5-linked pyridine or a 5,8-linked 2,3-diphenylpyrido[3,4-b]pyrazine. The polymers are synthesized via a Heck coupling methodology from a dihalo monomer and a divinyl monomer to yield number-average molecular weights of 16000 g/mol for the pyridine polymer (PPyrPV) and 6500 g/mol for the pyridopyrazine polymer (PPyrPyrPV), with high solubility in common chlorinated solvents and lower solubility in less polar solvents (eg, tetrahydrofuran). Thin-film measurements show band gaps of 2.2 and 1.8 eV for PPyrPV and PPyrPyrPV, respectively. Both polymers exhibit photoluminescence in solution and in the solid state and exhibit electroluminescence when incorporated into light-emitting diodes. In this case, a broad red emission centered at 690 nm for PPyrPV and a near-infrared emission centered at 800 nm for PPyrPyrPV have been observed.\\n\\nExtract all thermal decomposition temperature or thermal stability or Td values in JSONL format with 'material', 'property', 'value', 'condition' columns.\"}, {\"role\": \"assistant\", \"content\": \"[{\\\"material\\\": \\\"PPyrPV\\\", \\\"property\\\": \\\"bandgap\\\", \\\"value\\\": \\\"2.2\\\", \\\"conditions\\\": \\\"None\\\"}, {\\\"material\\\": \\\"PPyrPyrPV\\\", \\\"property\\\": \\\"bandgap\\\", \\\"value\\\": \\\"1.8 eV\\\", \\\"conditions\\\": \\\"None\\\"}]\\n\"}, \n",
    "               {\"role\": \"user\", \"content\": \"The thermal stability of the polymers was characterized by TGA. The temperatures at 5 and 10 % weight loss (T_{5} and T_{10}) in nitrogen and air atmospheres were determined from the original thermograms and also tabulated in this Table 6 T_{10} of polyamides (VII_{a-f}) stays in the range of 490-509- \\u00b0C in nitrogen and 462-487- \\u00b0C in air, respectively. The T_{10} of the PAIs (VIII_{a-b}and IX_{a-l}) stays in the range of 495-532- \\u00b0C in nitrogen and 475-521- \\u00b0C in air, respectively. The imide-containing PAIs VIII_{a-b}and IX_{a-l}have higher T_{10} than VII_{a-hf}in nitrogen and air, due to the incorporation of the thermally stable imide group in the main chain. For example, the imide-containing IX_{a}and VIII_{b}have higher T_{10} than VII_{b}in nitrogen and air. Their T_{10} values are in order of IX_{a}->-VIII_{b}->-VII_{b}. Moreover, the char yield of all these polymers at 800- \\u00b0C are above 48 %.\\n\\nExtract all thermal decomposition temperature or thermal stability or Td values in JSONL format with 'material', 'property', 'value', 'condition' columns.\"}]"
   ]
  },
  {
   "cell_type": "code",
   "execution_count": 18,
   "metadata": {},
   "outputs": [],
   "source": [
    "response = openai.ChatCompletion.create(\n",
    "  model = model,\n",
    "  temperature= temperature,\n",
    "  messages = request_obj\n",
    ")"
   ]
  },
  {
   "cell_type": "code",
   "execution_count": 27,
   "metadata": {},
   "outputs": [
    {
     "data": {
      "text/plain": [
       "[{'material': 'VII_{a-f}',\n",
       "  'property': 'T_{10} in nitrogen',\n",
       "  'value': '490-509 °C',\n",
       "  'conditions': 'None'},\n",
       " {'material': 'VII_{a-f}',\n",
       "  'property': 'T_{10} in air',\n",
       "  'value': '462-487 °C',\n",
       "  'conditions': 'None'},\n",
       " {'material': 'VIII_{a-b}and IX_{a-l}',\n",
       "  'property': 'T_{10} in nitrogen',\n",
       "  'value': '495-532 °C',\n",
       "  'conditions': 'None'},\n",
       " {'material': 'VIII_{a-b}and IX_{a-l}',\n",
       "  'property': 'T_{10} in air',\n",
       "  'value': '475-521 °C',\n",
       "  'conditions': 'None'},\n",
       " {'material': 'IX_{a}',\n",
       "  'property': 'T_{10} in nitrogen',\n",
       "  'value': 'Higher than VII_{b}',\n",
       "  'conditions': 'None'},\n",
       " {'material': 'IX_{a}',\n",
       "  'property': 'T_{10} in air',\n",
       "  'value': 'Higher than VII_{b}',\n",
       "  'conditions': 'None'},\n",
       " {'material': 'VIII_{b}',\n",
       "  'property': 'T_{10} in nitrogen',\n",
       "  'value': 'Higher than VII_{b}',\n",
       "  'conditions': 'None'},\n",
       " {'material': 'VIII_{b}',\n",
       "  'property': 'T_{10} in air',\n",
       "  'value': 'Higher than VII_{b}',\n",
       "  'conditions': 'None'},\n",
       " {'material': 'VII_{b}',\n",
       "  'property': 'T_{10} in nitrogen',\n",
       "  'value': 'None',\n",
       "  'conditions': 'None'},\n",
       " {'material': 'VII_{b}',\n",
       "  'property': 'T_{10} in air',\n",
       "  'value': 'None',\n",
       "  'conditions': 'None'}]"
      ]
     },
     "execution_count": 27,
     "metadata": {},
     "output_type": "execute_result"
    }
   ],
   "source": [
    "eval(response.choices[0].message.content)"
   ]
  },
  {
   "cell_type": "markdown",
   "metadata": {},
   "source": [
    "## Prompt 2\n",
    "### Extract all thermal decomposition temperature or thermal stability or Td values in JSONL format with 'material', 'property', 'value', 'condition' columns. Answer only if confident."
   ]
  },
  {
   "cell_type": "code",
   "execution_count": 28,
   "metadata": {},
   "outputs": [],
   "source": [
    "request_obj = [{\"role\": \"user\", \"content\": \"We report a comparative study of two organic soluble, vinylene-based, alternating donor-acceptor copolymers with 1,4-(2,5-dihexadecyloxyphenylene) as the donor; the acceptor is either a 2,5-linked pyridine or a 5,8-linked 2,3-diphenylpyrido[3,4-b]pyrazine. The polymers are synthesized via a Heck coupling methodology from a dihalo monomer and a divinyl monomer to yield number-average molecular weights of 16000 g/mol for the pyridine polymer (PPyrPV) and 6500 g/mol for the pyridopyrazine polymer (PPyrPyrPV), with high solubility in common chlorinated solvents and lower solubility in less polar solvents (eg, tetrahydrofuran). Thin-film measurements show band gaps of 2.2 and 1.8 eV for PPyrPV and PPyrPyrPV, respectively. Both polymers exhibit photoluminescence in solution and in the solid state and exhibit electroluminescence when incorporated into light-emitting diodes. In this case, a broad red emission centered at 690 nm for PPyrPV and a near-infrared emission centered at 800 nm for PPyrPyrPV have been observed.\\n\\nExtract all thermal decomposition temperature or thermal stability or Td values in JSONL format with 'material', 'property', 'value', 'condition' columns.\"}, {\"role\": \"assistant\", \"content\": \"[{\\\"material\\\": \\\"PPyrPV\\\", \\\"property\\\": \\\"bandgap\\\", \\\"value\\\": \\\"2.2\\\", \\\"conditions\\\": \\\"None\\\"}, {\\\"material\\\": \\\"PPyrPyrPV\\\", \\\"property\\\": \\\"bandgap\\\", \\\"value\\\": \\\"1.8 eV\\\", \\\"conditions\\\": \\\"None\\\"}]\\n\"}, \n",
    "               {\"role\": \"user\", \"content\": \"The thermal stability of the polymers was characterized by TGA. The temperatures at 5 and 10 % weight loss (T_{5} and T_{10}) in nitrogen and air atmospheres were determined from the original thermograms and also tabulated in this Table 6 T_{10} of polyamides (VII_{a-f}) stays in the range of 490-509- \\u00b0C in nitrogen and 462-487- \\u00b0C in air, respectively. The T_{10} of the PAIs (VIII_{a-b}and IX_{a-l}) stays in the range of 495-532- \\u00b0C in nitrogen and 475-521- \\u00b0C in air, respectively. The imide-containing PAIs VIII_{a-b}and IX_{a-l}have higher T_{10} than VII_{a-hf}in nitrogen and air, due to the incorporation of the thermally stable imide group in the main chain. For example, the imide-containing IX_{a}and VIII_{b}have higher T_{10} than VII_{b}in nitrogen and air. Their T_{10} values are in order of IX_{a}->-VIII_{b}->-VII_{b}. Moreover, the char yield of all these polymers at 800- \\u00b0C are above 48 %.\\n\\nExtract all thermal decomposition temperature or thermal stability or Td values in JSONL format with 'material', 'property', 'value', 'condition' columns. Answer only if confident.\"}]"
   ]
  },
  {
   "cell_type": "code",
   "execution_count": 30,
   "metadata": {},
   "outputs": [],
   "source": [
    "response = openai.ChatCompletion.create(\n",
    "  model = model,\n",
    "  temperature= temperature,\n",
    "  messages = request_obj\n",
    ")"
   ]
  },
  {
   "cell_type": "code",
   "execution_count": 32,
   "metadata": {},
   "outputs": [
    {
     "data": {
      "text/plain": [
       "\"I'm sorry, but I cannot provide the requested information as it is not present in the given text.\""
      ]
     },
     "execution_count": 32,
     "metadata": {},
     "output_type": "execute_result"
    }
   ],
   "source": [
    "response.choices[0].message.content"
   ]
  },
  {
   "cell_type": "markdown",
   "metadata": {},
   "source": [
    "## Prompt 3\n",
    "### Extract all thermal decomposition temperature or thermal stability or Td values/ ranges in JSONL format with 'material', 'property', 'value', 'condition' columns. Answer only if confident."
   ]
  },
  {
   "cell_type": "code",
   "execution_count": 33,
   "metadata": {},
   "outputs": [],
   "source": [
    "request_obj = [{\"role\": \"user\", \"content\": \"We report a comparative study of two organic soluble, vinylene-based, alternating donor-acceptor copolymers with 1,4-(2,5-dihexadecyloxyphenylene) as the donor; the acceptor is either a 2,5-linked pyridine or a 5,8-linked 2,3-diphenylpyrido[3,4-b]pyrazine. The polymers are synthesized via a Heck coupling methodology from a dihalo monomer and a divinyl monomer to yield number-average molecular weights of 16000 g/mol for the pyridine polymer (PPyrPV) and 6500 g/mol for the pyridopyrazine polymer (PPyrPyrPV), with high solubility in common chlorinated solvents and lower solubility in less polar solvents (eg, tetrahydrofuran). Thin-film measurements show band gaps of 2.2 and 1.8 eV for PPyrPV and PPyrPyrPV, respectively. Both polymers exhibit photoluminescence in solution and in the solid state and exhibit electroluminescence when incorporated into light-emitting diodes. In this case, a broad red emission centered at 690 nm for PPyrPV and a near-infrared emission centered at 800 nm for PPyrPyrPV have been observed.\\n\\nExtract all thermal decomposition temperature or thermal stability or Td values in JSONL format with 'material', 'property', 'value', 'condition' columns.\"}, {\"role\": \"assistant\", \"content\": \"[{\\\"material\\\": \\\"PPyrPV\\\", \\\"property\\\": \\\"bandgap\\\", \\\"value\\\": \\\"2.2\\\", \\\"conditions\\\": \\\"None\\\"}, {\\\"material\\\": \\\"PPyrPyrPV\\\", \\\"property\\\": \\\"bandgap\\\", \\\"value\\\": \\\"1.8 eV\\\", \\\"conditions\\\": \\\"None\\\"}]\\n\"}, \n",
    "               {\"role\": \"user\", \"content\": \"The thermal stability of the polymers was characterized by TGA. The temperatures at 5 and 10 % weight loss (T_{5} and T_{10}) in nitrogen and air atmospheres were determined from the original thermograms and also tabulated in this Table 6 T_{10} of polyamides (VII_{a-f}) stays in the range of 490-509- \\u00b0C in nitrogen and 462-487- \\u00b0C in air, respectively. The T_{10} of the PAIs (VIII_{a-b}and IX_{a-l}) stays in the range of 495-532- \\u00b0C in nitrogen and 475-521- \\u00b0C in air, respectively. The imide-containing PAIs VIII_{a-b}and IX_{a-l}have higher T_{10} than VII_{a-hf}in nitrogen and air, due to the incorporation of the thermally stable imide group in the main chain. For example, the imide-containing IX_{a}and VIII_{b}have higher T_{10} than VII_{b}in nitrogen and air. Their T_{10} values are in order of IX_{a}->-VIII_{b}->-VII_{b}. Moreover, the char yield of all these polymers at 800- \\u00b0C are above 48 %.\\n\\nExtract all thermal decomposition temperature or thermal stability or Td values/ranges in JSONL format with 'material', 'property', 'value', 'condition' columns. Answer only if confident.\"}]"
   ]
  },
  {
   "cell_type": "code",
   "execution_count": 34,
   "metadata": {},
   "outputs": [],
   "source": [
    "response = openai.ChatCompletion.create(\n",
    "  model = model,\n",
    "  temperature= temperature,\n",
    "  messages = request_obj\n",
    ")"
   ]
  },
  {
   "cell_type": "code",
   "execution_count": 36,
   "metadata": {},
   "outputs": [
    {
     "data": {
      "text/plain": [
       "[{'material': 'polyamides (VII_{a-f})',\n",
       "  'property': 'T_{10}',\n",
       "  'value': '490-509 °C',\n",
       "  'condition': 'nitrogen'},\n",
       " {'material': 'polyamides (VII_{a-f})',\n",
       "  'property': 'T_{10}',\n",
       "  'value': '462-487 °C',\n",
       "  'condition': 'air'},\n",
       " {'material': 'PAIs (VIII_{a-b}and IX_{a-l})',\n",
       "  'property': 'T_{10}',\n",
       "  'value': '495-532 °C',\n",
       "  'condition': 'nitrogen'},\n",
       " {'material': 'PAIs (VIII_{a-b}and IX_{a-l})',\n",
       "  'property': 'T_{10}',\n",
       "  'value': '475-521 °C',\n",
       "  'condition': 'air'}]"
      ]
     },
     "execution_count": 36,
     "metadata": {},
     "output_type": "execute_result"
    }
   ],
   "source": [
    "eval(response.choices[0].message.content)"
   ]
  },
  {
   "cell_type": "code",
   "execution_count": null,
   "metadata": {},
   "outputs": [],
   "source": []
  }
 ],
 "metadata": {
  "kernelspec": {
   "display_name": "Python 3",
   "language": "python",
   "name": "python3"
  },
  "language_info": {
   "codemirror_mode": {
    "name": "ipython",
    "version": 3
   },
   "file_extension": ".py",
   "mimetype": "text/x-python",
   "name": "python",
   "nbconvert_exporter": "python",
   "pygments_lexer": "ipython3",
   "version": "3.10.12"
  }
 },
 "nbformat": 4,
 "nbformat_minor": 2
}

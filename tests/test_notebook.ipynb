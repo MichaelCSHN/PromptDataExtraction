{
 "cells": [
  {
   "cell_type": "code",
   "execution_count": 2,
   "metadata": {},
   "outputs": [
    {
     "name": "stdout",
     "output_type": "stream",
     "text": [
      "/data/akhlak/PromptDataExtraction\n"
     ]
    }
   ],
   "source": [
    "import os\n",
    "os.chdir(\"..\")\n",
    "print(os.getcwd())"
   ]
  },
  {
   "cell_type": "code",
   "execution_count": 13,
   "metadata": {},
   "outputs": [],
   "source": [
    "import warnings\n",
    "warnings.simplefilter('ignore')"
   ]
  },
  {
   "cell_type": "code",
   "execution_count": 3,
   "metadata": {},
   "outputs": [
    {
     "name": "stdout",
     "output_type": "stream",
     "text": [
      "Load OK: settings.yaml\n"
     ]
    }
   ],
   "source": [
    "import sett\n",
    "import pylogg\n",
    "\n",
    "sett.load_settings()\n",
    "pylogg.setLevel(pylogg.DEBUG)"
   ]
  },
  {
   "cell_type": "code",
   "execution_count": 11,
   "metadata": {},
   "outputs": [
    {
     "name": "stdout",
     "output_type": "stream",
     "text": [
      "\u001b[1;36m      --\u001b[0m ner_ Loaded materials bert.\n"
     ]
    }
   ],
   "source": [
    "import json\n",
    "from backend.nlp import ner\n",
    "\n",
    "def BERT():\n",
    "    \"\"\" Load the MaterialsBERT model and return the model handle. \"\"\"\n",
    "    bertModel = ner.MaterialsBERT(sett.NerModel.model)\n",
    "    bertModel.init_local_model(device=0)\n",
    "    return bertModel\n",
    "\n",
    "def Tg_dataset():\n",
    "    \"\"\" Return a list of (doi, text) tuples from Tg ground dataset. \"\"\"\n",
    "    datajson = \"tests/tg_ground_data.json\"\n",
    "    with open(datajson) as fp:\n",
    "        data = json.load(fp)\n",
    "    abstracts = []\n",
    "    for k, v in data.items():\n",
    "        for item in v:\n",
    "            if item['abstract']:\n",
    "                abstracts.append((k, item['abstract']))\n",
    "    return abstracts\n",
    "\n",
    "bert = BERT()\n",
    "dataset = Tg_dataset()"
   ]
  },
  {
   "cell_type": "code",
   "execution_count": 6,
   "metadata": {},
   "outputs": [],
   "source": [
    "from backend.text import normalize\n",
    "from backend import ner_pipeline"
   ]
  },
  {
   "cell_type": "code",
   "execution_count": 12,
   "metadata": {},
   "outputs": [
    {
     "name": "stdout",
     "output_type": "stream",
     "text": [
      "\u001b[0;37m  --  --\u001b[0m materials_ Detect polymer types.\n",
      "\u001b[0;37m  --  --\u001b[0m materials_ Detect polymer types.\n",
      "\u001b[0;37m  --  --\u001b[0m materials_ Detect polymer types.\n",
      "\u001b[0;37m  --  --\u001b[0m materials_ Detect polymer types.\n",
      "\u001b[0;37m  --  --\u001b[0m materials_ Detect polymer types.\n",
      "\u001b[0;37m  --  --\u001b[0m materials_ Detect polymer types.\n",
      "\u001b[0;37m  --  --\u001b[0m materials_ Detect polymer types.\n",
      "\u001b[0;37m  --  --\u001b[0m materials_ Detect polymer types.\n",
      "\u001b[0;37m  --  --\u001b[0m materials_ Detect polymer types.\n",
      "\u001b[0;37m  --  --\u001b[0m materials_ Detect polymer types.\n",
      "\u001b[0;37m  --  --\u001b[0m materials_ Detect polymer types.\n"
     ]
    },
    {
     "name": "stderr",
     "output_type": "stream",
     "text": [
      "/data/akhlak/PromptDataExtraction/_conda_env/lib/python3.10/site-packages/transformers/pipelines/base.py:1083: UserWarning: You seem to be using the pipelines sequentially on GPU. In order to maximize efficiency please use a dataset\n",
      "  warnings.warn(\n"
     ]
    }
   ],
   "source": [
    "for i, (doi, text) in enumerate(dataset):\n",
    "    text = normalize.normText(text)\n",
    "    tags = bert.get_tags(text)\n",
    "    extractor = ner_pipeline.TextDataExtractor(text, tags)\n",
    "    mat = extractor.extract(debug=True)\n",
    "    mat._detect_polymer_type()\n",
    "    # mat._coreference_material_entities()\n",
    "\n",
    "    if i >= 10:\n",
    "        break\n"
   ]
  },
  {
   "cell_type": "code",
   "execution_count": null,
   "metadata": {},
   "outputs": [],
   "source": []
  }
 ],
 "metadata": {
  "kernelspec": {
   "display_name": "Python 3",
   "language": "python",
   "name": "python3"
  },
  "language_info": {
   "codemirror_mode": {
    "name": "ipython",
    "version": 3
   },
   "file_extension": ".py",
   "mimetype": "text/x-python",
   "name": "python",
   "nbconvert_exporter": "python",
   "pygments_lexer": "ipython3",
   "version": "3.10.12"
  },
  "orig_nbformat": 4
 },
 "nbformat": 4,
 "nbformat_minor": 2
}

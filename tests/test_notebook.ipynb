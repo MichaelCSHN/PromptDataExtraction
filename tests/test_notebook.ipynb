{
 "cells": [
  {
   "cell_type": "code",
   "execution_count": 1,
   "metadata": {},
   "outputs": [
    {
     "name": "stdout",
     "output_type": "stream",
     "text": [
      "/data/akhlak/PromptDataExtraction\n"
     ]
    }
   ],
   "source": [
    "import os\n",
    "os.chdir(\"..\")\n",
    "print(os.getcwd())"
   ]
  },
  {
   "cell_type": "code",
   "execution_count": 19,
   "metadata": {},
   "outputs": [],
   "source": [
    "import importlib\n",
    "\n",
    "import warnings\n",
    "warnings.simplefilter('ignore')"
   ]
  },
  {
   "cell_type": "code",
   "execution_count": 3,
   "metadata": {},
   "outputs": [
    {
     "name": "stdout",
     "output_type": "stream",
     "text": [
      "Load OK: settings.yaml\n"
     ]
    }
   ],
   "source": [
    "import sett\n",
    "import pylogg\n",
    "\n",
    "sett.load_settings()\n",
    "pylogg.setLevel(pylogg.DEBUG)"
   ]
  },
  {
   "cell_type": "code",
   "execution_count": 4,
   "metadata": {},
   "outputs": [
    {
     "name": "stderr",
     "output_type": "stream",
     "text": [
      "Using /home/akhlak/.cache/torch_extensions/py310_cu117 as PyTorch extensions root...\n",
      "Detected CUDA files, patching ldflags\n",
      "Emitting ninja build file /home/akhlak/.cache/torch_extensions/py310_cu117/cuda_kernel/build.ninja...\n",
      "Building extension module cuda_kernel...\n",
      "Allowing ninja to set a default number of workers... (overridable by setting the environment variable MAX_JOBS=N)\n"
     ]
    },
    {
     "name": "stdout",
     "output_type": "stream",
     "text": [
      "ninja: no work to do.\n",
      "\u001b[1;36m      --\u001b[0m ner_ Loaded materials bert.\n"
     ]
    },
    {
     "name": "stderr",
     "output_type": "stream",
     "text": [
      "Loading extension module cuda_kernel...\n"
     ]
    }
   ],
   "source": [
    "import json\n",
    "from backend.nlp import ner\n",
    "\n",
    "def BERT():\n",
    "    \"\"\" Load the MaterialsBERT model and return the model handle. \"\"\"\n",
    "    bertModel = ner.MaterialsBERT(sett.NerModel.model)\n",
    "    bertModel.init_local_model(device=0)\n",
    "    return bertModel\n",
    "\n",
    "def Tg_dataset():\n",
    "    \"\"\" Return a list of (doi, text) tuples from Tg ground dataset. \"\"\"\n",
    "    datajson = \"tests/tg_ground_data.json\"\n",
    "    with open(datajson) as fp:\n",
    "        data = json.load(fp)\n",
    "    abstracts = []\n",
    "    for k, v in data.items():\n",
    "        for item in v:\n",
    "            if item['abstract']:\n",
    "                abstracts.append((k, item['abstract']))\n",
    "    return abstracts\n",
    "\n",
    "bert = BERT()\n",
    "dataset = Tg_dataset()"
   ]
  },
  {
   "cell_type": "code",
   "execution_count": 6,
   "metadata": {},
   "outputs": [],
   "source": [
    "from backend.text import normalize\n",
    "from backend import ner_pipeline"
   ]
  },
  {
   "cell_type": "code",
   "execution_count": 7,
   "metadata": {},
   "outputs": [
    {
     "name": "stdout",
     "output_type": "stream",
     "text": [
      "\u001b[0;37m  --  --\u001b[0m materials_ Detect polymer types.\n",
      "\u001b[0;37m  --  --\u001b[0m materials_ Detect polymer types.\n",
      "\u001b[0;37m  --  --\u001b[0m materials_ Detect polymer types.\n",
      "\u001b[0;37m  --  --\u001b[0m materials_ Detect polymer types.\n",
      "\u001b[0;37m  --  --\u001b[0m materials_ Detect polymer types.\n",
      "\u001b[0;37m  --  --\u001b[0m materials_ Detect polymer types.\n",
      "\u001b[0;37m  --  --\u001b[0m materials_ Detect polymer types.\n",
      "\u001b[0;37m  --  --\u001b[0m materials_ Detect polymer types.\n",
      "\u001b[0;37m  --  --\u001b[0m materials_ Detect polymer types.\n",
      "\u001b[0;37m  --  --\u001b[0m materials_ Detect polymer types.\n",
      "\u001b[0;37m  --  --\u001b[0m materials_ Detect polymer types.\n"
     ]
    }
   ],
   "source": [
    "for i, (doi, text) in enumerate(dataset):\n",
    "    text = normalize.normText(text)\n",
    "    tags = bert.get_tags(text)\n",
    "    extractor = ner_pipeline.TextDataExtractor(text, tags)\n",
    "    mat = extractor.extract(debug=True)\n",
    "    mat._detect_polymer_type()\n",
    "    # mat._coreference_material_entities()\n",
    "\n",
    "    if i >= 10:\n",
    "        break\n"
   ]
  },
  {
   "cell_type": "code",
   "execution_count": 38,
   "metadata": {},
   "outputs": [
    {
     "data": {
      "text/plain": [
       "('10.1080/10236661003746405',\n",
       " 'In this study, the mechanical properties and glass transition temperature of PLA-PEG block copolymer were investigated by molecular dynamic simulation. The software package Discover in Materials Studio with condensed-phase optimized molecular potentials for atomistic simulation studies (COMPASS) force field was used for the simulation. To verify the validity of simulation results, PLA and PLA-PEG copolymer were prepared in this research and the glass transition temperature was measured by DSC. The simulation results showed that the random combination chain has more probability than the alternating combination chain to exist in copolymer structure. Furthermore, PLA-PEG block copolymer has better tensile strength but lower shear strength than PLA, which agree well with the theoretical results. The simulation values of T_{g} (PLA: 333.97 K and PLA-PEG: 326.70 K) agree well with the DSC results (PLA: 328.8 K and PLA-PEG: 321.3 K). The conclusion could be drawn from the results that molecular dynamic simulation (MDS) is a potential method for investigating the structure, mechanical properties, and glass transition temperature of PLA-PEG copolymer and may be used for other polymers and copolymers.')"
      ]
     },
     "execution_count": 38,
     "metadata": {},
     "output_type": "execute_result"
    }
   ],
   "source": [
    "dataset[i]"
   ]
  },
  {
   "cell_type": "code",
   "execution_count": 95,
   "metadata": {},
   "outputs": [
    {
     "data": {
      "text/plain": [
       "<module 'backend.text.normalize' from '/data/akhlak/PromptDataExtraction/backend/text/normalize.py'>"
      ]
     },
     "execution_count": 95,
     "metadata": {},
     "output_type": "execute_result"
    }
   ],
   "source": [
    "from backend.nlp import materials\n",
    "from backend.nlp import ner\n",
    "from backend.text import normalize\n",
    "\n",
    "importlib.reload(materials)\n",
    "importlib.reload(ner)\n",
    "importlib.reload(normalize)"
   ]
  },
  {
   "cell_type": "code",
   "execution_count": 96,
   "metadata": {},
   "outputs": [
    {
     "name": "stdout",
     "output_type": "stream",
     "text": [
      "\u001b[0;37m  --  --\u001b[0m materials_ Detect polymer types.\n"
     ]
    }
   ],
   "source": [
    "extractor = ner_pipeline.TextDataExtractor(text, tags)\n",
    "mat = extractor.extract(debug=True)\n",
    "mat._detect_polymer_type()"
   ]
  },
  {
   "cell_type": "code",
   "execution_count": 97,
   "metadata": {},
   "outputs": [
    {
     "data": {
      "text/plain": [
       "'In this study, the mechanical properties and glass transition temperature of PLA-PEG block copolymer were investigated by molecular dynamic simulation. The software package Discover in Materials Studio with condensed-phase optimized molecular potentials for atomistic simulation studies (COMPASS) force field was used for the simulation. To verify the validity of simulation results, PLA and PLA-PEG copolymer were prepared in this research and the glass transition temperature was measured by DSC. The simulation results showed that the random combination chain has more probability than the alternating combination chain to exist in copolymer structure. Furthermore, PLA-PEG block copolymer has better tensile strength but lower shear strength than PLA , which agree well with the theoretical results. The simulation values of T_{g} ( PLA : 333.97K and PLA-PEG : 326.70K ) agree well with the DSC results ( PLA : 328.8K and PLA-PEG : 321.3K ). The conclusion could be drawn from the results that molecular dynamic simulation (MDS) is a potential method for investigating the structure, mechanical properties, and glass transition temperature of PLA-PEG copolymer and may be used for other polymers and copolymers.'"
      ]
     },
     "execution_count": 97,
     "metadata": {},
     "output_type": "execute_result"
    }
   ],
   "source": [
    "\" \".join([t.text for t in mat.grouped_spans])"
   ]
  },
  {
   "cell_type": "code",
   "execution_count": 99,
   "metadata": {},
   "outputs": [
    {
     "data": {
      "text/plain": [
       "[NerLabelGroup(text='In this study, the mechanical properties and glass transition temperature of', label='O', start=0, end=11),\n",
       " NerLabelGroup(text='PLA-PEG', label='POLYMER', start=12, end=14),\n",
       " NerLabelGroup(text='block copolymer were investigated by molecular dynamic simulation. The software package Discover in Materials Studio with condensed-phase optimized molecular potentials for atomistic simulation studies (COMPASS) force field was used for the simulation. To verify the validity of simulation results,', label='O', start=15, end=60),\n",
       " NerLabelGroup(text='PLA', label='POLYMER', start=61, end=61),\n",
       " NerLabelGroup(text='and', label='O', start=62, end=62),\n",
       " NerLabelGroup(text='PLA-PEG', label='POLYMER', start=63, end=65),\n",
       " NerLabelGroup(text='copolymer were prepared in this research and the glass transition temperature was measured by DSC. The simulation results showed that the random combination chain has more probability than the alternating combination chain to exist in copolymer structure. Furthermore,', label='O', start=66, end=106),\n",
       " NerLabelGroup(text='PLA-PEG', label='POLYMER', start=107, end=109),\n",
       " NerLabelGroup(text='block copolymer has better tensile strength but lower shear strength than', label='O', start=110, end=120),\n",
       " NerLabelGroup(text='PLA', label='POLYMER', start=121, end=121),\n",
       " NerLabelGroup(text=', which agree well with the theoretical results. The simulation values of', label='O', start=122, end=134),\n",
       " NerLabelGroup(text='T_{g}', label='PROP_NAME', start=135, end=136),\n",
       " NerLabelGroup(text='(', label='O', start=137, end=137),\n",
       " NerLabelGroup(text='PLA', label='POLYMER', start=138, end=138),\n",
       " NerLabelGroup(text=':', label='O', start=139, end=139),\n",
       " NerLabelGroup(text='333.97K', label='PROP_VALUE', start=140, end=141),\n",
       " NerLabelGroup(text='and', label='O', start=142, end=142),\n",
       " NerLabelGroup(text='PLA-PEG', label='POLYMER', start=143, end=145),\n",
       " NerLabelGroup(text=':', label='O', start=146, end=146),\n",
       " NerLabelGroup(text='326.70K', label='PROP_VALUE', start=147, end=148),\n",
       " NerLabelGroup(text=') agree well with the DSC results (', label='O', start=149, end=156),\n",
       " NerLabelGroup(text='PLA', label='POLYMER', start=157, end=157),\n",
       " NerLabelGroup(text=':', label='O', start=158, end=158),\n",
       " NerLabelGroup(text='328.8K', label='PROP_VALUE', start=159, end=160),\n",
       " NerLabelGroup(text='and', label='O', start=161, end=161),\n",
       " NerLabelGroup(text='PLA-PEG', label='POLYMER', start=162, end=164),\n",
       " NerLabelGroup(text=':', label='O', start=165, end=165),\n",
       " NerLabelGroup(text='321.3K', label='PROP_VALUE', start=166, end=167),\n",
       " NerLabelGroup(text='). The conclusion could be drawn from the results that molecular dynamic simulation (MDS) is a potential method for investigating the structure, mechanical properties, and glass transition temperature of', label='O', start=168, end=201),\n",
       " NerLabelGroup(text='PLA-PEG', label='POLYMER', start=202, end=204),\n",
       " NerLabelGroup(text='copolymer and may be used for other polymers and copolymers.', label='O', start=205, end=215)]"
      ]
     },
     "execution_count": 99,
     "metadata": {},
     "output_type": "execute_result"
    }
   ],
   "source": [
    "mat.grouped_spans"
   ]
  },
  {
   "cell_type": "code",
   "execution_count": 100,
   "metadata": {},
   "outputs": [
    {
     "data": {
      "text/plain": [
       "[Polymer(name='PLA-PEG', tag='POLYMER', coreferents=['PLA-PEG'], is_homopolymer=False, is_copolymer=True, is_starpolymer=False),\n",
       " Polymer(name='PLA', tag='POLYMER', coreferents=['PLA'], is_homopolymer=True, is_copolymer=False, is_starpolymer=False),\n",
       " Polymer(name='PLA-PEG', tag='POLYMER', coreferents=['PLA-PEG'], is_homopolymer=False, is_copolymer=True, is_starpolymer=False),\n",
       " Polymer(name='PLA-PEG', tag='POLYMER', coreferents=['PLA-PEG'], is_homopolymer=False, is_copolymer=True, is_starpolymer=False),\n",
       " Polymer(name='PLA', tag='POLYMER', coreferents=['PLA'], is_homopolymer=True, is_copolymer=False, is_starpolymer=False),\n",
       " Polymer(name='PLA', tag='POLYMER', coreferents=['PLA'], is_homopolymer=True, is_copolymer=False, is_starpolymer=False),\n",
       " Polymer(name='PLA-PEG', tag='POLYMER', coreferents=['PLA-PEG'], is_homopolymer=False, is_copolymer=True, is_starpolymer=False),\n",
       " Polymer(name='PLA', tag='POLYMER', coreferents=['PLA'], is_homopolymer=True, is_copolymer=False, is_starpolymer=False),\n",
       " Polymer(name='PLA-PEG', tag='POLYMER', coreferents=['PLA-PEG'], is_homopolymer=False, is_copolymer=True, is_starpolymer=False),\n",
       " Polymer(name='PLA-PEG', tag='POLYMER', coreferents=['PLA-PEG'], is_homopolymer=False, is_copolymer=True, is_starpolymer=False)]"
      ]
     },
     "execution_count": 100,
     "metadata": {},
     "output_type": "execute_result"
    }
   ],
   "source": [
    "mat.material_mentions"
   ]
  },
  {
   "cell_type": "code",
   "execution_count": 89,
   "metadata": {},
   "outputs": [],
   "source": [
    "mat.abbreviation_pairs.append(('PLA-PEG', 'PEG'))\n",
    "mat.abbreviation_pairs.append(('PLA', 'Polylactic Acid'))\n",
    "mat.abbreviation_pairs.append(('PLA', 'PLA-PEG'))\n",
    "mat.abbreviation_pairs.append(('PLA', 'PEG'))"
   ]
  },
  {
   "cell_type": "code",
   "execution_count": 101,
   "metadata": {},
   "outputs": [
    {
     "name": "stdout",
     "output_type": "stream",
     "text": [
      "\u001b[0;37m  --  --\u001b[0m materials_ Detect polymer correferents.\n"
     ]
    },
    {
     "data": {
      "text/plain": [
       "[Polymer(name='PLA-PEG', tag='POLYMER', coreferents=['PLA-PEG', 'pla-peg'], is_homopolymer=False, is_copolymer=True, is_starpolymer=False),\n",
       " Polymer(name='PLA', tag='POLYMER', coreferents=['PLA', 'pla'], is_homopolymer=True, is_copolymer=False, is_starpolymer=False)]"
      ]
     },
     "execution_count": 101,
     "metadata": {},
     "output_type": "execute_result"
    }
   ],
   "source": [
    "mat._detect_materials_coreferents()"
   ]
  },
  {
   "cell_type": "code",
   "execution_count": null,
   "metadata": {},
   "outputs": [],
   "source": []
  }
 ],
 "metadata": {
  "kernelspec": {
   "display_name": "Python 3",
   "language": "python",
   "name": "python3"
  },
  "language_info": {
   "codemirror_mode": {
    "name": "ipython",
    "version": 3
   },
   "file_extension": ".py",
   "mimetype": "text/x-python",
   "name": "python",
   "nbconvert_exporter": "python",
   "pygments_lexer": "ipython3",
   "version": "3.10.12"
  },
  "orig_nbformat": 4
 },
 "nbformat": 4,
 "nbformat_minor": 2
}
